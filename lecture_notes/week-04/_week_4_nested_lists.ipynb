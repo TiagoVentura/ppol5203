{
 "cells": [
  {
   "cell_type": "markdown",
   "id": "2d2d26fe",
   "metadata": {},
   "source": [
    "<h1><center> PPOL564 - Data Science I: Foundations<br><br><font color='grey'> Working with Nested Lists </font> </center><h1>"
   ]
  },
  {
   "cell_type": "markdown",
   "id": "0bde27f5",
   "metadata": {},
   "source": [
    "## Learning Goals\n",
    "\n",
    "In this notebook, we will cover:\n",
    "\n",
    "- open csv as nested lists\n",
    "- Working with retangular data as nested lists\n",
    "\n",
    "This is mostly code I will go over during the lecture. "
   ]
  },
  {
   "cell_type": "code",
   "execution_count": 23,
   "id": "8303edeb",
   "metadata": {},
   "outputs": [],
   "source": [
    "# Batteries included Functions\n",
    "import csv # convert a .csv to a nested list\n",
    "import os  # library for managing our operating system. \n",
    "\n",
    "\n",
    "# Read in the gapminder data \n",
    "\n",
    "# with to open the connection\n",
    "with open(\"gapminder.csv\",mode=\"rt\") as file:\n",
    "    # iterate through the connection with list comprehension\n",
    "    data = [row for row in csv.reader(file)]\n",
    "    # output: nested list"
   ]
  },
  {
   "cell_type": "markdown",
   "id": "05da46e5",
   "metadata": {},
   "source": [
    "#### What does the data look like?"
   ]
  },
  {
   "cell_type": "code",
   "execution_count": 24,
   "id": "8f673f19",
   "metadata": {},
   "outputs": [
    {
     "data": {
      "text/plain": [
       "[['country', 'lifeExp', 'gdpPercap'],\n",
       " ['Guinea_Bissau', '39.21', '652.157'],\n",
       " ['Bolivia', '52.505', '2961.229'],\n",
       " ['Austria', '73.103', '20411.916'],\n",
       " ['Malawi', '43.352', '575.447'],\n",
       " ['Finland', '72.992', '17473.723'],\n",
       " ['North_Korea', '63.607', '2591.853'],\n",
       " ['Malaysia', '64.28', '5406.038'],\n",
       " ['Hungary', '69.393', '10888.176'],\n",
       " ['Congo', '52.502', '3312.788'],\n",
       " ['Morocco', '57.609', '2447.909'],\n",
       " ['Germany', '73.444', '20556.684'],\n",
       " ['Ecuador', '62.817', '5733.625'],\n",
       " ['Kuwait', '68.922', '65332.91'],\n",
       " ['New_Zealand', '73.989', '17262.623'],\n",
       " ['Mauritania', '52.302', '1356.671'],\n",
       " ['Uganda', '47.619', '810.384'],\n",
       " ['Equatorial Guinea', '42.96', '2469.167'],\n",
       " ['Croatia', '70.056', '9331.712'],\n",
       " ['Indonesia', '54.336', '1741.365'],\n",
       " ['Canada', '74.903', '22410.746'],\n",
       " ['Comoros', '52.382', '1314.38'],\n",
       " ['Montenegro', '70.299', '7208.065'],\n",
       " ['Slovenia', '71.601', '14074.582'],\n",
       " ['Trinidad and Tobago', '66.828', '7866.872'],\n",
       " ['Poland', '70.177', '8416.554'],\n",
       " ['Lesotho', '50.007', '780.553'],\n",
       " ['Italy', '74.014', '16245.209'],\n",
       " ['Tunisia', '60.721', '3477.21'],\n",
       " ['Kenya', '52.681', '1200.416'],\n",
       " ['Gambia', '44.401', '680.133'],\n",
       " ['Bosnia and Herzegovina', '67.708', '3484.779'],\n",
       " ['Libya', '59.304', '12013.579'],\n",
       " ['Greece', '73.733', '13969.037'],\n",
       " ['Ghana', '52.341', '1044.582'],\n",
       " ['Peru', '58.859', '5613.844'],\n",
       " ['Turkey', '59.696', '4469.453'],\n",
       " ['Reunion', '66.644', '4898.398'],\n",
       " ['Sri_Lanka', '66.526', '1854.731'],\n",
       " ['Cambodia', '47.903', '675.368'],\n",
       " ['Bulgaria', '69.744', '6384.055'],\n",
       " ['Lebanon', '65.866', '7269.216'],\n",
       " ['Togo', '51.499', '1153.82'],\n",
       " ['Yemen', '46.78', '1569.275'],\n",
       " ['Jamaica', '68.749', '6197.645'],\n",
       " ['Swaziland', '49.002', '3163.352'],\n",
       " ['Chile', '67.431', '6703.289'],\n",
       " ['Israel', '73.646', '14160.936'],\n",
       " ['Algeria', '59.03', '4426.026'],\n",
       " ['Czech_Republic', '71.511', '13920.011'],\n",
       " ['Djibouti', '46.381', '2697.833'],\n",
       " ['Singapore', '71.22', '17425.382'],\n",
       " ['Nigeria', '43.581', '1488.309'],\n",
       " ['Bangladesh', '49.834', '817.559'],\n",
       " ['DRC', '44.544', '648.343'],\n",
       " ['Cuba', '71.045', '6283.259'],\n",
       " ['Namibia', '53.491', '3675.582'],\n",
       " ['Sudan', '48.401', '1835.01'],\n",
       " ['Syria', '61.346', '3009.288'],\n",
       " ['Rwanda', '41.482', '675.669'],\n",
       " ['Puerto Rico', '72.739', '10863.164'],\n",
       " ['Albania', '68.433', '3255.367'],\n",
       " ['Vietnam', '57.48', '1017.713'],\n",
       " ['Mozambique', '40.38', '542.278'],\n",
       " ['Mali', '43.413', '673.093'],\n",
       " ['Saudi Arabia', '58.679', '20261.744'],\n",
       " ['Liberia', '42.476', '604.814'],\n",
       " ['Madagascar', '47.771', '1335.595'],\n",
       " ['Chad', '46.774', '1165.454'],\n",
       " ['Gabon', '51.221', '11529.865'],\n",
       " ['Mauritius', '64.953', '4768.942'],\n",
       " ['Zambia', '45.996', '1358.199'],\n",
       " ['Romania', '68.291', '7300.17'],\n",
       " ['Dominican Republic', '61.554', '2844.856'],\n",
       " ['Egypt', '56.243', '3074.031'],\n",
       " ['Senegal', '50.626', '1533.122'],\n",
       " ['Oman', '58.443', '12138.562'],\n",
       " ['Zimbabwe', '52.663', '635.858'],\n",
       " ['Botswana', '54.598', '5031.504'],\n",
       " [\"Cote d'Ivoire\", '48.436', '1912.825'],\n",
       " ['Afghanistan', '37.479', '802.675'],\n",
       " ['Mexico', '65.409', '7724.113'],\n",
       " ['Sao Tome and Principe', '57.896', '1382.782'],\n",
       " ['Myanmar', '53.322', '439.333'],\n",
       " ['Switzerland', '75.565', '27074.334'],\n",
       " ['United Kingdom', '73.923', '19380.473'],\n",
       " ['Japan', '74.827', '17750.87'],\n",
       " ['El Salvador', '59.633', '4431.847'],\n",
       " ['India', '53.166', '1057.296'],\n",
       " ['Thailand', '62.2', '3045.966'],\n",
       " ['Bahrain', '65.606', '18077.664'],\n",
       " ['Australia', '74.663', '19980.596'],\n",
       " ['Mongolia', '55.89', '1692.805'],\n",
       " ['Nepal', '48.986', '782.729'],\n",
       " ['Iran', '58.637', '7376.583'],\n",
       " ['Honduras', '57.921', '2834.413'],\n",
       " ['Guinea', '43.24', '776.067'],\n",
       " ['Venezuela', '66.581', '10088.516'],\n",
       " ['Iceland', '76.511', '20531.422'],\n",
       " ['Somalia', '40.989', '1140.793'],\n",
       " ['Burundi', '44.817', '471.663'],\n",
       " ['Panama', '67.802', '5754.827'],\n",
       " ['Costa Rica', '70.181', '5448.611'],\n",
       " ['Philippines', '60.967', '2174.771'],\n",
       " ['Denmark', '74.37', '21671.825'],\n",
       " ['Benin', '48.78', '1155.395'],\n",
       " ['Eritrea', '45.999', '541.003'],\n",
       " ['Belgium', '73.642', '19900.758'],\n",
       " ['West Bank and Gaza', '60.329', '3759.997'],\n",
       " ['South_Korea', '65.001', '8217.318'],\n",
       " ['Ethiopia', '44.476', '509.115'],\n",
       " ['Guatemala', '56.729', '4015.403'],\n",
       " ['Colombia', '63.898', '4195.343'],\n",
       " ['Cameroon', '48.129', '1774.634'],\n",
       " ['United States', '73.478', '26261.151'],\n",
       " ['Pakistan', '54.882', '1439.271'],\n",
       " ['China', '61.785', '1488.308'],\n",
       " ['Sierra Leone', '36.769', '1072.819'],\n",
       " ['Slovak Republic', '70.696', '10415.531'],\n",
       " ['Tanzania', '47.912', '849.281'],\n",
       " ['Paraguay', '66.809', '3239.607'],\n",
       " ['Argentina', '69.06', '8955.554'],\n",
       " ['Spain', '74.203', '14029.826'],\n",
       " ['Netherlands', '75.648', '21748.852'],\n",
       " ['France', '74.349', '18833.57'],\n",
       " ['Niger', '44.559', '781.077'],\n",
       " ['Central African Republic', '43.867', '958.785'],\n",
       " ['Serbia', '68.551', '9305.049'],\n",
       " ['Iraq', '56.582', '7811.809'],\n",
       " ['Uruguay', '70.782', '7100.133'],\n",
       " ['Angola', '37.883', '3607.101'],\n",
       " ['Sweden', '76.177', '19943.126'],\n",
       " ['Nicaragua', '58.349', '3424.656'],\n",
       " ['South Africa', '53.993', '7247.431'],\n",
       " ['Burkina Faso', '44.694', '843.991'],\n",
       " ['Haiti', '50.165', '1620.739'],\n",
       " ['Norway', '75.843', '26747.307'],\n",
       " ['Taiwan', '70.337', '10224.807'],\n",
       " ['Portugal', '70.42', '11354.092'],\n",
       " ['Jordan', '59.786', '3128.121'],\n",
       " ['Ireland', '73.017', '15758.606'],\n",
       " ['Brazil', '62.239', '5829.317']]"
      ]
     },
     "execution_count": 24,
     "metadata": {},
     "output_type": "execute_result"
    }
   ],
   "source": [
    "# it is a nested list. \n",
    "data"
   ]
  },
  {
   "cell_type": "markdown",
   "id": "d2e5e255",
   "metadata": {},
   "source": [
    "## Indexing Nested Lists\n",
    "\n",
    "Notice something important here, because we open the data using a iterator, the code doesn't know that the first row is the header of the csv"
   ]
  },
  {
   "cell_type": "code",
   "execution_count": 27,
   "id": "c2c9c581",
   "metadata": {},
   "outputs": [
    {
     "data": {
      "text/plain": [
       "['Bolivia', '52.505', '2961.229']"
      ]
     },
     "execution_count": 27,
     "metadata": {},
     "output_type": "execute_result"
    }
   ],
   "source": [
    "# accessing the header\n",
    "data[0]"
   ]
  },
  {
   "cell_type": "code",
   "execution_count": 28,
   "id": "49aef660",
   "metadata": {},
   "outputs": [
    {
     "name": "stdout",
     "output_type": "stream",
     "text": [
      "['Burundi', '44.817', '471.663']\n"
     ]
    }
   ],
   "source": [
    "# For any row > 0, row == 0 is the column names. \n",
    "print(data[100])"
   ]
  },
  {
   "cell_type": "markdown",
   "id": "503c7911",
   "metadata": {},
   "source": [
    "### Indexing by columns"
   ]
  },
  {
   "cell_type": "code",
   "execution_count": 29,
   "id": "404e1ae5",
   "metadata": {},
   "outputs": [
    {
     "name": "stdout",
     "output_type": "stream",
     "text": [
      "['Burundi', '44.817', '471.663']\n"
     ]
    }
   ],
   "source": [
    "# Indexing Columns - Remember this is a nested list\n",
    "# Referencing a column data value\n",
    "d = data[100] # First select the row\n",
    "print(d)"
   ]
  },
  {
   "cell_type": "code",
   "execution_count": 30,
   "id": "2b923088",
   "metadata": {},
   "outputs": [
    {
     "data": {
      "text/plain": [
       "'44.817'"
      ]
     },
     "execution_count": 30,
     "metadata": {},
     "output_type": "execute_result"
    }
   ],
   "source": [
    "# Then reference the colum\n",
    "d[1] "
   ]
  },
  {
   "cell_type": "code",
   "execution_count": 31,
   "id": "b693d1c9",
   "metadata": {},
   "outputs": [
    {
     "data": {
      "text/plain": [
       "'44.817'"
      ]
     },
     "execution_count": 31,
     "metadata": {},
     "output_type": "execute_result"
    }
   ],
   "source": [
    "# doing the above all in one step\n",
    "data[100][1]"
   ]
  },
  {
   "cell_type": "code",
   "execution_count": 32,
   "id": "aaed88ed",
   "metadata": {},
   "outputs": [
    {
     "name": "stdout",
     "output_type": "stream",
     "text": [
      "['country', 'lifeExp', 'gdpPercap']\n"
     ]
    }
   ],
   "source": [
    "# The key is to keep in mind the column names\n",
    "cnames = data.pop(0)\n",
    "print(cnames)"
   ]
  },
  {
   "cell_type": "code",
   "execution_count": 35,
   "id": "add5ee92",
   "metadata": {},
   "outputs": [
    {
     "data": {
      "text/plain": [
       "'62.2'"
      ]
     },
     "execution_count": 35,
     "metadata": {},
     "output_type": "execute_result"
    }
   ],
   "source": [
    "# We can now reference this column name list to pull out the columns we're interested in.\n",
    "ind = cnames.index(\"lifeExp\") # Index allows us to \"look up\" the location of a data value. \n",
    "data[88][ind]"
   ]
  },
  {
   "cell_type": "markdown",
   "id": "766e4156",
   "metadata": {},
   "source": [
    "## Accessing a entire column\n",
    "\n",
    "If I want to extract all the values of a particular column, I need to loop through all the *j* element of a sublist. "
   ]
  },
  {
   "cell_type": "code",
   "execution_count": 36,
   "id": "cb8206fb",
   "metadata": {},
   "outputs": [],
   "source": [
    "# Looping through each row pulling out the relevant data value\n",
    "life_exp = []\n",
    "for row in data:\n",
    "    life_exp.append(float(row[ind]))"
   ]
  },
  {
   "cell_type": "code",
   "execution_count": 37,
   "id": "1f4c856e",
   "metadata": {},
   "outputs": [
    {
     "data": {
      "text/plain": [
       "[39.21,\n",
       " 52.505,\n",
       " 73.103,\n",
       " 43.352,\n",
       " 72.992,\n",
       " 63.607,\n",
       " 64.28,\n",
       " 69.393,\n",
       " 52.502,\n",
       " 57.609,\n",
       " 73.444,\n",
       " 62.817,\n",
       " 68.922,\n",
       " 73.989,\n",
       " 52.302,\n",
       " 47.619,\n",
       " 42.96,\n",
       " 70.056,\n",
       " 54.336,\n",
       " 74.903,\n",
       " 52.382,\n",
       " 70.299,\n",
       " 71.601,\n",
       " 66.828,\n",
       " 70.177,\n",
       " 50.007,\n",
       " 74.014,\n",
       " 60.721,\n",
       " 52.681,\n",
       " 44.401,\n",
       " 67.708,\n",
       " 59.304,\n",
       " 73.733,\n",
       " 52.341,\n",
       " 58.859,\n",
       " 59.696,\n",
       " 66.644,\n",
       " 66.526,\n",
       " 47.903,\n",
       " 69.744,\n",
       " 65.866,\n",
       " 51.499,\n",
       " 46.78,\n",
       " 68.749,\n",
       " 49.002,\n",
       " 67.431,\n",
       " 73.646,\n",
       " 59.03,\n",
       " 71.511,\n",
       " 46.381,\n",
       " 71.22,\n",
       " 43.581,\n",
       " 49.834,\n",
       " 44.544,\n",
       " 71.045,\n",
       " 53.491,\n",
       " 48.401,\n",
       " 61.346,\n",
       " 41.482,\n",
       " 72.739,\n",
       " 68.433,\n",
       " 57.48,\n",
       " 40.38,\n",
       " 43.413,\n",
       " 58.679,\n",
       " 42.476,\n",
       " 47.771,\n",
       " 46.774,\n",
       " 51.221,\n",
       " 64.953,\n",
       " 45.996,\n",
       " 68.291,\n",
       " 61.554,\n",
       " 56.243,\n",
       " 50.626,\n",
       " 58.443,\n",
       " 52.663,\n",
       " 54.598,\n",
       " 48.436,\n",
       " 37.479,\n",
       " 65.409,\n",
       " 57.896,\n",
       " 53.322,\n",
       " 75.565,\n",
       " 73.923,\n",
       " 74.827,\n",
       " 59.633,\n",
       " 53.166,\n",
       " 62.2,\n",
       " 65.606,\n",
       " 74.663,\n",
       " 55.89,\n",
       " 48.986,\n",
       " 58.637,\n",
       " 57.921,\n",
       " 43.24,\n",
       " 66.581,\n",
       " 76.511,\n",
       " 40.989,\n",
       " 44.817,\n",
       " 67.802,\n",
       " 70.181,\n",
       " 60.967,\n",
       " 74.37,\n",
       " 48.78,\n",
       " 45.999,\n",
       " 73.642,\n",
       " 60.329,\n",
       " 65.001,\n",
       " 44.476,\n",
       " 56.729,\n",
       " 63.898,\n",
       " 48.129,\n",
       " 73.478,\n",
       " 54.882,\n",
       " 61.785,\n",
       " 36.769,\n",
       " 70.696,\n",
       " 47.912,\n",
       " 66.809,\n",
       " 69.06,\n",
       " 74.203,\n",
       " 75.648,\n",
       " 74.349,\n",
       " 44.559,\n",
       " 43.867,\n",
       " 68.551,\n",
       " 56.582,\n",
       " 70.782,\n",
       " 37.883,\n",
       " 76.177,\n",
       " 58.349,\n",
       " 53.993,\n",
       " 44.694,\n",
       " 50.165,\n",
       " 75.843,\n",
       " 70.337,\n",
       " 70.42,\n",
       " 59.786,\n",
       " 73.017,\n",
       " 62.239]"
      ]
     },
     "execution_count": 37,
     "metadata": {},
     "output_type": "execute_result"
    }
   ],
   "source": [
    "life_exp"
   ]
  },
  {
   "cell_type": "code",
   "execution_count": 38,
   "id": "a6774852",
   "metadata": {},
   "outputs": [
    {
     "name": "stdout",
     "output_type": "stream",
     "text": [
      "[39.21, 52.505, 73.103, 43.352, 72.992, 63.607, 64.28, 69.393, 52.502, 57.609, 73.444, 62.817, 68.922, 73.989, 52.302, 47.619, 42.96, 70.056, 54.336, 74.903, 52.382, 70.299, 71.601, 66.828, 70.177, 50.007, 74.014, 60.721, 52.681, 44.401, 67.708, 59.304, 73.733, 52.341, 58.859, 59.696, 66.644, 66.526, 47.903, 69.744, 65.866, 51.499, 46.78, 68.749, 49.002, 67.431, 73.646, 59.03, 71.511, 46.381, 71.22, 43.581, 49.834, 44.544, 71.045, 53.491, 48.401, 61.346, 41.482, 72.739, 68.433, 57.48, 40.38, 43.413, 58.679, 42.476, 47.771, 46.774, 51.221, 64.953, 45.996, 68.291, 61.554, 56.243, 50.626, 58.443, 52.663, 54.598, 48.436, 37.479, 65.409, 57.896, 53.322, 75.565, 73.923, 74.827, 59.633, 53.166, 62.2, 65.606, 74.663, 55.89, 48.986, 58.637, 57.921, 43.24, 66.581, 76.511, 40.989, 44.817, 67.802, 70.181, 60.967, 74.37, 48.78, 45.999, 73.642, 60.329, 65.001, 44.476, 56.729, 63.898, 48.129, 73.478, 54.882, 61.785, 36.769, 70.696, 47.912, 66.809, 69.06, 74.203, 75.648, 74.349, 44.559, 43.867, 68.551, 56.582, 70.782, 37.883, 76.177, 58.349, 53.993, 44.694, 50.165, 75.843, 70.337, 70.42, 59.786, 73.017, 62.239]\n"
     ]
    }
   ],
   "source": [
    "# Same idea, but as a list comprehension \n",
    "life_exp = [float(row[ind]) for row in data]\n",
    "print(life_exp)"
   ]
  },
  {
   "cell_type": "code",
   "execution_count": 39,
   "id": "14e51ad7",
   "metadata": {},
   "outputs": [],
   "source": [
    "# Make this code more flexible with list comprehensions\n",
    "var_name = \"gdpPercap\"\n",
    "out = [row[cnames.index(var_name)] for row in data]"
   ]
  },
  {
   "cell_type": "markdown",
   "id": "2640357f",
   "metadata": {},
   "source": [
    "## Motivating Numpy\n",
    "\n",
    "All of the above seems a little too much for working with retangular data in Python. And it is. So of course, there are more recent, modern and easy to work with strategies to work with data frames in Python. \n",
    "\n",
    "A first approach to facilitate working with Data Frames in Python comes through using `numpy` to convert nested lists in `arrays`. \n",
    "\n",
    "**If you coming from R, think about numpy arrays as matrices.**\n",
    "\n",
    "We will see more of numpy soon. But, let's see briefly how numpy works and the speed boost of using numpy to access data in Python\n"
   ]
  },
  {
   "cell_type": "code",
   "execution_count": 40,
   "id": "e9c00e1b",
   "metadata": {},
   "outputs": [
    {
     "name": "stdout",
     "output_type": "stream",
     "text": [
      "[['country', 'lifeExp', 'gdpPercap'], ['Guinea_Bissau', '39.21', '652.157'], ['Bolivia', '52.505', '2961.229'], ['Austria', '73.103', '20411.916'], ['Malawi', '43.352', '575.447'], ['Finland', '72.992', '17473.723'], ['North_Korea', '63.607', '2591.853'], ['Malaysia', '64.28', '5406.038'], ['Hungary', '69.393', '10888.176'], ['Congo', '52.502', '3312.788'], ['Morocco', '57.609', '2447.909'], ['Germany', '73.444', '20556.684'], ['Ecuador', '62.817', '5733.625'], ['Kuwait', '68.922', '65332.91'], ['New_Zealand', '73.989', '17262.623'], ['Mauritania', '52.302', '1356.671'], ['Uganda', '47.619', '810.384'], ['Equatorial Guinea', '42.96', '2469.167'], ['Croatia', '70.056', '9331.712'], ['Indonesia', '54.336', '1741.365'], ['Canada', '74.903', '22410.746'], ['Comoros', '52.382', '1314.38'], ['Montenegro', '70.299', '7208.065'], ['Slovenia', '71.601', '14074.582'], ['Trinidad and Tobago', '66.828', '7866.872'], ['Poland', '70.177', '8416.554'], ['Lesotho', '50.007', '780.553'], ['Italy', '74.014', '16245.209'], ['Tunisia', '60.721', '3477.21'], ['Kenya', '52.681', '1200.416'], ['Gambia', '44.401', '680.133'], ['Bosnia and Herzegovina', '67.708', '3484.779'], ['Libya', '59.304', '12013.579'], ['Greece', '73.733', '13969.037'], ['Ghana', '52.341', '1044.582'], ['Peru', '58.859', '5613.844'], ['Turkey', '59.696', '4469.453'], ['Reunion', '66.644', '4898.398'], ['Sri_Lanka', '66.526', '1854.731'], ['Cambodia', '47.903', '675.368'], ['Bulgaria', '69.744', '6384.055'], ['Lebanon', '65.866', '7269.216'], ['Togo', '51.499', '1153.82'], ['Yemen', '46.78', '1569.275'], ['Jamaica', '68.749', '6197.645'], ['Swaziland', '49.002', '3163.352'], ['Chile', '67.431', '6703.289'], ['Israel', '73.646', '14160.936'], ['Algeria', '59.03', '4426.026'], ['Czech_Republic', '71.511', '13920.011'], ['Djibouti', '46.381', '2697.833'], ['Singapore', '71.22', '17425.382'], ['Nigeria', '43.581', '1488.309'], ['Bangladesh', '49.834', '817.559'], ['DRC', '44.544', '648.343'], ['Cuba', '71.045', '6283.259'], ['Namibia', '53.491', '3675.582'], ['Sudan', '48.401', '1835.01'], ['Syria', '61.346', '3009.288'], ['Rwanda', '41.482', '675.669'], ['Puerto Rico', '72.739', '10863.164'], ['Albania', '68.433', '3255.367'], ['Vietnam', '57.48', '1017.713'], ['Mozambique', '40.38', '542.278'], ['Mali', '43.413', '673.093'], ['Saudi Arabia', '58.679', '20261.744'], ['Liberia', '42.476', '604.814'], ['Madagascar', '47.771', '1335.595'], ['Chad', '46.774', '1165.454'], ['Gabon', '51.221', '11529.865'], ['Mauritius', '64.953', '4768.942'], ['Zambia', '45.996', '1358.199'], ['Romania', '68.291', '7300.17'], ['Dominican Republic', '61.554', '2844.856'], ['Egypt', '56.243', '3074.031'], ['Senegal', '50.626', '1533.122'], ['Oman', '58.443', '12138.562'], ['Zimbabwe', '52.663', '635.858'], ['Botswana', '54.598', '5031.504'], [\"Cote d'Ivoire\", '48.436', '1912.825'], ['Afghanistan', '37.479', '802.675'], ['Mexico', '65.409', '7724.113'], ['Sao Tome and Principe', '57.896', '1382.782'], ['Myanmar', '53.322', '439.333'], ['Switzerland', '75.565', '27074.334'], ['United Kingdom', '73.923', '19380.473'], ['Japan', '74.827', '17750.87'], ['El Salvador', '59.633', '4431.847'], ['India', '53.166', '1057.296'], ['Thailand', '62.2', '3045.966'], ['Bahrain', '65.606', '18077.664'], ['Australia', '74.663', '19980.596'], ['Mongolia', '55.89', '1692.805'], ['Nepal', '48.986', '782.729'], ['Iran', '58.637', '7376.583'], ['Honduras', '57.921', '2834.413'], ['Guinea', '43.24', '776.067'], ['Venezuela', '66.581', '10088.516'], ['Iceland', '76.511', '20531.422'], ['Somalia', '40.989', '1140.793'], ['Burundi', '44.817', '471.663'], ['Panama', '67.802', '5754.827'], ['Costa Rica', '70.181', '5448.611'], ['Philippines', '60.967', '2174.771'], ['Denmark', '74.37', '21671.825'], ['Benin', '48.78', '1155.395'], ['Eritrea', '45.999', '541.003'], ['Belgium', '73.642', '19900.758'], ['West Bank and Gaza', '60.329', '3759.997'], ['South_Korea', '65.001', '8217.318'], ['Ethiopia', '44.476', '509.115'], ['Guatemala', '56.729', '4015.403'], ['Colombia', '63.898', '4195.343'], ['Cameroon', '48.129', '1774.634'], ['United States', '73.478', '26261.151'], ['Pakistan', '54.882', '1439.271'], ['China', '61.785', '1488.308'], ['Sierra Leone', '36.769', '1072.819'], ['Slovak Republic', '70.696', '10415.531'], ['Tanzania', '47.912', '849.281'], ['Paraguay', '66.809', '3239.607'], ['Argentina', '69.06', '8955.554'], ['Spain', '74.203', '14029.826'], ['Netherlands', '75.648', '21748.852'], ['France', '74.349', '18833.57'], ['Niger', '44.559', '781.077'], ['Central African Republic', '43.867', '958.785'], ['Serbia', '68.551', '9305.049'], ['Iraq', '56.582', '7811.809'], ['Uruguay', '70.782', '7100.133'], ['Angola', '37.883', '3607.101'], ['Sweden', '76.177', '19943.126'], ['Nicaragua', '58.349', '3424.656'], ['South Africa', '53.993', '7247.431'], ['Burkina Faso', '44.694', '843.991'], ['Haiti', '50.165', '1620.739'], ['Norway', '75.843', '26747.307'], ['Taiwan', '70.337', '10224.807'], ['Portugal', '70.42', '11354.092'], ['Jordan', '59.786', '3128.121'], ['Ireland', '73.017', '15758.606'], ['Brazil', '62.239', '5829.317']]\n"
     ]
    }
   ],
   "source": [
    "# Read in the gapminder data \n",
    "with open(\"gapminder.csv\",mode=\"rt\") as file:\n",
    "    data = [row for row in csv.reader(file)]\n",
    "print(data)"
   ]
  },
  {
   "cell_type": "code",
   "execution_count": 41,
   "id": "05755c6d",
   "metadata": {},
   "outputs": [
    {
     "data": {
      "text/plain": [
       "['country', 'lifeExp', 'gdpPercap']"
      ]
     },
     "execution_count": 41,
     "metadata": {},
     "output_type": "execute_result"
    }
   ],
   "source": [
    "# lets remove the first list\n",
    "data.pop(0)"
   ]
  },
  {
   "cell_type": "code",
   "execution_count": 42,
   "id": "d0580ee3",
   "metadata": {},
   "outputs": [
    {
     "data": {
      "text/plain": [
       "array([['Guinea_Bissau', '39.21', '652.157'],\n",
       "       ['Bolivia', '52.505', '2961.229'],\n",
       "       ['Austria', '73.103', '20411.916'],\n",
       "       ['Malawi', '43.352', '575.447'],\n",
       "       ['Finland', '72.992', '17473.723'],\n",
       "       ['North_Korea', '63.607', '2591.853'],\n",
       "       ['Malaysia', '64.28', '5406.038'],\n",
       "       ['Hungary', '69.393', '10888.176'],\n",
       "       ['Congo', '52.502', '3312.788'],\n",
       "       ['Morocco', '57.609', '2447.909'],\n",
       "       ['Germany', '73.444', '20556.684'],\n",
       "       ['Ecuador', '62.817', '5733.625'],\n",
       "       ['Kuwait', '68.922', '65332.91'],\n",
       "       ['New_Zealand', '73.989', '17262.623'],\n",
       "       ['Mauritania', '52.302', '1356.671'],\n",
       "       ['Uganda', '47.619', '810.384'],\n",
       "       ['Equatorial Guinea', '42.96', '2469.167'],\n",
       "       ['Croatia', '70.056', '9331.712'],\n",
       "       ['Indonesia', '54.336', '1741.365'],\n",
       "       ['Canada', '74.903', '22410.746'],\n",
       "       ['Comoros', '52.382', '1314.38'],\n",
       "       ['Montenegro', '70.299', '7208.065'],\n",
       "       ['Slovenia', '71.601', '14074.582'],\n",
       "       ['Trinidad and Tobago', '66.828', '7866.872'],\n",
       "       ['Poland', '70.177', '8416.554'],\n",
       "       ['Lesotho', '50.007', '780.553'],\n",
       "       ['Italy', '74.014', '16245.209'],\n",
       "       ['Tunisia', '60.721', '3477.21'],\n",
       "       ['Kenya', '52.681', '1200.416'],\n",
       "       ['Gambia', '44.401', '680.133'],\n",
       "       ['Bosnia and Herzegovina', '67.708', '3484.779'],\n",
       "       ['Libya', '59.304', '12013.579'],\n",
       "       ['Greece', '73.733', '13969.037'],\n",
       "       ['Ghana', '52.341', '1044.582'],\n",
       "       ['Peru', '58.859', '5613.844'],\n",
       "       ['Turkey', '59.696', '4469.453'],\n",
       "       ['Reunion', '66.644', '4898.398'],\n",
       "       ['Sri_Lanka', '66.526', '1854.731'],\n",
       "       ['Cambodia', '47.903', '675.368'],\n",
       "       ['Bulgaria', '69.744', '6384.055'],\n",
       "       ['Lebanon', '65.866', '7269.216'],\n",
       "       ['Togo', '51.499', '1153.82'],\n",
       "       ['Yemen', '46.78', '1569.275'],\n",
       "       ['Jamaica', '68.749', '6197.645'],\n",
       "       ['Swaziland', '49.002', '3163.352'],\n",
       "       ['Chile', '67.431', '6703.289'],\n",
       "       ['Israel', '73.646', '14160.936'],\n",
       "       ['Algeria', '59.03', '4426.026'],\n",
       "       ['Czech_Republic', '71.511', '13920.011'],\n",
       "       ['Djibouti', '46.381', '2697.833'],\n",
       "       ['Singapore', '71.22', '17425.382'],\n",
       "       ['Nigeria', '43.581', '1488.309'],\n",
       "       ['Bangladesh', '49.834', '817.559'],\n",
       "       ['DRC', '44.544', '648.343'],\n",
       "       ['Cuba', '71.045', '6283.259'],\n",
       "       ['Namibia', '53.491', '3675.582'],\n",
       "       ['Sudan', '48.401', '1835.01'],\n",
       "       ['Syria', '61.346', '3009.288'],\n",
       "       ['Rwanda', '41.482', '675.669'],\n",
       "       ['Puerto Rico', '72.739', '10863.164'],\n",
       "       ['Albania', '68.433', '3255.367'],\n",
       "       ['Vietnam', '57.48', '1017.713'],\n",
       "       ['Mozambique', '40.38', '542.278'],\n",
       "       ['Mali', '43.413', '673.093'],\n",
       "       ['Saudi Arabia', '58.679', '20261.744'],\n",
       "       ['Liberia', '42.476', '604.814'],\n",
       "       ['Madagascar', '47.771', '1335.595'],\n",
       "       ['Chad', '46.774', '1165.454'],\n",
       "       ['Gabon', '51.221', '11529.865'],\n",
       "       ['Mauritius', '64.953', '4768.942'],\n",
       "       ['Zambia', '45.996', '1358.199'],\n",
       "       ['Romania', '68.291', '7300.17'],\n",
       "       ['Dominican Republic', '61.554', '2844.856'],\n",
       "       ['Egypt', '56.243', '3074.031'],\n",
       "       ['Senegal', '50.626', '1533.122'],\n",
       "       ['Oman', '58.443', '12138.562'],\n",
       "       ['Zimbabwe', '52.663', '635.858'],\n",
       "       ['Botswana', '54.598', '5031.504'],\n",
       "       [\"Cote d'Ivoire\", '48.436', '1912.825'],\n",
       "       ['Afghanistan', '37.479', '802.675'],\n",
       "       ['Mexico', '65.409', '7724.113'],\n",
       "       ['Sao Tome and Principe', '57.896', '1382.782'],\n",
       "       ['Myanmar', '53.322', '439.333'],\n",
       "       ['Switzerland', '75.565', '27074.334'],\n",
       "       ['United Kingdom', '73.923', '19380.473'],\n",
       "       ['Japan', '74.827', '17750.87'],\n",
       "       ['El Salvador', '59.633', '4431.847'],\n",
       "       ['India', '53.166', '1057.296'],\n",
       "       ['Thailand', '62.2', '3045.966'],\n",
       "       ['Bahrain', '65.606', '18077.664'],\n",
       "       ['Australia', '74.663', '19980.596'],\n",
       "       ['Mongolia', '55.89', '1692.805'],\n",
       "       ['Nepal', '48.986', '782.729'],\n",
       "       ['Iran', '58.637', '7376.583'],\n",
       "       ['Honduras', '57.921', '2834.413'],\n",
       "       ['Guinea', '43.24', '776.067'],\n",
       "       ['Venezuela', '66.581', '10088.516'],\n",
       "       ['Iceland', '76.511', '20531.422'],\n",
       "       ['Somalia', '40.989', '1140.793'],\n",
       "       ['Burundi', '44.817', '471.663'],\n",
       "       ['Panama', '67.802', '5754.827'],\n",
       "       ['Costa Rica', '70.181', '5448.611'],\n",
       "       ['Philippines', '60.967', '2174.771'],\n",
       "       ['Denmark', '74.37', '21671.825'],\n",
       "       ['Benin', '48.78', '1155.395'],\n",
       "       ['Eritrea', '45.999', '541.003'],\n",
       "       ['Belgium', '73.642', '19900.758'],\n",
       "       ['West Bank and Gaza', '60.329', '3759.997'],\n",
       "       ['South_Korea', '65.001', '8217.318'],\n",
       "       ['Ethiopia', '44.476', '509.115'],\n",
       "       ['Guatemala', '56.729', '4015.403'],\n",
       "       ['Colombia', '63.898', '4195.343'],\n",
       "       ['Cameroon', '48.129', '1774.634'],\n",
       "       ['United States', '73.478', '26261.151'],\n",
       "       ['Pakistan', '54.882', '1439.271'],\n",
       "       ['China', '61.785', '1488.308'],\n",
       "       ['Sierra Leone', '36.769', '1072.819'],\n",
       "       ['Slovak Republic', '70.696', '10415.531'],\n",
       "       ['Tanzania', '47.912', '849.281'],\n",
       "       ['Paraguay', '66.809', '3239.607'],\n",
       "       ['Argentina', '69.06', '8955.554'],\n",
       "       ['Spain', '74.203', '14029.826'],\n",
       "       ['Netherlands', '75.648', '21748.852'],\n",
       "       ['France', '74.349', '18833.57'],\n",
       "       ['Niger', '44.559', '781.077'],\n",
       "       ['Central African Republic', '43.867', '958.785'],\n",
       "       ['Serbia', '68.551', '9305.049'],\n",
       "       ['Iraq', '56.582', '7811.809'],\n",
       "       ['Uruguay', '70.782', '7100.133'],\n",
       "       ['Angola', '37.883', '3607.101'],\n",
       "       ['Sweden', '76.177', '19943.126'],\n",
       "       ['Nicaragua', '58.349', '3424.656'],\n",
       "       ['South Africa', '53.993', '7247.431'],\n",
       "       ['Burkina Faso', '44.694', '843.991'],\n",
       "       ['Haiti', '50.165', '1620.739'],\n",
       "       ['Norway', '75.843', '26747.307'],\n",
       "       ['Taiwan', '70.337', '10224.807'],\n",
       "       ['Portugal', '70.42', '11354.092'],\n",
       "       ['Jordan', '59.786', '3128.121'],\n",
       "       ['Ireland', '73.017', '15758.606'],\n",
       "       ['Brazil', '62.239', '5829.317']], dtype='<U24')"
      ]
     },
     "execution_count": 42,
     "metadata": {},
     "output_type": "execute_result"
    }
   ],
   "source": [
    "# Numpy offers an efficiency boost, especially when indexing\n",
    "import numpy as np\n",
    "\n",
    "# Convert to a numpy array\n",
    "data_np = np.array(data)\n",
    "data_np"
   ]
  },
  {
   "cell_type": "markdown",
   "id": "7e7f8bc6",
   "metadata": {},
   "source": [
    "### slicing data with numpy"
   ]
  },
  {
   "cell_type": "code",
   "execution_count": 49,
   "id": "23194d4b",
   "metadata": {},
   "outputs": [
    {
     "data": {
      "text/plain": [
       "array(['39.21', '52.505', '73.103', '43.352', '72.992', '63.607', '64.28',\n",
       "       '69.393', '52.502', '57.609', '73.444', '62.817', '68.922',\n",
       "       '73.989', '52.302', '47.619', '42.96', '70.056', '54.336',\n",
       "       '74.903', '52.382', '70.299', '71.601', '66.828', '70.177',\n",
       "       '50.007', '74.014', '60.721', '52.681', '44.401', '67.708',\n",
       "       '59.304', '73.733', '52.341', '58.859', '59.696', '66.644',\n",
       "       '66.526', '47.903', '69.744', '65.866', '51.499', '46.78',\n",
       "       '68.749', '49.002', '67.431', '73.646', '59.03', '71.511',\n",
       "       '46.381', '71.22', '43.581', '49.834', '44.544', '71.045',\n",
       "       '53.491', '48.401', '61.346', '41.482', '72.739', '68.433',\n",
       "       '57.48', '40.38', '43.413', '58.679', '42.476', '47.771', '46.774',\n",
       "       '51.221', '64.953', '45.996', '68.291', '61.554', '56.243',\n",
       "       '50.626', '58.443', '52.663', '54.598', '48.436', '37.479',\n",
       "       '65.409', '57.896', '53.322', '75.565', '73.923', '74.827',\n",
       "       '59.633', '53.166', '62.2', '65.606', '74.663', '55.89', '48.986',\n",
       "       '58.637', '57.921', '43.24', '66.581', '76.511', '40.989',\n",
       "       '44.817', '67.802', '70.181', '60.967', '74.37', '48.78', '45.999',\n",
       "       '73.642', '60.329', '65.001', '44.476', '56.729', '63.898',\n",
       "       '48.129', '73.478', '54.882', '61.785', '36.769', '70.696',\n",
       "       '47.912', '66.809', '69.06', '74.203', '75.648', '74.349',\n",
       "       '44.559', '43.867', '68.551', '56.582', '70.782', '37.883',\n",
       "       '76.177', '58.349', '53.993', '44.694', '50.165', '75.843',\n",
       "       '70.337', '70.42', '59.786', '73.017', '62.239'], dtype='<U24')"
      ]
     },
     "execution_count": 49,
     "metadata": {},
     "output_type": "execute_result"
    }
   ],
   "source": [
    "# simple slicing of rows and columns of your 2d array\n",
    "# array[rows, columns]\n",
    "data_np[:,1]"
   ]
  },
  {
   "cell_type": "markdown",
   "id": "034507d7",
   "metadata": {},
   "source": [
    "### Data operations are easier and faster"
   ]
  },
  {
   "cell_type": "code",
   "execution_count": 50,
   "id": "335e94ae",
   "metadata": {},
   "outputs": [
    {
     "name": "stdout",
     "output_type": "stream",
     "text": [
      "3.06 µs ± 47.1 ns per loop (mean ± std. dev. of 10 runs, 100,000 loops each)\n"
     ]
    }
   ],
   "source": [
    "%%timeit -r 10 -n 100000\n",
    "out1 = []\n",
    "for row in data:\n",
    "    out1.append(row[ind])"
   ]
  },
  {
   "cell_type": "code",
   "execution_count": 51,
   "id": "cf2a7243",
   "metadata": {},
   "outputs": [
    {
     "name": "stdout",
     "output_type": "stream",
     "text": [
      "2.53 µs ± 24.1 ns per loop (mean ± std. dev. of 10 runs, 100,000 loops each)\n"
     ]
    }
   ],
   "source": [
    "%%timeit -r 10 -n 100000\n",
    "out2 = [row[ind] for row in data]"
   ]
  },
  {
   "cell_type": "code",
   "execution_count": 52,
   "id": "a85c866e",
   "metadata": {},
   "outputs": [
    {
     "name": "stdout",
     "output_type": "stream",
     "text": [
      "99.2 ns ± 1.2 ns per loop (mean ± std. dev. of 10 runs, 100,000 loops each)\n"
     ]
    }
   ],
   "source": [
    "%%timeit -r 10 -n 100000\n",
    "out3 = data_np[:,ind]"
   ]
  },
  {
   "cell_type": "code",
   "execution_count": 22,
   "id": "3dd66a06",
   "metadata": {},
   "outputs": [
    {
     "name": "stdout",
     "output_type": "stream",
     "text": [
      "[NbConvertApp] Converting notebook _week_4_nested_lists.ipynb to html\n",
      "[NbConvertApp] Writing 315869 bytes to _week_4_nested_lists.html\n"
     ]
    }
   ],
   "source": [
    "!jupyter nbconvert _week_4_nested_lists.ipynb --to html --template classic\n"
   ]
  }
 ],
 "metadata": {
  "kernelspec": {
   "display_name": "Python 3 (ipykernel)",
   "language": "python",
   "name": "python3"
  },
  "language_info": {
   "codemirror_mode": {
    "name": "ipython",
    "version": 3
   },
   "file_extension": ".py",
   "mimetype": "text/x-python",
   "name": "python",
   "nbconvert_exporter": "python",
   "pygments_lexer": "ipython3",
   "version": "3.11.4"
  }
 },
 "nbformat": 4,
 "nbformat_minor": 5
}
