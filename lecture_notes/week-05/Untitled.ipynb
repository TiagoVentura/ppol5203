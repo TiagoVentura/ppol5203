{
 "cells": [
  {
   "cell_type": "code",
   "execution_count": 1,
   "id": "68480707",
   "metadata": {},
   "outputs": [
    {
     "name": "stdout",
     "output_type": "stream",
     "text": [
      "[ 4  9 16 25]\n"
     ]
    }
   ],
   "source": [
    "import numpy as np\n",
    "def my_function(arr):\n",
    "    return arr ** 2 + 2 * arr + 1  # Element-wise operations\n",
    "\n",
    "arr = np.array([1, 2, 3, 4])\n",
    "print(my_function(arr)) "
   ]
  },
  {
   "cell_type": "code",
   "execution_count": 2,
   "id": "643148ae",
   "metadata": {},
   "outputs": [
    {
     "name": "stdout",
     "output_type": "stream",
     "text": [
      "[ 4  9 16 25]\n"
     ]
    }
   ],
   "source": [
    "def scalar_function(x):\n",
    "    return x ** 2 + 2 * x + 1\n",
    "\n",
    "# Applying scalar_function to a NumPy array directly will not work:\n",
    "arr = np.array([1, 2, 3, 4])\n",
    "# This would raise an error because scalar_function is not vectorized\n",
    "print(scalar_function(arr))"
   ]
  }
 ],
 "metadata": {
  "kernelspec": {
   "display_name": "Python 3 (ipykernel)",
   "language": "python",
   "name": "python3"
  },
  "language_info": {
   "codemirror_mode": {
    "name": "ipython",
    "version": 3
   },
   "file_extension": ".py",
   "mimetype": "text/x-python",
   "name": "python",
   "nbconvert_exporter": "python",
   "pygments_lexer": "ipython3",
   "version": "3.11.4"
  }
 },
 "nbformat": 4,
 "nbformat_minor": 5
}
