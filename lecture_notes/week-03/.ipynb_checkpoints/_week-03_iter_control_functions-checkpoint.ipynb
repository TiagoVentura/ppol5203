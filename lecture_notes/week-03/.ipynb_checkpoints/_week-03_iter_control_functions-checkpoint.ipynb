{
 "cells": [
  {
   "cell_type": "markdown",
   "id": "958d8d5e",
   "metadata": {},
   "source": [
    "<h1><center> PPOL 5203 Data Science I: Foundations <br><br> \n",
    "<font color='grey'>Intro do Python: Control Statements, Iterations and Functions <br><br>\n",
    "Tiago Ventura </center> <h1> \n",
    "\n",
    "---"
   ]
  },
  {
   "cell_type": "markdown",
   "id": "3a962d1b",
   "metadata": {},
   "source": [
    "## Learning Objectives\n",
    "\n",
    "For the second half of the week three class, we will go over some concepts that are very general over any programming language. These are:\n",
    "\n",
    "-   Explore iterating through containers using **loops**\n",
    "-   Using **logical operators** for comparisons.\n",
    "-   Control the behavior of code when iterating using **control statements**.\n",
    "-   Defining **functions** to make code more flexible, debuggable, and readable.\n",
    "\n",
    "## Comparison Operators\n",
    "\n",
    "Comparison operators check whether a relationship holds between two objects. Since the relationship either holds or doesn't hold, these operators always return Boolean values. See below for a list of these operators\n",
    "\n",
    "| Operator     | Property                |\n",
    "|--------------|-------------------------|\n",
    "| **`==`**     | (value) equivalence     |\n",
    "| **`>`**      | greater than            |\n",
    "| **`<`**      | strictly less than      |\n",
    "| **`<=`**     | less than or equal      |\n",
    "| **`>`**      | strictly greater than   |\n",
    "| **`>=`**     | greater than or equal   |\n",
    "| **`!=`**     | Not Equals              |\n",
    "| **`is`**     | object identity         |\n",
    "| **`is not`** | negated object identity |\n",
    "| **`in`**     | membership in           |\n",
    "| **`not in`** | negated membership in   |\n"
   ]
  },
  {
   "cell_type": "code",
   "execution_count": 3,
   "id": "ed4cbe62",
   "metadata": {},
   "outputs": [
    {
     "name": "stdout",
     "output_type": "stream",
     "text": [
      "True\n",
      "True\n",
      "False\n",
      "False\n"
     ]
    },
    {
     "data": {
      "text/plain": [
       "False"
      ]
     },
     "execution_count": 3,
     "metadata": {},
     "output_type": "execute_result"
    }
   ],
   "source": [
    "# Some examples\n",
    "\n",
    "# Comparisons\n",
    "x = 7\n",
    "y = 6\n",
    "\n",
    "# simple comparisons\n",
    "print(x >= y)\n",
    "print(x > y)\n",
    "print(x < y)\n",
    "print(x <= y)\n",
    "\n",
    "# \"in\" for contains\n",
    "\"d\" in [\"x\",\"a\",\"v\"]"
   ]
  },
  {
   "cell_type": "markdown",
   "id": "ed275d55",
   "metadata": {},
   "source": [
    "### Boolean Comparison\n",
    "\n",
    "Another type of operators are those that take as input boolen types and return as outputs the data types. These are often super useful when we are working with recoding of multiple variables. See table below:\n",
    "\n",
    "| Operator | Logical Operation |\n",
    "|----------|-------------------|\n",
    "| `and`    | Conjunction       |\n",
    "| `or`     | Disjunction       |\n",
    "| `not`    | Negation          |\n"
   ]
  },
  {
   "cell_type": "code",
   "execution_count": 8,
   "id": "1a1bcad4",
   "metadata": {},
   "outputs": [
    {
     "name": "stdout",
     "output_type": "stream",
     "text": [
      "False\n",
      "True\n"
     ]
    }
   ],
   "source": [
    "# examples\n",
    "\n",
    "# and\n",
    "print(True and False)\n",
    "\n",
    "# or\n",
    "print(True  or False)"
   ]
  },
  {
   "cell_type": "markdown",
   "id": "84196d90",
   "metadata": {},
   "source": [
    "> All this is barely scratching the surface [**For a in-depth discussion of comparison operators in python, see here.**](https://realpython.com/python-boolean/#boolean-operators)\n",
    "\n",
    "## Conditional Statements\n",
    "\n",
    "Any programming language needs statements that controls the sequence of execution of a particular piece of code. These statements are called control statements, and they enable you to write programs that can perform different actions based on different inputs or situations. \n",
    "\n",
    "The most common control statements are `conditional statements`. The name speaks by itself: these statements control when a program run conditional on meeting a certain criteria. The most popular conditional statements are `if`, `elif`, and `else` statements.\n",
    "\n",
    "These statements have the following structure:\n"
   ]
  },
  {
   "cell_type": "code",
   "execution_count": null,
   "id": "04f98582",
   "metadata": {},
   "outputs": [],
   "source": [
    "#| eval: false\n",
    "if <logical statement>:\n",
    "  ~~~~ CODE ~~~~\n",
    "elif <logical statement>:\n",
    "  ~~~~ CODE ~~~~\n",
    "else:\n",
    "  ~~~~ CODE ~~~~"
   ]
  },
  {
   "cell_type": "markdown",
   "id": "caef0f3a",
   "metadata": {},
   "source": [
    "**Notice the indentation in the code blocks of the conditional statements!**"
   ]
  },
  {
   "cell_type": "markdown",
   "id": "08e08f05",
   "metadata": {},
   "source": [
    "### `if` statement\n",
    "\n",
    "The `if` statement evaluates an expression, and if that expression is `True`, it then executes the following indented code. If the expression is `False`, nothing is executed"
   ]
  },
  {
   "cell_type": "code",
   "execution_count": null,
   "id": "e45dbb3a",
   "metadata": {},
   "outputs": [],
   "source": [
    "# most basic statement\n",
    "if True:\n",
    "    print(\"This statement is True\")"
   ]
  },
  {
   "cell_type": "code",
   "execution_count": null,
   "id": "38e05b27",
   "metadata": {},
   "outputs": [],
   "source": [
    "# with a number\n",
    "x = 5\n",
    "if x > 10: # state some condition\n",
    "    print(\"High\")"
   ]
  },
  {
   "cell_type": "markdown",
   "id": "3d8bbf8d",
   "metadata": {},
   "source": [
    "### `else` statement\n",
    "\n",
    "The `else` statement executes only if the evaluation of the `if` and all the `elif` expressions are False. It is a negation statement by nature.\n"
   ]
  },
  {
   "cell_type": "code",
   "execution_count": 9,
   "id": "1653e817",
   "metadata": {},
   "outputs": [
    {
     "name": "stdout",
     "output_type": "stream",
     "text": [
      "Low\n"
     ]
    }
   ],
   "source": [
    "# with a number\n",
    "x = 5\n",
    "if x > 10: # state some condition\n",
    "    print(\"High\")\n",
    "else:\n",
    "    print(\"Low\")"
   ]
  },
  {
   "cell_type": "markdown",
   "id": "aa1a6b82",
   "metadata": {},
   "source": [
    "### `elif` statement\n",
    "\n",
    "`elif` stands for else if in plain english. It allows the programmer to concatenate multiple conditional statements. Only after the `if` statement expression is `False`, the `elif` statement is evaluated and executed\n"
   ]
  },
  {
   "cell_type": "code",
   "execution_count": 10,
   "id": "6d226dae",
   "metadata": {},
   "outputs": [
    {
     "name": "stdout",
     "output_type": "stream",
     "text": [
      "D\n"
     ]
    }
   ],
   "source": [
    "x = 5\n",
    "if x is None:\n",
    "    print(\"A\")\n",
    "elif x < 0:\n",
    "    print(\"B\")\n",
    "elif x >10:\n",
    "    print(\"C\")\n",
    "else:\n",
    "    print(\"D\")"
   ]
  },
  {
   "cell_type": "markdown",
   "id": "f4ffada7",
   "metadata": {},
   "source": [
    "Notice you can arrive at the same behavior with nested `if` statements.\n"
   ]
  },
  {
   "cell_type": "code",
   "execution_count": 1,
   "id": "9cd4269c",
   "metadata": {},
   "outputs": [
    {
     "name": "stdout",
     "output_type": "stream",
     "text": [
      "D\n"
     ]
    }
   ],
   "source": [
    "x=5\n",
    "\n",
    "# same, but uglier version of the control flow above. \n",
    "if x is None:\n",
    "    print(\"A\")\n",
    "    if x < 0:\n",
    "        print(\"B\")\n",
    "        if x >10:\n",
    "            print(\"C\")\n",
    "else:\n",
    "    print(\"D\")\n"
   ]
  },
  {
   "cell_type": "markdown",
   "id": "ce051c0e",
   "metadata": {},
   "source": [
    "## Iteration\n",
    "\n",
    "A basic building block of any program is to be to be able to repeat some code over and over again. Whether it is to collect data for a list of websites, apply some function to a sequence of dataframes, or retrieve information form a set of different models, we are often interested as data scientist in repeating a certain action through a sequence of unit. This process is called **iteration** and it is often performed using a `loop` function.\n",
    "\n",
    "### for loops\n",
    "\n",
    "**Iteration** in a basic sense is simply taking one item at a time from a collection. We start at the beginning of the collection and mover through it until we reach the end. Any time we use a loop we are going over each and every item in collection\n",
    "\n",
    "In python, we can iterate over any non-scaler class with an `iter()` associated method. Examples are:\n",
    "\n",
    "-   lists\n",
    "\n",
    "-   strings\n",
    "\n",
    "-   dictionaries\n",
    "\n",
    "-   file connections\n",
    "\n",
    "-   grouped pandas df\n",
    "\n",
    "#### for loop with lists\n"
   ]
  },
  {
   "cell_type": "code",
   "execution_count": 2,
   "id": "e29e57d7",
   "metadata": {},
   "outputs": [
    {
     "name": "stdout",
     "output_type": "stream",
     "text": [
      "1\n",
      "2\n",
      "3\n",
      "4\n",
      "5\n"
     ]
    }
   ],
   "source": [
    "# create a list\n",
    "my_list = [1, 2, 3, 4, 5]\n",
    "\n",
    "# iterate\n",
    "for m in my_list:\n",
    "  print(m)"
   ]
  },
  {
   "cell_type": "markdown",
   "id": "da3cca79",
   "metadata": {},
   "source": [
    "#### for loop with strings\n"
   ]
  },
  {
   "cell_type": "code",
   "execution_count": 3,
   "id": "cfb5c25c",
   "metadata": {},
   "outputs": [
    {
     "name": "stdout",
     "output_type": "stream",
     "text": [
      "G\n",
      "e\n",
      "o\n",
      "r\n",
      "g\n",
      "e\n",
      "t\n",
      "o\n",
      "w\n",
      "n\n"
     ]
    }
   ],
   "source": [
    "# create a list\n",
    "my_string = \"Georgetown\"\n",
    "\n",
    "# iterate\n",
    "for letter in my_string:\n",
    "  print(letter)"
   ]
  },
  {
   "cell_type": "markdown",
   "id": "4eaee522",
   "metadata": {},
   "source": [
    "#### for loop with `range()`\n",
    "\n",
    "Another container with the type of sequences used to express arithmetic progression of integers\n"
   ]
  },
  {
   "cell_type": "code",
   "execution_count": 4,
   "id": "aea13f9e",
   "metadata": {},
   "outputs": [
    {
     "name": "stdout",
     "output_type": "stream",
     "text": [
      "0\n",
      "1\n",
      "2\n",
      "3\n",
      "4\n",
      "5\n",
      "6\n",
      "7\n",
      "8\n",
      "9\n"
     ]
    }
   ],
   "source": [
    "# one value 0 to 10\n",
    "for i in range(10):\n",
    "    print(i)"
   ]
  },
  {
   "cell_type": "markdown",
   "id": "ed88cf95",
   "metadata": {},
   "source": [
    "The instance from a `range()` is just a simple iterator\n"
   ]
  },
  {
   "cell_type": "code",
   "execution_count": 5,
   "id": "a2e8934e",
   "metadata": {},
   "outputs": [
    {
     "data": {
      "text/plain": [
       "[0, 1, 2, 3, 4, 5, 6, 7, 8, 9]"
      ]
     },
     "execution_count": 5,
     "metadata": {},
     "output_type": "execute_result"
    }
   ],
   "source": [
    "# create a range\n",
    "iter_ = range(10)\n",
    "iter_[0]\n",
    "iter_[1]\n",
    "\n",
    "# we can convert to a list to see the object\n",
    "list(iter_)"
   ]
  },
  {
   "cell_type": "markdown",
   "id": "f2ff0e94",
   "metadata": {},
   "source": [
    "#### for loop with `enumerate()`\n",
    "\n",
    "The enumerate function converts an iterable object in a tuple with a index and the iterator\n"
   ]
  },
  {
   "cell_type": "code",
   "execution_count": 6,
   "id": "5edcaeb4",
   "metadata": {},
   "outputs": [
    {
     "name": "stdout",
     "output_type": "stream",
     "text": [
      "index = 0; value == M\n",
      "index = 1; value == c\n",
      "index = 2; value == C\n",
      "index = 3; value == o\n",
      "index = 4; value == u\n",
      "index = 5; value == r\n",
      "index = 6; value == t\n"
     ]
    }
   ],
   "source": [
    "# create a string\n",
    "iterable = \"McCourt\"\n",
    "\n",
    "# enumerate\n",
    "for index, letter in enumerate(iterable):\n",
    "  print(f'index = {index}; value == {letter}')"
   ]
  },
  {
   "cell_type": "markdown",
   "id": "94a42041",
   "metadata": {},
   "source": [
    "**A `for` loop is just another control statement. At its most basic sense, as a programmer, you are asking for a particular program to iterate over a sequence of values.**"
   ]
  },
  {
   "cell_type": "markdown",
   "id": "2323f791",
   "metadata": {},
   "source": [
    "### In-depth understanding of loops\n",
    "\n",
    "We just learned in practive how loops work. Let's break down a bit more so that we actually grasp what is going on behind the scenes here.\n",
    "\n",
    "#### Syntax\n",
    "\n",
    "First, let's fully understand the syntax of a loop. A loop had the following syntax:\n",
    "\n",
    "```         \n",
    "for <var> in <iterable>:\n",
    "    <statement(s)>\n",
    "```\n",
    "\n",
    "-   `<iterable>`: is a collection of objects. This is the container through which our loop is navigating element-wise\n",
    "-   `<statement(s)>`: this is the juice. It is a sequence of code that describes what is the action our program wants to repeat for each component of the iterable. Notice, `<statements>` in the loop body are denoted by indentation, as with all Python control structures.\n",
    "-   `<var>`: it is a local value for every of the next element in <iterable> each time through the loop.\n",
    "\n",
    "#### Iterator\n",
    "\n",
    "**iterable** is any object that contains the `__iter__` methods. This method returns an \"**iterator**\" object. An **iterator** object has a special method called `__next__()`, which summons each item in the collection one at a time."
   ]
  },
  {
   "cell_type": "code",
   "execution_count": 9,
   "id": "1975f33a",
   "metadata": {},
   "outputs": [
    {
     "name": "stdout",
     "output_type": "stream",
     "text": [
      "['UFPA', 'UERJ', 'UMD', 'NYU', 'Georgetown']\n"
     ]
    },
    {
     "data": {
      "text/plain": [
       "<list_iterator at 0x107e530d0>"
      ]
     },
     "execution_count": 9,
     "metadata": {},
     "output_type": "execute_result"
    }
   ],
   "source": [
    "# create a iterable\n",
    "my_list = [\"UFPA\", \"UERJ\", \"UMD\", \"NYU\", \"Georgetown\"]\n",
    "print(my_list)\n",
    "\n",
    "# See the iterator methods\n",
    "my_list.__iter__()"
   ]
  },
  {
   "cell_type": "code",
   "execution_count": 10,
   "id": "f161d15c",
   "metadata": {},
   "outputs": [
    {
     "ename": "StopIteration",
     "evalue": "",
     "output_type": "error",
     "traceback": [
      "\u001b[0;31m---------------------------------------------------------------------------\u001b[0m",
      "\u001b[0;31mStopIteration\u001b[0m                             Traceback (most recent call last)",
      "Cell \u001b[0;32mIn[10], line 20\u001b[0m\n\u001b[1;32m     17\u001b[0m \u001b[38;5;28mnext\u001b[39m(iter_my_list)\n\u001b[1;32m     19\u001b[0m \u001b[38;5;66;03m# firth: stop iteration\u001b[39;00m\n\u001b[0;32m---> 20\u001b[0m \u001b[38;5;28mnext\u001b[39m(iter_my_list)\n",
      "\u001b[0;31mStopIteration\u001b[0m: "
     ]
    }
   ],
   "source": [
    "# iterate over the elements\n",
    "iter_my_list = iter(my_list)\n",
    "\n",
    "# first\n",
    "next(iter_my_list)\n",
    "\n",
    "# first\n",
    "next(iter_my_list)\n",
    "\n",
    "# second\n",
    "next(iter_my_list)\n",
    "\n",
    "# third\n",
    "next(iter_my_list)\n",
    "\n",
    "# fourth\n",
    "next(iter_my_list)\n",
    "\n",
    "# firth: stop iteration\n",
    "next(iter_my_list)"
   ]
  },
  {
   "cell_type": "markdown",
   "id": "c1e8d2c1",
   "metadata": {},
   "source": [
    "**So what does a `for` loop do?**\n",
    "\n",
    "1.  The `for` statement calls `iter()` on the container object (e.g. a list).\n",
    "2.  The function returns an iterator object that defines the method `__next__()` which accesses elements in the container *one at a time*.\n",
    "3.  When there are no more elements, `__next__()` raises a `StopIteration` exception which tells the `for` loop to terminate.\n",
    "\n",
    "### While loops\n",
    "\n",
    "For loops are literally iterations. While loops are all about repetitions. These loops are super useful when we have some target and want to keep our program running up to certain threeshold. For example, while loops are heavily used in maximization functions, in which we keep the algorithm running until our error function is at a minimum/maximum.\n"
   ]
  },
  {
   "cell_type": "code",
   "execution_count": 11,
   "id": "3d9fc6c7",
   "metadata": {},
   "outputs": [
    {
     "name": "stdout",
     "output_type": "stream",
     "text": [
      "This\n",
      "This\n",
      "This\n",
      "This\n",
      "This\n"
     ]
    }
   ],
   "source": [
    "x = 0\n",
    "while x < 5:\n",
    "    print(\"This\")\n",
    "    x += 1"
   ]
  },
  {
   "cell_type": "markdown",
   "id": "8192ba00",
   "metadata": {},
   "source": [
    "**Remember to increment your condition** and avoid an infinite loop.\n",
    "\n",
    "## User Defined Functions\n",
    "\n",
    "Most often when we start our first steps as data scientists (particularly for those like me coming from a non-computer science background), we learn to write code in two basic steps: write code sequentially to solve your immediate needs, and reuse this code for similar tasks. With that in mind, our code usually becomes unecessarily long, repetitive and hard to read.\n",
    "\n",
    "**What is the problem of a long and repetitive code?** You can execute the same task with a long, repetitive code than with a modular, function-based implementation. However, a sequential and repetitive code exposes you as a data scientist to errors you want to avoid. These are:\n",
    "\n",
    "-   Lack of general utility.\n",
    "-   Need to edit/copy/paste your code every time you want to **reuse it.**\n",
    "-   Need to re-write the code when you need to make small extenstion\n",
    "-   **More important**: The more code a program contains, the more chance there is for something to go wrong, and the harder the code is to maintain.\n",
    "\n",
    "For this reason, the single best thing you can do to make your code more professional is to encapsulate your code in smaller, independent parts. This is usually refereed as [modularity](https://www.kaggle.com/code/rtatman/six-steps-to-more-professional-data-science-code) in programming, and it is achieved by writing your own user-defined functions."
   ]
  },
  {
   "cell_type": "markdown",
   "id": "b5c28c0c",
   "metadata": {},
   "source": [
    "## When should I transform my code into a function?\n",
    "\n",
    "Once you find yourself copying the same code more than once or twice, it's time to sink some time into writing a function."
   ]
  },
  {
   "cell_type": "markdown",
   "id": "99265e61",
   "metadata": {},
   "source": [
    "### Functions in Python.\n",
    "\n",
    "A function is a chunk of code that performs some operation. Python comes with several built-in functions. These are standard functions (`type()`, `str()`, `float()`, etc..) or methods associated with native python classes (`str.capitalize()`,`list.append()`, etc...)\n",
    "\n",
    "In addition you can create your own functions through:\n",
    "\n",
    "-   function definition with `def()`\n",
    "\n",
    "-   anonymous functions with `lambda functions`"
   ]
  },
  {
   "cell_type": "markdown",
   "id": "1be0e6d0",
   "metadata": {},
   "source": [
    "### Explicitly defined functions\n",
    "\n",
    "#### `def()`"
   ]
  },
  {
   "cell_type": "code",
   "execution_count": 12,
   "id": "4bc7d183",
   "metadata": {},
   "outputs": [
    {
     "data": {
      "text/plain": [
       "100"
      ]
     },
     "execution_count": 12,
     "metadata": {},
     "output_type": "execute_result"
    }
   ],
   "source": [
    "# create a square function\n",
    "def square(x):\n",
    "    y = x*x\n",
    "    return y\n",
    "\n",
    "# run\n",
    "square(10)"
   ]
  },
  {
   "cell_type": "markdown",
   "id": "a6690130",
   "metadata": {},
   "source": [
    "The code block above has the following elements:\n",
    "\n",
    "-   **`def`**: keyword for generating a function\n",
    "\n",
    "    -   `def` + some_name + `()` + `:` to set up a function header\n",
    "\n",
    "-   **Arguments**: things we want to feed into the function and do something to.\n",
    "\n",
    "-   **`return`**: keyword for returning a specific value from a function\n",
    "\n",
    "##### Docstrings\n",
    "\n",
    "Help yourself and others who will use your functions in the future. A good practice is to use docstrings to describe your function behavior, inputs, and outputs. Docstrings are strings that occur as the first statement within a named function block.\n"
   ]
  },
  {
   "cell_type": "code",
   "execution_count": 16,
   "id": "2f0bc27d",
   "metadata": {},
   "outputs": [],
   "source": [
    "#| eval: false\n",
    "def function_name(input):\n",
    "    '''\n",
    "    Your docstring goes here.\n",
    "    '''\n",
    "    |\n",
    "    |\n",
    "    | Function block\n",
    "    |\n",
    "    |\n",
    "    return something "
   ]
  },
  {
   "cell_type": "markdown",
   "id": "3612d94c",
   "metadata": {},
   "source": [
    "**The goal of the docstring is to tell us what the function *does*.** We can request a functions docstring using the `help()` function.\n"
   ]
  },
  {
   "cell_type": "code",
   "execution_count": 17,
   "id": "abcd111b",
   "metadata": {},
   "outputs": [
    {
     "name": "stdout",
     "output_type": "stream",
     "text": [
      "Help on function square in module __main__:\n",
      "\n",
      "square(x)\n",
      "    Takes the square of a number\n",
      "    input: int object\n",
      "    outpur: int object\n",
      "\n"
     ]
    }
   ],
   "source": [
    "def square(x):\n",
    "  '''\n",
    "  Takes the square of a number\n",
    "  input: int object\n",
    "  outpur: int object\n",
    "  '''\n",
    "  y = x*x\n",
    "  return y\n",
    "\n",
    "help(square)"
   ]
  },
  {
   "cell_type": "markdown",
   "id": "62df9d88",
   "metadata": {},
   "source": [
    "#### Arguments\n",
    "\n",
    "Arguments are all the input values that lie inside the parentheses.\n",
    "\n",
    "```         \n",
    "`def fun(argument_1,argument_2):`\n",
    "```\n",
    "\n",
    "We can supply **default values** to one or all arguments; in doing so, we've specified a default argument.\n",
    "\n",
    "```         \n",
    "`def fun(argument_1 = \"default 1\",argument_2 = \"default 2\"):`\n",
    "```\n"
   ]
  },
  {
   "cell_type": "code",
   "execution_count": 18,
   "id": "de3efce1",
   "metadata": {},
   "outputs": [],
   "source": [
    "def fun(a,b=\"\"):\n",
    "  pass"
   ]
  },
  {
   "cell_type": "markdown",
   "id": "4092540a",
   "metadata": {},
   "source": [
    "-   argument `a` is called a **positional argument** (`*arg`). We provide value to it by matching the position in the sequence.\n",
    "-   argument `b` is called a **keyword argument** (`**kwargs`). Because we give it a default value.\n",
    "\n",
    "Keyword arguments must ***come after*** positional arguments, or python will throw a SyntaxError."
   ]
  },
  {
   "cell_type": "markdown",
   "id": "589b906c",
   "metadata": {},
   "source": [
    "#### Returning Multiple Arguments\n",
    "\n",
    "Python function can return multiple arguments. That possibility gives you a lot of flexibility when programming in Python. This is an important difference between Python and R, since R functions don't return multiple objects in the strict sense."
   ]
  },
  {
   "cell_type": "code",
   "execution_count": 27,
   "id": "2bcd3c4f",
   "metadata": {},
   "outputs": [
    {
     "name": "stdout",
     "output_type": "stream",
     "text": [
      "8\n",
      "9\n"
     ]
    }
   ],
   "source": [
    "def raise_both(value1, value2):\n",
    "    \n",
    "    \"\"\"Raise value1 to the power of value2\n",
    "      and vice versa.\"\"\"\n",
    "    \n",
    "    new_value1 = value1 ** value2\n",
    "    new_value2 = value2 ** value1\n",
    "    return (new_value1, new_value2)\n",
    "\n",
    "value1, value2 = raise_both(2, 3)\n",
    "print(value1)\n",
    "print(value2)"
   ]
  },
  {
   "cell_type": "markdown",
   "id": "166212a1",
   "metadata": {},
   "source": [
    "Under the hood, you are using a tuple as a return object, and unpacking the tuple in the assignment.\n",
    "\n",
    "#### Scoping\n",
    "\n",
    "A scope is part of the program where an object or name may be accessible in Python. Not all objects can be accessed in the same way, and live in the same environment.\n",
    "\n",
    "There are two main scopes we are interested :\n",
    "\n",
    "1.  Local: name is defined inside the current function\n",
    "2.  Global: Any and all names defined at the top level of a module.\n",
    "\n",
    "**Note that `for` loops and code blocks ***do not*** introduce new nested scopes. We can alter the rules slightly when need by using the `global` and `local` calls**\n",
    "\n",
    "Let's check this code showing case a local variables\n"
   ]
  },
  {
   "cell_type": "code",
   "execution_count": 32,
   "id": "81dd3786",
   "metadata": {},
   "outputs": [
    {
     "ename": "NameError",
     "evalue": "name 'new_val' is not defined",
     "output_type": "error",
     "traceback": [
      "\u001b[0;31m---------------------------------------------------------------------------\u001b[0m",
      "\u001b[0;31mNameError\u001b[0m                                 Traceback (most recent call last)",
      "Cell \u001b[0;32mIn[32], line 14\u001b[0m\n\u001b[1;32m     11\u001b[0m square(\u001b[38;5;241m3\u001b[39m)\n\u001b[1;32m     13\u001b[0m \u001b[38;5;66;03m# print new_val\u001b[39;00m\n\u001b[0;32m---> 14\u001b[0m \u001b[38;5;28mprint\u001b[39m(new_val)\n",
      "\u001b[0;31mNameError\u001b[0m: name 'new_val' is not defined"
     ]
    }
   ],
   "source": [
    "# new_val is local \n",
    "\n",
    "#create function\n",
    "def square(value):\n",
    "    \"\"\"Returns the square of a number.\"\"\"\n",
    "    \n",
    "    new_val = value ** 2\n",
    "    return new_val\n",
    "\n",
    "# run\n",
    "square(3)\n",
    "\n",
    "# print new_val\n",
    "print(new_val)\n",
    "\n",
    "## What is going on here?"
   ]
  },
  {
   "cell_type": "code",
   "execution_count": 34,
   "id": "9909d138",
   "metadata": {},
   "outputs": [
    {
     "name": "stdout",
     "output_type": "stream",
     "text": [
      "10\n"
     ]
    }
   ],
   "source": [
    "# create a global variabl\n",
    "new_val = 10\n",
    "\n",
    "# write the same function (nor necessary)\n",
    "def square(value):\n",
    "    \"\"\"\n",
    "    Returns the square of a number.\n",
    "    \"\"\"\n",
    "    \n",
    "    new_val = value ** 2\n",
    "    return new_val\n",
    "\n",
    "# run\n",
    "square(3)\n",
    "\n",
    "# print var\n",
    "print(new_val)\n",
    "\n",
    "## Again: what is going on here?"
   ]
  },
  {
   "cell_type": "markdown",
   "id": "e14563d3",
   "metadata": {},
   "source": [
    "**What if we want to access a global variables from a local scope?**\n"
   ]
  },
  {
   "cell_type": "code",
   "execution_count": 40,
   "id": "e0a91fd7",
   "metadata": {},
   "outputs": [
    {
     "name": "stdout",
     "output_type": "stream",
     "text": [
      "0\n"
     ]
    }
   ],
   "source": [
    "a = 0\n",
    "\n",
    "def my_function():\n",
    "    print(a)\n",
    "\n",
    "my_function()\n",
    "\n",
    "## How can python access a here?"
   ]
  },
  {
   "cell_type": "code",
   "execution_count": 41,
   "id": "4a77945e",
   "metadata": {},
   "outputs": [
    {
     "ename": "NameError",
     "evalue": "name 'a' is not defined",
     "output_type": "error",
     "traceback": [
      "\u001b[0;31m---------------------------------------------------------------------------\u001b[0m",
      "\u001b[0;31mNameError\u001b[0m                                 Traceback (most recent call last)",
      "Cell \u001b[0;32mIn[41], line 2\u001b[0m\n\u001b[1;32m      1\u001b[0m \u001b[38;5;28;01mdel\u001b[39;00m a\n\u001b[0;32m----> 2\u001b[0m my_function()\n",
      "Cell \u001b[0;32mIn[40], line 4\u001b[0m, in \u001b[0;36mmy_function\u001b[0;34m()\u001b[0m\n\u001b[1;32m      3\u001b[0m \u001b[38;5;28;01mdef\u001b[39;00m \u001b[38;5;21mmy_function\u001b[39m():\n\u001b[0;32m----> 4\u001b[0m     \u001b[38;5;28mprint\u001b[39m(a)\n",
      "\u001b[0;31mNameError\u001b[0m: name 'a' is not defined"
     ]
    }
   ],
   "source": [
    "del a\n",
    "my_function()"
   ]
  },
  {
   "cell_type": "markdown",
   "id": "e341168c",
   "metadata": {},
   "source": [
    "And what about this program?\n"
   ]
  },
  {
   "cell_type": "code",
   "execution_count": 42,
   "id": "991162d2",
   "metadata": {},
   "outputs": [
    {
     "name": "stdout",
     "output_type": "stream",
     "text": [
      "3\n",
      "0\n"
     ]
    }
   ],
   "source": [
    "a = 0\n",
    "\n",
    "def my_function():\n",
    "    a = 3\n",
    "    print(a)\n",
    "\n",
    "my_function()\n",
    "\n",
    "print(a)"
   ]
  },
  {
   "cell_type": "markdown",
   "id": "9676729a",
   "metadata": {},
   "source": [
    "And modify a global variable?\n"
   ]
  },
  {
   "cell_type": "code",
   "execution_count": 43,
   "id": "52ffe79e",
   "metadata": {},
   "outputs": [
    {
     "name": "stdout",
     "output_type": "stream",
     "text": [
      "3\n",
      "3\n"
     ]
    }
   ],
   "source": [
    "a = 0\n",
    "\n",
    "def my_function():\n",
    "    global a\n",
    "    a = 3\n",
    "    print(a)\n",
    "\n",
    "my_function()\n",
    "\n",
    "print(a)"
   ]
  },
  {
   "cell_type": "markdown",
   "id": "745e5ee9",
   "metadata": {},
   "source": [
    "> From Python Documentation: it is usually very bad practice to access global variables from inside functions, and even worse practice to modify them. This makes it difficult to arrange our program into logically encapsulated parts which do not affect each other in unexpected ways. If a function needs to access some external value, we should pass the value into the function as a parameter.\n",
    ":::\n",
    "\n",
    "Refer to the python documentation for a more [detailed outline](https://python-textbok.readthedocs.io/en/1.0/Variables_and_Scope.html) of scoping conditions in python."
   ]
  },
  {
   "cell_type": "markdown",
   "id": "4af405e9",
   "metadata": {},
   "source": [
    "#### Lambda functions\n",
    "\n",
    "In addition to user defined functions, Python also supports the use of **anonymous functions**, or so-called **lambda functions**. These are essentially straightforward functions that comprise only one statement, and the value returned by that statement becomes the function's result. These functions are referred to as anonymous because they lack a formal name or identifier. To define such functions, the lambda keyword is employed, which serves the sole purpose of indicating the declaration of an anonymous function.\n",
    "\n",
    "```         \n",
    "  `lambda x: x*2`\n",
    "  `lambda args: return value`\n",
    "```"
   ]
  },
  {
   "cell_type": "code",
   "execution_count": 44,
   "id": "68840ea4",
   "metadata": {},
   "outputs": [
    {
     "data": {
      "text/plain": [
       "function"
      ]
     },
     "execution_count": 44,
     "metadata": {},
     "output_type": "execute_result"
    }
   ],
   "source": [
    "# user-defined\n",
    "def square(value):\n",
    "  \"\"\"Returns the square of a number.\"\"\"\n",
    "  new_val = value ** 2\n",
    "  return new_val\n",
    "\n",
    "#lambda function\n",
    "type(lambda x: x^2)"
   ]
  },
  {
   "cell_type": "markdown",
   "id": "b3ec52be",
   "metadata": {},
   "source": [
    "**Notice that the output of a lambda function is a function. This function returns the `return_value` of the lambda functions**"
   ]
  },
  {
   "cell_type": "markdown",
   "id": "b2c3c495",
   "metadata": {},
   "source": [
    "### Using a lambda function"
   ]
  },
  {
   "cell_type": "code",
   "execution_count": null,
   "id": "13a599b0",
   "metadata": {},
   "outputs": [],
   "source": [
    "#create a funnction from a lambda function -- this makes no sense\n",
    "square=lambda x: x**2\n",
    "square(2)\n",
    "\n",
    "# encapsulating on parenthesis\n",
    "(lambda x: x**2)(2)"
   ]
  },
  {
   "cell_type": "markdown",
   "id": "89a72e00",
   "metadata": {},
   "source": [
    "By itself, lambda functions are not super powerful. However, these shortcuts become very handy when combined with higher-order functions, which are functions that take other functions as input. For example, using the `map()` high-order function that applies a function to ALL elements in the sequence.\n"
   ]
  },
  {
   "cell_type": "code",
   "execution_count": null,
   "id": "b16eba3d",
   "metadata": {},
   "outputs": [],
   "source": [
    "nums = [48, 6, 9, 21, 1]\n",
    "square_all = map(lambda x: x ** 2, nums)\n",
    "print(list(square_all))"
   ]
  },
  {
   "cell_type": "code",
   "execution_count": null,
   "id": "5c5d5dcb",
   "metadata": {},
   "outputs": [],
   "source": [
    "!jupyter nbconvert _week-03_iter_control_functions --to html --template classic\n"
   ]
  }
 ],
 "metadata": {
  "kernelspec": {
   "display_name": "Python 3 (ipykernel)",
   "language": "python",
   "name": "python3"
  },
  "language_info": {
   "codemirror_mode": {
    "name": "ipython",
    "version": 3
   },
   "file_extension": ".py",
   "mimetype": "text/x-python",
   "name": "python",
   "nbconvert_exporter": "python",
   "pygments_lexer": "ipython3",
   "version": "3.11.4"
  }
 },
 "nbformat": 4,
 "nbformat_minor": 5
}
