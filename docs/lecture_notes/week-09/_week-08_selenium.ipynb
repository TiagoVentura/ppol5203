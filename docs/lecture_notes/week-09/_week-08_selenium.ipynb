{
 "cells": [
  {
   "cell_type": "markdown",
   "id": "f3fbb761",
   "metadata": {},
   "source": [
    "<h1><center> PPOL 5203 Data Science I: Foundations <br><br> \n",
    "<font color='grey'> Parsing Unstructure Digital Data. Scraping Part II - Selenium <br><br>\n",
    "Tiago Ventura </center> <h1> \n",
    "\n",
    "---"
   ]
  },
  {
   "cell_type": "markdown",
   "id": "07f214b3",
   "metadata": {},
   "source": [
    "## Learning Goals\n",
    "\n",
    "In the class today, we will learn how to use selenium for research purposes. Selenium will allow us to: \n",
    "\n",
    "- Webscrap dynamic websites\n",
    "- Imitate human behavior online"
   ]
  },
  {
   "cell_type": "code",
   "execution_count": 1,
   "id": "44f2c339",
   "metadata": {},
   "outputs": [],
   "source": [
    "# setup\n",
    "import requests\n",
    "import os\n",
    "import pandas as pd"
   ]
  },
  {
   "cell_type": "markdown",
   "id": "1210dccd",
   "metadata": {},
   "source": [
    "### Static vs Dynamic web pages\n",
    "\n",
    "**Static web pages**: when the browser and the source code content match each other. Everything you see in your browser matchs as source html code. For these type of pages, scrapping can be accomplished using:\n",
    "\n",
    "- string methods and regex \n",
    "- beautifulsoup\n",
    "- scrapy\n",
    "\n",
    "**Dynamic web pages**: when the content we are viewing in our browser does not match the content we see in the HTML source code we are retrieving from the site/ There are two approaches to scraping a dynamic webpage:\n",
    "\n",
    "- Scrape the content directly from the JavaScript\n",
    "- Scrape the website as we view it in our browser — using Python packages capable of executing the JavaScript."
   ]
  },
  {
   "cell_type": "markdown",
   "id": "fdf8e93b",
   "metadata": {},
   "source": [
    "### Selenium\n",
    "\n",
    "**Definition:** Selenium is an open source tool which is used for automating web browser testing. It allows us to write script in any known programming languages like Java, Python, C# etc. It works across all major OS and also works on all major web browsers. \n",
    "\n",
    "Selenium works by automating browsers to execute JavaScript to display a web page as we would normally interact with it. By doing so, we can scrape the web pages as we see it, even though their HTML source is not there!\n",
    "\n",
    "We will use selenium for data science purposes with two different approaches: \n",
    "\n",
    "- Collect data from dynamic websites (such as Youtube, Zillow, Toutiao, among others)\n",
    "\n",
    "- Interact with websites, and potentially conduct algorithmic studies of recommendations systems.  \n",
    "\n",
    "Since you already know the basics of html, we will jump straight to using selenium to scrap and interact with dynamic websites"
   ]
  },
  {
   "cell_type": "markdown",
   "id": "886c9c20",
   "metadata": {},
   "source": [
    "### Installing Selenium\n",
    "\n",
    "Setting up selenium on your environment can be a bit tricky. First, you need to install the selenium library in Python. Second, you need to download the selenium webdriver. It is a browser-dependent executable file that acts as a bridge between your script and the browser. \n",
    "\n",
    "See here instructions to set up your selenium environment: https://selenium-python.readthedocs.io/installation.html\n",
    "\n",
    "Most importantly, we can use the Web Driver Manager library in Python (https://pypi.org/project/webdriver-manager/) to help us set our selenium environment up. "
   ]
  },
  {
   "cell_type": "code",
   "execution_count": 2,
   "id": "6afd06c1",
   "metadata": {},
   "outputs": [],
   "source": [
    "# setup\n",
    "#!pip install selenium\n",
    "#!pip install webdriver-manager\n",
    "\n",
    "# open selenium from a path\n",
    "from selenium import webdriver\n",
    "from selenium.webdriver.chrome.service import Service as ChromeService\n",
    "from webdriver_manager.chrome import ChromeDriverManager\n",
    "from selenium.webdriver.common.by import By\n",
    "from selenium.webdriver.common.keys import Keys\n",
    "from selenium.webdriver.common.action_chains import ActionChains\n",
    "\n",
    "# import other packages\n",
    "import json\n",
    "import time\n",
    "import re\n",
    "from datetime import datetime, timedelta\n",
    "import pandas as pd\n",
    "import numpy as np"
   ]
  },
  {
   "cell_type": "code",
   "execution_count": 29,
   "id": "13fe4245",
   "metadata": {},
   "outputs": [],
   "source": [
    "# call driver\n",
    "from selenium.webdriver.chrome.options import Options\n",
    "options = Options()\n",
    "#options.add_argument('--headless')\n",
    "driver = webdriver.Chrome(service=ChromeService(ChromeDriverManager().install()),\n",
    "                                      options=options)"
   ]
  },
  {
   "cell_type": "code",
   "execution_count": 30,
   "id": "712e7fac",
   "metadata": {},
   "outputs": [],
   "source": [
    "driver.close()"
   ]
  },
  {
   "cell_type": "markdown",
   "id": "5254454f",
   "metadata": {},
   "source": [
    "### Scraping Data with Selenium\n",
    "\n",
    "To scrape data with selenium, our workflow will usually involve: \n",
    "\n",
    "- Navigate to a page using `.get()` method\n",
    "-  Define which elements we are interested in collecting. Elements are all things inside of html tags (`<> element </>`)\n",
    "- Find the htmls attributes or tags that identify these elements. For this task, we can use:\n",
    "    - [selector gadget tool](https://chrome.google.com/webstore/detail/selectorgadget/mhjhnkcfbdhnjickkkdbjoemdmbfginb)\n",
    "    - **inspect elements** in your preferred browser\n",
    "- Use the `find_element` methods to find an element based on its attributes/value criteria or selector value that we supply in our script. This is the basic structure of this method:\n",
    "   - `driver.find_element(By.<attribute>, <selector>)`\n",
    "\n",
    "The `find_element()` methods from the `driver` object receives two inputs: `By.<>` methods for the attributes/tags, and a string with the selector to identify the attributtes/tags. You can use the following attribute with the `By.` method:\n",
    "\n",
    "- `find_element(By.ID, \"id\")`\n",
    "- `find_element(By.NAME, \"name\")`\n",
    "- `find_element(By.XPATH, \"xpath\")`\n",
    "- `find_element(By.LINK_TEXT, \"link text\")`\n",
    "- `find_element(By.PARTIAL_LINK_TEXT, \"partial link text\")`\n",
    "- `find_element(By.TAG_NAME, \"tag name\")`\n",
    "- `find_element(By.CLASS_NAME, \"class name\")`\n",
    "- `find_element(By.CSS_SELECTOR, \"css selector\")`\n",
    "\n",
    "\n",
    "See the [selenium documentation page](https://selenium-python.readthedocs.io/locating-elements.html) for a in-depth coverage of the `find_element` and `By` methods\n"
   ]
  },
  {
   "cell_type": "markdown",
   "id": "131ef8b1",
   "metadata": {},
   "source": [
    "### Scraping a Brazilian Fact-Checking Agency\n",
    "\n",
    "We will start with an example of using Selenium to Scrape a Brazilian Fact-checking Agency. You do not need to know portuguese for this, just you your translator tool on google to understand what is going on. "
   ]
  },
  {
   "cell_type": "markdown",
   "id": "06ad8bfd",
   "metadata": {},
   "source": [
    "#### Step 1 : Create your web driver"
   ]
  },
  {
   "cell_type": "code",
   "execution_count": 31,
   "id": "6af67915",
   "metadata": {},
   "outputs": [],
   "source": [
    "# call driver\n",
    "from selenium.webdriver.chrome.options import Options\n",
    "options = Options()\n",
    "#options.add_argument('--headless')\n",
    "driver = webdriver.Chrome(service=ChromeService(ChromeDriverManager().install()),\n",
    "                                      options=options)"
   ]
  },
  {
   "cell_type": "code",
   "execution_count": 32,
   "id": "a9ec4923",
   "metadata": {},
   "outputs": [],
   "source": [
    "# close your driver\n",
    "driver.close()"
   ]
  },
  {
   "cell_type": "code",
   "execution_count": 33,
   "id": "e6bf4a1c",
   "metadata": {},
   "outputs": [],
   "source": [
    "from selenium import webdriver\n",
    "from selenium.webdriver.firefox.service import Service as FirefoxService\n",
    "from webdriver_manager.firefox import GeckoDriverManager\n",
    "\n",
    "driver = webdriver.Firefox(service=FirefoxService(GeckoDriverManager().install()))"
   ]
  },
  {
   "cell_type": "code",
   "execution_count": 34,
   "id": "6f6a3a6f",
   "metadata": {},
   "outputs": [],
   "source": [
    "driver.close()"
   ]
  },
  {
   "cell_type": "markdown",
   "id": "f60c621a",
   "metadata": {},
   "source": [
    "#### Step 2 : Navigate to your webpage of interest"
   ]
  },
  {
   "cell_type": "code",
   "execution_count": 3,
   "id": "fcbecdbd",
   "metadata": {},
   "outputs": [],
   "source": [
    "driver = webdriver.Chrome(service=ChromeService(ChromeDriverManager().install()))\n",
    "\n",
    "# send your driver to an website\n",
    "driver.get(\"https://lupa.uol.com.br/jornalismo/categoria/verifica%C3%A7%C3%A3o\")\n",
    "\n",
    "# put it to sleep a bit. Give some time to load\n",
    "time.sleep(15)"
   ]
  },
  {
   "cell_type": "markdown",
   "id": "77040701",
   "metadata": {},
   "source": [
    "#### Step 3: Collect the Data"
   ]
  },
  {
   "cell_type": "code",
   "execution_count": 4,
   "id": "7b3a26ef",
   "metadata": {},
   "outputs": [
    {
     "data": {
      "text/plain": [
       "<selenium.webdriver.remote.webelement.WebElement (session=\"61894a258c4638ecd555aaa64083d6ee\", element=\"f.D376324F450BDAC526CF5AD014BF64A4.d.87CF878EE9E65BEECB53E8707623C5EC.e.60\")>"
      ]
     },
     "execution_count": 4,
     "metadata": {},
     "output_type": "execute_result"
    }
   ],
   "source": [
    "title = driver.find_elements(By.CSS_SELECTOR,\".eRlKZk\")\n",
    "title[0]"
   ]
  },
  {
   "cell_type": "markdown",
   "id": "8e3284ea",
   "metadata": {},
   "source": [
    "Notice the output is a `selenium.webdriver.remote.webelement.WebElement`. This is an `WebElement` class. It symbolizes an HTML element within an HTML document, and similarly to `BeautifulSoup`, it provides us with methods to interact with the html element\n",
    "\n",
    "See a full descriptions of the `WebElements` methods in this tutorial: https://www.geeksforgeeks.org/element-methods-in-selenium-python/"
   ]
  },
  {
   "cell_type": "code",
   "execution_count": 5,
   "id": "97d0cb50",
   "metadata": {},
   "outputs": [
    {
     "data": {
      "text/plain": [
       "'<div size=\"12\" class=\"sc-hLBbgP eRlKZk\"><span class=\"sc-eDvSVe hAIjQn\">Voos de repatriados do Oriente Médio incluem homens, mulheres e crianças</span></div>'"
      ]
     },
     "execution_count": 5,
     "metadata": {},
     "output_type": "execute_result"
    }
   ],
   "source": [
    "# see the outer HTML\n",
    "title[0].get_attribute('outerHTML')"
   ]
  },
  {
   "cell_type": "code",
   "execution_count": 6,
   "id": "78d4985c",
   "metadata": {},
   "outputs": [
    {
     "data": {
      "text/plain": [
       "'Voos de repatriados do Oriente Médio incluem homens, mulheres e crianças'"
      ]
     },
     "execution_count": 6,
     "metadata": {},
     "output_type": "execute_result"
    }
   ],
   "source": [
    "# Get the text\n",
    "title[0].text"
   ]
  },
  {
   "cell_type": "code",
   "execution_count": 7,
   "id": "b3897d28",
   "metadata": {
    "scrolled": true
   },
   "outputs": [
    {
     "data": {
      "text/html": [
       "<div>\n",
       "<style scoped>\n",
       "    .dataframe tbody tr th:only-of-type {\n",
       "        vertical-align: middle;\n",
       "    }\n",
       "\n",
       "    .dataframe tbody tr th {\n",
       "        vertical-align: top;\n",
       "    }\n",
       "\n",
       "    .dataframe thead th {\n",
       "        text-align: right;\n",
       "    }\n",
       "</style>\n",
       "<table border=\"1\" class=\"dataframe\">\n",
       "  <thead>\n",
       "    <tr style=\"text-align: right;\">\n",
       "      <th></th>\n",
       "      <th>title</th>\n",
       "    </tr>\n",
       "  </thead>\n",
       "  <tbody>\n",
       "    <tr>\n",
       "      <th>0</th>\n",
       "      <td>Voos de repatriados do Oriente Médio incluem h...</td>\n",
       "    </tr>\n",
       "    <tr>\n",
       "      <th>1</th>\n",
       "      <td>Médico que teria descoberto cura para fungos n...</td>\n",
       "    </tr>\n",
       "    <tr>\n",
       "      <th>2</th>\n",
       "      <td>É falso que urnas de Kentucky estejam trocando...</td>\n",
       "    </tr>\n",
       "    <tr>\n",
       "      <th>3</th>\n",
       "      <td>Post engana ao dizer que Lula não feriu a cabe...</td>\n",
       "    </tr>\n",
       "    <tr>\n",
       "      <th>4</th>\n",
       "      <td>Jornais não ocultaram tatuagem de Lula em caso...</td>\n",
       "    </tr>\n",
       "  </tbody>\n",
       "</table>\n",
       "</div>"
      ],
      "text/plain": [
       "                                               title\n",
       "0  Voos de repatriados do Oriente Médio incluem h...\n",
       "1  Médico que teria descoberto cura para fungos n...\n",
       "2  É falso que urnas de Kentucky estejam trocando...\n",
       "3  Post engana ao dizer que Lula não feriu a cabe...\n",
       "4  Jornais não ocultaram tatuagem de Lula em caso..."
      ]
     },
     "execution_count": 7,
     "metadata": {},
     "output_type": "execute_result"
    }
   ],
   "source": [
    "# list comprehension for all cases\n",
    "dict_ = {\"title\":[t.text for t in title]}\n",
    "df = pd.DataFrame(dict_)\n",
    "df.head()"
   ]
  },
  {
   "cell_type": "markdown",
   "id": "30143da0",
   "metadata": {},
   "source": [
    "Let's now write a full function to collect all the content we are are interested in. "
   ]
  },
  {
   "cell_type": "code",
   "execution_count": 8,
   "id": "e80382ad",
   "metadata": {},
   "outputs": [],
   "source": [
    "# function to scrap\n",
    "def scrap_lupa(driver):\n",
    "  \"\"\"\n",
    "  function to scrap the lupa headlines\n",
    "  input:\n",
    "    driver: selenium driver\n",
    "  \"\"\"    \n",
    "  time.sleep(15)\n",
    "  # collect data\n",
    "  try:\n",
    "    title = driver.find_elements(By.CSS_SELECTOR,\".eRlKZk\")\n",
    "  except:\n",
    "    title= \"\"\n",
    "  \n",
    "  #text  \n",
    "  try:  \n",
    "    text = driver.find_elements('css selector',\"#init p:nth-child(1)\")\n",
    "  except:\n",
    "    text=\"\"\n",
    "  \n",
    "  #date\n",
    "  try:  \n",
    "    date = driver.find_elements('css selector', '.cuaKEv .kTcxJC')\n",
    "  except:\n",
    "    date = \"\"\n",
    "  \n",
    "  # url\n",
    "  try:\n",
    "    url = driver.find_elements('xpath','//*[@id=\"init\"]/div/div/div[2]/div/div/div/div/div[1]/div/div[2]/div/a')\n",
    "  except:\n",
    "    url= \"\"\n",
    "  \n",
    "  \n",
    "  # get information  \n",
    "  dict_ = {\"title\":[t.text for t in title], \n",
    "            \"text\":[t.text for t in title], \n",
    "             \"date\":[b.text for b in date], \n",
    "             \"url\":[u.get_attribute('href')for u in url]}\n",
    "  \n",
    "  # make dataframe\n",
    "  df = pd.DataFrame(dict_)\n",
    "  \n",
    "  return(df)"
   ]
  },
  {
   "cell_type": "code",
   "execution_count": 9,
   "id": "6102a5ec",
   "metadata": {},
   "outputs": [
    {
     "data": {
      "text/html": [
       "<div>\n",
       "<style scoped>\n",
       "    .dataframe tbody tr th:only-of-type {\n",
       "        vertical-align: middle;\n",
       "    }\n",
       "\n",
       "    .dataframe tbody tr th {\n",
       "        vertical-align: top;\n",
       "    }\n",
       "\n",
       "    .dataframe thead th {\n",
       "        text-align: right;\n",
       "    }\n",
       "</style>\n",
       "<table border=\"1\" class=\"dataframe\">\n",
       "  <thead>\n",
       "    <tr style=\"text-align: right;\">\n",
       "      <th></th>\n",
       "      <th>title</th>\n",
       "      <th>text</th>\n",
       "      <th>date</th>\n",
       "      <th>url</th>\n",
       "    </tr>\n",
       "  </thead>\n",
       "  <tbody>\n",
       "    <tr>\n",
       "      <th>0</th>\n",
       "      <td>Voos de repatriados do Oriente Médio incluem h...</td>\n",
       "      <td>Voos de repatriados do Oriente Médio incluem h...</td>\n",
       "      <td>04.11.2024 - 11h02</td>\n",
       "      <td>https://lupa.uol.com.br/jornalismo/2024/11/04/...</td>\n",
       "    </tr>\n",
       "    <tr>\n",
       "      <th>1</th>\n",
       "      <td>Médico que teria descoberto cura para fungos n...</td>\n",
       "      <td>Médico que teria descoberto cura para fungos n...</td>\n",
       "      <td>01.11.2024 - 20h34</td>\n",
       "      <td>https://lupa.uol.com.br/jornalismo/2024/11/01/...</td>\n",
       "    </tr>\n",
       "    <tr>\n",
       "      <th>2</th>\n",
       "      <td>É falso que urnas de Kentucky estejam trocando...</td>\n",
       "      <td>É falso que urnas de Kentucky estejam trocando...</td>\n",
       "      <td>01.11.2024 - 18h58</td>\n",
       "      <td>https://lupa.uol.com.br/jornalismo/2024/11/01/...</td>\n",
       "    </tr>\n",
       "    <tr>\n",
       "      <th>3</th>\n",
       "      <td>Post engana ao dizer que Lula não feriu a cabe...</td>\n",
       "      <td>Post engana ao dizer que Lula não feriu a cabe...</td>\n",
       "      <td>01.11.2024 - 18h35</td>\n",
       "      <td>https://lupa.uol.com.br/jornalismo/2024/11/01/...</td>\n",
       "    </tr>\n",
       "    <tr>\n",
       "      <th>4</th>\n",
       "      <td>Jornais não ocultaram tatuagem de Lula em caso...</td>\n",
       "      <td>Jornais não ocultaram tatuagem de Lula em caso...</td>\n",
       "      <td>01.11.2024 - 17h54</td>\n",
       "      <td>https://lupa.uol.com.br/jornalismo/2024/11/01/...</td>\n",
       "    </tr>\n",
       "  </tbody>\n",
       "</table>\n",
       "</div>"
      ],
      "text/plain": [
       "                                               title  \\\n",
       "0  Voos de repatriados do Oriente Médio incluem h...   \n",
       "1  Médico que teria descoberto cura para fungos n...   \n",
       "2  É falso que urnas de Kentucky estejam trocando...   \n",
       "3  Post engana ao dizer que Lula não feriu a cabe...   \n",
       "4  Jornais não ocultaram tatuagem de Lula em caso...   \n",
       "\n",
       "                                                text                date  \\\n",
       "0  Voos de repatriados do Oriente Médio incluem h...  04.11.2024 - 11h02   \n",
       "1  Médico que teria descoberto cura para fungos n...  01.11.2024 - 20h34   \n",
       "2  É falso que urnas de Kentucky estejam trocando...  01.11.2024 - 18h58   \n",
       "3  Post engana ao dizer que Lula não feriu a cabe...  01.11.2024 - 18h35   \n",
       "4  Jornais não ocultaram tatuagem de Lula em caso...  01.11.2024 - 17h54   \n",
       "\n",
       "                                                 url  \n",
       "0  https://lupa.uol.com.br/jornalismo/2024/11/04/...  \n",
       "1  https://lupa.uol.com.br/jornalismo/2024/11/01/...  \n",
       "2  https://lupa.uol.com.br/jornalismo/2024/11/01/...  \n",
       "3  https://lupa.uol.com.br/jornalismo/2024/11/01/...  \n",
       "4  https://lupa.uol.com.br/jornalismo/2024/11/01/...  "
      ]
     },
     "execution_count": 9,
     "metadata": {},
     "output_type": "execute_result"
    }
   ],
   "source": [
    "# run the function\n",
    "df = scrap_lupa(driver)\n",
    "\n",
    "# see outputs\n",
    "df.head()"
   ]
  },
  {
   "cell_type": "code",
   "execution_count": 11,
   "id": "aa2e44ca",
   "metadata": {},
   "outputs": [
    {
     "data": {
      "text/plain": [
       "(30, 4)"
      ]
     },
     "execution_count": 11,
     "metadata": {},
     "output_type": "execute_result"
    }
   ],
   "source": [
    "df.shape"
   ]
  },
  {
   "cell_type": "code",
   "execution_count": 14,
   "id": "6ba5d82f",
   "metadata": {},
   "outputs": [],
   "source": [
    "#driver.close()"
   ]
  },
  {
   "cell_type": "markdown",
   "id": "821dcabd",
   "metadata": {},
   "source": [
    "### Interacting with the Webpage\n",
    "\n",
    "More than a scraping tool, selenium provides us with a complete API to interact with webpages and mimic user behavior online. Let's see here some examples of this. \n",
    "\n",
    "#### Scroling Down + Clicking\n",
    "\n",
    "When an element is on screen it means that it is embedded in the DOM structure of the web page. Therefore, we can find its DOM structure when inspecting a web page. If the element we act upon is not in the DOM structure, then we will see some kind of error message.\n",
    "\n",
    "In the previous example, you could see we only collected 30 links. However, the website allowed us at the bottom of the page to load more news. We can do that by scrolling down to the bottom of the website, and ask selenium to click in a particular button. \n",
    "\n",
    "Let's see how it works. \n"
   ]
  },
  {
   "cell_type": "code",
   "execution_count": 13,
   "id": "2cc5f2fb",
   "metadata": {},
   "outputs": [],
   "source": [
    "# call some more methods here\n",
    "from selenium.webdriver.common.by import By\n",
    "from selenium.webdriver.support.ui import WebDriverWait\n",
    "from selenium.webdriver.support import expected_conditions as EC\n",
    "\n",
    "# function to load more data\n",
    "def load_more_headlines(driver, n):\n",
    "    \"\"\"\n",
    "      function to load more pages in the lupa website\n",
    "    \"\"\"\n",
    "  \n",
    "  # first iteration you actually need to click on load more\n",
    "    driver.execute_script(\"window.scrollTo(0, document.body.scrollHeight);\")\n",
    "    driver.execute_script(\"window.scrollBy(0, -200);\")\n",
    "    \n",
    "  # find element\n",
    "    element = driver.find_element(By.CSS_SELECTOR,'.bGDmDu') \n",
    "    element.click()\n",
    "\n",
    "    # keep scrolling down\n",
    "\n",
    "    for i in range(0,n):\n",
    "        try:\n",
    "      # goes down on the webpage  \n",
    "            driver.execute_script(\"window.scrollTo(0, document.body.scrollHeight);\")\n",
    "            driver.execute_script(\"window.scrollBy(0, -200);\")\n",
    "    \n",
    "      # sleep  \n",
    "            time.sleep(5)\n",
    "            print(f\"Click to upload more Headlines: {str(i)}\")\n",
    "        except:\n",
    "            print(\"something wrong\")"
   ]
  },
  {
   "cell_type": "code",
   "execution_count": 19,
   "id": "704df4b1",
   "metadata": {},
   "outputs": [],
   "source": [
    "# let's see how it works\n",
    "#options.add_argument('--headless=new')\n",
    "from selenium.webdriver.chrome.options import Options\n",
    "options = Options()\n",
    "options.add_argument(\"window-size=1920,1080\")\n",
    "\n",
    "# create a new driver\n",
    "#driver = webdriver.Firefox(service=FirefoxService(GeckoDriverManager().install()))\n",
    "driver = webdriver.Chrome(service=ChromeService(ChromeDriverManager().install()), \n",
    "                                       options=options)"
   ]
  },
  {
   "cell_type": "markdown",
   "id": "a4c72e0b",
   "metadata": {},
   "source": [
    "See where the driver is ...."
   ]
  },
  {
   "cell_type": "code",
   "execution_count": null,
   "id": "297f019b",
   "metadata": {},
   "outputs": [],
   "source": []
  },
  {
   "cell_type": "code",
   "execution_count": 20,
   "id": "94b7a1b7",
   "metadata": {},
   "outputs": [],
   "source": [
    "# go to lupa\n",
    "driver.get(\"https://lupa.uol.com.br/jornalismo/categoria/verifica%C3%A7%C3%A3o\")"
   ]
  },
  {
   "cell_type": "code",
   "execution_count": 21,
   "id": "b558e90f",
   "metadata": {},
   "outputs": [
    {
     "name": "stdout",
     "output_type": "stream",
     "text": [
      "Click to upload more Headlines: 0\n",
      "Click to upload more Headlines: 1\n",
      "Click to upload more Headlines: 2\n",
      "Click to upload more Headlines: 3\n",
      "Click to upload more Headlines: 4\n"
     ]
    }
   ],
   "source": [
    "# load more pages\n",
    "load_more_headlines(driver, 5)"
   ]
  },
  {
   "cell_type": "code",
   "execution_count": 22,
   "id": "ce8ed9df",
   "metadata": {},
   "outputs": [],
   "source": [
    "# collect data\n",
    "df = scrap_lupa(driver)"
   ]
  },
  {
   "cell_type": "code",
   "execution_count": 23,
   "id": "c2b77c9c",
   "metadata": {},
   "outputs": [
    {
     "name": "stdout",
     "output_type": "stream",
     "text": [
      "(180, 4)\n"
     ]
    },
    {
     "data": {
      "text/html": [
       "<div>\n",
       "<style scoped>\n",
       "    .dataframe tbody tr th:only-of-type {\n",
       "        vertical-align: middle;\n",
       "    }\n",
       "\n",
       "    .dataframe tbody tr th {\n",
       "        vertical-align: top;\n",
       "    }\n",
       "\n",
       "    .dataframe thead th {\n",
       "        text-align: right;\n",
       "    }\n",
       "</style>\n",
       "<table border=\"1\" class=\"dataframe\">\n",
       "  <thead>\n",
       "    <tr style=\"text-align: right;\">\n",
       "      <th></th>\n",
       "      <th>title</th>\n",
       "      <th>text</th>\n",
       "      <th>date</th>\n",
       "      <th>url</th>\n",
       "    </tr>\n",
       "  </thead>\n",
       "  <tbody>\n",
       "    <tr>\n",
       "      <th>175</th>\n",
       "      <td>É falso que lei na Espanha proibiu venda de te...</td>\n",
       "      <td>É falso que lei na Espanha proibiu venda de te...</td>\n",
       "      <td>02.09.2024 - 17h52</td>\n",
       "      <td>https://lupa.uol.com.br/jornalismo/2024/09/02/...</td>\n",
       "    </tr>\n",
       "    <tr>\n",
       "      <th>176</th>\n",
       "      <td>Vídeo de Lula e Alexandre de Moraes se beijand...</td>\n",
       "      <td>Vídeo de Lula e Alexandre de Moraes se beijand...</td>\n",
       "      <td>02.09.2024 - 16h31</td>\n",
       "      <td>https://lupa.uol.com.br/jornalismo/2024/09/02/...</td>\n",
       "    </tr>\n",
       "    <tr>\n",
       "      <th>177</th>\n",
       "      <td>Ramal do Apodi (RN) segue em obras; entrega es...</td>\n",
       "      <td>Ramal do Apodi (RN) segue em obras; entrega es...</td>\n",
       "      <td>02.09.2024 - 15h00</td>\n",
       "      <td>https://lupa.uol.com.br/jornalismo/2024/09/02/...</td>\n",
       "    </tr>\n",
       "    <tr>\n",
       "      <th>178</th>\n",
       "      <td>Padre Marcelo Rossi não divulgou plataforma de...</td>\n",
       "      <td>Padre Marcelo Rossi não divulgou plataforma de...</td>\n",
       "      <td>02.09.2024 - 14h00</td>\n",
       "      <td>https://lupa.uol.com.br/jornalismo/2024/09/02/...</td>\n",
       "    </tr>\n",
       "    <tr>\n",
       "      <th>179</th>\n",
       "      <td>É falsa mensagem atribuída a Arthur Lira sobre...</td>\n",
       "      <td>É falsa mensagem atribuída a Arthur Lira sobre...</td>\n",
       "      <td>02.09.2024 - 14h00</td>\n",
       "      <td>https://lupa.uol.com.br/jornalismo/2024/09/02/...</td>\n",
       "    </tr>\n",
       "  </tbody>\n",
       "</table>\n",
       "</div>"
      ],
      "text/plain": [
       "                                                 title  \\\n",
       "175  É falso que lei na Espanha proibiu venda de te...   \n",
       "176  Vídeo de Lula e Alexandre de Moraes se beijand...   \n",
       "177  Ramal do Apodi (RN) segue em obras; entrega es...   \n",
       "178  Padre Marcelo Rossi não divulgou plataforma de...   \n",
       "179  É falsa mensagem atribuída a Arthur Lira sobre...   \n",
       "\n",
       "                                                  text                date  \\\n",
       "175  É falso que lei na Espanha proibiu venda de te...  02.09.2024 - 17h52   \n",
       "176  Vídeo de Lula e Alexandre de Moraes se beijand...  02.09.2024 - 16h31   \n",
       "177  Ramal do Apodi (RN) segue em obras; entrega es...  02.09.2024 - 15h00   \n",
       "178  Padre Marcelo Rossi não divulgou plataforma de...  02.09.2024 - 14h00   \n",
       "179  É falsa mensagem atribuída a Arthur Lira sobre...  02.09.2024 - 14h00   \n",
       "\n",
       "                                                   url  \n",
       "175  https://lupa.uol.com.br/jornalismo/2024/09/02/...  \n",
       "176  https://lupa.uol.com.br/jornalismo/2024/09/02/...  \n",
       "177  https://lupa.uol.com.br/jornalismo/2024/09/02/...  \n",
       "178  https://lupa.uol.com.br/jornalismo/2024/09/02/...  \n",
       "179  https://lupa.uol.com.br/jornalismo/2024/09/02/...  "
      ]
     },
     "execution_count": 23,
     "metadata": {},
     "output_type": "execute_result"
    }
   ],
   "source": [
    "# see outputs\n",
    "print(df.shape)\n",
    "\n",
    "# bottom\n",
    "df.tail()"
   ]
  },
  {
   "cell_type": "code",
   "execution_count": 21,
   "id": "227dd464",
   "metadata": {},
   "outputs": [],
   "source": [
    "driver.close()"
   ]
  },
  {
   "cell_type": "markdown",
   "id": "679e778d",
   "metadata": {},
   "source": [
    "#### Inputing Text\n",
    "\n",
    "Another useful functionality of selenium is to allow us to input text on webforms. Let's see a toy example with google: "
   ]
  },
  {
   "cell_type": "code",
   "execution_count": 24,
   "id": "409454c8",
   "metadata": {},
   "outputs": [],
   "source": [
    "# create a new driver\n",
    "driver = webdriver.Chrome(service=ChromeService(ChromeDriverManager().install()))"
   ]
  },
  {
   "cell_type": "code",
   "execution_count": 31,
   "id": "c7c954e7",
   "metadata": {},
   "outputs": [],
   "source": [
    "# go to google\n",
    "driver.get(\"https://www.google.com/\")"
   ]
  },
  {
   "cell_type": "code",
   "execution_count": 32,
   "id": "60353d5a",
   "metadata": {},
   "outputs": [],
   "source": [
    "# get all the searches for Data Science and Public Policy\n",
    "input_ = driver.find_element(By.CSS_SELECTOR, \"#APjFqb\")"
   ]
  },
  {
   "cell_type": "code",
   "execution_count": 30,
   "id": "c31f7193",
   "metadata": {},
   "outputs": [],
   "source": [
    "# send text\n",
    "input_.send_keys(\"Data Science and Public Policy\")\n",
    "\n",
    "# click\n",
    "input_.send_keys(Keys.ENTER)\n"
   ]
  },
  {
   "cell_type": "code",
   "execution_count": 33,
   "id": "d3dec188",
   "metadata": {},
   "outputs": [],
   "source": [
    "input_.send_keys(\"Who is going to win the election? Check 538 predictive model\")\n"
   ]
  },
  {
   "cell_type": "code",
   "execution_count": 34,
   "id": "21382833",
   "metadata": {},
   "outputs": [],
   "source": [
    "input_.send_keys(Keys.ENTER)\n"
   ]
  },
  {
   "cell_type": "code",
   "execution_count": 150,
   "id": "18f691b9",
   "metadata": {},
   "outputs": [
    {
     "name": "stdout",
     "output_type": "stream",
     "text": [
      "Requirement already satisfied: screenshot in /Users/tb186/anaconda3/lib/python3.11/site-packages (1.0.0)\n",
      "Requirement already satisfied: click in /Users/tb186/anaconda3/lib/python3.11/site-packages (from screenshot) (8.0.4)\n",
      "Requirement already satisfied: pyobjc-framework-Quartz in /Users/tb186/anaconda3/lib/python3.11/site-packages (from screenshot) (10.0)\n",
      "Requirement already satisfied: pyobjc-core>=10.0 in /Users/tb186/anaconda3/lib/python3.11/site-packages (from pyobjc-framework-Quartz->screenshot) (10.0)\n",
      "Requirement already satisfied: pyobjc-framework-Cocoa>=10.0 in /Users/tb186/anaconda3/lib/python3.11/site-packages (from pyobjc-framework-Quartz->screenshot) (10.0)\n"
     ]
    }
   ],
   "source": [
    "#!pip install screenshot\n"
   ]
  },
  {
   "cell_type": "code",
   "execution_count": 35,
   "id": "9580a25e",
   "metadata": {},
   "outputs": [],
   "source": [
    "# see\n",
    "from PIL import Image\n",
    "import matplotlib.pyplot as plt"
   ]
  },
  {
   "cell_type": "code",
   "execution_count": 36,
   "id": "6bbdf96e",
   "metadata": {
    "scrolled": true
   },
   "outputs": [
    {
     "data": {
      "text/plain": [
       "<matplotlib.image.AxesImage at 0x295e13410>"
      ]
     },
     "execution_count": 36,
     "metadata": {},
     "output_type": "execute_result"
    },
    {
     "data": {
      "image/png": "[encoded data removed]",
      "text/plain": [
       "<Figure size 640x480 with 1 Axes>"
      ]
     },
     "metadata": {},
     "output_type": "display_data"
    }
   ],
   "source": [
    "# screenshot\n",
    "driver.save_screenshot(\"google.png\")\n",
    "img = Image.open('google.png')\n",
    "plt.imshow(img)"
   ]
  },
  {
   "cell_type": "markdown",
   "id": "17660fd4",
   "metadata": {},
   "source": [
    "### Practice: Understanding Chinese Social Media Recommendation Systems\n",
    "\n",
    "One of my research projects focuses on understanding social media recommendation systems in China. The project focuses on when and how digital platform recommendation systems in China promote certain types content. To do so, we investigate the news aggregator in China called Toutiao, and we are currently scraping data from toutiao to answer our research question. \n",
    "\n",
    "Selenium is the main tool we are working with. With selenium we do the following: \n",
    "\n",
    "- Create a few sock puppets from selenium, which are basically a bunch of headless browsers in selenium \n",
    "- Direct these account to read different articles on Toutiao\n",
    "- Investigate if reading more article of content X leads to more or less recommendations from accounts from the topic X.\n",
    "- Collect data from reccomendations\n",
    "\n",
    "This is a super complex research question. Creating sock puppets is particularly challenging. However, with the class you had today, you could understand the collecting data step. \n",
    "\n",
    "Below, you will see the class I created to collect data from toutiao. Your in-class/additional exercise is to work through the code, and try to use it to collect content from at least one page in toutiao. \n",
    "\n",
    "Let me know how it goes!"
   ]
  },
  {
   "cell_type": "code",
   "execution_count": 120,
   "id": "e692ae20",
   "metadata": {},
   "outputs": [],
   "source": [
    "#import libraries from selenium\n",
    "from selenium import webdriver\n",
    "from selenium.webdriver.common.by import By\n",
    "from selenium.webdriver.support.ui import WebDriverWait # available since 2.4.0\n",
    "from selenium.webdriver.support import expected_conditions as EC\n",
    "from selenium.webdriver import ActionChains\n",
    "from selenium.webdriver.chrome.options import Options\n",
    "from selenium.webdriver.chrome.service import Service as ChromeService\n",
    "from webdriver_manager.chrome import ChromeDriverManager\n",
    "\n",
    "# import other libraries\n",
    "import time\n",
    "import string\n",
    "import pandas as pd\n",
    "import numpy as np"
   ]
  },
  {
   "cell_type": "code",
   "execution_count": 121,
   "id": "47cbe953",
   "metadata": {},
   "outputs": [],
   "source": [
    "# utils functions\n",
    "def sleep_random_time(range_):\n",
    "    '''\n",
    "    :param range_: a tuple of the range of wait times\n",
    "    ex: (0,30) would randomly sleep between 0 and 30 seconds\n",
    "    '''\n",
    "    if isinstance(range_, int):\n",
    "        time.sleep(np.random.choice(range(range_)))\n",
    "    elif isinstance(range_, tuple):\n",
    "        min_time, max_time = range_\n",
    "        if isinstance(min_time, float):\n",
    "            min_time = int(math.ceil(min_time))\n",
    "        if isinstance(max_time, float):\n",
    "            max_time = int(math.floor(max_time))\n",
    "\n",
    "        time.sleep(np.random.choice(range(min_time, max_time)))"
   ]
  },
  {
   "cell_type": "code",
   "execution_count": 37,
   "id": "145e9e94",
   "metadata": {},
   "outputs": [],
   "source": [
    "# create a class\n",
    "class ToutiaoBot():\n",
    "    '''\n",
    "    Returns a Bot to interact with the Toutiao Webpage\n",
    "    \n",
    "        :param \n",
    "            headless (bool): True spins up a headless browser. Default equals to False.  \n",
    "    '''\n",
    "    # create instance attributes -----------------\n",
    "\n",
    "    def __init__(self, headless=False):\n",
    "        if headless==True:\n",
    "            options = Options()\n",
    "            \n",
    "            # HEADLESS OPTIONS\n",
    "            options.add_argument('--headless=new')\n",
    "            options.add_argument(\"window-size=1920,1080\")\n",
    "            self.driver = webdriver.Chrome(service=ChromeService(ChromeDriverManager().install()), \n",
    "                                      options=options)\n",
    "                \n",
    "            # bypass OS security\n",
    "            options.add_argument('--no-sandbox')\n",
    "            # overcome limited resources\n",
    "            options.add_argument('--disable-dev-shm-usage')\n",
    "            # don't tell chrome that it is automated\n",
    "            options.add_experimental_option(\"excludeSwitches\", [\"enable-automation\"])\n",
    "            options.add_experimental_option('useAutomationExtension', False)\n",
    "            # disable images\n",
    "            prefs = {\"profile.managed_default_content_settings.images\": 2}\n",
    "            options.add_experimental_option(\"prefs\", prefs)\n",
    "\n",
    "            # Setting Capabilities\n",
    "            capabilities = webdriver.DesiredCapabilities.CHROME.copy()\n",
    "            capabilities['acceptSslCerts'] = True\n",
    "            capabilities['acceptInsecureCerts'] = True\n",
    "\n",
    "            self.driver = webdriver.Chrome(service=ChromeService(ChromeDriverManager().install()), \n",
    "                                      options=options)\n",
    "        else:\n",
    "            self.driver = webdriver.Chrome(service=ChromeService(ChromeDriverManager().install()))\n",
    "    \n",
    "    # method to close the bot -----------------------------\n",
    "        \n",
    "    def close(self):\n",
    "        '''\n",
    "        close the bot\n",
    "        '''\n",
    "        self.driver.close()\n",
    "    \n",
    "    # method to visit the home feed -----------------------------\n",
    "\n",
    "    def go_home_feed(self):\n",
    "        '''\n",
    "        Sends the bot to the main toutiao homepage\n",
    "        '''\n",
    "        url = \"https://www.toutiao.com/\"\n",
    "        # go to home toutia\n",
    "        self.driver.get(url)\n",
    "        # add some wait time\n",
    "        self.element = WebDriverWait(self.driver, 10).until(\n",
    "            EC.element_to_be_clickable((By.XPATH, '//*[@id=\"root\"]/div/div[5]/div[2]/div[1]/div/a')))\n",
    "    \n",
    "    \n",
    "    # method to open a article -----------------\n",
    "    \n",
    "    def go_article(self, article_url, time_read):\n",
    "        '''\n",
    "        sends the bot to a seed article\n",
    "            :param \n",
    "                article_url: str, string wiht the full url for the article\n",
    "                time_read: int, time to spend \"reading\" the article\n",
    "        '''\n",
    "        # go to seed vide\n",
    "        self.driver.get(article_url)\n",
    "        \n",
    "        # add some wait time\n",
    "        #self.element = WebDriverWait(self.driver, 10).until(EC.element_to_be_clickable((By.CSS_SELECTOR, \n",
    "         #                                                                               '.media-info .user-info')))\n",
    "        \n",
    "        # time to stay in the article\n",
    "        time.sleep(time_read)\n",
    "            \n",
    "    \n",
    "    # method to collect articles metadata. -------------------------------\n",
    "    \n",
    "    def collect_metadata_article(self, article_url, time_read):\n",
    "        '''\n",
    "        sends the bot to a see article and collects the url metadata\n",
    "            :param \n",
    "                article_url: str, string wiht the full url for the article\n",
    "                time_read: int, time to spend \"reading\" the article\n",
    "\n",
    "        '''\n",
    "        \n",
    "        # navigate to the article\n",
    "        self.go_article(article_url, time_read)\n",
    "            \n",
    "        \n",
    "        # create a dictionary\n",
    "        collector = dict()\n",
    "        collector[\"video_url\"] = article_url\n",
    "        \n",
    "        # scrape article information\n",
    "        \n",
    "        # author info\n",
    "        try: \n",
    "            author_info = self.driver.find_element(By.CSS_SELECTOR, \".media-info .user-info\")\n",
    "            author_info_ = author_info.text.split(\"\\n\")\n",
    "            collector[\"author_info_abbrv\"] = author_info_[0]\n",
    "            collector[\"author_info_full_name\"] = author_info_[1]\n",
    "        except:\n",
    "            collector[\"author_info_abbrv\"] = \"\"\n",
    "            collector[\"author_info_full_name\"] = \"\"\n",
    "        # link to author\n",
    "        try: \n",
    "            collector[\"author_link\"] = author_info.find_element(By.CLASS_NAME, \"user-avatar\").get_attribute(\"href\")\n",
    "        except:\n",
    "            collector[\"author_link\"] = \"\"\n",
    "        # title\n",
    "        try:\n",
    "            title = self.driver.find_element(By.CLASS_NAME, \"article-content h1\")\n",
    "            collector[\"title\"] = title.text\n",
    "        except:\n",
    "            collector[\"title\"] =\"\"\n",
    "        # text\n",
    "        try:\n",
    "            text_boxes= self.driver.find_elements(By.CSS_SELECTOR, 'p[data-track]')\n",
    "            collector[\"text\"] = \" \".join([t.text for t in text_boxes])\n",
    "        except:\n",
    "            collector[\"text\"] = \"\"\n",
    "        # reactions\n",
    "        try:\n",
    "            likes = self.driver.find_element(By.CLASS_NAME, \"detail-like\")\n",
    "            comments = self.driver.find_element(By.CLASS_NAME, \"detail-interaction-comment\")\n",
    "            collector[\"likes\"] = likes.text\n",
    "            collector[\"n_comments\"] = comments.text\n",
    "        except:\n",
    "            collector[\"likes\"] = \"\"\n",
    "            collector[\"n_comments\"] = \"\"  \n",
    "        # add time of the publication\n",
    "        try:\n",
    "            time_= self.driver.find_element(By.CSS_SELECTOR, '.original-tag+ span')\n",
    "            collector[\"time\"] = time_.text\n",
    "        except:\n",
    "            collector[\"time\"] = \"\"\n",
    "\n",
    "        # return\n",
    "        return collector\n",
    "    \n",
    "    \n",
    "    ### method to collect related articles --------------------------------\n",
    "    \n",
    "    def collect_related_articles(self, article_url, time_read):\n",
    "        '''\n",
    "        sends the bot to a see article and collects the related articles reccomended from the same author\n",
    "            :param \n",
    "                article_url: str, string wiht the full url for the article\n",
    "                time_read: int, time to spend \"reading\" the article\n",
    "\n",
    "        '''\n",
    "\n",
    "        \n",
    "        # navigate to the article\n",
    "        self.go_article(article_url, time_read)\n",
    "            \n",
    "        \n",
    "        # create a dictionary\n",
    "        collector = dict()\n",
    "        collector[\"video_url\"] = article_url\n",
    "        \n",
    "        # collect related article\n",
    "        try:\n",
    "            related = self.driver.find_elements(By.CSS_SELECTOR, \".related-list-item\")\n",
    "            collector[\"link_related\"]=[r.find_element(By.TAG_NAME, \"a\").get_attribute(\"href\") for r in related]\n",
    "            collector[\"text_related\"] = [r.find_element(By.CLASS_NAME, \"title\").text for r in related]\n",
    "        except: \n",
    "            collector[\"link_related\"] =\"\"\n",
    "            collector[\"text_related\"] =\"\"\n",
    "            \n",
    "        return collector\n",
    "\n",
    "    ### method to collect hot topics from a article --------------------------------\n",
    "    \n",
    "    def collect_hot_topic_from_article(self, article_url, time_read):\n",
    "        '''\n",
    "        sends the bot to a see article and collects the hot topics reccomended in the articles page\n",
    "            :param \n",
    "                article_url: str, string wiht the full url for the article\n",
    "                time_read: int, time to spend \"reading\" the article\n",
    "\n",
    "        '''\n",
    "\n",
    "        \n",
    "        # navigate to the article\n",
    "        self.go_article(article_url, time_read)\n",
    "            \n",
    "        \n",
    "        # create a dictionary\n",
    "        collector = dict()\n",
    "        collector[\"video_url\"] = article_url\n",
    "        \n",
    "        # collect related article\n",
    "        try:\n",
    "            related = self.driver.find_elements(By.CSS_SELECTOR, \".article-item\")\n",
    "            collector[\"link_hot_topic\"]=[r.get_attribute(\"href\") for r in related]\n",
    "            collector[\"text_hot_topic\"] = [r.get_attribute(\"aria-label\") for r in related]\n",
    "        except: \n",
    "            collector[\"link_hot_topic\"] =\"\"\n",
    "            collector[\"text_text_topic\"] =\"\"\n",
    "            \n",
    "        return collector\n",
    "\n",
    "    ### method to collect reccomendations from a article --------------------------------\n",
    "    def collect_rec_from_article(self, article_url, time_read):\n",
    "        '''\n",
    "        sends the bot to a see article and collects the recommendations from the articles page\n",
    "            :param \n",
    "                article_url: str, string wiht the full url for the article\n",
    "                time_read: int, time to spend \"reading\" the article\n",
    "\n",
    "        '''\n",
    "\n",
    "        \n",
    "        # navigate to the article\n",
    "        self.go_article(article_url, time_read)\n",
    "            \n",
    "        \n",
    "        # create a dictionary\n",
    "        collector = dict()\n",
    "        collector[\"video_url\"] = article_url\n",
    "        \n",
    "        # scrool down to the bottom of the page\n",
    "        time.sleep(np.random.choice(range(3, 7)))\n",
    "        self.driver.execute_script(\"window.scrollTo(0, document.body.scrollHeight);\") \n",
    "        time.sleep(np.random.choice(range(3, 7)))\n",
    "        \n",
    "        try: \n",
    "            rec = self.driver.find_elements(By.CSS_SELECTOR, \".feed-card-article-l .title\")\n",
    "            # collect reccomend\n",
    "            if len(rec)>0:\n",
    "                pass\n",
    "            else:\n",
    "                time.sleep(np.random.choice(range(3, 7)))\n",
    "                self.driver.execute_script(\"window.scrollTo(0, document.body.scrollHeight);\") \n",
    "                rec= self.driver.find_elements(By.CSS_SELECTOR, \".feed-card-article-l .title\")\n",
    "\n",
    "            try:\n",
    "                collector[\"links\"]=[r.get_attribute(\"href\") for r in rec]\n",
    "                collector[\"text\"]=[r.get_attribute(\"aria-label\") for r in rec]\n",
    "                collector[\"title\"]=[r.get_attribute(\"title\") for r in rec]\n",
    "\n",
    "                # code to clean later. some of the links are coming without text\n",
    "\n",
    "                # clean text\n",
    "                #text_=[r.get_attribute(\"aria-label\") for r in rec]\n",
    "                #text_=[\"\" if text is None else str(text) for text in text_]\n",
    "\n",
    "                # clean title\n",
    "                #title_=[r.get_attribute(\"title\") for r in rec]\n",
    "                #title_=[\"\" if text is None else str(text) for text in title_]\n",
    "\n",
    "                # combine text and title\n",
    "                #z = zip(text_, title_)\n",
    "                #collector[\"title\"]=[\"\".join(z_) for z_ in z]\n",
    "            except:\n",
    "                collector[\"links\"]=\"\"\n",
    "                collector[\"text\"]=\"\"\n",
    "                collector[\"title\"]=\"\"\n",
    "        except:\n",
    "            pass\n",
    "        \n",
    "        return collector\n",
    "    \n",
    "     ### method to collect reccomendations from a article --------------------------------\n",
    "    def collect_rec_from_home(self, user_id):\n",
    "        '''\n",
    "        sends the bot to home page and collects the recommendations\n",
    "\n",
    "        '''\n",
    "\n",
    "        # navigate to the article\n",
    "        self.go_home_feed()\n",
    "            \n",
    "        \n",
    "        # create a dictionary\n",
    "        collector = dict()\n",
    "        collector[\"user_id\"] = user_id\n",
    "        \n",
    "        # scrool down to the bottom of the page\n",
    "        time.sleep(np.random.choice(range(3, 7)))\n",
    "        self.driver.execute_script(\"window.scrollTo(0, document.body.scrollHeight);\") \n",
    "        time.sleep(np.random.choice(range(3, 7)))\n",
    "        rec = self.driver.find_elements(By.CSS_SELECTOR, \".feed-card-article-l .title\")\n",
    "\n",
    "        \n",
    "        # collect reccomend\n",
    "        if len(rec)>0:\n",
    "            pass\n",
    "        else:\n",
    "            time.sleep(np.random.choice(range(3, 7)))\n",
    "            self.driver.execute_script(\"window.scrollTo(0, document.body.scrollHeight);\") \n",
    "            rec = self.driver.find_elements(By.CSS_SELECTOR, \".feed-card-article-l .title\")\n",
    "                         \n",
    "        try:\n",
    "            collector[\"links\"]=[r.get_attribute(\"href\") for r in rec]\n",
    "            collector[\"title\"]=[r.get_attribute(\"aria-label\") for r in rec]\n",
    "            collector[\"text\"]=[r.text for r in rec]\n",
    "            \n",
    "            # code to clean later. some of the links are coming without text\n",
    "           \n",
    "            # clean text\n",
    "            #text_=[r.get_attribute(\"aria-label\") for r in rec]\n",
    "            #text_=[\"\" if text is None else str(text) for text in text_]\n",
    "\n",
    "            # clean title\n",
    "            #title_=[r.get_attribute(\"title\") for r in rec]\n",
    "            #title_=[\"\" if text is None else str(text) for text in title_]\n",
    "\n",
    "            # combine text and title\n",
    "            #z = zip(text_, title_)\n",
    "            #collector[\"title\"]=[\"\".join(z_) for z_ in z]\n",
    "        except:\n",
    "            collector[\"links\"]=\"\"\n",
    "            collector[\"text\"]=\"\"\n",
    "            collector[\"title\"]=\"\"\n",
    "        return collector\n",
    "   \n",
    "    ##### method to read articles on toutiao -------------------------\n",
    "    \n",
    "    def action_read_article(self, article_url, time_read):   \n",
    "        '''\n",
    "        sends the bot to a see article and collects the url metadata\n",
    "            :param \n",
    "                article_url: str, string wiht the full url for the article\n",
    "                time_read: int, time to spend \"reading\" the article\n",
    "\n",
    "        '''\n",
    "        \n",
    "        # navigate to the article\n",
    "        self.go_article(article_url, time_read)\n",
    "        \n",
    "        # replicate some common user behavior\n",
    "        \n",
    "        # 1 - move mouse to the author of the article\n",
    "        try: \n",
    "            element = self.driver.find_element(By.CSS_SELECTOR, \".media-info .user-info\")\n",
    "            action = ActionChains(self.driver)\n",
    "            action.move_to_element(element).pause(np.random.choice(range(10))).perform()\n",
    "        except Exception as error: \n",
    "            print(\"Error occured when trying to move the mouse to the source\", error)\n",
    "        \n",
    "        # 2 - move the mouse back to the main title\n",
    "        try: \n",
    "            title_elem = self.driver.find_element(By.CLASS_NAME, \"article-content h1\")\n",
    "            action = ActionChains(self.driver)\n",
    "            action.move_to_element(title_elem).pause(np.random.choice(range(10))).perform()\n",
    "        except Exception as error:\n",
    "            print(\"Error occured when trying to move the mouse to the source\", error)\n",
    "        \n",
    "        # 3 - scroll down through the article\n",
    "        try:\n",
    "        # get a proxy for the length of the article\n",
    "            text_boxes= self.driver.find_elements(By.CSS_SELECTOR, 'p[data-track]')\n",
    "            len_text = len(text_boxes)\n",
    "            #scroll down and spend some time in the article\n",
    "            for idx, par in enumerate(text_boxes):\n",
    "                time.sleep(np.random.choice(range(3, 7)))\n",
    "                self.driver.execute_script(\"arguments[0].scrollIntoView();\", par)\n",
    "                print(f'Reading the paragraph:{idx}')\n",
    "        except Exception as error:\n",
    "            print(\"An exception occurred:\", error)         \n",
    "        \n",
    "        # 4 - scroll back to the title\n",
    "        try:\n",
    "            self.driver.execute_script(\"arguments[0].scrollIntoView();\", title_elem)\n",
    "        except Exception as error:\n",
    "            print(\"An exception occurred:\", error)         \n",
    "            \n",
    "            "
   ]
  },
  {
   "cell_type": "code",
   "execution_count": 38,
   "id": "229a9aae",
   "metadata": {},
   "outputs": [],
   "source": [
    "# instantiate\n",
    "bot = ToutiaoBot()"
   ]
  },
  {
   "cell_type": "code",
   "execution_count": 39,
   "id": "e818c746",
   "metadata": {},
   "outputs": [],
   "source": [
    "bot.go_home_feed()"
   ]
  },
  {
   "cell_type": "code",
   "execution_count": 124,
   "id": "4b698534",
   "metadata": {},
   "outputs": [],
   "source": [
    "# add code executing at least one method of this class."
   ]
  },
  {
   "cell_type": "code",
   "execution_count": 227,
   "id": "ec2c5015",
   "metadata": {},
   "outputs": [
    {
     "name": "stdout",
     "output_type": "stream",
     "text": [
      "[NbConvertApp] Converting notebook _week-08_selenium.ipynb to html\n",
      "[NbConvertApp] Writing 471230 bytes to _week-08_selenium.html\n"
     ]
    }
   ],
   "source": [
    "!jupyter nbconvert _week-08_selenium.ipynb --to html --template classic\n"
   ]
  }
 ],
 "metadata": {
  "kernelspec": {
   "display_name": "Python 3 (ipykernel)",
   "language": "python",
   "name": "python3"
  },
  "language_info": {
   "codemirror_mode": {
    "name": "ipython",
    "version": 3
   },
   "file_extension": ".py",
   "mimetype": "text/x-python",
   "name": "python",
   "nbconvert_exporter": "python",
   "pygments_lexer": "ipython3",
   "version": "3.11.4"
  }
 },
 "nbformat": 4,
 "nbformat_minor": 5
}
