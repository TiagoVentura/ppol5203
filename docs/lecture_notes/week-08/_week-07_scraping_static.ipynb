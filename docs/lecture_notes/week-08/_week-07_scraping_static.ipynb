{
 "cells": [
  {
   "cell_type": "markdown",
   "metadata": {},
   "source": [
    "<h1><center> PPOL 5203 Data Science I: Foundations <br><br> \n",
    "<font color='grey'> \n",
    "<br>Scraping static websites<br>\n",
    "Tiago Ventura </center> <h1> \n",
    "\n",
    "---"
   ]
  },
  {
   "cell_type": "markdown",
   "metadata": {},
   "source": [
    "# Learning Goals\n",
    "\n",
    "In the class today, we will focus on:\n",
    "\n",
    "- Understand different strategies to acquire digital data\n",
    "- Understanding html structure to look up content on a website\n",
    "- Scrape content from a static website\n",
    "- Build a scraper to systematically draw content from similarly organized webpages."
   ]
  },
  {
   "cell_type": "markdown",
   "metadata": {},
   "source": [
    "# The Digital information age\n",
    "\n",
    "We start our first lecture looking at this graph. It shows two things: \n",
    "\n",
    "- in the past few years we have produced and stored an enourmous among of data\n",
    "- Most of this data is produced and stored in digital environments. \n",
    "\n",
    "<div>\n",
    "<img src=\"http://media3.washingtonpost.com/wp-dyn/content/graphic/2011/02/11/GR2011021100614.jpg\" width=\"60%\"/>\n",
    "</div>\n"
   ]
  },
  {
   "cell_type": "markdown",
   "metadata": {},
   "source": [
    "Not all this data is available on digital spaces (like websites, social media apps, and digital archives). But some are. And as data scientists a primary skill that is expected from you is to be able to acquire, process, store and analyze this data. Today, we will focus on **acquiring data in the digital information era.** \n",
    "\n",
    "There are three primary techniques through which you can acquire digital data: \n",
    "\n",
    "- Scrap data from self-contained (static) websites\n",
    "- Scrap data from dynamic (javascript powered) websites\n",
    "- Access data through Application Programming Interfaces"
   ]
  },
  {
   "cell_type": "markdown",
   "metadata": {},
   "source": [
    "## What is scraping? \n",
    "\n",
    "**Scraping** consists of automatically collecting data available on websites. In theory, you can collect website data  by hand, or asking a couple of friends to help you. However, in a world of abundant data, this is likely not feasible, and in general, it may become more difficult once you have learned to collect it automatically.\n",
    "\n",
    "Let me give you some **examples of websites** I have alread scraped: \n",
    "\n",
    "- Electoral data from many different countries;\n",
    "- Composition of elites around the world;\n",
    "- Wikipedia; \n",
    "- Toutiao, a news aggregation from China; \n",
    "- Political Manifestos in Brazil \n",
    "- Fact-Checking News\n",
    "- Facebook and Youtube Live Chats. \n",
    "- Property Prices from Zillow. \n",
    "\n",
    "Scraping can be summarize in: \n",
    "\n",
    "- leveraging the structure of a website to **grab it's contents**\n",
    "\n",
    "- using a programming environment (such as R, Python, Java, etc.) to **systematically extract** that content.\n",
    "\n",
    "- accomplishing the above in an \"unobtrusive\" and **legal** way.\n",
    "\n"
   ]
  },
  {
   "cell_type": "markdown",
   "metadata": {},
   "source": [
    "## Scraping vs APIs\n",
    "\n",
    "\n",
    "An API is a set of rules and protocols that allows software applications to communicate with each other. APIs provide an front door for a developer to interact with a website. \n",
    "\n",
    "APIs are used for many different types of online communication and information sharing, among those, many **APIs have been developed to provide an easy and official way for developers and data scientists to access data**. \n",
    "\n",
    "As these APIs are developed by data owners, they are often secure, practical, and more organized than acquiring data through scrapping. \n",
    "\n",
    "Scraping is a back door for when there’s no API or when we need content beyond the structured fields the API returns\n",
    "\n",
    "**if you can use the API to access a dataset, that's where you will want to go**"
   ]
  },
  {
   "cell_type": "markdown",
   "metadata": {},
   "source": [
    "## Ethical Challenges with Scraping\n",
    "\n",
    "Webscraping is legal **as long as the scraped data is publicly available and the scraping activity does not harm the website being scraped**. These are two hugely relevant conditionals.  For this reason, before we start coding, it is carefully understand what each entails. \n",
    "\n",
    "Each call to a web server takes time, server cycles, and memory. Most servers can handle significant traffic, but they can't necessarily handle the strain induced by massive automated requests. Your code can overload the site, taking it offline, or causing the site administrator to ban your IP. See [Denial-of-service attack (DoS)](https://en.wikipedia.org/wiki/Denial-of-service_attack).\n",
    "\n",
    "We do not want compromise the functioning of a website just because of our research. First, this overload can crash a server and prevent other users from accessing the site. Second, servers and hosters can, and do, implement countermeasures (i.e. block our access from our IP and so on). \n",
    "\n",
    "In addition, take as a best practice of only collecting public information. Think about Facebook. In my personal view, it is okay to collect public posts, or data from public groups. If by some way you manage to get into private groups, and group members have an expectation of privacy, it is not okay to collect their data. \n",
    "\n",
    "Here is a list of good practices for scraping:\n",
    "\n",
    "- Respect robots.txt\n",
    "- Don't hit servers too often\n",
    "- Slow down your code to the speed humans would manually do\n",
    "- Find trusted source sites\n",
    "- Do not shave during peak hours\n",
    "- Improve your code speed\n",
    "- Use data responsibly (As academics often do)"
   ]
  },
  {
   "cell_type": "markdown",
   "metadata": {},
   "source": [
    "## Scraping Routine\n",
    "\n",
    "Scraping often involves the following routine: \n",
    "\n",
    "- **Step 1:** Find a website with information you want to collect\n",
    "- **Step 2:** Understand the website\n",
    "- **Step 3:** Write code to collect one realization of the data\n",
    "- **Step 4:** Build a scraper -- generalize you code into a function.\n",
    "\n",
    "And repeat!"
   ]
  },
  {
   "cell_type": "markdown",
   "metadata": {},
   "source": [
    "## Step 1: Find a Website... but what is a website? \n",
    "\n",
    "A website in general is a combination of **HTML, CSS, XML, PHP, and Javascript**. We will care mostly about HTMLs and CSSs. \n",
    "\n",
    "\n",
    "### Static vs Dynamic Websites\n",
    "\n",
    "HTML forms what we call **static websites** - everything you see is there in the source behind the website. Javascript produces dynamic sites - ones that you browse and click on and the url doesn't change - and are sites typically powered by a database deep within the programming. \n",
    "\n",
    "Today we will deal with static websites using the Python library `Beautiful Soup`. For dynamic websites, we will learn next class about working with `selenium` in Python. "
   ]
  },
  {
   "cell_type": "markdown",
   "metadata": {},
   "source": [
    "### HTML Website\n",
    "\n",
    "HTML stands for **HyperText Markup Language**. As it is explict from the name, it is  a markup language used to create web pages and is a cornerstone technology of the internet. It is not a programming language as Python, R and Java.  Web browsers read HTML documents and render them into visible or audible web pages.\n",
    "\n",
    "See an example of an html file: "
   ]
  },
  {
   "cell_type": "markdown",
   "metadata": {},
   "source": [
    "\n",
    "```\n",
    "<html>\n",
    "<head>\n",
    "  <title> Michael Cohen's Email </title>\n",
    "  <script>\n",
    "    var foot = bar;\n",
    "  <script>\n",
    "</head>\n",
    "<body>\n",
    "  <div id=\"payments\">\n",
    "  <h2>Second heading</h2>\n",
    "  <p class='slick'>information about <br/><i>payments</i></p>\n",
    "  <p>Just <a href=\"http://www.google.com\">google it!</a></p>\n",
    "</body>\n",
    "</html>\n",
    "```"
   ]
  },
  {
   "cell_type": "markdown",
   "metadata": {},
   "source": [
    "HTML code is structured using tags, and information is organized hierarchcially (like a list or an array) from top to bottom. \n",
    "\n",
    "Some of the most important tags we will use for scraping are: \n",
    "\n",
    "\n",
    "- **p** – paragraphs\n",
    "- **a href** – links\n",
    "- **div** – divisions\n",
    "- **h** – headings\n",
    "- **table** – tables\n",
    "\n",
    "See [here for more about html tags](https://betterprogramming.pub/understanding-html-basics-for-web-scraping-ae351ee0b3f9)"
   ]
  },
  {
   "cell_type": "markdown",
   "metadata": {},
   "source": [
    "<div class=\"alert alert-block alert-danger\", style=\"font-size: 20px;\">\n",
    "Scraping is all about finding tags and collecting the data associated with them\n",
    "</div>"
   ]
  },
  {
   "cell_type": "markdown",
   "metadata": {},
   "source": [
    "### What else exists on HTML beyond tags?\n",
    "\n",
    "The tags are the target. The information we need from html usually come from texts and attributes of the tag. Very often your work will consist on finding the tag, and then capturing the information you need. The figure below summarizes well this difference on html files. \n",
    "\n",
    "<div>\n",
    "<img src=\"https://static.semrush.com/blog/uploads/media/59/fc/59fc528eecc00e43b1a3ed5d9b9933ee/4YA3vCJ_Hw6DucoVZ40FbKFRppAReJVOkLKHcZlDkO-9geydLO6tw9uzFJFZf5nam3QcT7p0hRdpFyL2uPhoDISD8CPZwfPE5GTqgpH53q9M99QWgDVhjgQrCMOlQI9fA1T2dCxJ5T2goCV3k1wo-Jc.webp\n",
    "\" width=\"60%\"/>\n",
    "</div>\n",
    "\n",
    "Source:[https://www.semrush.com/blog/html-anchor/](https://www.semrush.com/blog/html-anchor/)"
   ]
  },
  {
   "cell_type": "markdown",
   "metadata": {},
   "source": [
    "## Step 2: Understand the website\n",
    "\n",
    "As you anticipate, a huge part of the scraping work is to understand your website and find the tags/information you are interested in. There are two ways to go about it: \n",
    "\n",
    "- ### Inspect the website: `command` + `shift` + `i` or select element, right click in the mouse, and inspect. \n",
    "\n",
    "    - See [an example in practice](https://storage.googleapis.com/lds-media/documents/css_selector_vs_xpath.mp4) (*Source: Ultimate Guide to Web Scraping with Python by Brenda Marting*) \n",
    "\n",
    "<br>\n",
    "\n",
    "- ### Use selector gadget: selector gadget is a tool that allow us to use CSS selector to scrap websites. \n",
    "    - See the [documentation](https://selectorgadget.com/) and a [tutorial here](https://www.youtube.com/watch?v=YdIWI6K64zo)."
   ]
  },
  {
   "cell_type": "markdown",
   "metadata": {},
   "source": [
    "## Break : Install selector gadget\n",
    "\n",
    "Here: https://chromewebstore.google.com/detail/selectorgadget/mhjhnkcfbdhnjickkkdbjoemdmbfginb"
   ]
  },
  {
   "cell_type": "markdown",
   "metadata": {},
   "source": [
    "## Step 3: Collect a realization of the data\n",
    "\n",
    "To do webscraping, we will use two main libraries: \n",
    "\n",
    "- `requests`: to make a `get()` request and access the html behind the pages\n",
    "- `BeautifulSoup`: to parse the html\n",
    "\n",
    "\n",
    "See this [nice tutorial here](https://realpython.com/python-web-scraping-practical-introduction/) to understand the difference between parsing html with `BeautifulSoup` and using text mining methods to scrap website. "
   ]
  },
  {
   "cell_type": "code",
   "execution_count": 1,
   "metadata": {},
   "outputs": [],
   "source": [
    "# install libraries - Take the # out if this is the first time you are installing these packages. \n",
    "#!pip install requests\n",
    "#!pip install beautifulsoup4"
   ]
  },
  {
   "cell_type": "markdown",
   "metadata": {},
   "source": [
    "### Scraping: CNN Politics\n",
    "\n",
    "Let's scrap our first website. We will start scrapping some news from BBC"
   ]
  },
  {
   "cell_type": "code",
   "execution_count": 2,
   "metadata": {},
   "outputs": [],
   "source": [
    "# setup\n",
    "import pandas as pd\n",
    "import requests # For downloading the website\n",
    "from bs4 import BeautifulSoup # For parsing the website\n",
    "import time # To put the system to sleep\n",
    "import random # for random numbers"
   ]
  },
  {
   "cell_type": "markdown",
   "metadata": {},
   "source": [
    "#### Get Request to collect html data"
   ]
  },
  {
   "cell_type": "code",
   "execution_count": 3,
   "metadata": {},
   "outputs": [],
   "source": [
    "# Get access to the website\n",
    "url = \"https://www.cnn.com/2025/10/26/politics/mamdani-sanders-aoc-rally-nyc\"\n",
    "page = requests.get(url)"
   ]
  },
  {
   "cell_type": "code",
   "execution_count": 4,
   "metadata": {},
   "outputs": [
    {
     "data": {
      "text/plain": [
       "requests.models.Response"
      ]
     },
     "execution_count": 4,
     "metadata": {},
     "output_type": "execute_result"
    }
   ],
   "source": [
    "# check object type - object class requests\n",
    "type(page)"
   ]
  },
  {
   "cell_type": "code",
   "execution_count": 5,
   "metadata": {},
   "outputs": [
    {
     "data": {
      "text/plain": [
       "200"
      ]
     },
     "execution_count": 5,
     "metadata": {},
     "output_type": "execute_result"
    }
   ],
   "source": [
    "# check if you got a connection\n",
    "page.status_code # 200 == Connection"
   ]
  },
  {
   "cell_type": "code",
   "execution_count": 6,
   "metadata": {
    "scrolled": true
   },
   "outputs": [
    {
     "data": {
      "text/plain": [
       "b'  <!DOCTYPE html>\\n<html lang=\"en\" data-uri=\"cms.cnn.com/_pages/cmh7tyh9n004d27qk0cma6iti@published\" data-layout-uri=\"cms.cnn.com/_layouts/layout-article-elevate/instances/politics-article-elevate_small-v1@published\">\\n  <head>\\n<link rel=\"dns-prefetch\" href=\"//tpc.googlesyndication.com\">\\n\\n<link rel=\"preconnect\" href=\"//tpc.googlesyndication.com\">\\n\\n<link rel=\"dns-prefetch\" href=\"//pagead2.googlesyndication.com\">\\n\\n<link rel=\"preconnect\" href=\"//pagead2.googlesyndication.com\">\\n\\n<link rel=\"dns-prefetch\" href=\"//www.googletagservices.com\">\\n\\n<link rel=\"preconnect\" href=\"//www.googletagservices.com\">\\n\\n<link rel=\"dns-prefetch\" href=\"//www.google.com\">\\n\\n<link rel=\"preconnect\" href=\"//www.google.com\">\\n\\n<link rel=\"dns-prefetch\" href=\"//c.amazon-adsystem.com\">\\n\\n<link rel=\"preconnect\" href=\"//c.amazon-adsystem.com\">\\n\\n<link rel=\"dns-prefetch\" href=\"//ib.adnxs.com\">\\n\\n<link rel=\"preconnect\" href=\"//ib.adnxs.com\">\\n\\n<link rel=\"dns-prefetch\" href=\"//cdn.adsafeprotected.com\">\\n\\n<link rel=\"preconnect\" href=\"/'"
      ]
     },
     "execution_count": 6,
     "metadata": {},
     "output_type": "execute_result"
    }
   ],
   "source": [
    "# See the content. \n",
    "# notice we downloaded the entire website.\n",
    "# Do inspect to make sure of this in the web browser\n",
    "page.content[0:1000]"
   ]
  },
  {
   "cell_type": "markdown",
   "metadata": {},
   "source": [
    "#### Saving and Loading a HTML locally\n",
    "\n",
    "After we make a request and retrieve a web page's content, we can store that content locally with Python's `open()` function. Saving a html source could avoid you to hit the website multiple times. "
   ]
  },
  {
   "cell_type": "code",
   "execution_count": 7,
   "metadata": {},
   "outputs": [],
   "source": [
    "# save html locally\n",
    "with open(\"cnn_news1\", 'wb') as f:\n",
    "    f.write(page.content)"
   ]
  },
  {
   "cell_type": "markdown",
   "metadata": {},
   "source": [
    "And here is how to open:"
   ]
  },
  {
   "cell_type": "code",
   "execution_count": 8,
   "metadata": {},
   "outputs": [
    {
     "name": "stdout",
     "output_type": "stream",
     "text": [
      "b'  <!DOCTYPE html>\\n<html lang=\"en\" data-uri=\"cms.cnn.com/_pages/cmh7tyh9n004d27qk0cma6iti@published\" data-layout-uri=\"cms.cnn.com/_layouts/layout-article-elevate/instances/politics-article-elevate_small-v1@published\">\\n  <head>\\n<link rel=\"dns-prefetch\" href=\"//tpc.googlesyndication.com\">\\n\\n<link rel=\"preconnect\" href=\"//tpc.googlesyndication.com\">\\n\\n<link rel=\"dns-prefetch\" href=\"//pagead2.googlesyndication.com\">\\n\\n<link rel=\"preconnect\" href=\"//pagead2.googlesyndication.com\">\\n\\n<link rel=\"dns-prefetch\" href=\"//www.googletagservices.com\">\\n\\n<link rel=\"preconnect\" href=\"//www.googletagservices.com\">\\n\\n<link rel=\"dns-prefetch\" href=\"//www.google.com\">\\n\\n<link rel=\"preconnect\" href=\"//www.google.com\">\\n\\n<link rel=\"dns-prefetch\" href=\"//c.amazon-adsystem.com\">\\n\\n<link rel=\"preconnect\" href=\"//c.amazon-adsystem.com\">\\n\\n<link rel=\"dns-prefetch\" href=\"//ib.adnxs.com\">\\n\\n<link rel=\"preconnect\" href=\"//ib.adnxs.com\">\\n\\n<link rel=\"dns-prefetch\" href=\"//cdn.adsafeprotected.com\">\\n\\n<link rel=\"preconnect\" href=\"/'\n"
     ]
    }
   ],
   "source": [
    "# open a locally saved html\n",
    "with open(\"cnn_news1\", 'rb') as f:\n",
    "    html = f.read()\n",
    "# see it\n",
    "print(html[0:1000])"
   ]
  },
  {
   "cell_type": "markdown",
   "metadata": {},
   "source": [
    "### Here it comes the beautifulsoup\n",
    "\n",
    "Next, you will create a `beautifulsoup` object. A beautifulsoup object is just a parser. It allows us to easily access elements from the raw html.  "
   ]
  },
  {
   "cell_type": "code",
   "execution_count": 9,
   "metadata": {},
   "outputs": [
    {
     "name": "stdout",
     "output_type": "stream",
     "text": [
      "<!DOCTYPE html>\n",
      "<html data-layout-uri=\"cms.cnn.com/_layouts/layout-article-elevate/instances/politics-article-elevate_small-v1@published\" data-uri=\"cms.cnn.com/_pages/cmh7tyh9n004d27qk0cma6iti@published\" lang=\"en\">\n",
      " <head>\n",
      "  <link href=\"//tpc.googlesyndication.com\" rel=\"dns-prefetch\"/>\n",
      "  <link href=\"//tpc.googlesyndication.com\" rel=\"preconnect\"/>\n",
      "  <link href=\"//pagead2.googlesyndication.com\" rel=\"dns-prefetch\"/>\n",
      "  <link href=\"//pagead2.googlesyndication.com\" rel=\"preconnect\"/>\n",
      "  <link href=\"//www.googletagservices.com\" rel=\"dns-prefetch\"/>\n",
      "  <link href=\"//www.googletagservices.com\" rel=\"preconnect\"/>\n",
      "  <link href=\"//www.google.com\" rel=\"dns-prefetch\"/>\n",
      "  <link href=\"//www.google.com\" rel=\"preconnect\"/>\n",
      "  <link href=\"//c.amazon-adsystem.com\" rel=\"dns-prefetch\"/>\n",
      "  <link href=\"//c.amazon-adsystem.com\" rel=\"preconnect\"/>\n",
      "  <link href=\"//ib.adnxs.com\" rel=\"dns-prefetch\"/>\n",
      "  <link href=\"//ib.adnxs.com\" rel=\"preconnect\"/>\n",
      "  <link href=\"//cdn.adsafeprotected.com\" rel=\"dns-prefetch\"/>\n",
      "  <link\n"
     ]
    }
   ],
   "source": [
    "# create an bs object.\n",
    "# input 1: request content; input 2: tell you need an html parser\n",
    "soup = BeautifulSoup(page.content, 'html.parser') \n",
    "\n",
    "# Let's look at the raw code of the downloaded website\n",
    "print(soup.prettify()[:1000]) "
   ]
  },
  {
   "cell_type": "markdown",
   "metadata": {},
   "source": [
    "With the parser, we can look start looking at the data. The functions we will use the most are: \n",
    "\n",
    "- `.find_all()`: to find tags by their names\n",
    "- `.select()`: to select tags by using the CSS selector \n",
    "- `.get_text()`: to access the text in the tag\n",
    "- `[\"attr\"]`: to access attributes of a tag"
   ]
  },
  {
   "cell_type": "markdown",
   "metadata": {},
   "source": [
    "Let's start trying to grab all the textual information of the news. These are often under the tag `<p>` for paragraph"
   ]
  },
  {
   "cell_type": "code",
   "execution_count": 10,
   "metadata": {},
   "outputs": [],
   "source": [
    "## find paragraph\n",
    "cnn_par = soup.find_all('p')"
   ]
  },
  {
   "cell_type": "code",
   "execution_count": 11,
   "metadata": {},
   "outputs": [
    {
     "data": {
      "text/plain": [
       "[<p class=\"paragraph-elevate inline-placeholder vossi-paragraph\" data-article-gutter=\"true\" data-component-name=\"paragraph\" data-editable=\"text\" data-uri=\"cms.cnn.com/_components/paragraph/instances/cmh84863600033b6ne2m78hw0@published\">\n",
       "             As New Yorkers cast their ballots in the city’s mayoral race, Democratic mayoral nominee Zohran Mamdani sent a message to voters Sunday, asking them not to choose “settling for the lesser of two evils,” warning his supporters to not take his double-digit lead in the polls as a guarantee.\n",
       "     </p>,\n",
       " <p class=\"paragraph-elevate inline-placeholder vossi-paragraph\" data-article-gutter=\"true\" data-component-name=\"paragraph\" data-editable=\"text\" data-uri=\"cms.cnn.com/_components/paragraph/instances/cmh8i7w0h001v3b6nhbmetwum@published\">\n",
       "             “While Donald Trump’s donor billionaires think they have the money to buy this election, we have a movement of the masses,” Mamdani said to a roaring crowd.\n",
       "     </p>,\n",
       " <p class=\"paragraph-elevate inline-placeholder vossi-paragraph\" data-article-gutter=\"true\" data-component-name=\"paragraph\" data-editable=\"text\" data-uri=\"cms.cnn.com/_components/paragraph/instances/cmh8i7w0h001w3b6nzsewqmym@published\">\n",
       "             Mamdani took the stage at a raucous rally alongside Sen. Bernie Sanders and Rep. Alexandria Ocasio-Cortez at Forest Hills Stadium in Queens, where thousands of people chanted Mamdani’s name and repeated in unison his signature proposals to freeze the rent, make buses fast and free, and provide universal child care.\n",
       "     </p>,\n",
       " <p class=\"paragraph-elevate inline-placeholder vossi-paragraph\" data-article-gutter=\"true\" data-component-name=\"paragraph\" data-editable=\"text\" data-uri=\"cms.cnn.com/_components/paragraph/instances/cmh8i7usv001t3b6nonqtrfrd@published\">\n",
       "             The rally was part closing argument, part rallying of the troops ahead of the November 4 election, with Mamdani casting the race as a choice between democracy and oligarchy and Sanders and Ocasio Cortez touting Mamdani’s campaign as the vanguard of a progressive movement itching to push back on the second Trump administration.\n",
       "     </p>,\n",
       " <p class=\"paragraph-elevate inline-placeholder vossi-paragraph\" data-article-gutter=\"true\" data-component-name=\"paragraph\" data-editable=\"text\" data-uri=\"cms.cnn.com/_components/paragraph/instances/cmh8gn0s0000s3b6n7e7nivgj@published\">\n",
       "             “I’m talking to you, Donald Trump,” Ocasio-Cortez declared, saying that “in nine short days we will work our hearts out to elect Zohran Kwame Mamdani as the next mayor of the great city of New York.”\n",
       "     </p>,\n",
       " <p class=\"paragraph-elevate inline-placeholder vossi-paragraph\" data-article-gutter=\"true\" data-component-name=\"paragraph\" data-editable=\"text\" data-uri=\"cms.cnn.com/_components/paragraph/instances/cmh8gn0s0000t3b6n56s8pe3o@published\">\n",
       "             Sanders, speaking in the Brooklyn accent he’s never shed, told the crowd Trump and “the rest of the world” were watching the election.\n",
       "     </p>,\n",
       " <p class=\"paragraph-elevate inline-placeholder vossi-paragraph\" data-article-gutter=\"true\" data-component-name=\"paragraph\" data-editable=\"text\" data-uri=\"cms.cnn.com/_components/paragraph/instances/cmh8gn0s0000u3b6nxhd465b0@published\">\n",
       "             “A victory here in New York will give hope and inspiration to people throughout our country and throughout the world,” the Vermont senator said. “That is what this election is about, and that is why Donald Trump is paying attention to this election.”\n",
       "     </p>,\n",
       " <p class=\"paragraph-elevate inline-placeholder vossi-paragraph\" data-article-gutter=\"true\" data-component-name=\"paragraph\" data-editable=\"text\" data-uri=\"cms.cnn.com/_components/paragraph/instances/cmh8gn0s0000v3b6n1ft65vam@published\">\n",
       "             After walking out to a roaring crowd and thumping Desi beat, a beaming Mamdani credited Ocasio-Cortez and Sanders, in particular, for inspiring <a href=\"https://www.cnn.com/2025/10/19/politics/democratic-socialists-zohran-mamdani-movement\">the progressive movement</a> that’s become the backbone of his campaign.\n",
       "     </p>,\n",
       " <p class=\"paragraph-elevate inline-placeholder vossi-paragraph\" data-article-gutter=\"true\" data-component-name=\"paragraph\" data-editable=\"text\" data-uri=\"cms.cnn.com/_components/paragraph/instances/cmh8gn0s0000w3b6nccm0tfp9@published\">\n",
       "             “I stand before you tonight, only because the senator dared to stand alone for so long. I speak the language of democratic socialism, only because he spoke it first,” Mamdani said. “And when we win on November 4 and then govern from City Hall with dignity as the foundation of our politics, it will be because of the movement that Bernie built.”\n",
       "     </p>,\n",
       " <p class=\"paragraph-elevate inline-placeholder vossi-paragraph\" data-article-gutter=\"true\" data-component-name=\"paragraph\" data-editable=\"text\" data-uri=\"cms.cnn.com/_components/paragraph/instances/cmh8gn0s0000x3b6nzgu3pvdh@published\">\n",
       "             The trio of leaders repeatedly nationalized the high-stakes New York mayoral contest, with Sanders remarking that “these are not normal times, this is not a normal election.” Each threaded calls to action against Republicans with critiques of the Democratic Party.\n",
       "     </p>,\n",
       " <p class=\"paragraph-elevate inline-placeholder vossi-paragraph\" data-article-gutter=\"true\" data-component-name=\"paragraph\" data-editable=\"text\" data-uri=\"cms.cnn.com/_components/paragraph/instances/cmh8gn0s0000y3b6nfey51fjc@published\">\n",
       "             “While Donald Trump’s billionaire donors think that they have the money to buy this election, we have a movement of the masses,” Mamdani said. “No longer will we allow the Republican Party to be the one of ambition. No longer will we have to open a history book to read about Democrats leading with big ideas.”\n",
       "     </p>,\n",
       " <p class=\"paragraph-elevate inline-placeholder vossi-paragraph\" data-article-gutter=\"true\" data-component-name=\"paragraph\" data-editable=\"text\" data-uri=\"cms.cnn.com/_components/paragraph/instances/cmh8gn0s0000z3b6nutjn86k0@published\">\n",
       "             Ocasio-Cortez argued that “the very forces that Zohran is up against in this race mirrors what we are up against nationally, both an authoritarian criminal presidency, fueled by corruption and bigotry and an ascendant right-wing extremist movement.”\n",
       "     </p>,\n",
       " <p class=\"paragraph-elevate inline-placeholder vossi-paragraph\" data-article-gutter=\"true\" data-component-name=\"paragraph\" data-editable=\"text\" data-uri=\"cms.cnn.com/_components/paragraph/instances/cmh8gn0s000103b6ncn8zwm5r@published\">\n",
       "             The New York representative castigated the “insufficient, eroded, bygone political establishment, this time in the form of Andrew Cuomo.”\n",
       "     </p>,\n",
       " <p class=\"paragraph-elevate inline-placeholder vossi-paragraph\" data-article-gutter=\"true\" data-component-name=\"paragraph\" data-editable=\"text\" data-uri=\"cms.cnn.com/_components/paragraph/instances/cmh8gn0s000113b6nfthg6u3j@published\">\n",
       "             The rally, though, reflected efforts to form a bridge between the upstart progressives and a wary Democratic establishment. Mamdani was also joined by New York Gov. Kathy Hochul — who <a href=\"https://www.cnn.com/2025/09/14/politics/kathy-hochul-zohran-mamdani\">endorsed his campaign</a> just last month — as well as State Senate Majority Leader Andrea Stewart-Cousins and State Assembly Speaker Carl Heastie, a show of support in the closing stretch of the divisive race.\n",
       "     </p>,\n",
       " <p class=\"paragraph-elevate inline-placeholder vossi-paragraph\" data-article-gutter=\"true\" data-component-name=\"paragraph\" data-editable=\"text\" data-uri=\"cms.cnn.com/_components/paragraph/instances/cmh8gn0s000123b6ni40rf26h@published\">\n",
       "             “Any person who wants to the mayor of the city in New York, to have three people you probably have to work with the most” showing support gives Mamdani “momentum into trying to achieve his agenda,” Heastie told CNN at the rally.\n",
       "     </p>,\n",
       " <p class=\"paragraph-elevate inline-placeholder vossi-paragraph\" data-article-gutter=\"true\" data-component-name=\"paragraph\" data-editable=\"text\" data-uri=\"cms.cnn.com/_components/paragraph/instances/cmh8gn0s000133b6n4qoeqqeq@published\">\n",
       "             Addressing the crowd, Hochul echoed that sentiment. “The three of us can’t do it alone. We need a fighter in City Hall, who wakes up every day, ready to punch and fight for the working people of the city, and that person is Zohran Mamdani,” she said, repeatedly interrupted by chants of “tax the rich.”\n",
       "     </p>,\n",
       " <p class=\"paragraph-elevate inline-placeholder vossi-paragraph\" data-article-gutter=\"true\" data-component-name=\"paragraph\" data-editable=\"text\" data-uri=\"cms.cnn.com/_components/paragraph/instances/cmh8gkdin000m3b6n6aplnpys@published\">\n",
       "             Hochul has said she opposes Mamdani’s plan to tax the wealthy. With her own election next year, Hochul will be under pressure to deliver for Mamdani if he wins, but also to keep taxes from increasing. As the shouts continued through her speech, Mamdani came onstage and embraced her before the two walked off together.\n",
       "     </p>,\n",
       " <p class=\"paragraph-elevate inline-placeholder vossi-paragraph\" data-article-gutter=\"true\" data-component-name=\"paragraph\" data-editable=\"text\" data-uri=\"cms.cnn.com/_components/paragraph/instances/cmh8gn0s000143b6nqflp5oss@published\">\n",
       "             Hochul also praised Mamdani for showing “grace, and courage and grit” during his campaign and criticized “Islamophobia and bigotry and hate-filled speech” directed his way.\n",
       "     </p>,\n",
       " <p class=\"paragraph-elevate inline-placeholder vossi-paragraph\" data-article-gutter=\"true\" data-component-name=\"paragraph\" data-editable=\"text\" data-uri=\"cms.cnn.com/_components/paragraph/instances/cmh8gn0s000153b6neevywbp4@published\">\n",
       "             “That kind of bullsh*t doesn’t belong in New York,” the governor told the fired-up crowd.\n",
       "     </p>,\n",
       " <p class=\"paragraph-elevate inline-placeholder vossi-paragraph\" data-article-gutter=\"true\" data-component-name=\"paragraph\" data-editable=\"text\" data-uri=\"cms.cnn.com/_components/paragraph/instances/cmh8gn0s000163b6n9asve5u6@published\">\n",
       "             The rowdy atmosphere was underscored by New York Comptroller Brad Lander — a former primary rival of Mamdani who quickly threw his support behind the upstart progressive — reprising a rousing condemnation of former Gov. Andrew Cuomo, who’s running as an independent, and the anti-Mamdani coalition.\n",
       "     </p>,\n",
       " <p class=\"paragraph-elevate inline-placeholder vossi-paragraph\" data-article-gutter=\"true\" data-component-name=\"paragraph\" data-editable=\"text\" data-uri=\"cms.cnn.com/_components/paragraph/instances/cmh8gn0s000173b6nej29tw4g@published\">\n",
       "             “We had to send that corrupt, abusive bully Andrew Cuomo back to the suburbs. I said it on election night and I can’t wait to say it again next Tuesday — good f**king riddance!” Lander said.\n",
       "     </p>,\n",
       " <p class=\"paragraph-elevate inline-placeholder vossi-paragraph\" data-article-gutter=\"true\" data-component-name=\"paragraph\" data-editable=\"text\" data-uri=\"cms.cnn.com/_components/paragraph/instances/cmh8gn0s000183b6ny9089a0n@published\">\n",
       "             The rally’s slogan, “New York Is Not for Sale,” was a dig at the vocal wealthy New Yorkers, including Bill Ackman and John Catsimatidis, who have been <a href=\"https://www.cnn.com/2025/10/20/politics/curtis-sliwa-nyc-mayoral-race\">speaking out in opposition</a> to Mamdani’s candidacy, and in many cases donating to the super PAC aligned with Cuomo.\n",
       "     </p>,\n",
       " <p class=\"paragraph-elevate inline-placeholder vossi-paragraph\" data-article-gutter=\"true\" data-component-name=\"paragraph\" data-editable=\"text\" data-uri=\"cms.cnn.com/_components/paragraph/instances/cmh8gn0s000193b6nxpvfqbq0@published\">\n",
       "             “We have the same billionaires who funded Donald Trump’s campaign funding Andrew Cuomo’s, and whether it be Bill Ackman or the Waltons, people who think they can look at a city like ours, they can appraise it and they can buy it,” Mamdani told CNN in an exclusive interview Sunday.\n",
       "     </p>,\n",
       " <p class=\"paragraph-elevate inline-placeholder vossi-paragraph\" data-article-gutter=\"true\" data-component-name=\"paragraph\" data-editable=\"text\" data-uri=\"cms.cnn.com/_components/paragraph/instances/cmh8gn0s0001a3b6n8g5dhqz8@published\">\n",
       "             He noted the rally’s slogan was a callback to Sanders’ own mayoral campaign in Burlington, Vermont, three decades ago.\n",
       "     </p>,\n",
       " <p class=\"paragraph-elevate inline-placeholder vossi-paragraph\" data-article-gutter=\"true\" data-component-name=\"paragraph\" data-editable=\"text\" data-uri=\"cms.cnn.com/_components/paragraph/instances/cmh8gn0s0001b3b6nmirx3pgb@published\">\n",
       "             “He said when he was running to be the mayor of Burlington, that Burlington is not for sale,” Mamdani said. “It continues to be the rallying cry for working-class people across this country, and for us, it’s that New York City is not for sale.”\n",
       "     </p>,\n",
       " <p class=\"paragraph-elevate inline-placeholder vossi-paragraph\" data-article-gutter=\"true\" data-component-name=\"paragraph\" data-editable=\"text\" data-uri=\"cms.cnn.com/_components/paragraph/instances/cmh8ilyjm00243b6nz1yctqgx@published\">\n",
       "             The rally came amid a surge in early voting turnout, with more than five times as many New Yorkers voting during the first weekend of early in-person voting for this year’s mayoral election compared with four years ago.\n",
       "     </p>,\n",
       " <p class=\"paragraph-elevate inline-placeholder vossi-paragraph\" data-article-gutter=\"true\" data-component-name=\"paragraph\" data-editable=\"text\" data-uri=\"cms.cnn.com/_components/paragraph/instances/cmh8imcif00283b6nqsmg80in@published\">\n",
       "             Data released Sunday by the <a href=\"https://nam11.safelinks.protection.outlook.com/?url=https%3A%2F%2Fx.com%2FBOENYC%2Fstatus%2F1982562041564197135&amp;data=05%7C02%7Cisabelle.dantonio%40cnn.com%7C8a4f4b258f4040b31ad808de14dec0ec%7C0eb48825e8714459bc72d0ecd68f1f39%7C0%7C0%7C638971144352854215%7CUnknown%7CTWFpbGZsb3d8eyJFbXB0eU1hcGkiOnRydWUsIlYiOiIwLjAuMDAwMCIsIlAiOiJXaW4zMiIsIkFOIjoiTWFpbCIsIldUIjoyfQ%3D%3D%7C0%7C%7C%7C&amp;sdata=5t5TR1pe5JUtOWvVnVJ3H4hwRdRQa38Zy9oL89kEgBo%3D&amp;reserved=0\" target=\"_blank\">New York City Board of Elections</a> shows 164,190 people voted this weekend. During the first weekend of early voting in 2021 — the first mayoral election where it was an option — only 31,176 people <a href=\"https://nam11.safelinks.protection.outlook.com/?url=https%3A%2F%2Fx.com%2FBOENYC%2Fstatus%2F1452394906920554502&amp;data=05%7C02%7Cisabelle.dantonio%40cnn.com%7C8a4f4b258f4040b31ad808de14dec0ec%7C0eb48825e8714459bc72d0ecd68f1f39%7C0%7C0%7C638971144352876170%7CUnknown%7CTWFpbGZsb3d8eyJFbXB0eU1hcGkiOnRydWUsIlYiOiIwLjAuMDAwMCIsIlAiOiJXaW4zMiIsIkFOIjoiTWFpbCIsIldUIjoyfQ%3D%3D%7C0%7C%7C%7C&amp;sdata=jtCP3HnKqos7agbDYIgnkaovYuDkk5dInglO%2Fi3otNM%3D&amp;reserved=0\" target=\"_blank\">voted</a>.\n",
       "     </p>,\n",
       " <p class=\"paragraph-elevate inline-placeholder vossi-paragraph\" data-article-gutter=\"true\" data-component-name=\"paragraph\" data-editable=\"text\" data-uri=\"cms.cnn.com/_components/paragraph/instances/cmh8ickk6001z3b6ni78priv3@published\">\n",
       " <em>This story and headline have been updated with additional developments.</em>\n",
       " </p>,\n",
       " <p class=\"paragraph-elevate inline-placeholder vossi-paragraph\" data-article-gutter=\"true\" data-component-name=\"paragraph\" data-editable=\"text\" data-uri=\"cms.cnn.com/_components/paragraph/instances/cmh8gcpa4000l3b6nrhgkn2n1@published\">\n",
       " <em>CNN’s Ethan Cohen contributed to this report. </em>\n",
       " </p>,\n",
       " <p class=\"footer__copyright-text\" data-editable=\"copyrightText\">© 2025 Cable News Network. A Warner Bros. Discovery Company. All Rights Reserved. <br/> CNN Sans ™ &amp; © 2016 Cable News Network.</p>]"
      ]
     },
     "execution_count": 11,
     "metadata": {},
     "output_type": "execute_result"
    }
   ],
   "source": [
    "cnn_par"
   ]
  },
  {
   "cell_type": "code",
   "execution_count": 12,
   "metadata": {},
   "outputs": [
    {
     "data": {
      "text/plain": [
       "30"
      ]
     },
     "execution_count": 12,
     "metadata": {},
     "output_type": "execute_result"
    }
   ],
   "source": [
    "## let's see how it looks like\n",
    "len(cnn_par)"
   ]
  },
  {
   "cell_type": "code",
   "execution_count": 13,
   "metadata": {},
   "outputs": [
    {
     "data": {
      "text/plain": [
       "<p class=\"paragraph-elevate inline-placeholder vossi-paragraph\" data-article-gutter=\"true\" data-component-name=\"paragraph\" data-editable=\"text\" data-uri=\"cms.cnn.com/_components/paragraph/instances/cmh8i7usv001t3b6nonqtrfrd@published\">\n",
       "            The rally was part closing argument, part rallying of the troops ahead of the November 4 election, with Mamdani casting the race as a choice between democracy and oligarchy and Sanders and Ocasio Cortez touting Mamdani’s campaign as the vanguard of a progressive movement itching to push back on the second Trump administration.\n",
       "    </p>"
      ]
     },
     "execution_count": 13,
     "metadata": {},
     "output_type": "execute_result"
    }
   ],
   "source": [
    "## let print one\n",
    "cnn_par[3]"
   ]
  },
  {
   "cell_type": "markdown",
   "metadata": {},
   "source": [
    "You see you just parsed the full tag for all paragraphs of the text. Let's remove all html tags using the `.get_text()` method"
   ]
  },
  {
   "cell_type": "code",
   "execution_count": 14,
   "metadata": {},
   "outputs": [
    {
     "data": {
      "text/plain": [
       "'\\n            As New Yorkers cast their ballots in the city’s mayoral race, Democratic mayoral nominee Zohran Mamdani sent a message to voters Sunday, asking them not to choose “settling for the lesser of two evils,” warning his supporters to not take his double-digit lead in the polls as a guarantee.\\n    '"
      ]
     },
     "execution_count": 14,
     "metadata": {},
     "output_type": "execute_result"
    }
   ],
   "source": [
    "# get the text. \n",
    "# This is what is in between the tags <p> TEXT </p>\n",
    "cnn_par[0].get_text()"
   ]
  },
  {
   "cell_type": "code",
   "execution_count": 15,
   "metadata": {},
   "outputs": [
    {
     "data": {
      "text/plain": [
       "['\\n            As New Yorkers cast their ballots in the city’s mayoral race, Democratic mayoral nominee Zohran Mamdani sent a message to voters Sunday, asking them not to choose “settling for the lesser of two evils,” warning his supporters to not take his double-digit lead in the polls as a guarantee.\\n    ',\n",
       " '\\n            “While Donald Trump’s donor billionaires think they have the money to buy this election, we have a movement of the masses,” Mamdani said to a roaring crowd.\\n    ',\n",
       " '\\n            Mamdani took the stage at a raucous rally alongside Sen. Bernie Sanders and Rep. Alexandria Ocasio-Cortez at Forest Hills Stadium in Queens, where thousands of people chanted Mamdani’s name and repeated in unison his signature proposals to freeze the rent, make buses fast and free, and provide universal child care.\\n    ',\n",
       " '\\n            The rally was part closing argument, part rallying of the troops ahead of the November 4 election, with Mamdani casting the race as a choice between democracy and oligarchy and Sanders and Ocasio Cortez touting Mamdani’s campaign as the vanguard of a progressive movement itching to push back on the second Trump administration.\\n    ',\n",
       " '\\n            “I’m talking to you, Donald Trump,” Ocasio-Cortez declared, saying that “in nine short days we will work our hearts out to elect Zohran Kwame Mamdani as the next mayor of the great city of New York.”\\n    ',\n",
       " '\\n            Sanders, speaking in the Brooklyn accent he’s never shed, told the crowd Trump and “the rest of the world” were watching the election.\\n    ',\n",
       " '\\n            “A victory here in New York will give hope and inspiration to people throughout our country and throughout the world,” the Vermont senator said. “That is what this election is about, and that is why Donald Trump is paying attention to this election.”\\n    ',\n",
       " '\\n            After walking out to a roaring crowd and thumping Desi beat, a beaming Mamdani credited Ocasio-Cortez and Sanders, in particular, for inspiring the progressive movement that’s become the backbone of his campaign.\\n    ',\n",
       " '\\n            “I stand before you tonight, only because the senator dared to stand alone for so long. I speak the language of democratic socialism, only because he spoke it first,” Mamdani said. “And when we win on November 4 and then govern from City Hall with dignity as the foundation of our politics, it will be because of the movement that Bernie built.”\\n    ',\n",
       " '\\n            The trio of leaders repeatedly nationalized the high-stakes New York mayoral contest, with Sanders remarking that “these are not normal times, this is not a normal election.” Each threaded calls to action against Republicans with critiques of the Democratic Party.\\n    ',\n",
       " '\\n            “While Donald Trump’s billionaire donors think that they have the money to buy this election, we have a movement of the masses,” Mamdani said. “No longer will we allow the Republican Party to be the one of ambition. No longer will we have to open a history book to read about Democrats leading with big ideas.”\\n    ',\n",
       " '\\n            Ocasio-Cortez argued that “the very forces that Zohran is up against in this race mirrors what we are up against nationally, both an authoritarian criminal presidency, fueled by corruption and bigotry and an ascendant right-wing extremist movement.”\\n    ',\n",
       " '\\n            The New York representative castigated the “insufficient, eroded, bygone political establishment, this time in the form of Andrew Cuomo.”\\n    ',\n",
       " '\\n            The rally, though, reflected efforts to form a bridge between the upstart progressives and a wary Democratic establishment. Mamdani was also joined by New York Gov. Kathy Hochul — who endorsed his campaign just last month — as well as State Senate Majority Leader Andrea Stewart-Cousins and State Assembly Speaker Carl Heastie, a show of support in the closing stretch of the divisive race.\\n    ',\n",
       " '\\n            “Any person who wants to the mayor of the city in New York, to have three people you probably have to work with the most” showing support gives Mamdani “momentum into trying to achieve his agenda,” Heastie told CNN at the rally.\\n    ',\n",
       " '\\n            Addressing the crowd, Hochul echoed that sentiment. “The three of us can’t do it alone. We need a fighter in City Hall, who wakes up every day, ready to punch and fight for the working people of the city, and that person is Zohran Mamdani,” she said, repeatedly interrupted by chants of “tax the rich.”\\n    ',\n",
       " '\\n            Hochul has said she opposes Mamdani’s plan to tax the wealthy. With her own election next year, Hochul will be under pressure to deliver for Mamdani if he wins, but also to keep taxes from increasing. As the shouts continued through her speech, Mamdani came onstage and embraced her before the two walked off together.\\n    ',\n",
       " '\\n            Hochul also praised Mamdani for showing “grace, and courage and grit” during his campaign and criticized “Islamophobia and bigotry and hate-filled speech” directed his way.\\n    ',\n",
       " '\\n            “That kind of bullsh*t doesn’t belong in New York,” the governor told the fired-up crowd.\\n    ',\n",
       " '\\n            The rowdy atmosphere was underscored by New York Comptroller Brad Lander — a former primary rival of Mamdani who quickly threw his support behind the upstart progressive — reprising a rousing condemnation of former Gov. Andrew Cuomo, who’s running as an independent, and the anti-Mamdani coalition.\\n    ',\n",
       " '\\n            “We had to send that corrupt, abusive bully Andrew Cuomo back to the suburbs. I said it on election night and I can’t wait to say it again next Tuesday — good f**king riddance!” Lander said.\\n    ',\n",
       " '\\n            The rally’s slogan, “New York Is Not for Sale,” was a dig at the vocal wealthy New Yorkers, including Bill Ackman and John Catsimatidis, who have been speaking out in opposition to Mamdani’s candidacy, and in many cases donating to the super PAC aligned with Cuomo.\\n    ',\n",
       " '\\n            “We have the same billionaires who funded Donald Trump’s campaign funding Andrew Cuomo’s, and whether it be Bill Ackman or the Waltons, people who think they can look at a city like ours, they can appraise it and they can buy it,” Mamdani told CNN in an exclusive interview Sunday.\\n    ',\n",
       " '\\n            He noted the rally’s slogan was a callback to Sanders’ own mayoral campaign in Burlington, Vermont, three decades ago.\\n    ',\n",
       " '\\n            “He said when he was running to be the mayor of Burlington, that Burlington is not for sale,” Mamdani said. “It continues to be the rallying cry for working-class people across this country, and for us, it’s that New York City is not for sale.”\\n    ',\n",
       " '\\n            The rally came amid a surge in early voting turnout, with more than five times as many New Yorkers voting during the first weekend of early in-person voting for this year’s mayoral election compared with four years ago.\\n    ',\n",
       " '\\n            Data released Sunday by the New York City Board of Elections shows 164,190 people voted this weekend. During the first weekend of early voting in 2021 — the first mayoral election where it was an option — only 31,176 people voted.\\n    ',\n",
       " '\\nThis story and headline have been updated with additional developments.\\n',\n",
       " '\\nCNN’s Ethan Cohen contributed to this report. \\n',\n",
       " '© 2025 Cable News Network. A Warner Bros. Discovery Company. All Rights Reserved.  CNN Sans ™ & © 2016 Cable News Network.']"
      ]
     },
     "execution_count": 15,
     "metadata": {},
     "output_type": "execute_result"
    }
   ],
   "source": [
    "# use our friend list compreehension to parse all\n",
    "all_par = [par.get_text() for par in cnn_par]\n",
    "all_par"
   ]
  },
  {
   "cell_type": "markdown",
   "metadata": {},
   "source": [
    "You see neverthless that you did collect some junk that are not the paragraph information you are looking for. \n",
    "\n",
    "This happens because there are multiple instances (under different tags) in which the tag `<p>` is used for. For example, if you look at the last element of the `all_par` list, you will see your scraper is collecting the footer of the webpage. "
   ]
  },
  {
   "cell_type": "markdown",
   "metadata": {},
   "source": [
    "### Solution\n",
    "\n",
    "**Be more specific. Work with a CSS selector.**\n",
    "\n",
    "A CSS selector is a pattern used to select and style one or more elements in an HTML document. It is a way to chain multiple style and attributes of an html file. \n",
    "\n",
    "Another way to do this is using XPATH, which can be super useful to learn, but a bit more complicated for begginers.\n",
    "\n",
    "See this tutorial [here](https://developer.mozilla.org/en-US/docs/Learn/CSS/Building_blocks/Selectors) to understand the concept of a css selector\n",
    "\n",
    "Let's use the selector gadget tool ([see tutorial](https://www.youtube.com/watch?v=YdIWI6K64zo)) to get a css selector for all the paragraphs. "
   ]
  },
  {
   "cell_type": "code",
   "execution_count": 16,
   "metadata": {},
   "outputs": [],
   "source": [
    "# open your webbrowser and use the selector gadget\n",
    "# website: https://www.cnn.com/2025/10/26/politics/mamdani-sanders-aoc-rally-nyc"
   ]
  },
  {
   "cell_type": "code",
   "execution_count": 17,
   "metadata": {},
   "outputs": [],
   "source": [
    "# Use a css selector to target specific content\n",
    "cnn_par = soup.select(\".vossi-paragraph\")"
   ]
  },
  {
   "cell_type": "code",
   "execution_count": 18,
   "metadata": {},
   "outputs": [
    {
     "data": {
      "text/plain": [
       "<p class=\"paragraph-elevate inline-placeholder vossi-paragraph\" data-article-gutter=\"true\" data-component-name=\"paragraph\" data-editable=\"text\" data-uri=\"cms.cnn.com/_components/paragraph/instances/cmh8gcpa4000l3b6nrhgkn2n1@published\">\n",
       "<em>CNN’s Ethan Cohen contributed to this report. </em>\n",
       "</p>"
      ]
     },
     "execution_count": 18,
     "metadata": {},
     "output_type": "execute_result"
    }
   ],
   "source": [
    "cnn_par[-1]"
   ]
  },
  {
   "cell_type": "code",
   "execution_count": 19,
   "metadata": {},
   "outputs": [
    {
     "data": {
      "text/plain": [
       "['\\n            As New Yorkers cast their ballots in the city’s mayoral race, Democratic mayoral nominee Zohran Mamdani sent a message to voters Sunday, asking them not to choose “settling for the lesser of two evils,” warning his supporters to not take his double-digit lead in the polls as a guarantee.\\n    ',\n",
       " '\\n            “While Donald Trump’s donor billionaires think they have the money to buy this election, we have a movement of the masses,” Mamdani said to a roaring crowd.\\n    ',\n",
       " '\\n            Mamdani took the stage at a raucous rally alongside Sen. Bernie Sanders and Rep. Alexandria Ocasio-Cortez at Forest Hills Stadium in Queens, where thousands of people chanted Mamdani’s name and repeated in unison his signature proposals to freeze the rent, make buses fast and free, and provide universal child care.\\n    ',\n",
       " '\\n            The rally was part closing argument, part rallying of the troops ahead of the November 4 election, with Mamdani casting the race as a choice between democracy and oligarchy and Sanders and Ocasio Cortez touting Mamdani’s campaign as the vanguard of a progressive movement itching to push back on the second Trump administration.\\n    ',\n",
       " '\\n            “I’m talking to you, Donald Trump,” Ocasio-Cortez declared, saying that “in nine short days we will work our hearts out to elect Zohran Kwame Mamdani as the next mayor of the great city of New York.”\\n    ',\n",
       " '\\n            Sanders, speaking in the Brooklyn accent he’s never shed, told the crowd Trump and “the rest of the world” were watching the election.\\n    ',\n",
       " '\\n            “A victory here in New York will give hope and inspiration to people throughout our country and throughout the world,” the Vermont senator said. “That is what this election is about, and that is why Donald Trump is paying attention to this election.”\\n    ',\n",
       " '\\n            After walking out to a roaring crowd and thumping Desi beat, a beaming Mamdani credited Ocasio-Cortez and Sanders, in particular, for inspiring the progressive movement that’s become the backbone of his campaign.\\n    ',\n",
       " '\\n            “I stand before you tonight, only because the senator dared to stand alone for so long. I speak the language of democratic socialism, only because he spoke it first,” Mamdani said. “And when we win on November 4 and then govern from City Hall with dignity as the foundation of our politics, it will be because of the movement that Bernie built.”\\n    ',\n",
       " '\\n            The trio of leaders repeatedly nationalized the high-stakes New York mayoral contest, with Sanders remarking that “these are not normal times, this is not a normal election.” Each threaded calls to action against Republicans with critiques of the Democratic Party.\\n    ',\n",
       " '\\n            “While Donald Trump’s billionaire donors think that they have the money to buy this election, we have a movement of the masses,” Mamdani said. “No longer will we allow the Republican Party to be the one of ambition. No longer will we have to open a history book to read about Democrats leading with big ideas.”\\n    ',\n",
       " '\\n            Ocasio-Cortez argued that “the very forces that Zohran is up against in this race mirrors what we are up against nationally, both an authoritarian criminal presidency, fueled by corruption and bigotry and an ascendant right-wing extremist movement.”\\n    ',\n",
       " '\\n            The New York representative castigated the “insufficient, eroded, bygone political establishment, this time in the form of Andrew Cuomo.”\\n    ',\n",
       " '\\n            The rally, though, reflected efforts to form a bridge between the upstart progressives and a wary Democratic establishment. Mamdani was also joined by New York Gov. Kathy Hochul — who endorsed his campaign just last month — as well as State Senate Majority Leader Andrea Stewart-Cousins and State Assembly Speaker Carl Heastie, a show of support in the closing stretch of the divisive race.\\n    ',\n",
       " '\\n            “Any person who wants to the mayor of the city in New York, to have three people you probably have to work with the most” showing support gives Mamdani “momentum into trying to achieve his agenda,” Heastie told CNN at the rally.\\n    ',\n",
       " '\\n            Addressing the crowd, Hochul echoed that sentiment. “The three of us can’t do it alone. We need a fighter in City Hall, who wakes up every day, ready to punch and fight for the working people of the city, and that person is Zohran Mamdani,” she said, repeatedly interrupted by chants of “tax the rich.”\\n    ',\n",
       " '\\n            Hochul has said she opposes Mamdani’s plan to tax the wealthy. With her own election next year, Hochul will be under pressure to deliver for Mamdani if he wins, but also to keep taxes from increasing. As the shouts continued through her speech, Mamdani came onstage and embraced her before the two walked off together.\\n    ',\n",
       " '\\n            Hochul also praised Mamdani for showing “grace, and courage and grit” during his campaign and criticized “Islamophobia and bigotry and hate-filled speech” directed his way.\\n    ',\n",
       " '\\n            “That kind of bullsh*t doesn’t belong in New York,” the governor told the fired-up crowd.\\n    ',\n",
       " '\\n            The rowdy atmosphere was underscored by New York Comptroller Brad Lander — a former primary rival of Mamdani who quickly threw his support behind the upstart progressive — reprising a rousing condemnation of former Gov. Andrew Cuomo, who’s running as an independent, and the anti-Mamdani coalition.\\n    ',\n",
       " '\\n            “We had to send that corrupt, abusive bully Andrew Cuomo back to the suburbs. I said it on election night and I can’t wait to say it again next Tuesday — good f**king riddance!” Lander said.\\n    ',\n",
       " '\\n            The rally’s slogan, “New York Is Not for Sale,” was a dig at the vocal wealthy New Yorkers, including Bill Ackman and John Catsimatidis, who have been speaking out in opposition to Mamdani’s candidacy, and in many cases donating to the super PAC aligned with Cuomo.\\n    ',\n",
       " '\\n            “We have the same billionaires who funded Donald Trump’s campaign funding Andrew Cuomo’s, and whether it be Bill Ackman or the Waltons, people who think they can look at a city like ours, they can appraise it and they can buy it,” Mamdani told CNN in an exclusive interview Sunday.\\n    ',\n",
       " '\\n            He noted the rally’s slogan was a callback to Sanders’ own mayoral campaign in Burlington, Vermont, three decades ago.\\n    ',\n",
       " '\\n            “He said when he was running to be the mayor of Burlington, that Burlington is not for sale,” Mamdani said. “It continues to be the rallying cry for working-class people across this country, and for us, it’s that New York City is not for sale.”\\n    ',\n",
       " '\\n            The rally came amid a surge in early voting turnout, with more than five times as many New Yorkers voting during the first weekend of early in-person voting for this year’s mayoral election compared with four years ago.\\n    ',\n",
       " '\\n            Data released Sunday by the New York City Board of Elections shows 164,190 people voted this weekend. During the first weekend of early voting in 2021 — the first mayoral election where it was an option — only 31,176 people voted.\\n    ',\n",
       " '\\nThis story and headline have been updated with additional developments.\\n',\n",
       " '\\nCNN’s Ethan Cohen contributed to this report. \\n']"
      ]
     },
     "execution_count": 19,
     "metadata": {},
     "output_type": "execute_result"
    }
   ],
   "source": [
    "story_content = [i.get_text() for i in cnn_par]\n",
    "story_content "
   ]
  },
  {
   "cell_type": "code",
   "execution_count": 20,
   "metadata": {},
   "outputs": [
    {
     "data": {
      "text/plain": [
       "'As New Yorkers cast their ballots in the city’s mayoral race, Democratic mayoral nominee Zohran Mamdani sent a message to voters Sunday, asking them not to choose “settling for the lesser of two evils,” warning his supporters to not take his double-digit lead in the polls as a guarantee.'"
      ]
     },
     "execution_count": 20,
     "metadata": {},
     "output_type": "execute_result"
    }
   ],
   "source": [
    "story_content[0].strip()"
   ]
  },
  {
   "cell_type": "code",
   "execution_count": 21,
   "metadata": {},
   "outputs": [
    {
     "name": "stdout",
     "output_type": "stream",
     "text": [
      "As New Yorkers cast their ballots in the city’s mayoral race, Democratic mayoral nominee Zohran Mamdani sent a message to voters Sunday, asking them not to choose “settling for the lesser of two evils,” warning his supporters to not take his double-digit lead in the polls as a guarantee.\n",
      "“While Donald Trump’s donor billionaires think they have the money to buy this election, we have a movement of the masses,” Mamdani said to a roaring crowd.\n",
      "Mamdani took the stage at a raucous rally alongside Sen. Bernie Sanders and Rep. Alexandria Ocasio-Cortez at Forest Hills Stadium in Queens, where thousands of people chanted Mamdani’s name and repeated in unison his signature proposals to freeze the rent, make buses fast and free, and provide universal child care.\n",
      "The rally was part closing argument, part rallying of the troops ahead of the November 4 election, with Mamdani casting the race as a choice between democracy and oligarchy and Sanders and Ocasio Cortez touting Mamdani’s campaign as the vanguard of a progressive movement itching to push back on the second Trump administration.\n",
      "“I’m talking to you, Donald Trump,” Ocasio-Cortez declared, saying that “in nine short days we will work our hearts out to elect Zohran Kwame Mamdani as the next mayor of the great city of New York.”\n",
      "Sanders, speaking in the Brooklyn accent he’s never shed, told the crowd Trump and “the rest of the world” were watching the election.\n",
      "“A victory here in New York will give hope and inspiration to people throughout our country and throughout the world,” the Vermont senator said. “That is what this election is about, and that is why Donald Trump is paying attention to this election.”\n",
      "After walking out to a roaring crowd and thumping Desi beat, a beaming Mamdani credited Ocasio-Cortez and Sanders, in particular, for inspiring the progressive movement that’s become the backbone of his campaign.\n",
      "“I stand before you tonight, only because the senator dared to stand alone for so long. I speak the language of democratic socialism, only because he spoke it first,” Mamdani said. “And when we win on November 4 and then govern from City Hall with dignity as the foundation of our politics, it will be because of the movement that Bernie built.”\n",
      "The trio of leaders repeatedly nationalized the high-stakes New York mayoral contest, with Sanders remarking that “these are not normal times, this is not a normal election.” Each threaded calls to action against Republicans with critiques of the Democratic Party.\n",
      "“While Donald Trump’s billionaire donors think that they have the money to buy this election, we have a movement of the masses,” Mamdani said. “No longer will we allow the Republican Party to be the one of ambition. No longer will we have to open a history book to read about Democrats leading with big ideas.”\n",
      "Ocasio-Cortez argued that “the very forces that Zohran is up against in this race mirrors what we are up against nationally, both an authoritarian criminal presidency, fueled by corruption and bigotry and an ascendant right-wing extremist movement.”\n",
      "The New York representative castigated the “insufficient, eroded, bygone political establishment, this time in the form of Andrew Cuomo.”\n",
      "The rally, though, reflected efforts to form a bridge between the upstart progressives and a wary Democratic establishment. Mamdani was also joined by New York Gov. Kathy Hochul — who endorsed his campaign just last month — as well as State Senate Majority Leader Andrea Stewart-Cousins and State Assembly Speaker Carl Heastie, a show of support in the closing stretch of the divisive race.\n",
      "“Any person who wants to the mayor of the city in New York, to have three people you probably have to work with the most” showing support gives Mamdani “momentum into trying to achieve his agenda,” Heastie told CNN at the rally.\n",
      "Addressing the crowd, Hochul echoed that sentiment. “The three of us can’t do it alone. We need a fighter in City Hall, who wakes up every day, ready to punch and fight for the working people of the city, and that person is Zohran Mamdani,” she said, repeatedly interrupted by chants of “tax the rich.”\n",
      "Hochul has said she opposes Mamdani’s plan to tax the wealthy. With her own election next year, Hochul will be under pressure to deliver for Mamdani if he wins, but also to keep taxes from increasing. As the shouts continued through her speech, Mamdani came onstage and embraced her before the two walked off together.\n",
      "Hochul also praised Mamdani for showing “grace, and courage and grit” during his campaign and criticized “Islamophobia and bigotry and hate-filled speech” directed his way.\n",
      "“That kind of bullsh*t doesn’t belong in New York,” the governor told the fired-up crowd.\n",
      "The rowdy atmosphere was underscored by New York Comptroller Brad Lander — a former primary rival of Mamdani who quickly threw his support behind the upstart progressive — reprising a rousing condemnation of former Gov. Andrew Cuomo, who’s running as an independent, and the anti-Mamdani coalition.\n",
      "“We had to send that corrupt, abusive bully Andrew Cuomo back to the suburbs. I said it on election night and I can’t wait to say it again next Tuesday — good f**king riddance!” Lander said.\n",
      "The rally’s slogan, “New York Is Not for Sale,” was a dig at the vocal wealthy New Yorkers, including Bill Ackman and John Catsimatidis, who have been speaking out in opposition to Mamdani’s candidacy, and in many cases donating to the super PAC aligned with Cuomo.\n",
      "“We have the same billionaires who funded Donald Trump’s campaign funding Andrew Cuomo’s, and whether it be Bill Ackman or the Waltons, people who think they can look at a city like ours, they can appraise it and they can buy it,” Mamdani told CNN in an exclusive interview Sunday.\n",
      "He noted the rally’s slogan was a callback to Sanders’ own mayoral campaign in Burlington, Vermont, three decades ago.\n",
      "“He said when he was running to be the mayor of Burlington, that Burlington is not for sale,” Mamdani said. “It continues to be the rallying cry for working-class people across this country, and for us, it’s that New York City is not for sale.”\n",
      "The rally came amid a surge in early voting turnout, with more than five times as many New Yorkers voting during the first weekend of early in-person voting for this year’s mayoral election compared with four years ago.\n",
      "Data released Sunday by the New York City Board of Elections shows 164,190 people voted this weekend. During the first weekend of early voting in 2021 — the first mayoral election where it was an option — only 31,176 people voted.\n",
      "This story and headline have been updated with additional developments.\n",
      "CNN’s Ethan Cohen contributed to this report.\n"
     ]
    }
   ],
   "source": [
    "# Clean and join together with string methods\n",
    "story_text = \"\\n\".join([i.strip() for i in story_content])\n",
    "print(story_text)"
   ]
  },
  {
   "cell_type": "markdown",
   "metadata": {},
   "source": [
    "### What else can we collect from this news? \n",
    "\n",
    "- title\n",
    "- author\n",
    "- date\n",
    "\n",
    "Let's do it. "
   ]
  },
  {
   "cell_type": "code",
   "execution_count": 22,
   "metadata": {},
   "outputs": [
    {
     "data": {
      "text/plain": [
       "<h1 class=\"headline__text inline-placeholder vossi-headline-text\" data-editable=\"headlineText\" id=\"maincontent\">\n",
       "      Mamdani rallies with Sanders and Ocasio-Cortez as Democrats close ranks around NYC mayoral nominee\n",
       "    </h1>"
      ]
     },
     "execution_count": 22,
     "metadata": {},
     "output_type": "execute_result"
    }
   ],
   "source": [
    "# title\n",
    "css_loc = \"#maincontent\"\n",
    "story_title = soup.select(css_loc)\n",
    "story_title[0]"
   ]
  },
  {
   "cell_type": "code",
   "execution_count": 23,
   "metadata": {},
   "outputs": [
    {
     "name": "stdout",
     "output_type": "stream",
     "text": [
      "\n",
      "      Mamdani rallies with Sanders and Ocasio-Cortez as Democrats close ranks around NYC mayoral nominee\n",
      "    \n"
     ]
    }
   ],
   "source": [
    "story_title = story_title[0].get_text()\n",
    "print(story_title)"
   ]
  },
  {
   "cell_type": "code",
   "execution_count": 24,
   "metadata": {},
   "outputs": [
    {
     "name": "stdout",
     "output_type": "stream",
     "text": [
      "\n",
      "\n",
      "\n",
      "\n",
      "Updated Oct 26, 2025, 10:33 PM ET\n",
      "Published Oct 26, 2025, 12:03 PM ET\n",
      "\n",
      "\n",
      "\n",
      "\n",
      "\n",
      "Updated Oct 26, 2025, 10:33 PM ET\n",
      "PUBLISHED Oct 26, 2025, 12:03 PM ET\n",
      "\n",
      "\n"
     ]
    }
   ],
   "source": [
    "# story date\n",
    "story_date = soup.select(\".vossi-timestamp\")[0].get_text()\n",
    "print(story_date)"
   ]
  },
  {
   "cell_type": "code",
   "execution_count": 25,
   "metadata": {},
   "outputs": [
    {
     "name": "stdout",
     "output_type": "stream",
     "text": [
      "Gloria Pazmino\n"
     ]
    }
   ],
   "source": [
    "# story authors\n",
    "story_author = soup.select(\".byline__name\")[0].get_text()\n",
    "print(story_author)"
   ]
  },
  {
   "cell_type": "code",
   "execution_count": 26,
   "metadata": {
    "scrolled": true
   },
   "outputs": [
    {
     "data": {
      "text/plain": [
       "['https://www.cnn.com/2025/10/26/politics/mamdani-sanders-aoc-rally-nyc',\n",
       " 'Mamdani rallies with Sanders and Ocasio-Cortez as Democrats close ranks around NYC mayoral nominee',\n",
       " 'Updated Oct 26, 2025, 10:33 PM ET\\nPublished Oct 26, 2025, 12:03 PM ET\\n\\n\\n\\n\\n\\nUpdated Oct 26, 2025, 10:33 PM ET\\nPUBLISHED Oct 26, 2025, 12:03 PM ET',\n",
       " 'As New Yorkers cast their ballots in the city’s mayoral race, Democratic mayoral nominee Zohran Mamdani sent a message to voters Sunday, asking them not to choose “settling for the lesser of two evils,” warning his supporters to not take his double-digit lead in the polls as a guarantee.\\n“While Donald Trump’s donor billionaires think they have the money to buy this election, we have a movement of the masses,” Mamdani said to a roaring crowd.\\nMamdani took the stage at a raucous rally alongside Sen. Bernie Sanders and Rep. Alexandria Ocasio-Cortez at Forest Hills Stadium in Queens, where thousands of people chanted Mamdani’s name and repeated in unison his signature proposals to freeze the rent, make buses fast and free, and provide universal child care.\\nThe rally was part closing argument, part rallying of the troops ahead of the November 4 election, with Mamdani casting the race as a choice between democracy and oligarchy and Sanders and Ocasio Cortez touting Mamdani’s campaign as the vanguard of a progressive movement itching to push back on the second Trump administration.\\n“I’m talking to you, Donald Trump,” Ocasio-Cortez declared, saying that “in nine short days we will work our hearts out to elect Zohran Kwame Mamdani as the next mayor of the great city of New York.”\\nSanders, speaking in the Brooklyn accent he’s never shed, told the crowd Trump and “the rest of the world” were watching the election.\\n“A victory here in New York will give hope and inspiration to people throughout our country and throughout the world,” the Vermont senator said. “That is what this election is about, and that is why Donald Trump is paying attention to this election.”\\nAfter walking out to a roaring crowd and thumping Desi beat, a beaming Mamdani credited Ocasio-Cortez and Sanders, in particular, for inspiring the progressive movement that’s become the backbone of his campaign.\\n“I stand before you tonight, only because the senator dared to stand alone for so long. I speak the language of democratic socialism, only because he spoke it first,” Mamdani said. “And when we win on November 4 and then govern from City Hall with dignity as the foundation of our politics, it will be because of the movement that Bernie built.”\\nThe trio of leaders repeatedly nationalized the high-stakes New York mayoral contest, with Sanders remarking that “these are not normal times, this is not a normal election.” Each threaded calls to action against Republicans with critiques of the Democratic Party.\\n“While Donald Trump’s billionaire donors think that they have the money to buy this election, we have a movement of the masses,” Mamdani said. “No longer will we allow the Republican Party to be the one of ambition. No longer will we have to open a history book to read about Democrats leading with big ideas.”\\nOcasio-Cortez argued that “the very forces that Zohran is up against in this race mirrors what we are up against nationally, both an authoritarian criminal presidency, fueled by corruption and bigotry and an ascendant right-wing extremist movement.”\\nThe New York representative castigated the “insufficient, eroded, bygone political establishment, this time in the form of Andrew Cuomo.”\\nThe rally, though, reflected efforts to form a bridge between the upstart progressives and a wary Democratic establishment. Mamdani was also joined by New York Gov. Kathy Hochul — who endorsed his campaign just last month — as well as State Senate Majority Leader Andrea Stewart-Cousins and State Assembly Speaker Carl Heastie, a show of support in the closing stretch of the divisive race.\\n“Any person who wants to the mayor of the city in New York, to have three people you probably have to work with the most” showing support gives Mamdani “momentum into trying to achieve his agenda,” Heastie told CNN at the rally.\\nAddressing the crowd, Hochul echoed that sentiment. “The three of us can’t do it alone. We need a fighter in City Hall, who wakes up every day, ready to punch and fight for the working people of the city, and that person is Zohran Mamdani,” she said, repeatedly interrupted by chants of “tax the rich.”\\nHochul has said she opposes Mamdani’s plan to tax the wealthy. With her own election next year, Hochul will be under pressure to deliver for Mamdani if he wins, but also to keep taxes from increasing. As the shouts continued through her speech, Mamdani came onstage and embraced her before the two walked off together.\\nHochul also praised Mamdani for showing “grace, and courage and grit” during his campaign and criticized “Islamophobia and bigotry and hate-filled speech” directed his way.\\n“That kind of bullsh*t doesn’t belong in New York,” the governor told the fired-up crowd.\\nThe rowdy atmosphere was underscored by New York Comptroller Brad Lander — a former primary rival of Mamdani who quickly threw his support behind the upstart progressive — reprising a rousing condemnation of former Gov. Andrew Cuomo, who’s running as an independent, and the anti-Mamdani coalition.\\n“We had to send that corrupt, abusive bully Andrew Cuomo back to the suburbs. I said it on election night and I can’t wait to say it again next Tuesday — good f**king riddance!” Lander said.\\nThe rally’s slogan, “New York Is Not for Sale,” was a dig at the vocal wealthy New Yorkers, including Bill Ackman and John Catsimatidis, who have been speaking out in opposition to Mamdani’s candidacy, and in many cases donating to the super PAC aligned with Cuomo.\\n“We have the same billionaires who funded Donald Trump’s campaign funding Andrew Cuomo’s, and whether it be Bill Ackman or the Waltons, people who think they can look at a city like ours, they can appraise it and they can buy it,” Mamdani told CNN in an exclusive interview Sunday.\\nHe noted the rally’s slogan was a callback to Sanders’ own mayoral campaign in Burlington, Vermont, three decades ago.\\n“He said when he was running to be the mayor of Burlington, that Burlington is not for sale,” Mamdani said. “It continues to be the rallying cry for working-class people across this country, and for us, it’s that New York City is not for sale.”\\nThe rally came amid a surge in early voting turnout, with more than five times as many New Yorkers voting during the first weekend of early in-person voting for this year’s mayoral election compared with four years ago.\\nData released Sunday by the New York City Board of Elections shows 164,190 people voted this weekend. During the first weekend of early voting in 2021 — the first mayoral election where it was an option — only 31,176 people voted.\\nThis story and headline have been updated with additional developments.\\nCNN’s Ethan Cohen contributed to this report.']"
      ]
     },
     "execution_count": 26,
     "metadata": {},
     "output_type": "execute_result"
    }
   ],
   "source": [
    "# let's nest all in a list\n",
    "entry = [url, story_title.strip(),story_date.strip(),story_text]\n",
    "entry"
   ]
  },
  {
   "cell_type": "markdown",
   "metadata": {},
   "source": [
    "## Practice with Latin News Website\n",
    "\n",
    "Your task: Look a this website here: https://www.latinnews.com/latinnews-country-database.html?country=2156\n",
    "\n",
    "Do the following taks: \n",
    "\n",
    "- Select a single link for you to explore. \n",
    "- Write code to scrape the link. \n",
    "- Collect the following information:\n",
    "    - text of the news\n",
    "    - title of the news\n",
    "    - url associated with the news\n",
    "    - date of the post\n",
    "- Return all of them as a pandas dataframe.     "
   ]
  },
  {
   "cell_type": "code",
   "execution_count": 27,
   "metadata": {},
   "outputs": [],
   "source": [
    "# write your solution here"
   ]
  },
  {
   "cell_type": "markdown",
   "metadata": {},
   "source": [
    "### Step 4: Build a scraper\n",
    "\n",
    "After you have your scrapper working for a single case, you will generalize your work. As we learned before, we do this by creating a function (or a full class with different methods). \n",
    "\n",
    "Notice, here it is also important to add the good practices which try to imitate human behavior inside of our functions. \n",
    "\n",
    "Let's start with a function to scrap news from CNN"
   ]
  },
  {
   "cell_type": "code",
   "execution_count": 28,
   "metadata": {},
   "outputs": [],
   "source": [
    "# Building a scraper\n",
    "# The idea here is to just wrap the above in a function.\n",
    "# Input: url\n",
    "# Output: relevant content\n",
    "\n",
    "def cnn_scraper(url=None):\n",
    "    '''\n",
    "    this function scraps relevant content from cnn website\n",
    "    input: str, url from cnn\n",
    "    '''\n",
    "\n",
    "    # Get access to the website\n",
    "    page = requests.get(url)\n",
    "    # create an bs object.\n",
    "    soup = BeautifulSoup(page.content, 'html.parser') # input 1: request content; input 2: tell you need an html parser\n",
    "\n",
    "    # check if you got a connection\n",
    "    if page.status_code == 200:\n",
    "        \n",
    "        # parse text\n",
    "        bbc_par = soup.select(\".vossi-paragraph\")\n",
    "        story_content = [i.get_text() for i in bbc_par]\n",
    "        story_text = \"\\n\".join([i.strip() for i in story_content])\n",
    "\n",
    "        # parse title\n",
    "        css_loc = \"#maincontent\"\n",
    "        story_title = soup.select(css_loc)[0].get_text()\n",
    "        \n",
    "        # story date\n",
    "        story_date = soup.select(\".vossi-timestamp\")[0].get_text()\n",
    "        \n",
    "        # story authors\n",
    "        story_author = soup.select(\".byline__name\")[0].get_text()\n",
    "\n",
    "        # let's nest all in a list\n",
    "        entry = {\"url\":url, \"story_title\":story_title.strip(),\n",
    "                  \"story_date\":story_date.strip(),\"text\":story_text}\n",
    "        \n",
    "        # return \n",
    "        return entry\n",
    "   "
   ]
  },
  {
   "cell_type": "markdown",
   "metadata": {},
   "source": [
    "Let's see if our function works:"
   ]
  },
  {
   "cell_type": "code",
   "execution_count": 29,
   "metadata": {},
   "outputs": [
    {
     "data": {
      "text/plain": [
       "{'url': 'https://www.cnn.com/2025/10/26/politics/mamdani-sanders-aoc-rally-nyc',\n",
       " 'story_title': 'Mamdani rallies with Sanders and Ocasio-Cortez as Democrats close ranks around NYC mayoral nominee',\n",
       " 'story_date': 'Updated Oct 26, 2025, 10:33 PM ET\\nPublished Oct 26, 2025, 12:03 PM ET\\n\\n\\n\\n\\n\\nUpdated Oct 26, 2025, 10:33 PM ET\\nPUBLISHED Oct 26, 2025, 12:03 PM ET',\n",
       " 'text': 'As New Yorkers cast their ballots in the city’s mayoral race, Democratic mayoral nominee Zohran Mamdani sent a message to voters Sunday, asking them not to choose “settling for the lesser of two evils,” warning his supporters to not take his double-digit lead in the polls as a guarantee.\\n“While Donald Trump’s donor billionaires think they have the money to buy this election, we have a movement of the masses,” Mamdani said to a roaring crowd.\\nMamdani took the stage at a raucous rally alongside Sen. Bernie Sanders and Rep. Alexandria Ocasio-Cortez at Forest Hills Stadium in Queens, where thousands of people chanted Mamdani’s name and repeated in unison his signature proposals to freeze the rent, make buses fast and free, and provide universal child care.\\nThe rally was part closing argument, part rallying of the troops ahead of the November 4 election, with Mamdani casting the race as a choice between democracy and oligarchy and Sanders and Ocasio Cortez touting Mamdani’s campaign as the vanguard of a progressive movement itching to push back on the second Trump administration.\\n“I’m talking to you, Donald Trump,” Ocasio-Cortez declared, saying that “in nine short days we will work our hearts out to elect Zohran Kwame Mamdani as the next mayor of the great city of New York.”\\nSanders, speaking in the Brooklyn accent he’s never shed, told the crowd Trump and “the rest of the world” were watching the election.\\n“A victory here in New York will give hope and inspiration to people throughout our country and throughout the world,” the Vermont senator said. “That is what this election is about, and that is why Donald Trump is paying attention to this election.”\\nAfter walking out to a roaring crowd and thumping Desi beat, a beaming Mamdani credited Ocasio-Cortez and Sanders, in particular, for inspiring the progressive movement that’s become the backbone of his campaign.\\n“I stand before you tonight, only because the senator dared to stand alone for so long. I speak the language of democratic socialism, only because he spoke it first,” Mamdani said. “And when we win on November 4 and then govern from City Hall with dignity as the foundation of our politics, it will be because of the movement that Bernie built.”\\nThe trio of leaders repeatedly nationalized the high-stakes New York mayoral contest, with Sanders remarking that “these are not normal times, this is not a normal election.” Each threaded calls to action against Republicans with critiques of the Democratic Party.\\n“While Donald Trump’s billionaire donors think that they have the money to buy this election, we have a movement of the masses,” Mamdani said. “No longer will we allow the Republican Party to be the one of ambition. No longer will we have to open a history book to read about Democrats leading with big ideas.”\\nOcasio-Cortez argued that “the very forces that Zohran is up against in this race mirrors what we are up against nationally, both an authoritarian criminal presidency, fueled by corruption and bigotry and an ascendant right-wing extremist movement.”\\nThe New York representative castigated the “insufficient, eroded, bygone political establishment, this time in the form of Andrew Cuomo.”\\nThe rally, though, reflected efforts to form a bridge between the upstart progressives and a wary Democratic establishment. Mamdani was also joined by New York Gov. Kathy Hochul — who endorsed his campaign just last month — as well as State Senate Majority Leader Andrea Stewart-Cousins and State Assembly Speaker Carl Heastie, a show of support in the closing stretch of the divisive race.\\n“Any person who wants to the mayor of the city in New York, to have three people you probably have to work with the most” showing support gives Mamdani “momentum into trying to achieve his agenda,” Heastie told CNN at the rally.\\nAddressing the crowd, Hochul echoed that sentiment. “The three of us can’t do it alone. We need a fighter in City Hall, who wakes up every day, ready to punch and fight for the working people of the city, and that person is Zohran Mamdani,” she said, repeatedly interrupted by chants of “tax the rich.”\\nHochul has said she opposes Mamdani’s plan to tax the wealthy. With her own election next year, Hochul will be under pressure to deliver for Mamdani if he wins, but also to keep taxes from increasing. As the shouts continued through her speech, Mamdani came onstage and embraced her before the two walked off together.\\nHochul also praised Mamdani for showing “grace, and courage and grit” during his campaign and criticized “Islamophobia and bigotry and hate-filled speech” directed his way.\\n“That kind of bullsh*t doesn’t belong in New York,” the governor told the fired-up crowd.\\nThe rowdy atmosphere was underscored by New York Comptroller Brad Lander — a former primary rival of Mamdani who quickly threw his support behind the upstart progressive — reprising a rousing condemnation of former Gov. Andrew Cuomo, who’s running as an independent, and the anti-Mamdani coalition.\\n“We had to send that corrupt, abusive bully Andrew Cuomo back to the suburbs. I said it on election night and I can’t wait to say it again next Tuesday — good f**king riddance!” Lander said.\\nThe rally’s slogan, “New York Is Not for Sale,” was a dig at the vocal wealthy New Yorkers, including Bill Ackman and John Catsimatidis, who have been speaking out in opposition to Mamdani’s candidacy, and in many cases donating to the super PAC aligned with Cuomo.\\n“We have the same billionaires who funded Donald Trump’s campaign funding Andrew Cuomo’s, and whether it be Bill Ackman or the Waltons, people who think they can look at a city like ours, they can appraise it and they can buy it,” Mamdani told CNN in an exclusive interview Sunday.\\nHe noted the rally’s slogan was a callback to Sanders’ own mayoral campaign in Burlington, Vermont, three decades ago.\\n“He said when he was running to be the mayor of Burlington, that Burlington is not for sale,” Mamdani said. “It continues to be the rallying cry for working-class people across this country, and for us, it’s that New York City is not for sale.”\\nThe rally came amid a surge in early voting turnout, with more than five times as many New Yorkers voting during the first weekend of early in-person voting for this year’s mayoral election compared with four years ago.\\nData released Sunday by the New York City Board of Elections shows 164,190 people voted this weekend. During the first weekend of early voting in 2021 — the first mayoral election where it was an option — only 31,176 people voted.\\nThis story and headline have been updated with additional developments.\\nCNN’s Ethan Cohen contributed to this report.'}"
      ]
     },
     "execution_count": 29,
     "metadata": {},
     "output_type": "execute_result"
    }
   ],
   "source": [
    "# Test on the same case\n",
    "url = \"https://www.cnn.com/2025/10/26/politics/mamdani-sanders-aoc-rally-nyc\"\n",
    "scrap_news = cnn_scraper(url=url)\n",
    "scrap_news"
   ]
  },
  {
   "cell_type": "markdown",
   "metadata": {},
   "source": [
    "### beautiful!"
   ]
  },
  {
   "cell_type": "markdown",
   "metadata": {},
   "source": [
    "Let's now assume you actually have a list of urls. So we will iterated our scrapper through this list.\n",
    "\n"
   ]
  },
  {
   "cell_type": "code",
   "execution_count": 30,
   "metadata": {},
   "outputs": [],
   "source": [
    "# create a list of urls\n",
    "urls = [\"https://www.cnn.com/2025/10/26/politics/mamdani-sanders-aoc-rally-nyc\", \n",
    "        \"https://www.cnn.com/2025/10/26/politics/jessica-tisch-zohran-mamdani-election\",\n",
    "       \"https://www.cnn.com/2025/10/24/politics/fact-check-ballroom-press-secretary\", \n",
    "       \"https://www.cnn.com/2025/09/26/politics/cnn-independents-poll-methodology\"]"
   ]
  },
  {
   "cell_type": "code",
   "execution_count": 31,
   "metadata": {},
   "outputs": [
    {
     "name": "stdout",
     "output_type": "stream",
     "text": [
      "https://www.cnn.com/2025/10/26/politics/mamdani-sanders-aoc-rally-nyc\n",
      "https://www.cnn.com/2025/10/26/politics/jessica-tisch-zohran-mamdani-election\n",
      "https://www.cnn.com/2025/10/24/politics/fact-check-ballroom-press-secretary\n",
      "https://www.cnn.com/2025/09/26/politics/cnn-independents-poll-methodology\n"
     ]
    }
   ],
   "source": [
    "# Then just loop through and collect\n",
    "scraped_data = []\n",
    "\n",
    "for url in urls:\n",
    "\n",
    "    # Scrape the content\n",
    "    scraped_data.append(cnn_scraper(url))\n",
    "\n",
    "    # Put the system to sleep for a random draw of time (be kind)\n",
    "    time.sleep(random.uniform(.5,1))\n",
    "    \n",
    "    print(url)"
   ]
  },
  {
   "cell_type": "code",
   "execution_count": 32,
   "metadata": {},
   "outputs": [
    {
     "data": {
      "text/plain": [
       "{'url': 'https://www.cnn.com/2025/09/26/politics/cnn-independents-poll-methodology',\n",
       " 'story_title': 'How CNN conducted its deep dive into independent US adults',\n",
       " 'story_date': 'Updated Sep 26, 2025, 5:00 AM ET\\nPublished Sep 26, 2025, 5:00 AM ET\\n\\n\\n\\n\\n\\nPUBLISHED Sep 26, 2025, 5:00 AM ET',\n",
       " 'text': 'The CNN poll conducted by SSRS was designed to offer a deep-dive look at the different types of independents that make up this critical group in American politics.\\nThe survey was conducted both online and by telephone from August 21 through September 1. The 2,077 adults who took the poll were selected from two sample sources – the SSRS Opinion Panel and a list of registered voters, including some who had previously taken a CNN survey conducted in April. The survey included 1,006 political independents, defined as people who said they were independents or did not identify with either major political party. The sample was designed to include a larger than usual number of political independents in order to get a more reliable picture of their views. It was then weighted to partisan benchmarks obtained from CNN’s May 2025 national survey so that each party represents its proper share within the full adult results. The full sample was also weighted to demographic and other benchmarks to ensure that it is representative of the adult population.\\nIndependents’ answers to the survey questions were combined to create five different scales assessing the depth of respondents’ connections to the Democratic and Republican parties, their level of political engagement, their confidence in the political system, the extent to which they feel represented by the political system and their degree of openness to both Democrats and Republicans. Those scales were used as part of a statistical technique called K-means cluster analysis – which groups together respondents with similar answers across all five scales into separate groups – to create the five resulting subgroups of independents.\\nThe project took inspiration from a 2007 Washington Post/KFF/Harvard School of Public Health project which also segmented political independents using similar techniques. Several questions from the 2007 survey were repeated in the new poll. Three of the resulting groups in the new project are similar to those found in 2007. The other two are quite different, likely reflecting the significant changes in the American political climate over that time.\\nResults for the full sample have a margin of sampling error of plus or minus 2.7 percentage points. Among the sample of 1,006 independents, the error margin is +/-4.2 points. The margin of sampling error for results among the five subgroups of independents ranges from +/-7.9 percentage points to +/-10.7 points.'}"
      ]
     },
     "execution_count": 32,
     "metadata": {},
     "output_type": "execute_result"
    }
   ],
   "source": [
    "# Look at the data object\n",
    "scraped_data[3]"
   ]
  },
  {
   "cell_type": "code",
   "execution_count": 33,
   "metadata": {
    "scrolled": true
   },
   "outputs": [
    {
     "data": {
      "text/html": [
       "<div>\n",
       "<style scoped>\n",
       "    .dataframe tbody tr th:only-of-type {\n",
       "        vertical-align: middle;\n",
       "    }\n",
       "\n",
       "    .dataframe tbody tr th {\n",
       "        vertical-align: top;\n",
       "    }\n",
       "\n",
       "    .dataframe thead th {\n",
       "        text-align: right;\n",
       "    }\n",
       "</style>\n",
       "<table border=\"1\" class=\"dataframe\">\n",
       "  <thead>\n",
       "    <tr style=\"text-align: right;\">\n",
       "      <th></th>\n",
       "      <th>url</th>\n",
       "      <th>story_title</th>\n",
       "      <th>story_date</th>\n",
       "      <th>text</th>\n",
       "    </tr>\n",
       "  </thead>\n",
       "  <tbody>\n",
       "    <tr>\n",
       "      <th>0</th>\n",
       "      <td>https://www.cnn.com/2025/10/26/politics/mamdan...</td>\n",
       "      <td>Mamdani rallies with Sanders and Ocasio-Cortez...</td>\n",
       "      <td>Updated Oct 26, 2025, 10:33 PM ET\\nPublished O...</td>\n",
       "      <td>As New Yorkers cast their ballots in the city’...</td>\n",
       "    </tr>\n",
       "    <tr>\n",
       "      <th>1</th>\n",
       "      <td>https://www.cnn.com/2025/10/26/politics/jessic...</td>\n",
       "      <td>Mamdani takes a risk, courts NYPD Commissioner...</td>\n",
       "      <td>Updated Oct 26, 2025, 1:56 PM ET\\nPublished Oc...</td>\n",
       "      <td>One of the most high-profile job interviews in...</td>\n",
       "    </tr>\n",
       "    <tr>\n",
       "      <th>2</th>\n",
       "      <td>https://www.cnn.com/2025/10/24/politics/fact-c...</td>\n",
       "      <td>Fact check: Democratic leaders misleadingly sn...</td>\n",
       "      <td>Updated Oct 24, 2025, 2:08 PM ET\\nPublished Oc...</td>\n",
       "      <td>Top Democrats in the Senate and House of Repre...</td>\n",
       "    </tr>\n",
       "    <tr>\n",
       "      <th>3</th>\n",
       "      <td>https://www.cnn.com/2025/09/26/politics/cnn-in...</td>\n",
       "      <td>How CNN conducted its deep dive into independe...</td>\n",
       "      <td>Updated Sep 26, 2025, 5:00 AM ET\\nPublished Se...</td>\n",
       "      <td>The CNN poll conducted by SSRS was designed to...</td>\n",
       "    </tr>\n",
       "  </tbody>\n",
       "</table>\n",
       "</div>"
      ],
      "text/plain": [
       "                                                 url  \\\n",
       "0  https://www.cnn.com/2025/10/26/politics/mamdan...   \n",
       "1  https://www.cnn.com/2025/10/26/politics/jessic...   \n",
       "2  https://www.cnn.com/2025/10/24/politics/fact-c...   \n",
       "3  https://www.cnn.com/2025/09/26/politics/cnn-in...   \n",
       "\n",
       "                                         story_title  \\\n",
       "0  Mamdani rallies with Sanders and Ocasio-Cortez...   \n",
       "1  Mamdani takes a risk, courts NYPD Commissioner...   \n",
       "2  Fact check: Democratic leaders misleadingly sn...   \n",
       "3  How CNN conducted its deep dive into independe...   \n",
       "\n",
       "                                          story_date  \\\n",
       "0  Updated Oct 26, 2025, 10:33 PM ET\\nPublished O...   \n",
       "1  Updated Oct 26, 2025, 1:56 PM ET\\nPublished Oc...   \n",
       "2  Updated Oct 24, 2025, 2:08 PM ET\\nPublished Oc...   \n",
       "3  Updated Sep 26, 2025, 5:00 AM ET\\nPublished Se...   \n",
       "\n",
       "                                                text  \n",
       "0  As New Yorkers cast their ballots in the city’...  \n",
       "1  One of the most high-profile job interviews in...  \n",
       "2  Top Democrats in the Senate and House of Repre...  \n",
       "3  The CNN poll conducted by SSRS was designed to...  "
      ]
     },
     "execution_count": 33,
     "metadata": {},
     "output_type": "execute_result"
    }
   ],
   "source": [
    "# Organize as a pandas data frame\n",
    "dat = pd.DataFrame(scraped_data)\n",
    "dat.head()"
   ]
  },
  {
   "cell_type": "markdown",
   "metadata": {},
   "source": [
    "This completes all the steps of scraping: \n",
    "    \n",
    "- Step 1: Find a website with information you want to collect\n",
    "- Step 2: Understand the website\n",
    "- Step 3: Write code to collect one realization of the data\n",
    "- Step 4: Build a scraper -- generalize you code into a function.\n",
    "- Step 5: Save\n"
   ]
  },
  {
   "cell_type": "markdown",
   "metadata": {},
   "source": [
    "### Collecting multiple urls\n",
    "\n",
    "It is unlikely you will ever have a complete list of urls you want to scrap. Most likely collecting the full list of sources will be a step on your scraping task. Remember, urls usually come embedded as tags attributes. So let's write a function to collect multiple urls from the CNN website. Let's do so following all our pre-determined steps"
   ]
  },
  {
   "cell_type": "code",
   "execution_count": 34,
   "metadata": {},
   "outputs": [],
   "source": [
    "# Step 1: Find a website with information you want to collect\n",
    "## let's get links on cnn politics\n",
    "url = \"https://www.cnn.com/politics\""
   ]
  },
  {
   "cell_type": "code",
   "execution_count": 35,
   "metadata": {},
   "outputs": [
    {
     "data": {
      "text/plain": [
       "'https://www.cnn.com/politics'"
      ]
     },
     "execution_count": 35,
     "metadata": {},
     "output_type": "execute_result"
    }
   ],
   "source": [
    "url"
   ]
  },
  {
   "cell_type": "code",
   "execution_count": 36,
   "metadata": {},
   "outputs": [],
   "source": [
    "# Step 2: Understand the website\n",
    "# links are embedded across multiple titles. \n",
    "# these titles have the follwing tag <.container__headline span>"
   ]
  },
  {
   "cell_type": "code",
   "execution_count": 37,
   "metadata": {},
   "outputs": [],
   "source": [
    "# Step 3: Write code to collect one realization of the data\n",
    "# Get access to the website\n",
    "page = requests.get(url)\n",
    "# create an bs object.\n",
    "soup = BeautifulSoup(page.content, 'html.parser') # input 1: request content; input 2: tell you need an html parser"
   ]
  },
  {
   "cell_type": "code",
   "execution_count": 38,
   "metadata": {},
   "outputs": [
    {
     "data": {
      "text/plain": [
       "[<li class=\"card container__item container__item--type-media-image container__item--type-section container_lead-plus-headlines__item container_lead-plus-headlines__item--type-section container_lead-plus-headlines__selected\" data-component-name=\"card\" data-created-updated-by=\"true\" data-open-link=\"/2025/10/21/politics/va-therapists-treatment-sessions-limited\" data-page=\"cms.cnn.com/_pages/cmgzg04d1004326p2g8ur5dmw@published\" data-unselectable=\"true\" data-uri=\"cms.cnn.com/_components/card/instances/clbdmol44002m3d6euos0g5zg_fill_1@published\" data-word-count=\"1741\">\n",
       " <a class=\"container__link container__link--type-article container_lead-plus-headlines__link\" data-link-type=\"article\" href=\"/2025/10/21/politics/va-therapists-treatment-sessions-limited\">\n",
       " <div class=\"container__item-media-wrapper container_lead-plus-headlines__item-media-wrapper\" data-breakpoints='{\"card--media-large\": 525, \"card--media-extra-large\": 660, \"card--media-card-label-show\": 200}'>\n",
       " <div class=\"container__item-media container_lead-plus-headlines__item-media\">\n",
       " <div class=\"image image__hide-placeholder\" data-breakpoints='{\"image--eq-extra-small\": 115, \"image--eq-small\": 300, \"image--eq-large\": 660}' data-component-name=\"image\" data-image-variation=\"image\" data-name=\"GettyImages-2197525781.jpg\" data-observe-resizes=\"\" data-original-height=\"1600\" data-original-ratio=\"0.6666666666666666\" data-original-width=\"2400\" data-unselectable=\"true\" data-uri=\"cms.cnn.com/_components/image/instances/card_clbdmol44002m3d6euos0g5zg_fill_1@published\" data-url=\"https://media.cnn.com/api/v1/images/stellar/prod/gettyimages-2197525781.jpg?c=original\">\n",
       " <script>function imageLoadError(img) {\n",
       "     const fallbackImage = '/media/sites/cnn/cnn-fallback-image.jpg';\n",
       " \n",
       "     img.removeAttribute('onerror');\n",
       "     img.src = fallbackImage;\n",
       "     let element = img.previousElementSibling;\n",
       " \n",
       "     while (element && element.tagName === 'SOURCE') {\n",
       "       element.srcset = fallbackImage;\n",
       "       element = element.previousElementSibling;\n",
       "     }\n",
       " \n",
       "     img.dataset?.imgCssVars.split(',').forEach((property) => {\n",
       "       img.style.removeProperty(property);\n",
       "     });\n",
       "   }</script>\n",
       " <div class=\"image__container\" data-breakpoints='{\"image--eq-extra-small\": 115, \"image--eq-small\": 300, \"image--show-credits\": 525}' data-image-variation=\"image\">\n",
       " <picture class=\"image__picture\"><source height=\"438\" media=\"(min-width: 1280px)\" srcset=\"https://media.cnn.com/api/v1/images/stellar/prod/gettyimages-2197525781.jpg?c=16x9&amp;q=h_438,w_780,c_fill\" width=\"780\"/><source height=\"438\" media=\"(min-width: 960px)\" srcset=\"https://media.cnn.com/api/v1/images/stellar/prod/gettyimages-2197525781.jpg?c=16x9&amp;q=h_438,w_780,c_fill\" width=\"780\"/><source height=\"270\" media=\"(min-width: 480px)\" srcset=\"https://media.cnn.com/api/v1/images/stellar/prod/gettyimages-2197525781.jpg?c=16x9&amp;q=h_270,w_480,c_fill\" width=\"480\"/><source height=\"270\" media=\"(max-width: 479px)\" srcset=\"https://media.cnn.com/api/v1/images/stellar/prod/gettyimages-2197525781.jpg?c=16x9&amp;q=h_270,w_480,c_fill\" width=\"480\"/><img alt=\"The Department of Veterans Affairs headquarters in Washington, DC, on February 7, 2025.\" class=\"image__dam-img image__dam-img--loading\" height=\"1600\" onerror=\"imageLoadError(this)\" onload=\"this.classList.remove('image__dam-img--loading')\" src=\"https://media.cnn.com/api/v1/images/stellar/prod/gettyimages-2197525781.jpg?c=16x9&amp;q=h_438,w_780,c_fill\" width=\"2400\"/></picture>\n",
       " </div>\n",
       " <div class=\"image__metadata\"><figcaption class=\"image__credit\">Stefani Reynolds/Bloomberg/Getty Images/File</figcaption></div>\n",
       " </div>\n",
       " </div>\n",
       " </div>\n",
       " </a>\n",
       " <a class=\"container__link container__link--type-article container_lead-plus-headlines__link\" data-link-type=\"article\" href=\"/2025/10/21/politics/va-therapists-treatment-sessions-limited\">\n",
       " <div class=\"container__text container_lead-plus-headlines__text\">\n",
       " <div class=\"container__headline container_lead-plus-headlines__headline\">\n",
       " <span class=\"container__headline-text\" data-editable=\"headline\">Some VA therapists and patients say their treatment sessions are being limited, raising alarm</span>\n",
       " </div>\n",
       " </div>\n",
       " </a>\n",
       " </li>,\n",
       " <li class=\"card container__item container__item--type-media-image container__item--type-section container_lead-plus-headlines__item container_lead-plus-headlines__item--type-section container_lead-plus-headlines__selected\" data-component-name=\"card\" data-created-updated-by=\"true\" data-open-link=\"/2025/10/27/politics/joe-biden-kennedy-award\" data-page=\"cms.cnn.com/_pages/cmh8bj8gq004u25qifc009fwb@published\" data-unselectable=\"true\" data-uri=\"cms.cnn.com/_components/card/instances/clbdmol44002m3d6euos0g5zg_fill_2@published\" data-word-count=\"465\">\n",
       " <a class=\"container__link container__link--type-article container_lead-plus-headlines__link\" data-link-type=\"article\" href=\"/2025/10/27/politics/joe-biden-kennedy-award\">\n",
       " <div class=\"container__text container_lead-plus-headlines__text\">\n",
       " <div class=\"container__headline container_lead-plus-headlines__headline\">\n",
       " <!-- This needs to be all one one line or it will cause unwanted spacing due to handlebar output -->\n",
       " <span class=\"container__headline-text\" data-editable=\"headline\">Biden warns of dark days for the country as he urges Americans to stay optimistic</span>\n",
       " </div>\n",
       " </div>\n",
       " </a>\n",
       " </li>,\n",
       " <li class=\"card container__item container__item--type-media-image container__item--type-section container_lead-plus-headlines__item container_lead-plus-headlines__item--type-section container_lead-plus-headlines__selected\" data-component-name=\"card\" data-created-updated-by=\"true\" data-open-link=\"/2025/10/27/politics/donald-trump-mri-health-walter-reed\" data-page=\"cms.cnn.com/_pages/cmh8xvkxg005z26nr6gj073nt@published\" data-unselectable=\"true\" data-uri=\"cms.cnn.com/_components/card/instances/clbdmol44002m3d6euos0g5zg_fill_3@published\" data-word-count=\"380\">\n",
       " <a class=\"container__link container__link--type-article container_lead-plus-headlines__link\" data-link-type=\"article\" href=\"/2025/10/27/politics/donald-trump-mri-health-walter-reed\">\n",
       " <div class=\"container__text container_lead-plus-headlines__text\">\n",
       " <div class=\"container__headline container_lead-plus-headlines__headline\">\n",
       " <!-- This needs to be all one one line or it will cause unwanted spacing due to handlebar output -->\n",
       " <span class=\"container__headline-text\" data-editable=\"headline\">Trump says he received an MRI during trip to Walter Reed medical center</span>\n",
       " </div>\n",
       " </div>\n",
       " </a>\n",
       " </li>,\n",
       " <li class=\"card container__item container__item--type-media-image container__item--type-section container_lead-plus-headlines__item container_lead-plus-headlines__item--type-section container_lead-plus-headlines__selected\" data-component-name=\"card\" data-created-updated-by=\"true\" data-open-link=\"/2025/10/27/politics/mike-braun-indiana-redistricting\" data-page=\"cms.cnn.com/_pages/cmh97g1us004x27nx8xj4hvja@published\" data-unselectable=\"true\" data-uri=\"cms.cnn.com/_components/card/instances/clbdmol44002m3d6euos0g5zg_fill_4@published\" data-word-count=\"676\">\n",
       " <a class=\"container__link container__link--type-article container_lead-plus-headlines__link\" data-link-type=\"article\" href=\"/2025/10/27/politics/mike-braun-indiana-redistricting\">\n",
       " <div class=\"container__text container_lead-plus-headlines__text\">\n",
       " <div class=\"container__headline container_lead-plus-headlines__headline\">\n",
       " <!-- This needs to be all one one line or it will cause unwanted spacing due to handlebar output -->\n",
       " <span class=\"container__headline-text\" data-editable=\"headline\">Indiana Gov. Mike Braun calls a special session to redraw the state’s congressional boundaries</span>\n",
       " </div>\n",
       " </div>\n",
       " </a>\n",
       " </li>,\n",
       " <li class=\"card container__item container__item--type-media-image container__item--type-section container_lead-plus-headlines__item container_lead-plus-headlines__item--type-section container_lead-plus-headlines__selected\" data-component-name=\"card\" data-created-updated-by=\"true\" data-open-link=\"/2025/10/27/politics/nuclear-weapons-shutdown-delay-trump-nnsa\" data-page=\"cms.cnn.com/_pages/cmh54h7bb000027p86h688e31@published\" data-unselectable=\"true\" data-uri=\"cms.cnn.com/_components/card/instances/clbdmol44002m3d6euos0g5zg_fill_5@published\" data-word-count=\"1231\">\n",
       " <a class=\"container__link container__link--type-article container_lead-plus-headlines__link\" data-link-type=\"article\" href=\"/2025/10/27/politics/nuclear-weapons-shutdown-delay-trump-nnsa\">\n",
       " <div class=\"container__text container_lead-plus-headlines__text\">\n",
       " <div class=\"container__headline container_lead-plus-headlines__headline\">\n",
       " <!-- This needs to be all one one line or it will cause unwanted spacing due to handlebar output -->\n",
       " <span class=\"container__text-label container__text-label--type-for-subscribers container_lead-plus-headlines__text-label container_lead-plus-headlines__text-label--type-for-subscribers\"><span class=\"container__text-label--icon\"></span><span class=\"container__text-label--text-content\">For Subscribers</span></span>\n",
       " <span class=\"container__headline-text\" data-editable=\"headline\">How the shutdown threatens to halt Trump’s aggressive nuclear security goals</span>\n",
       " </div>\n",
       " </div>\n",
       " </a>\n",
       " </li>,\n",
       " <li class=\"card container__item container__item--type-media-image container__item--type-section container_lead-plus-headlines__item container_lead-plus-headlines__item--type-section container_lead-plus-headlines__selected\" data-component-name=\"card\" data-created-updated-by=\"true\" data-open-link=\"/2025/10/27/politics/government-shutdown-snap-food-stamps\" data-page=\"cms.cnn.com/_pages/cmh562kzz000z26p375xo5v8p@published\" data-unselectable=\"true\" data-uri=\"cms.cnn.com/_components/card/instances/clbdmol44002m3d6euos0g5zg_fill_6@published\" data-word-count=\"1048\">\n",
       " <a class=\"container__link container__link--type-article container_lead-plus-headlines__link\" data-link-type=\"article\" href=\"/2025/10/27/politics/government-shutdown-snap-food-stamps\">\n",
       " <div class=\"container__text container_lead-plus-headlines__text\">\n",
       " <div class=\"container__headline container_lead-plus-headlines__headline\">\n",
       " <!-- This needs to be all one one line or it will cause unwanted spacing due to handlebar output -->\n",
       " <span class=\"container__headline-text\" data-editable=\"headline\">Democrats unflinching in shutdown strategy, blaming Trump with millions at risk of losing food aid</span>\n",
       " </div>\n",
       " </div>\n",
       " </a>\n",
       " </li>,\n",
       " <li class=\"card container__item container__item--type-media-image container__item--type-section container_lead-plus-headlines__item container_lead-plus-headlines__item--type-section container_lead-plus-headlines__selected\" data-component-name=\"card\" data-created-updated-by=\"true\" data-open-link=\"/2025/10/27/politics/sean-duffy-nasa-transportation\" data-page=\"cms.cnn.com/_pages/cmh92d0qp005z2ap682o03sa1@published\" data-unselectable=\"true\" data-uri=\"cms.cnn.com/_components/card/instances/clbdmol44002m3d6euos0g5zg_fill_7@published\" data-word-count=\"586\">\n",
       " <a class=\"container__link container__link--type-article container_lead-plus-headlines__link\" data-link-type=\"article\" href=\"/2025/10/27/politics/sean-duffy-nasa-transportation\">\n",
       " <div class=\"container__text container_lead-plus-headlines__text\">\n",
       " <div class=\"container__headline container_lead-plus-headlines__headline\">\n",
       " <!-- This needs to be all one one line or it will cause unwanted spacing due to handlebar output -->\n",
       " <span class=\"container__headline-text\" data-editable=\"headline\">Sean Duffy irks White House as drama over top job at NASA seeps into public view</span>\n",
       " </div>\n",
       " </div>\n",
       " </a>\n",
       " </li>,\n",
       " <li class=\"card container__item container__item--type-media-image container__item--type-section container_lead-plus-headlines__item container_lead-plus-headlines__item--type-section container_lead-plus-headlines__selected\" data-component-name=\"card\" data-created-updated-by=\"true\" data-open-link=\"/2025/10/26/politics/navy-aircraft-crash-south-china-sea\" data-page=\"cms.cnn.com/_pages/cmh8c1382002x28nx5wvs9npq@published\" data-unselectable=\"true\" data-uri=\"cms.cnn.com/_components/card/instances/clbdmol44002m3d6euos0g5zg_fill_8@published\" data-word-count=\"455\">\n",
       " <a class=\"container__link container__link--type-article container_lead-plus-headlines__link\" data-link-type=\"article\" href=\"/2025/10/26/politics/navy-aircraft-crash-south-china-sea\">\n",
       " <div class=\"container__text container_lead-plus-headlines__text\">\n",
       " <div class=\"container__headline container_lead-plus-headlines__headline\">\n",
       " <!-- This needs to be all one one line or it will cause unwanted spacing due to handlebar output -->\n",
       " <span class=\"container__headline-text\" data-editable=\"headline\">US Navy helicopter and fighter jet crash in separate incidents in the South China Sea</span>\n",
       " </div>\n",
       " </div>\n",
       " </a>\n",
       " </li>,\n",
       " <li class=\"card container__item container__item--type-media-image container__item--type-section container_lead-plus-headlines__item container_lead-plus-headlines__item--type-section container_lead-plus-headlines__selected\" data-component-name=\"card\" data-created-updated-by=\"true\" data-open-link=\"/2025/10/27/politics/trump-asia-latin-america\" data-page=\"cms.cnn.com/_pages/cmh88wvlw004y26p3czoz59ur@published\" data-unselectable=\"true\" data-uri=\"cms.cnn.com/_components/card/instances/clbdmoqpi002v3d6ewn6g7x8f_fill_1@published\" data-word-count=\"1832\">\n",
       " <a class=\"container__link container__link--type-article container_lead-plus-headlines__link\" data-link-type=\"article\" href=\"/2025/10/27/politics/trump-asia-latin-america\">\n",
       " <div class=\"container__item-media-wrapper container_lead-plus-headlines__item-media-wrapper\" data-breakpoints='{\"card--media-large\": 525, \"card--media-extra-large\": 660, \"card--media-card-label-show\": 200}'>\n",
       " <div class=\"container__item-media container_lead-plus-headlines__item-media\">\n",
       " <div class=\"image image__hide-placeholder\" data-breakpoints='{\"image--eq-extra-small\": 115, \"image--eq-small\": 300, \"image--eq-large\": 660}' data-component-name=\"image\" data-image-variation=\"image\" data-name=\"GettyImages-2242705715.jpg\" data-observe-resizes=\"\" data-original-height=\"3248\" data-original-ratio=\"0.7143171321750604\" data-original-width=\"4547\" data-unselectable=\"true\" data-uri=\"cms.cnn.com/_components/image/instances/card_clbdmoqpi002v3d6ewn6g7x8f_fill_1@published\" data-url=\"https://media.cnn.com/api/v1/images/stellar/prod/gettyimages-2242705715-20251025043556514.jpg?c=original\">\n",
       " <div class=\"image__container\" data-breakpoints='{\"image--eq-extra-small\": 115, \"image--eq-small\": 300, \"image--show-credits\": 525}' data-image-variation=\"image\">\n",
       " <picture class=\"image__picture\"><source height=\"438\" media=\"(min-width: 1280px)\" srcset=\"https://media.cnn.com/api/v1/images/stellar/prod/gettyimages-2242705715-20251025043556514.jpg?c=16x9&amp;q=h_438,w_780,c_fill\" width=\"780\"/><source height=\"438\" media=\"(min-width: 960px)\" srcset=\"https://media.cnn.com/api/v1/images/stellar/prod/gettyimages-2242705715-20251025043556514.jpg?c=16x9&amp;q=h_438,w_780,c_fill\" width=\"780\"/><source height=\"270\" media=\"(min-width: 480px)\" srcset=\"https://media.cnn.com/api/v1/images/stellar/prod/gettyimages-2242705715-20251025043556514.jpg?c=16x9&amp;q=h_270,w_480,c_fill\" width=\"480\"/><source height=\"270\" media=\"(max-width: 479px)\" srcset=\"https://media.cnn.com/api/v1/images/stellar/prod/gettyimages-2242705715-20251025043556514.jpg?c=16x9&amp;q=h_270,w_480,c_fill\" width=\"480\"/><img alt=\"The USS Gerald R. Ford transits the Strait of Gibraltar on October 1.\" class=\"image__dam-img image__dam-img--loading\" height=\"3248\" onerror=\"imageLoadError(this)\" onload=\"this.classList.remove('image__dam-img--loading')\" src=\"https://media.cnn.com/api/v1/images/stellar/prod/gettyimages-2242705715-20251025043556514.jpg?c=16x9&amp;q=h_438,w_780,c_fill\" width=\"4547\"/></picture>\n",
       " </div>\n",
       " <div class=\"image__metadata\"><figcaption class=\"image__credit\">Alyssa Joy/US Navy/Getty Images</figcaption></div>\n",
       " </div>\n",
       " </div>\n",
       " </div>\n",
       " </a>\n",
       " <a class=\"container__link container__link--type-article container_lead-plus-headlines__link\" data-link-type=\"article\" href=\"/2025/10/27/politics/trump-asia-latin-america\">\n",
       " <div class=\"container__text container_lead-plus-headlines__text\">\n",
       " <div class=\"container__headline container_lead-plus-headlines__headline\">\n",
       " <span class=\"container__headline-text\" data-editable=\"headline\">MAGA hero hands big win to Trump’s Latin America strategy</span>\n",
       " </div>\n",
       " </div>\n",
       " </a>\n",
       " </li>,\n",
       " <li class=\"card container__item container__item--type-media-image container__item--type-section container_lead-plus-headlines__item container_lead-plus-headlines__item--type-section container_lead-plus-headlines__selected\" data-component-name=\"card\" data-created-updated-by=\"true\" data-open-link=\"/2025/10/25/politics/national-guard-troops-cities-grover-cleveland-explainer\" data-page=\"cms.cnn.com/_pages/cmh3mtqye00mu27p7eoegc2o5@published\" data-unselectable=\"true\" data-uri=\"cms.cnn.com/_components/card/instances/clbdmoqpi002v3d6ewn6g7x8f_fill_2@published\" data-word-count=\"819\">\n",
       " <a class=\"container__link container__link--type-article container_lead-plus-headlines__link\" data-link-type=\"article\" href=\"/2025/10/25/politics/national-guard-troops-cities-grover-cleveland-explainer\">\n",
       " <div class=\"container__text container_lead-plus-headlines__text\">\n",
       " <div class=\"container__headline container_lead-plus-headlines__headline\">\n",
       " <!-- This needs to be all one one line or it will cause unwanted spacing due to handlebar output -->\n",
       " <span class=\"container__headline-text\" data-editable=\"headline\">Why one of Trump’s favorite presidents sent troops to US cities</span>\n",
       " </div>\n",
       " </div>\n",
       " </a>\n",
       " </li>,\n",
       " <li class=\"card container__item container__item--type-media-image container__item--type-section container_lead-plus-headlines__item container_lead-plus-headlines__item--type-section container_lead-plus-headlines__selected\" data-component-name=\"card\" data-created-updated-by=\"true\" data-open-link=\"/2025/10/25/politics/east-wing-demolition-white-house-trump-analysis\" data-page=\"cms.cnn.com/_pages/cmh4ys9mx000026qf5lzdbgeh@published\" data-unselectable=\"true\" data-uri=\"cms.cnn.com/_components/card/instances/clbdmoqpi002v3d6ewn6g7x8f_fill_3@published\" data-word-count=\"958\">\n",
       " <a class=\"container__link container__link--type-article container_lead-plus-headlines__link\" data-link-type=\"article\" href=\"/2025/10/25/politics/east-wing-demolition-white-house-trump-analysis\">\n",
       " <div class=\"container__text container_lead-plus-headlines__text\">\n",
       " <div class=\"container__headline container_lead-plus-headlines__headline\">\n",
       " <!-- This needs to be all one one line or it will cause unwanted spacing due to handlebar output -->\n",
       " <span class=\"container__headline-text\" data-editable=\"headline\">The East Wing demolition speaks to Trump’s wrecking-ball presidency</span>\n",
       " </div>\n",
       " </div>\n",
       " </a>\n",
       " </li>,\n",
       " <li class=\"card container__item container__item--type-media-image container__item--type-section container_lead-plus-headlines__item container_lead-plus-headlines__item--type-section container_lead-plus-headlines__selected\" data-component-name=\"card\" data-created-updated-by=\"true\" data-open-link=\"/2025/10/23/politics/trump-potential-230-million-doj-payment-analysis\" data-page=\"cms.cnn.com/_pages/cmh2gsw1600iy27p9at1351p7@published\" data-unselectable=\"true\" data-uri=\"cms.cnn.com/_components/card/instances/clbdmoqpi002v3d6ewn6g7x8f_fill_4@published\" data-word-count=\"1349\">\n",
       " <a class=\"container__link container__link--type-article container_lead-plus-headlines__link\" data-link-type=\"article\" href=\"/2025/10/23/politics/trump-potential-230-million-doj-payment-analysis\">\n",
       " <div class=\"container__text container_lead-plus-headlines__text\">\n",
       " <div class=\"container__headline container_lead-plus-headlines__headline\">\n",
       " <!-- This needs to be all one one line or it will cause unwanted spacing due to handlebar output -->\n",
       " <span class=\"container__headline-text\" data-editable=\"headline\">Trump’s potential $230 million DOJ payment would be astonishing — even for him</span>\n",
       " </div>\n",
       " </div>\n",
       " </a>\n",
       " </li>,\n",
       " <li class=\"card container__item container__item--type-media-image container__item--type-section container_lead-plus-headlines__item container_lead-plus-headlines__item--type-section container_lead-plus-headlines__selected\" data-component-name=\"card\" data-created-updated-by=\"true\" data-open-link=\"/2025/10/21/politics/white-house-renovations-history\" data-page=\"cms.cnn.com/_pages/cmh109dd000ed27qohl8fez6i@published\" data-unselectable=\"true\" data-uri=\"cms.cnn.com/_components/card/instances/clbdmoqpi002v3d6ewn6g7x8f_fill_5@published\" data-word-count=\"935\">\n",
       " <a class=\"container__link container__link--type-article container_lead-plus-headlines__link\" data-link-type=\"article\" href=\"/2025/10/21/politics/white-house-renovations-history\">\n",
       " <div class=\"container__text container_lead-plus-headlines__text\">\n",
       " <div class=\"container__headline container_lead-plus-headlines__headline\">\n",
       " <!-- This needs to be all one one line or it will cause unwanted spacing due to handlebar output -->\n",
       " <span class=\"container__headline-text\" data-editable=\"headline\">The new East Wing: Caesars Palace meets the Palace of Versailles</span>\n",
       " </div>\n",
       " </div>\n",
       " </a>\n",
       " </li>,\n",
       " <li class=\"card container__item container__item--type-media-image container__item--type-section container_lead-plus-headlines__item container_lead-plus-headlines__item--type-section container_lead-plus-headlines__selected\" data-component-name=\"card\" data-created-updated-by=\"true\" data-open-link=\"/2025/10/22/politics/trump-israel-gaza-vance-ukraine-russia-putin-analysis\" data-page=\"cms.cnn.com/_pages/cmh18jh23009n27p1etzlbfd5@published\" data-unselectable=\"true\" data-uri=\"cms.cnn.com/_components/card/instances/clbdmoqpi002v3d6ewn6g7x8f_fill_6@published\" data-word-count=\"1450\">\n",
       " <a class=\"container__link container__link--type-article container_lead-plus-headlines__link\" data-link-type=\"article\" href=\"/2025/10/22/politics/trump-israel-gaza-vance-ukraine-russia-putin-analysis\">\n",
       " <div class=\"container__text container_lead-plus-headlines__text\">\n",
       " <div class=\"container__headline container_lead-plus-headlines__headline\">\n",
       " <!-- This needs to be all one one line or it will cause unwanted spacing due to handlebar output -->\n",
       " <span class=\"container__headline-text\" data-editable=\"headline\">Reality catches up with Trump’s Ukraine peace drive and threatens his Mideast push</span>\n",
       " </div>\n",
       " </div>\n",
       " </a>\n",
       " </li>,\n",
       " <li class=\"card container__item container__item--type-media-image container__item--type-section container_lead-plus-headlines__item container_lead-plus-headlines__item--type-section container_lead-plus-headlines__selected\" data-component-name=\"card\" data-created-updated-by=\"true\" data-open-link=\"/2025/10/21/politics/government-shutdown-congress-federal-workers-analysis\" data-page=\"cms.cnn.com/_pages/cmgzjr2xx003p27p8dkxn961b@published\" data-unselectable=\"true\" data-uri=\"cms.cnn.com/_components/card/instances/clbdmoqpi002v3d6ewn6g7x8f_fill_7@published\" data-word-count=\"1379\">\n",
       " <a class=\"container__link container__link--type-article container_lead-plus-headlines__link\" data-link-type=\"article\" href=\"/2025/10/21/politics/government-shutdown-congress-federal-workers-analysis\">\n",
       " <div class=\"container__text container_lead-plus-headlines__text\">\n",
       " <div class=\"container__headline container_lead-plus-headlines__headline\">\n",
       " <!-- This needs to be all one one line or it will cause unwanted spacing due to handlebar output -->\n",
       " <span class=\"container__headline-text\" data-editable=\"headline\">What’s happening to end the government shutdown? Nothing</span>\n",
       " </div>\n",
       " </div>\n",
       " </a>\n",
       " </li>,\n",
       " <li class=\"card container__item container__item--type-media-image container__item--type-section container_lead-plus-headlines__item container_lead-plus-headlines__item--type-section container_lead-plus-headlines__selected\" data-component-name=\"card\" data-created-updated-by=\"true\" data-open-link=\"/2025/10/20/politics/trump-no-kings-protests-vance-cia-analysis\" data-page=\"cms.cnn.com/_pages/cmgybbyl3002y26p2e6bmdhjw@published\" data-unselectable=\"true\" data-uri=\"cms.cnn.com/_components/card/instances/clbdmoqpi002v3d6ewn6g7x8f_fill_8@published\" data-word-count=\"1804\">\n",
       " <a class=\"container__link container__link--type-article container_lead-plus-headlines__link\" data-link-type=\"article\" href=\"/2025/10/20/politics/trump-no-kings-protests-vance-cia-analysis\">\n",
       " <div class=\"container__text container_lead-plus-headlines__text\">\n",
       " <div class=\"container__headline container_lead-plus-headlines__headline\">\n",
       " <!-- This needs to be all one one line or it will cause unwanted spacing due to handlebar output -->\n",
       " <span class=\"container__headline-text\" data-editable=\"headline\">Trump’s response to ‘No Kings’ marches only proved the protesters’ point</span>\n",
       " </div>\n",
       " </div>\n",
       " </a>\n",
       " </li>,\n",
       " <li class=\"card container__item container__item--type-media-image container__item--type-section container_lead-plus-headlines__item container_lead-plus-headlines__item--type-section container_lead-plus-headlines__selected\" data-component-name=\"card\" data-created-updated-by=\"true\" data-open-link=\"/2025/10/19/politics/crypto-atm-scams-bitcoin-analysis\" data-page=\"cms.cnn.com/_pages/cmgv3d2lb008i26qo8cgz56r7@published\" data-unselectable=\"true\" data-uri=\"cms.cnn.com/_components/card/instances/clbdmoqpi002v3d6ewn6g7x8f_fill_9@published\" data-word-count=\"1383\">\n",
       " <a class=\"container__link container__link--type-article container_lead-plus-headlines__link\" data-link-type=\"article\" href=\"/2025/10/19/politics/crypto-atm-scams-bitcoin-analysis\">\n",
       " <div class=\"container__text container_lead-plus-headlines__text\">\n",
       " <div class=\"container__headline container_lead-plus-headlines__headline\">\n",
       " <!-- This needs to be all one one line or it will cause unwanted spacing due to handlebar output -->\n",
       " <span class=\"container__headline-text\" data-editable=\"headline\">How CNN tied multiple fraud reports to one single crypto ATM machine</span>\n",
       " </div>\n",
       " </div>\n",
       " </a>\n",
       " </li>,\n",
       " <li class=\"card container__item container__item--type-media-image container__item--type-section container_lead-plus-headlines__item container_lead-plus-headlines__item--type-section container_lead-plus-headlines__selected\" data-component-name=\"card\" data-created-updated-by=\"true\" data-open-link=\"/2025/10/17/politics/cia-venezuela-trump-castro-noriega-analysis\" data-page=\"cms.cnn.com/_pages/cmgtvbek8000026qiaa5hehds@published\" data-unselectable=\"true\" data-uri=\"cms.cnn.com/_components/card/instances/clbdn0eoo005c3d6e05uyeqhc_fill_1@published\" data-word-count=\"1185\">\n",
       " <a class=\"container__link container__link--type-article container_lead-plus-headlines__link\" data-link-type=\"article\" href=\"/2025/10/17/politics/cia-venezuela-trump-castro-noriega-analysis\">\n",
       " <div class=\"container__item-media-wrapper container_lead-plus-headlines__item-media-wrapper\" data-breakpoints='{\"card--media-large\": 525, \"card--media-extra-large\": 660, \"card--media-card-label-show\": 200}'>\n",
       " <div class=\"container__item-media container_lead-plus-headlines__item-media\">\n",
       " <div class=\"image image__hide-placeholder\" data-breakpoints='{\"image--eq-extra-small\": 115, \"image--eq-small\": 300, \"image--eq-large\": 660}' data-component-name=\"image\" data-image-variation=\"image\" data-name=\"2025-10-15T213937Z_1885558087_RC2KAHAATC3D_RTRMADP_3_USA-VENEZUELA-TRUMP-CIA.JPG\" data-observe-resizes=\"\" data-original-height=\"3261\" data-original-ratio=\"0.6668711656441718\" data-original-width=\"4890\" data-unselectable=\"true\" data-uri=\"cms.cnn.com/_components/image/instances/card_clbdn0eoo005c3d6e05uyeqhc_fill_1@published\" data-url=\"https://media.cnn.com/api/v1/images/stellar/prod/2025-10-15t213937z-1885558087-rc2kahaatc3d-rtrmadp-3-usa-venezuela-trump-cia.JPG?c=original\">\n",
       " <div class=\"image__container\" data-breakpoints='{\"image--eq-extra-small\": 115, \"image--eq-small\": 300, \"image--show-credits\": 525}' data-image-variation=\"image\">\n",
       " <picture class=\"image__picture\"><source height=\"438\" media=\"(min-width: 1280px)\" srcset=\"https://media.cnn.com/api/v1/images/stellar/prod/2025-10-15t213937z-1885558087-rc2kahaatc3d-rtrmadp-3-usa-venezuela-trump-cia.JPG?c=16x9&amp;q=h_438,w_780,c_fill\" width=\"780\"/><source height=\"438\" media=\"(min-width: 960px)\" srcset=\"https://media.cnn.com/api/v1/images/stellar/prod/2025-10-15t213937z-1885558087-rc2kahaatc3d-rtrmadp-3-usa-venezuela-trump-cia.JPG?c=16x9&amp;q=h_438,w_780,c_fill\" width=\"780\"/><source height=\"270\" media=\"(min-width: 480px)\" srcset=\"https://media.cnn.com/api/v1/images/stellar/prod/2025-10-15t213937z-1885558087-rc2kahaatc3d-rtrmadp-3-usa-venezuela-trump-cia.JPG?c=16x9&amp;q=h_270,w_480,c_fill\" width=\"480\"/><source height=\"270\" media=\"(max-width: 479px)\" srcset=\"https://media.cnn.com/api/v1/images/stellar/prod/2025-10-15t213937z-1885558087-rc2kahaatc3d-rtrmadp-3-usa-venezuela-trump-cia.JPG?c=16x9&amp;q=h_270,w_480,c_fill\" width=\"480\"/><img alt=\"Venezuela's President Nicolás Maduro participates in a demonstration to mark Indigenous Resistance Day in Caracas, Venezuela, on October 12.\" class=\"image__dam-img image__dam-img--loading\" height=\"3261\" onerror=\"imageLoadError(this)\" onload=\"this.classList.remove('image__dam-img--loading')\" src=\"https://media.cnn.com/api/v1/images/stellar/prod/2025-10-15t213937z-1885558087-rc2kahaatc3d-rtrmadp-3-usa-venezuela-trump-cia.JPG?c=16x9&amp;q=h_438,w_780,c_fill\" width=\"4890\"/></picture>\n",
       " </div>\n",
       " <div class=\"image__metadata\"><figcaption class=\"image__credit\">Leonardo Fernandez Viloria/Reuters</figcaption></div>\n",
       " </div>\n",
       " </div>\n",
       " </div>\n",
       " </a>\n",
       " <a class=\"container__link container__link--type-article container_lead-plus-headlines__link\" data-link-type=\"article\" href=\"/2025/10/17/politics/cia-venezuela-trump-castro-noriega-analysis\">\n",
       " <div class=\"container__text container_lead-plus-headlines__text\">\n",
       " <div class=\"container__headline container_lead-plus-headlines__headline\">\n",
       " <span class=\"container__headline-text\" data-editable=\"headline\">Trump’s moves against Venezuela sound familiar for a reason</span>\n",
       " </div>\n",
       " </div>\n",
       " </a>\n",
       " </li>,\n",
       " <li class=\"card container__item container__item--type-media-image container__item--type-section container_lead-plus-headlines__item container_lead-plus-headlines__item--type-section container_lead-plus-headlines__selected\" data-component-name=\"card\" data-created-updated-by=\"true\" data-open-link=\"/2025/10/19/politics/virginia-new-jersey-governor-elections-trump-analysis\" data-page=\"cms.cnn.com/_pages/cmgvd3qgn001r27p28eid89py@published\" data-unselectable=\"true\" data-uri=\"cms.cnn.com/_components/card/instances/clrpe074t00003b6hswp5rsxi_fill_1@published\" data-word-count=\"2537\">\n",
       " <a class=\"container__link container__link--type-article container_lead-plus-headlines__link\" data-link-type=\"article\" href=\"/2025/10/19/politics/virginia-new-jersey-governor-elections-trump-analysis\">\n",
       " <div class=\"container__item-media-wrapper container_lead-plus-headlines__item-media-wrapper\" data-breakpoints='{\"card--media-large\": 525, \"card--media-extra-large\": 660, \"card--media-card-label-show\": 200}'>\n",
       " <div class=\"container__item-media container_lead-plus-headlines__item-media\">\n",
       " <div class=\"image image__hide-placeholder\" data-breakpoints='{\"image--eq-extra-small\": 115, \"image--eq-small\": 300, \"image--eq-large\": 660}' data-component-name=\"image\" data-image-variation=\"image\" data-name=\"01_GettyImages-2235780930.jpg\" data-observe-resizes=\"\" data-original-height=\"1600\" data-original-ratio=\"0.6666666666666666\" data-original-width=\"2400\" data-unselectable=\"true\" data-uri=\"cms.cnn.com/_components/image/instances/card_clrpe074t00003b6hswp5rsxi_fill_1@published\" data-url=\"https://media.cnn.com/api/v1/images/stellar/prod/01-gettyimages-2235780930.jpg?c=original\">\n",
       " <div class=\"image__container\" data-breakpoints='{\"image--eq-extra-small\": 115, \"image--eq-small\": 300, \"image--show-credits\": 525}' data-image-variation=\"image\">\n",
       " <picture class=\"image__picture\"><source height=\"438\" media=\"(min-width: 1280px)\" srcset=\"https://media.cnn.com/api/v1/images/stellar/prod/01-gettyimages-2235780930.jpg?c=16x9&amp;q=h_438,w_780,c_fill\" width=\"780\"/><source height=\"438\" media=\"(min-width: 960px)\" srcset=\"https://media.cnn.com/api/v1/images/stellar/prod/01-gettyimages-2235780930.jpg?c=16x9&amp;q=h_438,w_780,c_fill\" width=\"780\"/><source height=\"270\" media=\"(min-width: 480px)\" srcset=\"https://media.cnn.com/api/v1/images/stellar/prod/01-gettyimages-2235780930.jpg?c=16x9&amp;q=h_270,w_480,c_fill\" width=\"480\"/><source height=\"270\" media=\"(max-width: 479px)\" srcset=\"https://media.cnn.com/api/v1/images/stellar/prod/01-gettyimages-2235780930.jpg?c=16x9&amp;q=h_270,w_480,c_fill\" width=\"480\"/><img alt=\"Voters cast ballots at at the Loudon County Office of Elections and Voter Registration in Leesburg, Virginia, on September 19, the first day of early voting in Virginia's gubernatorial election.\" class=\"image__dam-img image__dam-img--loading\" height=\"1600\" onerror=\"imageLoadError(this)\" onload=\"this.classList.remove('image__dam-img--loading')\" src=\"https://media.cnn.com/api/v1/images/stellar/prod/01-gettyimages-2235780930.jpg?c=16x9&amp;q=h_438,w_780,c_fill\" width=\"2400\"/></picture>\n",
       " </div>\n",
       " <div class=\"card__label-container\">\n",
       " <div class=\"card__label card__label--type-for-subscribers\">\n",
       " <span class=\"card__label-icon\"></span>\n",
       " <span class=\"card__label-bull-span\">\n",
       " <span class=\"card__label-indicator\">•</span>\n",
       "           For Subscribers\n",
       "         </span>\n",
       " <span class=\"card__label--duration\">For Subscribers</span>\n",
       " </div>\n",
       " </div>\n",
       " <div class=\"image__metadata\"><figcaption class=\"image__credit\">Graeme Sloan/Bloomberg/Getty Images</figcaption></div>\n",
       " </div>\n",
       " </div>\n",
       " </div>\n",
       " </a>\n",
       " <a class=\"container__link container__link--type-article container_lead-plus-headlines__link\" data-link-type=\"article\" href=\"/2025/10/19/politics/virginia-new-jersey-governor-elections-trump-analysis\">\n",
       " <div class=\"container__text container_lead-plus-headlines__text\">\n",
       " <div class=\"container__headline container_lead-plus-headlines__headline\">\n",
       " <!-- This needs to be all one one line or it will cause unwanted spacing due to handlebar output -->\n",
       " <span class=\"container__text-label container__text-label--type-for-subscribers container_lead-plus-headlines__text-label container_lead-plus-headlines__text-label--type-for-subscribers\"><span class=\"container__text-label--icon\"></span><span class=\"container__text-label--text-content\">For Subscribers</span></span>\n",
       " <span class=\"container__headline-text\" data-editable=\"headline\">These are the signals to watch from the New Jersey and Virginia governor races</span>\n",
       " </div>\n",
       " </div>\n",
       " </a>\n",
       " </li>]"
      ]
     },
     "execution_count": 38,
     "metadata": {},
     "output_type": "execute_result"
    }
   ],
   "source": [
    "# Step 3: Write code to collect one realization of the data\n",
    "# with a css selector\n",
    "links = soup.select(\".container_lead-plus-headlines__item--type-section\")\n",
    "#links = soup.select(\".container_lead-plus-headlines__headline\")\n",
    "links"
   ]
  },
  {
   "cell_type": "code",
   "execution_count": 39,
   "metadata": {},
   "outputs": [
    {
     "data": {
      "text/plain": [
       "<li class=\"card container__item container__item--type-media-image container__item--type-section container_lead-plus-headlines__item container_lead-plus-headlines__item--type-section container_lead-plus-headlines__selected\" data-component-name=\"card\" data-created-updated-by=\"true\" data-open-link=\"/2025/10/21/politics/va-therapists-treatment-sessions-limited\" data-page=\"cms.cnn.com/_pages/cmgzg04d1004326p2g8ur5dmw@published\" data-unselectable=\"true\" data-uri=\"cms.cnn.com/_components/card/instances/clbdmol44002m3d6euos0g5zg_fill_1@published\" data-word-count=\"1741\">\n",
       "<a class=\"container__link container__link--type-article container_lead-plus-headlines__link\" data-link-type=\"article\" href=\"/2025/10/21/politics/va-therapists-treatment-sessions-limited\">\n",
       "<div class=\"container__item-media-wrapper container_lead-plus-headlines__item-media-wrapper\" data-breakpoints='{\"card--media-large\": 525, \"card--media-extra-large\": 660, \"card--media-card-label-show\": 200}'>\n",
       "<div class=\"container__item-media container_lead-plus-headlines__item-media\">\n",
       "<div class=\"image image__hide-placeholder\" data-breakpoints='{\"image--eq-extra-small\": 115, \"image--eq-small\": 300, \"image--eq-large\": 660}' data-component-name=\"image\" data-image-variation=\"image\" data-name=\"GettyImages-2197525781.jpg\" data-observe-resizes=\"\" data-original-height=\"1600\" data-original-ratio=\"0.6666666666666666\" data-original-width=\"2400\" data-unselectable=\"true\" data-uri=\"cms.cnn.com/_components/image/instances/card_clbdmol44002m3d6euos0g5zg_fill_1@published\" data-url=\"https://media.cnn.com/api/v1/images/stellar/prod/gettyimages-2197525781.jpg?c=original\">\n",
       "<script>function imageLoadError(img) {\n",
       "    const fallbackImage = '/media/sites/cnn/cnn-fallback-image.jpg';\n",
       "\n",
       "    img.removeAttribute('onerror');\n",
       "    img.src = fallbackImage;\n",
       "    let element = img.previousElementSibling;\n",
       "\n",
       "    while (element && element.tagName === 'SOURCE') {\n",
       "      element.srcset = fallbackImage;\n",
       "      element = element.previousElementSibling;\n",
       "    }\n",
       "\n",
       "    img.dataset?.imgCssVars.split(',').forEach((property) => {\n",
       "      img.style.removeProperty(property);\n",
       "    });\n",
       "  }</script>\n",
       "<div class=\"image__container\" data-breakpoints='{\"image--eq-extra-small\": 115, \"image--eq-small\": 300, \"image--show-credits\": 525}' data-image-variation=\"image\">\n",
       "<picture class=\"image__picture\"><source height=\"438\" media=\"(min-width: 1280px)\" srcset=\"https://media.cnn.com/api/v1/images/stellar/prod/gettyimages-2197525781.jpg?c=16x9&amp;q=h_438,w_780,c_fill\" width=\"780\"/><source height=\"438\" media=\"(min-width: 960px)\" srcset=\"https://media.cnn.com/api/v1/images/stellar/prod/gettyimages-2197525781.jpg?c=16x9&amp;q=h_438,w_780,c_fill\" width=\"780\"/><source height=\"270\" media=\"(min-width: 480px)\" srcset=\"https://media.cnn.com/api/v1/images/stellar/prod/gettyimages-2197525781.jpg?c=16x9&amp;q=h_270,w_480,c_fill\" width=\"480\"/><source height=\"270\" media=\"(max-width: 479px)\" srcset=\"https://media.cnn.com/api/v1/images/stellar/prod/gettyimages-2197525781.jpg?c=16x9&amp;q=h_270,w_480,c_fill\" width=\"480\"/><img alt=\"The Department of Veterans Affairs headquarters in Washington, DC, on February 7, 2025.\" class=\"image__dam-img image__dam-img--loading\" height=\"1600\" onerror=\"imageLoadError(this)\" onload=\"this.classList.remove('image__dam-img--loading')\" src=\"https://media.cnn.com/api/v1/images/stellar/prod/gettyimages-2197525781.jpg?c=16x9&amp;q=h_438,w_780,c_fill\" width=\"2400\"/></picture>\n",
       "</div>\n",
       "<div class=\"image__metadata\"><figcaption class=\"image__credit\">Stefani Reynolds/Bloomberg/Getty Images/File</figcaption></div>\n",
       "</div>\n",
       "</div>\n",
       "</div>\n",
       "</a>\n",
       "<a class=\"container__link container__link--type-article container_lead-plus-headlines__link\" data-link-type=\"article\" href=\"/2025/10/21/politics/va-therapists-treatment-sessions-limited\">\n",
       "<div class=\"container__text container_lead-plus-headlines__text\">\n",
       "<div class=\"container__headline container_lead-plus-headlines__headline\">\n",
       "<span class=\"container__headline-text\" data-editable=\"headline\">Some VA therapists and patients say their treatment sessions are being limited, raising alarm</span>\n",
       "</div>\n",
       "</div>\n",
       "</a>\n",
       "</li>"
      ]
     },
     "execution_count": 39,
     "metadata": {},
     "output_type": "execute_result"
    }
   ],
   "source": [
    "links[0]"
   ]
  },
  {
   "cell_type": "code",
   "execution_count": 40,
   "metadata": {
    "scrolled": true
   },
   "outputs": [
    {
     "data": {
      "text/plain": [
       "'/2025/10/21/politics/va-therapists-treatment-sessions-limited'"
      ]
     },
     "execution_count": 40,
     "metadata": {},
     "output_type": "execute_result"
    }
   ],
   "source": [
    "links[0].attrs[\"data-open-link\"]"
   ]
  },
  {
   "cell_type": "code",
   "execution_count": 41,
   "metadata": {},
   "outputs": [
    {
     "name": "stdout",
     "output_type": "stream",
     "text": [
      "['/2025/10/21/politics/va-therapists-treatment-sessions-limited', '/2025/10/27/politics/joe-biden-kennedy-award', '/2025/10/27/politics/donald-trump-mri-health-walter-reed', '/2025/10/27/politics/mike-braun-indiana-redistricting', '/2025/10/27/politics/nuclear-weapons-shutdown-delay-trump-nnsa', '/2025/10/27/politics/government-shutdown-snap-food-stamps', '/2025/10/27/politics/sean-duffy-nasa-transportation', '/2025/10/26/politics/navy-aircraft-crash-south-china-sea', '/2025/10/27/politics/trump-asia-latin-america', '/2025/10/25/politics/national-guard-troops-cities-grover-cleveland-explainer', '/2025/10/25/politics/east-wing-demolition-white-house-trump-analysis', '/2025/10/23/politics/trump-potential-230-million-doj-payment-analysis', '/2025/10/21/politics/white-house-renovations-history', '/2025/10/22/politics/trump-israel-gaza-vance-ukraine-russia-putin-analysis', '/2025/10/21/politics/government-shutdown-congress-federal-workers-analysis', '/2025/10/20/politics/trump-no-kings-protests-vance-cia-analysis', '/2025/10/19/politics/crypto-atm-scams-bitcoin-analysis', '/2025/10/17/politics/cia-venezuela-trump-castro-noriega-analysis', '/2025/10/19/politics/virginia-new-jersey-governor-elections-trump-analysis']\n"
     ]
    }
   ],
   "source": [
    "# grab links\n",
    "links_from_cnn = []\n",
    "\n",
    "# iterate\n",
    "for link in links:\n",
    "    links_from_cnn.append(link[\"data-open-link\"])\n",
    "    \n",
    "# print\n",
    "print(links_from_cnn)"
   ]
  },
  {
   "cell_type": "code",
   "execution_count": 42,
   "metadata": {},
   "outputs": [
    {
     "name": "stdout",
     "output_type": "stream",
     "text": [
      "['https://www.cnn.com', 'https://www.cnn.com/politics', 'https://www.cnn.com/politics/president-donald-trump-47', 'https://www.cnn.com/politics/fact-check', 'https://www.cnn.com/polling', 'https://www.cnn.com/election/2025', None, 'https://www.cnn.com/politics/president-donald-trump-47', 'https://www.cnn.com/politics/fact-check', 'https://www.cnn.com/polling', 'https://www.cnn.com/election/2025', 'https://www.cnn.com/video', 'https://www.cnn.com/audio', 'https://www.cnn.com/live-tv', '/account/settings', '/newsletters', '/follow?iid=fw_var-nav', '#', '#', '/account/settings', '/newsletters', '/follow?iid=fw_var-nav', '#', '#', 'https://www.cnn.com/live-tv', 'https://www.cnn.com/audio', 'https://www.cnn.com/video', 'https://us.cnn.com?hpt=header_edition-picker', 'https://edition.cnn.com?hpt=header_edition-picker', 'https://arabic.cnn.com?hpt=header_edition-picker', 'https://cnnespanol.cnn.com/?hpt=header_edition-picker', 'https://us.cnn.com?hpt=header_edition-picker', 'https://edition.cnn.com?hpt=header_edition-picker', 'https://arabic.cnn.com?hpt=header_edition-picker', 'https://cnnespanol.cnn.com/?hpt=header_edition-picker', 'https://www.cnn.com/politics/president-donald-trump-47', 'https://www.cnn.com/politics/fact-check', 'https://www.cnn.com/polling', 'https://www.cnn.com/election/2025', 'https://facebook.com/cnnpolitics', 'https://twitter.com/cnnpolitics', 'https://instagram.com/cnnpolitics', 'https://www.cnn.com/us', 'https://www.cnn.com/us/crime-and-justice', 'https://www.cnn.com/world', 'https://www.cnn.com/world/africa', 'https://www.cnn.com/world/americas', 'https://www.cnn.com/world/asia', 'https://www.cnn.com/world/australia', 'https://www.cnn.com/world/china', 'https://www.cnn.com/world/europe', 'https://www.cnn.com/world/india', 'https://www.cnn.com/world/middle-east', 'https://www.cnn.com/world/united-kingdom', 'https://www.cnn.com/politics', 'https://www.cnn.com/politics/president-donald-trump-47', 'https://www.cnn.com/politics/fact-check', 'https://www.cnn.com/polling', 'https://www.cnn.com/election/2025', 'https://www.cnn.com/business', 'https://www.cnn.com/business/tech', 'https://www.cnn.com/business/media', 'https://www.cnn.com/business/financial-calculators', 'https://www.cnn.com/business/videos', 'https://www.cnn.com/markets', 'https://www.cnn.com/markets/premarkets', 'https://www.cnn.com/markets/after-hours', 'https://www.cnn.com/markets/fear-and-greed', 'https://www.cnn.com/business/investing', 'https://www.cnn.com/business/markets-now', 'https://www.cnn.com/business/markets/nightcap', 'https://www.cnn.com/health', 'https://www.cnn.com/interactive/life-but-better/', 'https://www.cnn.com/health/life-but-better/fitness', 'https://www.cnn.com/health/life-but-better/food', 'https://www.cnn.com/health/life-but-better/sleep', 'https://www.cnn.com/health/life-but-better/mindfulness', 'https://www.cnn.com/health/life-but-better/relationships', 'https://www.cnn.com/cnn-underscored', 'https://www.cnn.com/cnn-underscored/electronics', 'https://www.cnn.com/cnn-underscored/fashion', 'https://www.cnn.com/cnn-underscored/beauty', 'https://www.cnn.com/cnn-underscored/health-fitness', 'https://www.cnn.com/cnn-underscored/home', 'https://www.cnn.com/cnn-underscored/reviews', 'https://www.cnn.com/cnn-underscored/deals', 'https://www.cnn.com/cnn-underscored/gifts', 'https://www.cnn.com/cnn-underscored/travel', 'https://www.cnn.com/cnn-underscored/outdoors', 'https://www.cnn.com/cnn-underscored/pets', 'https://www.cnn.com/entertainment', 'https://www.cnn.com/entertainment/movies', 'https://www.cnn.com/entertainment/tv-shows', 'https://www.cnn.com/entertainment/celebrities', 'https://www.cnn.com/business/tech', 'https://www.cnn.com/business/tech/innovate', 'https://www.cnn.com/business/tech/foreseeable-future', 'https://www.cnn.com/business/tech/mission-ahead', 'https://www.cnn.com/business/work-transformed', 'https://www.cnn.com/business/tech/innovative-cities', 'https://www.cnn.com/style', 'https://www.cnn.com/style/arts', 'https://www.cnn.com/style/design', 'https://www.cnn.com/style/fashion', 'https://www.cnn.com/style/architecture', 'https://www.cnn.com/style/luxury', 'https://www.cnn.com/style/beauty', 'https://www.cnn.com/style/videos', 'https://www.cnn.com/travel', 'https://www.cnn.com/travel/destinations', 'https://www.cnn.com/travel/food-and-drink', 'https://www.cnn.com/travel/stay', 'https://www.cnn.com/travel/videos', 'https://www.cnn.com/sports', 'https://bleacherreport.com/nfl', 'https://bleacherreport.com/college-football', 'https://bleacherreport.com/nba', 'https://bleacherreport.com/mlb', 'https://bleacherreport.com/world-football', 'https://www.cnn.com/sport/paris-olympics-2024', 'https://bleacherreport.com/nhl', 'https://www.cnn.com/science', 'https://www.cnn.com/science/space', 'https://www.cnn.com/science/life', 'https://www.cnn.com/science/unearthed', 'https://www.cnn.com/climate', 'https://www.cnn.com/climate/solutions', 'https://www.cnn.com/weather', 'https://www.cnn.com/weather', 'https://www.cnn.com/weather/video', 'https://www.cnn.com/climate', 'https://www.cnn.com/world/europe/ukraine', 'https://www.cnn.com/world/middleeast/israel', 'https://www.cnn.com/videos', 'https://www.cnn.com/live-tv', 'https://www.cnn.com/videos/fast/cnn-headlines', 'https://www.cnn.com/shorts/cnn-shorts', 'https://www.cnn.com/tv/all-shows', 'https://www.cnn.com/cnn10', 'https://www.max.com/channel/cnn-max', 'https://www.cnn.com/tv/schedule/cnn', 'https://www.cnn.com/subscription/video/flashdocs/library', 'https://www.cnn.com/audio', 'https://www.cnn.com/audio/podcasts/5-things', 'https://www.cnn.com/audio/podcasts/chasing-life', 'https://www.cnn.com/audio/podcasts/the-assignment', 'https://www.cnn.com/audio/podcasts/one-thing', 'https://www.cnn.com/audio/podcasts/tug-of-war', 'https://www.cnn.com/audio/podcasts/political-briefing', 'https://www.cnn.com/audio/podcasts/axe-files', 'https://www.cnn.com/audio/podcasts/all-there-is-with-anderson-cooper', 'https://www.cnn.com/audio', 'https://www.cnn.com/games', 'https://www.cnn.com/games/play/cnn-crossword', 'https://www.cnn.com/games/play/jumble-crossword-daily', 'https://www.cnn.com/games/play/photo-shuffle', 'https://www.cnn.com/games/play/sudoblock', 'https://www.cnn.com/games/play/daily-sudoku', 'https://cnn.it/5thingsquiz', 'https://www.cnn.com/about', 'https://www.cnn.com/subscription?source=sub_web_footersubnav-link', 'https://www.cnn.com/world/photos', 'https://www.cnn.com/us/cnn-investigates', 'https://www.cnn.com/profiles', 'https://www.cnn.com/profiles/cnn-leadership', 'https://www.cnn.com/newsletters', 'https://careers.wbd.com/cnnjobs', '/2025/10/21/politics/va-therapists-treatment-sessions-limited', '/2025/10/21/politics/va-therapists-treatment-sessions-limited', '/2025/10/27/politics/joe-biden-kennedy-award', '/2025/10/27/politics/donald-trump-mri-health-walter-reed', '/2025/10/27/politics/mike-braun-indiana-redistricting', '/2025/10/27/politics/nuclear-weapons-shutdown-delay-trump-nnsa', '/2025/10/27/politics/government-shutdown-snap-food-stamps', '/2025/10/27/politics/sean-duffy-nasa-transportation', '/2025/10/26/politics/navy-aircraft-crash-south-china-sea', '/2025/10/27/politics/trump-asia-latin-america', '/2025/10/27/politics/trump-asia-latin-america', '/2025/10/25/politics/national-guard-troops-cities-grover-cleveland-explainer', '/2025/10/25/politics/east-wing-demolition-white-house-trump-analysis', '/2025/10/23/politics/trump-potential-230-million-doj-payment-analysis', '/2025/10/21/politics/white-house-renovations-history', '/2025/10/22/politics/trump-israel-gaza-vance-ukraine-russia-putin-analysis', '/2025/10/21/politics/government-shutdown-congress-federal-workers-analysis', '/2025/10/20/politics/trump-no-kings-protests-vance-cia-analysis', '/2025/10/19/politics/crypto-atm-scams-bitcoin-analysis', '/2025/10/27/politics/video/china-us-trump-xi-trade-deal-rare-earth-digvid', '/2025/10/27/politics/video/china-us-trump-xi-trade-deal-rare-earth-digvid', '/2025/10/26/politics/video/nr-emily-ngo-mamdani-nyc-mayoral-race', '/2025/10/26/politics/video/nr-emily-ngo-mamdani-nyc-mayoral-race', 'https://www.cnn.com/specials/politics/all-over-the-map', '/2025/09/18/politics/texas-voters-redistricting-gop-democrats-aotm', '/2025/09/18/politics/texas-voters-redistricting-gop-democrats-aotm', '/2025/08/06/politics/arizona-gop-trump-budget-bill-economy-impacts-aotm', '/2025/08/06/politics/arizona-gop-trump-budget-bill-economy-impacts-aotm', 'https://www.cnn.com/politics/fact-check', '/2025/10/24/politics/fact-check-ballroom-press-secretary', '/2025/10/24/politics/fact-check-ballroom-press-secretary', '/2025/10/24/politics/fact-check-grocery-prices-trump', '/2025/10/24/politics/fact-check-grocery-prices-trump', 'https://www.cnn.com/politics/kfile', '/2025/09/30/politics/lindsey-halligan-comey-political-prosecution-kfile', '/2025/09/30/politics/lindsey-halligan-comey-political-prosecution-kfile', '/2025/08/12/politics/trump-epstein-relationship-timeline-invs-vis', '/2025/08/12/politics/trump-epstein-relationship-timeline-invs-vis', '/2025/10/17/politics/cia-venezuela-trump-castro-noriega-analysis', '/2025/10/17/politics/cia-venezuela-trump-castro-noriega-analysis', '/2025/10/19/politics/virginia-new-jersey-governor-elections-trump-analysis', '/2025/10/19/politics/virginia-new-jersey-governor-elections-trump-analysis', '/2025/10/27/politics/virginia-democrats-redistricting-spanberger', '/2025/10/26/politics/mamdani-sanders-aoc-rally-nyc', '/2025/10/26/politics/obamacare-aca-enhanced-subsidies-government-shutdown', '/2025/10/26/politics/jessica-tisch-zohran-mamdani-election', '/2025/10/26/politics/newsom-consider-presidential-run', '/2025/10/26/politics/schwarzenegger-redistricting-oppose', '/2025/10/26/politics/jack-ciattarelli-mikie-sherrill-new-jersey-governor-race', '/2025/10/26/politics/health-care-premiums-obamacare-republicans-shutdown', '/2025/10/26/politics/mccormick-defends-trump-praises-fetterman', '/2025/10/26/politics/white-house-east-wing-history', '/2025/10/25/politics/trump-asia-trip-leaders-intl-hnk', '/2025/10/25/politics/cuomo-mamdani-jackson-heights-nyc-mayoral-debate', '/2025/10/25/politics/furloughed-federal-workers-unemployment-claims', '/2025/10/25/politics/kamala-harris-presidential-run', '/2025/10/25/politics/reagan-foundation-trump-tariffs', '/2025/10/25/politics/adelita-grijalva-arizona-mike-johnson-epstein', '/2025/10/24/politics/usda-contingency-fund-november-snap', '/2025/10/24/politics/doj-monitor-polling-sites-california-new-jersey', '/2025/10/24/politics/zohran-mamdani-islam-cuomo', '/2025/10/24/politics/graham-platner-nazi-tattoo-evidence-kfile-invs', '/2025/10/24/politics/anonymous-donor-military-pay-shutdown', 'https://cnn.it/49SplEC', 'https://cnn.it/49SplEC', 'https://www.cnn.com/interactive/2023/07/politics/trump-indictments-criminal-cases/', 'https://www.cnn.com/interactive/2023/07/politics/trump-indictments-criminal-cases/', 'https://www.cnn.com/interactive/2024/politics/2020-2016-exit-polls-2024-dg/', 'https://www.cnn.com/interactive/2024/politics/2020-2016-exit-polls-2024-dg/', '/2021/01/08/politics/gallery/donald-trump', '/2021/01/08/politics/gallery/donald-trump', '/2021/01/08/politics/gallery/joe-biden', '/2021/01/08/politics/gallery/joe-biden', '/2025/06/14/politics/gallery/trump-parade-military-photos', '/2025/06/14/politics/gallery/trump-parade-military-photos', '/account/settings', '/newsletters', '/follow?iid=fw_var-nav', '#', '#', 'https://www.cnn.com/live-tv', 'https://www.cnn.com/audio', 'https://www.cnn.com/video', 'https://www.cnn.com/us', 'https://www.cnn.com/us/crime-and-justice', 'https://www.cnn.com/world', 'https://www.cnn.com/world/africa', 'https://www.cnn.com/world/americas', 'https://www.cnn.com/world/asia', 'https://www.cnn.com/world/australia', 'https://www.cnn.com/world/china', 'https://www.cnn.com/world/europe', 'https://www.cnn.com/world/india', 'https://www.cnn.com/world/middle-east', 'https://www.cnn.com/world/united-kingdom', 'https://www.cnn.com/politics', 'https://www.cnn.com/politics/president-donald-trump-47', 'https://www.cnn.com/politics/fact-check', 'https://www.cnn.com/polling', 'https://www.cnn.com/election/2025', 'https://www.cnn.com/business', 'https://www.cnn.com/business/tech', 'https://www.cnn.com/business/media', 'https://www.cnn.com/business/financial-calculators', 'https://www.cnn.com/business/videos', 'https://www.cnn.com/markets', 'https://www.cnn.com/markets/premarkets', 'https://www.cnn.com/markets/after-hours', 'https://www.cnn.com/markets/fear-and-greed', 'https://www.cnn.com/business/investing', 'https://www.cnn.com/business/markets-now', 'https://www.cnn.com/business/markets/nightcap', 'https://www.cnn.com/health', 'https://www.cnn.com/interactive/life-but-better/', 'https://www.cnn.com/health/life-but-better/fitness', 'https://www.cnn.com/health/life-but-better/food', 'https://www.cnn.com/health/life-but-better/sleep', 'https://www.cnn.com/health/life-but-better/mindfulness', 'https://www.cnn.com/health/life-but-better/relationships', 'https://www.cnn.com/cnn-underscored', 'https://www.cnn.com/cnn-underscored/electronics', 'https://www.cnn.com/cnn-underscored/fashion', 'https://www.cnn.com/cnn-underscored/beauty', 'https://www.cnn.com/cnn-underscored/health-fitness', 'https://www.cnn.com/cnn-underscored/home', 'https://www.cnn.com/cnn-underscored/reviews', 'https://www.cnn.com/cnn-underscored/deals', 'https://www.cnn.com/cnn-underscored/gifts', 'https://www.cnn.com/cnn-underscored/travel', 'https://www.cnn.com/cnn-underscored/outdoors', 'https://www.cnn.com/cnn-underscored/pets', 'https://www.cnn.com/entertainment', 'https://www.cnn.com/entertainment/movies', 'https://www.cnn.com/entertainment/tv-shows', 'https://www.cnn.com/entertainment/celebrities', 'https://www.cnn.com/business/tech', 'https://www.cnn.com/business/tech/innovate', 'https://www.cnn.com/business/tech/foreseeable-future', 'https://www.cnn.com/business/tech/mission-ahead', 'https://www.cnn.com/business/work-transformed', 'https://www.cnn.com/business/tech/innovative-cities', 'https://www.cnn.com/style', 'https://www.cnn.com/style/arts', 'https://www.cnn.com/style/design', 'https://www.cnn.com/style/fashion', 'https://www.cnn.com/style/architecture', 'https://www.cnn.com/style/luxury', 'https://www.cnn.com/style/beauty', 'https://www.cnn.com/style/videos', 'https://www.cnn.com/travel', 'https://www.cnn.com/travel/destinations', 'https://www.cnn.com/travel/food-and-drink', 'https://www.cnn.com/travel/stay', 'https://www.cnn.com/travel/news', 'https://www.cnn.com/travel/videos', 'https://www.cnn.com/sports', 'https://bleacherreport.com/nfl', 'https://bleacherreport.com/college-football', 'https://bleacherreport.com/nba', 'https://bleacherreport.com/mlb', 'https://bleacherreport.com/world-football', 'https://www.cnn.com/sport/paris-olympics-2024', 'https://bleacherreport.com/nhl', 'https://www.cnn.com/science', 'https://www.cnn.com/science/space', 'https://www.cnn.com/science/life', 'https://www.cnn.com/science/unearthed', 'https://www.cnn.com/climate', 'https://www.cnn.com/climate/solutions', 'https://www.cnn.com/weather', 'https://www.cnn.com/weather', 'https://www.cnn.com/weather/video', 'https://www.cnn.com/climate', 'https://www.cnn.com/world/europe/ukraine', 'https://www.cnn.com/world/middleeast/israel', 'https://www.cnn.com/videos', 'https://www.cnn.com/live-tv', 'https://www.cnn.com/videos/fast/cnn-headlines', 'https://www.cnn.com/shorts/cnn-shorts', 'https://www.cnn.com/tv/all-shows', 'https://www.cnn.com/cnn10', 'https://www.max.com/channel/cnn-max', 'https://www.cnn.com/tv/schedule/cnn', 'https://www.cnn.com/subscription/video/flashdocs/library', 'https://www.cnn.com/audio', 'https://www.cnn.com/audio/podcasts/5-things', 'https://www.cnn.com/audio/podcasts/chasing-life', 'https://www.cnn.com/audio/podcasts/the-assignment', 'https://www.cnn.com/audio/podcasts/one-thing', 'https://www.cnn.com/audio/podcasts/tug-of-war', 'https://www.cnn.com/audio/podcasts/political-briefing', 'https://www.cnn.com/audio/podcasts/axe-files', 'https://www.cnn.com/audio/podcasts/all-there-is-with-anderson-cooper', 'https://www.cnn.com/audio', 'https://www.cnn.com/games', 'https://www.cnn.com/games/play/cnn-crossword', 'https://www.cnn.com/games/play/jumble-crossword-daily', 'https://www.cnn.com/games/play/photo-shuffle', 'https://www.cnn.com/games/play/sudoblock', 'https://www.cnn.com/games/play/daily-sudoku', 'https://cnn.it/5thingsquiz', 'https://www.cnn.com/about', 'https://www.cnn.com/subscription?source=sub_web_footersubnav-link', 'https://www.cnn.com/world/photos', 'https://www.cnn.com/us/cnn-investigates', 'https://www.cnn.com/profiles', 'https://www.cnn.com/profiles/cnn-leadership', 'https://www.cnn.com/newsletters', 'https://careers.wbd.com/cnnjobs', 'https://www.cnn.com', 'https://www.cnn.com/politics', 'https://www.cnn.com/video', 'https://www.cnn.com/audio', 'https://www.cnn.com/live-tv', 'https://facebook.com/cnnpolitics', 'https://twitter.com/cnnpolitics', 'https://instagram.com/cnnpolitics', 'https://youtube.com/user/CNN', '/account/settings', '/newsletters', '/follow?iid=fw_var-nav', '#', '#', 'https://www.cnn.com/terms', 'https://www.cnn.com/privacy', '#', 'https://www.cnn.com/ad-choices', 'https://www.cnn.com/accessibility', 'https://www.cnn.com/about', 'https://www.cnn.com/subscription?source=sub_web_footerlink-link', 'https://www.cnn.com/newsletters', 'https://www.cnn.com/transcripts', 'https://help.cnn.com/']\n"
     ]
    }
   ],
   "source": [
    "## another way to do this is by using href attributes of a tag\n",
    "links_from_cnn = []\n",
    "\n",
    "# Extract relevant and unique links\n",
    "for tag in soup.find_all(\"a\"):\n",
    "    href = tag.attrs.get(\"href\")\n",
    "    links_from_cnn.append(href)\n",
    "\n",
    "# much more extensive set of links\n",
    "print(links_from_cnn)"
   ]
  },
  {
   "cell_type": "code",
   "execution_count": 43,
   "metadata": {},
   "outputs": [
    {
     "data": {
      "text/plain": [
       "['https://www.cnn.com/2025/10/21/politics/va-therapists-treatment-sessions-limited',\n",
       " 'https://www.cnn.com/2025/10/21/politics/va-therapists-treatment-sessions-limited',\n",
       " 'https://www.cnn.com/2025/10/27/politics/joe-biden-kennedy-award',\n",
       " 'https://www.cnn.com/2025/10/27/politics/donald-trump-mri-health-walter-reed',\n",
       " 'https://www.cnn.com/2025/10/27/politics/mike-braun-indiana-redistricting',\n",
       " 'https://www.cnn.com/2025/10/27/politics/nuclear-weapons-shutdown-delay-trump-nnsa',\n",
       " 'https://www.cnn.com/2025/10/27/politics/government-shutdown-snap-food-stamps',\n",
       " 'https://www.cnn.com/2025/10/27/politics/sean-duffy-nasa-transportation',\n",
       " 'https://www.cnn.com/2025/10/26/politics/navy-aircraft-crash-south-china-sea',\n",
       " 'https://www.cnn.com/2025/10/27/politics/trump-asia-latin-america',\n",
       " 'https://www.cnn.com/2025/10/27/politics/trump-asia-latin-america',\n",
       " 'https://www.cnn.com/2025/10/25/politics/national-guard-troops-cities-grover-cleveland-explainer',\n",
       " 'https://www.cnn.com/2025/10/25/politics/east-wing-demolition-white-house-trump-analysis',\n",
       " 'https://www.cnn.com/2025/10/23/politics/trump-potential-230-million-doj-payment-analysis',\n",
       " 'https://www.cnn.com/2025/10/21/politics/white-house-renovations-history',\n",
       " 'https://www.cnn.com/2025/10/22/politics/trump-israel-gaza-vance-ukraine-russia-putin-analysis',\n",
       " 'https://www.cnn.com/2025/10/21/politics/government-shutdown-congress-federal-workers-analysis',\n",
       " 'https://www.cnn.com/2025/10/20/politics/trump-no-kings-protests-vance-cia-analysis',\n",
       " 'https://www.cnn.com/2025/10/19/politics/crypto-atm-scams-bitcoin-analysis',\n",
       " 'https://www.cnn.com/2025/10/27/politics/video/china-us-trump-xi-trade-deal-rare-earth-digvid',\n",
       " 'https://www.cnn.com/2025/10/27/politics/video/china-us-trump-xi-trade-deal-rare-earth-digvid',\n",
       " 'https://www.cnn.com/2025/10/26/politics/video/nr-emily-ngo-mamdani-nyc-mayoral-race',\n",
       " 'https://www.cnn.com/2025/10/26/politics/video/nr-emily-ngo-mamdani-nyc-mayoral-race',\n",
       " 'https://www.cnn.com/2025/09/18/politics/texas-voters-redistricting-gop-democrats-aotm',\n",
       " 'https://www.cnn.com/2025/09/18/politics/texas-voters-redistricting-gop-democrats-aotm',\n",
       " 'https://www.cnn.com/2025/08/06/politics/arizona-gop-trump-budget-bill-economy-impacts-aotm',\n",
       " 'https://www.cnn.com/2025/08/06/politics/arizona-gop-trump-budget-bill-economy-impacts-aotm',\n",
       " 'https://www.cnn.com/2025/10/24/politics/fact-check-ballroom-press-secretary',\n",
       " 'https://www.cnn.com/2025/10/24/politics/fact-check-ballroom-press-secretary',\n",
       " 'https://www.cnn.com/2025/10/24/politics/fact-check-grocery-prices-trump',\n",
       " 'https://www.cnn.com/2025/10/24/politics/fact-check-grocery-prices-trump',\n",
       " 'https://www.cnn.com/2025/09/30/politics/lindsey-halligan-comey-political-prosecution-kfile',\n",
       " 'https://www.cnn.com/2025/09/30/politics/lindsey-halligan-comey-political-prosecution-kfile',\n",
       " 'https://www.cnn.com/2025/08/12/politics/trump-epstein-relationship-timeline-invs-vis',\n",
       " 'https://www.cnn.com/2025/08/12/politics/trump-epstein-relationship-timeline-invs-vis',\n",
       " 'https://www.cnn.com/2025/10/17/politics/cia-venezuela-trump-castro-noriega-analysis',\n",
       " 'https://www.cnn.com/2025/10/17/politics/cia-venezuela-trump-castro-noriega-analysis',\n",
       " 'https://www.cnn.com/2025/10/19/politics/virginia-new-jersey-governor-elections-trump-analysis',\n",
       " 'https://www.cnn.com/2025/10/19/politics/virginia-new-jersey-governor-elections-trump-analysis',\n",
       " 'https://www.cnn.com/2025/10/27/politics/virginia-democrats-redistricting-spanberger',\n",
       " 'https://www.cnn.com/2025/10/26/politics/mamdani-sanders-aoc-rally-nyc',\n",
       " 'https://www.cnn.com/2025/10/26/politics/obamacare-aca-enhanced-subsidies-government-shutdown',\n",
       " 'https://www.cnn.com/2025/10/26/politics/jessica-tisch-zohran-mamdani-election',\n",
       " 'https://www.cnn.com/2025/10/26/politics/newsom-consider-presidential-run',\n",
       " 'https://www.cnn.com/2025/10/26/politics/schwarzenegger-redistricting-oppose',\n",
       " 'https://www.cnn.com/2025/10/26/politics/jack-ciattarelli-mikie-sherrill-new-jersey-governor-race',\n",
       " 'https://www.cnn.com/2025/10/26/politics/health-care-premiums-obamacare-republicans-shutdown',\n",
       " 'https://www.cnn.com/2025/10/26/politics/mccormick-defends-trump-praises-fetterman',\n",
       " 'https://www.cnn.com/2025/10/26/politics/white-house-east-wing-history',\n",
       " 'https://www.cnn.com/2025/10/25/politics/trump-asia-trip-leaders-intl-hnk',\n",
       " 'https://www.cnn.com/2025/10/25/politics/cuomo-mamdani-jackson-heights-nyc-mayoral-debate',\n",
       " 'https://www.cnn.com/2025/10/25/politics/furloughed-federal-workers-unemployment-claims',\n",
       " 'https://www.cnn.com/2025/10/25/politics/kamala-harris-presidential-run',\n",
       " 'https://www.cnn.com/2025/10/25/politics/reagan-foundation-trump-tariffs',\n",
       " 'https://www.cnn.com/2025/10/25/politics/adelita-grijalva-arizona-mike-johnson-epstein',\n",
       " 'https://www.cnn.com/2025/10/24/politics/usda-contingency-fund-november-snap',\n",
       " 'https://www.cnn.com/2025/10/24/politics/doj-monitor-polling-sites-california-new-jersey',\n",
       " 'https://www.cnn.com/2025/10/24/politics/zohran-mamdani-islam-cuomo',\n",
       " 'https://www.cnn.com/2025/10/24/politics/graham-platner-nazi-tattoo-evidence-kfile-invs',\n",
       " 'https://www.cnn.com/2025/10/24/politics/anonymous-donor-military-pay-shutdown',\n",
       " 'https://www.cnn.com/2021/01/08/politics/gallery/donald-trump',\n",
       " 'https://www.cnn.com/2021/01/08/politics/gallery/donald-trump',\n",
       " 'https://www.cnn.com/2021/01/08/politics/gallery/joe-biden',\n",
       " 'https://www.cnn.com/2021/01/08/politics/gallery/joe-biden',\n",
       " 'https://www.cnn.com/2025/06/14/politics/gallery/trump-parade-military-photos',\n",
       " 'https://www.cnn.com/2025/06/14/politics/gallery/trump-parade-military-photos']"
      ]
     },
     "execution_count": 43,
     "metadata": {},
     "output_type": "execute_result"
    }
   ],
   "source": [
    "import re\n",
    "## clean the output. \n",
    "# Keep only stories that starts with \"/\" and \"fourdigits\"\n",
    "# combine with the base url\n",
    "links_from_cnn_reduced = [\"https://www.cnn.com\" + l for l in links_from_cnn if re.match(r'^/(\\d{4})', str(l))]\n",
    "links_from_cnn_reduced"
   ]
  },
  {
   "cell_type": "code",
   "execution_count": 44,
   "metadata": {},
   "outputs": [],
   "source": [
    "## Step 4: Build a scraper -- generalize you code into a function.\n",
    "\n",
    "# Let's write the above as a single function\n",
    "def collect_links_cnn(url=None):\n",
    "    \"\"\"Scrape multiple CNN URLS.\n",
    "\n",
    "    Args:\n",
    "        url (list): list of valid CNN page to collect links.\n",
    "    Returns:\n",
    "        DataFrame: frame containing headline, date, and content fields\n",
    "    \"\"\"\n",
    "    \n",
    "    # Get access to the website\n",
    "    page = requests.get(url)\n",
    "    # create an bs object.\n",
    "    soup = BeautifulSoup(page.content, 'html.parser') # input 1: request content; input 2: tell you need an html parser\n",
    "\n",
    "    ## another way to do this is by using href attributes of a tag\n",
    "    links_from_cnn = []\n",
    "\n",
    "    # Extract relevant and unique links\n",
    "    for tag in soup.find_all(\"a\"):\n",
    "        href = tag.attrs.get(\"href\")\n",
    "        links_from_cnn.append(href)\n",
    "        \n",
    "    ## clean the output. \n",
    "    # Keep only stories that starts with \"/\" and \"fourdigits\"\n",
    "    # combine with the base url\n",
    "    links_from_cnn_reduced = [\"https://www.cnn.com\" + l for l in links_from_cnn if re.match(r'^/(\\d{4})', str(l))]\n",
    "    links_from_cnn_reduced\n",
    "\n",
    "    return links_from_cnn_reduced"
   ]
  },
  {
   "cell_type": "code",
   "execution_count": 45,
   "metadata": {},
   "outputs": [
    {
     "data": {
      "text/plain": [
       "['https://www.cnn.com/2025/10/21/politics/va-therapists-treatment-sessions-limited',\n",
       " 'https://www.cnn.com/2025/10/21/politics/va-therapists-treatment-sessions-limited',\n",
       " 'https://www.cnn.com/2025/10/27/politics/joe-biden-kennedy-award',\n",
       " 'https://www.cnn.com/2025/10/27/politics/donald-trump-mri-health-walter-reed',\n",
       " 'https://www.cnn.com/2025/10/27/politics/mike-braun-indiana-redistricting',\n",
       " 'https://www.cnn.com/2025/10/27/politics/nuclear-weapons-shutdown-delay-trump-nnsa',\n",
       " 'https://www.cnn.com/2025/10/27/politics/government-shutdown-snap-food-stamps',\n",
       " 'https://www.cnn.com/2025/10/27/politics/sean-duffy-nasa-transportation',\n",
       " 'https://www.cnn.com/2025/10/26/politics/navy-aircraft-crash-south-china-sea',\n",
       " 'https://www.cnn.com/2025/10/27/politics/trump-asia-latin-america']"
      ]
     },
     "execution_count": 45,
     "metadata": {},
     "output_type": "execute_result"
    }
   ],
   "source": [
    "links_cnn = collect_links_cnn(\"https://www.cnn.com/politics\")\n",
    "links_cnn[:10]"
   ]
  },
  {
   "cell_type": "markdown",
   "metadata": {},
   "source": [
    "With this list, you can apply your scrapper function to multiple links:"
   ]
  },
  {
   "cell_type": "code",
   "execution_count": 46,
   "metadata": {},
   "outputs": [
    {
     "data": {
      "text/plain": [
       "66"
      ]
     },
     "execution_count": 46,
     "metadata": {},
     "output_type": "execute_result"
    }
   ],
   "source": [
    "len(links_cnn)"
   ]
  },
  {
   "cell_type": "code",
   "execution_count": 48,
   "metadata": {},
   "outputs": [
    {
     "name": "stdout",
     "output_type": "stream",
     "text": [
      "https://www.cnn.com/2025/10/27/politics/trump-asia-latin-america\n",
      "https://www.cnn.com/2025/10/25/politics/national-guard-troops-cities-grover-cleveland-explainer\n",
      "https://www.cnn.com/2025/10/25/politics/east-wing-demolition-white-house-trump-analysis\n",
      "https://www.cnn.com/2025/10/23/politics/trump-potential-230-million-doj-payment-analysis\n",
      "https://www.cnn.com/2025/10/21/politics/white-house-renovations-history\n"
     ]
    },
    {
     "data": {
      "text/html": [
       "<div>\n",
       "<style scoped>\n",
       "    .dataframe tbody tr th:only-of-type {\n",
       "        vertical-align: middle;\n",
       "    }\n",
       "\n",
       "    .dataframe tbody tr th {\n",
       "        vertical-align: top;\n",
       "    }\n",
       "\n",
       "    .dataframe thead th {\n",
       "        text-align: right;\n",
       "    }\n",
       "</style>\n",
       "<table border=\"1\" class=\"dataframe\">\n",
       "  <thead>\n",
       "    <tr style=\"text-align: right;\">\n",
       "      <th></th>\n",
       "      <th>url</th>\n",
       "      <th>story_title</th>\n",
       "      <th>story_date</th>\n",
       "      <th>text</th>\n",
       "    </tr>\n",
       "  </thead>\n",
       "  <tbody>\n",
       "    <tr>\n",
       "      <th>0</th>\n",
       "      <td>https://www.cnn.com/2025/10/27/politics/trump-...</td>\n",
       "      <td>MAGA hero hands big win to Trump’s Latin Ameri...</td>\n",
       "      <td>Updated Oct 27, 2025, 9:20 AM ET\\nPublished Oc...</td>\n",
       "      <td>It doesn’t take America’s most lethal aircraft...</td>\n",
       "    </tr>\n",
       "    <tr>\n",
       "      <th>1</th>\n",
       "      <td>https://www.cnn.com/2025/10/25/politics/nation...</td>\n",
       "      <td>Why one of Trump’s favorite presidents sent tr...</td>\n",
       "      <td>Updated Oct 25, 2025, 7:00 AM ET\\nPublished Oc...</td>\n",
       "      <td>If there’s one former president whom Donald Tr...</td>\n",
       "    </tr>\n",
       "    <tr>\n",
       "      <th>2</th>\n",
       "      <td>https://www.cnn.com/2025/10/25/politics/east-w...</td>\n",
       "      <td>The East Wing demolition speaks to Trump’s wre...</td>\n",
       "      <td>Updated Oct 25, 2025, 4:30 AM ET\\nPublished Oc...</td>\n",
       "      <td>Everyone says the same thing the first time th...</td>\n",
       "    </tr>\n",
       "    <tr>\n",
       "      <th>3</th>\n",
       "      <td>https://www.cnn.com/2025/10/23/politics/trump-...</td>\n",
       "      <td>Trump’s potential $230 million DOJ payment wou...</td>\n",
       "      <td>Updated Oct 23, 2025, 12:34 AM ET\\nPublished O...</td>\n",
       "      <td>The idea of a president convincing his own Jus...</td>\n",
       "    </tr>\n",
       "    <tr>\n",
       "      <th>4</th>\n",
       "      <td>https://www.cnn.com/2025/10/21/politics/white-...</td>\n",
       "      <td>The new East Wing: Caesars Palace meets the Pa...</td>\n",
       "      <td>Updated Oct 22, 2025, 7:56 AM ET\\nPublished Oc...</td>\n",
       "      <td>The ballroom President Donald Trump is demolis...</td>\n",
       "    </tr>\n",
       "  </tbody>\n",
       "</table>\n",
       "</div>"
      ],
      "text/plain": [
       "                                                 url  \\\n",
       "0  https://www.cnn.com/2025/10/27/politics/trump-...   \n",
       "1  https://www.cnn.com/2025/10/25/politics/nation...   \n",
       "2  https://www.cnn.com/2025/10/25/politics/east-w...   \n",
       "3  https://www.cnn.com/2025/10/23/politics/trump-...   \n",
       "4  https://www.cnn.com/2025/10/21/politics/white-...   \n",
       "\n",
       "                                         story_title  \\\n",
       "0  MAGA hero hands big win to Trump’s Latin Ameri...   \n",
       "1  Why one of Trump’s favorite presidents sent tr...   \n",
       "2  The East Wing demolition speaks to Trump’s wre...   \n",
       "3  Trump’s potential $230 million DOJ payment wou...   \n",
       "4  The new East Wing: Caesars Palace meets the Pa...   \n",
       "\n",
       "                                          story_date  \\\n",
       "0  Updated Oct 27, 2025, 9:20 AM ET\\nPublished Oc...   \n",
       "1  Updated Oct 25, 2025, 7:00 AM ET\\nPublished Oc...   \n",
       "2  Updated Oct 25, 2025, 4:30 AM ET\\nPublished Oc...   \n",
       "3  Updated Oct 23, 2025, 12:34 AM ET\\nPublished O...   \n",
       "4  Updated Oct 22, 2025, 7:56 AM ET\\nPublished Oc...   \n",
       "\n",
       "                                                text  \n",
       "0  It doesn’t take America’s most lethal aircraft...  \n",
       "1  If there’s one former president whom Donald Tr...  \n",
       "2  Everyone says the same thing the first time th...  \n",
       "3  The idea of a president convincing his own Jus...  \n",
       "4  The ballroom President Donald Trump is demolis...  "
      ]
     },
     "execution_count": 48,
     "metadata": {},
     "output_type": "execute_result"
    }
   ],
   "source": [
    "# let's get some cases\n",
    "links_cnn_ = links_cnn[10:15]\n",
    "\n",
    "# Then just loop through and collect\n",
    "scraped_data = []\n",
    "\n",
    "for url in links_cnn_:\n",
    "\n",
    "    # check what is going on\n",
    "    print(url)\n",
    "    \n",
    "    # Scrape the content\n",
    "    scraped_data.append(cnn_scraper(url))\n",
    "\n",
    "    # Put the system to sleep for a random draw of time (be kind)\n",
    "    time.sleep(random.uniform(.5,3))\n",
    "\n",
    "# save as pandas df   \n",
    "# Organize as a pandas data frame\n",
    "dat = pd.DataFrame(scraped_data)\n",
    "dat.head()"
   ]
  },
  {
   "cell_type": "code",
   "execution_count": 78,
   "metadata": {},
   "outputs": [
    {
     "name": "stdout",
     "output_type": "stream",
     "text": [
      "https://www.cnn.com/2025/10/27/politics/trump-asia-latin-america\n",
      "https://www.cnn.com/2025/10/25/politics/national-guard-troops-cities-grover-cleveland-explainer\n",
      "https://www.cnn.com/2025/10/25/politics/east-wing-demolition-white-house-trump-analysis\n",
      "https://www.cnn.com/2025/10/23/politics/trump-potential-230-million-doj-payment-analysis\n",
      "https://www.cnn.com/2025/10/21/politics/white-house-renovations-history\n",
      "https://www.latinnews.com/component/k2/item/107755.html?period=2025&archive=3&Itemid=6&cat_id=837700:in-brief-brazil-s-current-account-deficit-widens-in-september\n"
     ]
    }
   ],
   "source": [
    "# add an error\n",
    "links_cnn_ = links_cnn[10:15]\n",
    "links_cnn_.append(\"https://www.latinnews.com/component/k2/item/107755.html?period=2025&archive=3&Itemid=6&cat_id=837700:in-brief-brazil-s-current-account-deficit-widens-in-september\")\n",
    "\n",
    "# run the loop in a secure setup\n",
    "# Then just loop through and collect\n",
    "scraped_data = []\n",
    "list_of_errors = []\n",
    "\n",
    "for url in links_cnn_:\n",
    "\n",
    "    # check what is going on\n",
    "    print(url)\n",
    "    \n",
    "    # Scrape the content\n",
    "    try: \n",
    "        scraped_data.append(cnn_scraper(url))\n",
    "\n",
    "        # Put the system to sleep for a random draw of time (be kind)\n",
    "        time.sleep(random.uniform(.5,3))\n",
    "    except Exception as e:\n",
    "        list_of_errors.append([url, e])"
   ]
  },
  {
   "cell_type": "code",
   "execution_count": 81,
   "metadata": {},
   "outputs": [
    {
     "data": {
      "text/html": [
       "<div>\n",
       "<style scoped>\n",
       "    .dataframe tbody tr th:only-of-type {\n",
       "        vertical-align: middle;\n",
       "    }\n",
       "\n",
       "    .dataframe tbody tr th {\n",
       "        vertical-align: top;\n",
       "    }\n",
       "\n",
       "    .dataframe thead th {\n",
       "        text-align: right;\n",
       "    }\n",
       "</style>\n",
       "<table border=\"1\" class=\"dataframe\">\n",
       "  <thead>\n",
       "    <tr style=\"text-align: right;\">\n",
       "      <th></th>\n",
       "      <th>url</th>\n",
       "      <th>story_title</th>\n",
       "      <th>story_date</th>\n",
       "      <th>text</th>\n",
       "    </tr>\n",
       "  </thead>\n",
       "  <tbody>\n",
       "    <tr>\n",
       "      <th>0</th>\n",
       "      <td>https://www.cnn.com/2025/10/27/politics/trump-...</td>\n",
       "      <td>MAGA hero hands big win to Trump’s Latin Ameri...</td>\n",
       "      <td>Updated Oct 27, 2025, 9:20 AM ET\\nPublished Oc...</td>\n",
       "      <td>It doesn’t take America’s most lethal aircraft...</td>\n",
       "    </tr>\n",
       "    <tr>\n",
       "      <th>1</th>\n",
       "      <td>https://www.cnn.com/2025/10/25/politics/nation...</td>\n",
       "      <td>Why one of Trump’s favorite presidents sent tr...</td>\n",
       "      <td>Updated Oct 25, 2025, 7:00 AM ET\\nPublished Oc...</td>\n",
       "      <td>If there’s one former president whom Donald Tr...</td>\n",
       "    </tr>\n",
       "    <tr>\n",
       "      <th>2</th>\n",
       "      <td>https://www.cnn.com/2025/10/25/politics/east-w...</td>\n",
       "      <td>The East Wing demolition speaks to Trump’s wre...</td>\n",
       "      <td>Updated Oct 25, 2025, 4:30 AM ET\\nPublished Oc...</td>\n",
       "      <td>Everyone says the same thing the first time th...</td>\n",
       "    </tr>\n",
       "    <tr>\n",
       "      <th>3</th>\n",
       "      <td>https://www.cnn.com/2025/10/23/politics/trump-...</td>\n",
       "      <td>Trump’s potential $230 million DOJ payment wou...</td>\n",
       "      <td>Updated Oct 23, 2025, 12:34 AM ET\\nPublished O...</td>\n",
       "      <td>The idea of a president convincing his own Jus...</td>\n",
       "    </tr>\n",
       "    <tr>\n",
       "      <th>4</th>\n",
       "      <td>https://www.cnn.com/2025/10/21/politics/white-...</td>\n",
       "      <td>The new East Wing: Caesars Palace meets the Pa...</td>\n",
       "      <td>Updated Oct 22, 2025, 7:56 AM ET\\nPublished Oc...</td>\n",
       "      <td>The ballroom President Donald Trump is demolis...</td>\n",
       "    </tr>\n",
       "  </tbody>\n",
       "</table>\n",
       "</div>"
      ],
      "text/plain": [
       "                                                 url  \\\n",
       "0  https://www.cnn.com/2025/10/27/politics/trump-...   \n",
       "1  https://www.cnn.com/2025/10/25/politics/nation...   \n",
       "2  https://www.cnn.com/2025/10/25/politics/east-w...   \n",
       "3  https://www.cnn.com/2025/10/23/politics/trump-...   \n",
       "4  https://www.cnn.com/2025/10/21/politics/white-...   \n",
       "\n",
       "                                         story_title  \\\n",
       "0  MAGA hero hands big win to Trump’s Latin Ameri...   \n",
       "1  Why one of Trump’s favorite presidents sent tr...   \n",
       "2  The East Wing demolition speaks to Trump’s wre...   \n",
       "3  Trump’s potential $230 million DOJ payment wou...   \n",
       "4  The new East Wing: Caesars Palace meets the Pa...   \n",
       "\n",
       "                                          story_date  \\\n",
       "0  Updated Oct 27, 2025, 9:20 AM ET\\nPublished Oc...   \n",
       "1  Updated Oct 25, 2025, 7:00 AM ET\\nPublished Oc...   \n",
       "2  Updated Oct 25, 2025, 4:30 AM ET\\nPublished Oc...   \n",
       "3  Updated Oct 23, 2025, 12:34 AM ET\\nPublished O...   \n",
       "4  Updated Oct 22, 2025, 7:56 AM ET\\nPublished Oc...   \n",
       "\n",
       "                                                text  \n",
       "0  It doesn’t take America’s most lethal aircraft...  \n",
       "1  If there’s one former president whom Donald Tr...  \n",
       "2  Everyone says the same thing the first time th...  \n",
       "3  The idea of a president convincing his own Jus...  \n",
       "4  The ballroom President Donald Trump is demolis...  "
      ]
     },
     "execution_count": 81,
     "metadata": {},
     "output_type": "execute_result"
    }
   ],
   "source": [
    "dat = pd.DataFrame(scraped_data)\n",
    "dat.head()"
   ]
  },
  {
   "cell_type": "code",
   "execution_count": 83,
   "metadata": {},
   "outputs": [
    {
     "data": {
      "text/plain": [
       "[['https://www.latinnews.com/component/k2/item/107755.html?period=2025&archive=3&Itemid=6&cat_id=837700:in-brief-brazil-s-current-account-deficit-widens-in-september',\n",
       "  IndexError('list index out of range')]]"
      ]
     },
     "execution_count": 83,
     "metadata": {},
     "output_type": "execute_result"
    }
   ],
   "source": [
    "list_of_errors"
   ]
  },
  {
   "cell_type": "markdown",
   "metadata": {},
   "source": [
    "## Practice II with Latin News Website\n",
    "\n",
    "Now, return to https://www.latinnews.com/latinnews-country-database.html?country=2156\n",
    "\n",
    "Do the following: \n",
    "\n",
    "- Build a function encapsulating your code from the Practice I\n",
    "- Build another function to collect all links from Brazil in Latin News \n",
    "- Scrape all news for a single country using these two functions"
   ]
  },
  {
   "cell_type": "code",
   "execution_count": null,
   "metadata": {},
   "outputs": [],
   "source": [
    "# setup\n",
    "import pandas as pd\n",
    "import requests # For downloading the website\n",
    "from bs4 import BeautifulSoup # For parsing the website\n",
    "import time # To put the system to sleep\n",
    "import random # for random numbers\n",
    "import re # regular expressions"
   ]
  },
  {
   "cell_type": "code",
   "execution_count": null,
   "metadata": {},
   "outputs": [],
   "source": []
  },
  {
   "cell_type": "code",
   "execution_count": 84,
   "metadata": {},
   "outputs": [
    {
     "name": "stdout",
     "output_type": "stream",
     "text": [
      "[NbConvertApp] Converting notebook _week-07_scraping_static.ipynb to html\n",
      "[NbConvertApp] Writing 496814 bytes to _week-07_scraping_static.html\n"
     ]
    }
   ],
   "source": [
    "!jupyter nbconvert _week-07_scraping_static.ipynb --to html --template classic\n"
   ]
  }
 ],
 "metadata": {
  "kernelspec": {
   "display_name": "Python 3 (ipykernel)",
   "language": "python",
   "name": "python3"
  },
  "language_info": {
   "codemirror_mode": {
    "name": "ipython",
    "version": 3
   },
   "file_extension": ".py",
   "mimetype": "text/x-python",
   "name": "python",
   "nbconvert_exporter": "python",
   "pygments_lexer": "ipython3",
   "version": "3.11.4"
  },
  "toc": {
   "base_numbering": 1,
   "nav_menu": {},
   "number_sections": false,
   "sideBar": false,
   "skip_h1_title": false,
   "title_cell": "Table of Contents",
   "title_sidebar": "Contents",
   "toc_cell": false,
   "toc_position": {},
   "toc_section_display": true,
   "toc_window_display": false
  }
 },
 "nbformat": 4,
 "nbformat_minor": 2
}
