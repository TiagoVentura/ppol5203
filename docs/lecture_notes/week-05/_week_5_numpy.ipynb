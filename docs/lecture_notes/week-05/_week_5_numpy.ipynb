{
 "cells": [
  {
   "cell_type": "markdown",
   "id": "cab903f6",
   "metadata": {},
   "source": [
    "<h1><center> PPOL 5203 Data Science I: Foundations <br><br> \n",
    "<font color='grey'>Introduction to Numpy <br><br>\n",
    "Tiago Ventura</center></center> <h1> \n",
    "\n",
    "---"
   ]
  },
  {
   "cell_type": "markdown",
   "id": "66aed9d2",
   "metadata": {},
   "source": [
    "## Learning goals\n",
    "\n",
    "In this notebook, we will cover: \n",
    "\n",
    "- Introduction to numpy\n",
    "- Vectorization\n",
    "- Broadcasting\n"
   ]
  },
  {
   "cell_type": "markdown",
   "id": "275cd208",
   "metadata": {},
   "source": [
    "### Numpy\n",
    "\n",
    "NumPy (short for Numerical Python) provides an efficient interface to store and operate on dense data buffers. In some ways, NumPy arrays are like Python’s built-in list type, but NumPy arrays provide much more efficient storage and data operations as the arrays grow larger in size and in dimensions. \n",
    "\n",
    "NumPy arrays form the core of nearly the entire ecosystem of data science tools in Python, so time spent learning to use NumPy effectively will be valuable no matter what aspect of data science interests you."
   ]
  },
  {
   "cell_type": "markdown",
   "id": "42286564",
   "metadata": {},
   "source": [
    "### Why are numpy arrays more efficient?\n",
    "\n",
    "We will see throughout this notebook some different reasons for Numpy's superior efficiency when compared to other native data types in Python, particularly lists. A crucial difference is how elements in a numpy array are stored compared to list elements. \n",
    "\n",
    "- Numpy leans toward less flexibility and more efficiency. \n",
    "- Lists gives you more flexibility and less efficiency. \n",
    "\n",
    "This is a trade-off between allowing a container to store **heterogenous** data types, which lists allow you to do, compared to **homogenous** data storage provided by numpy. \n",
    "\n",
    "See this paragraph from your PDS textbook: \n",
    "\n",
    "<div class=\"alert alert-block alert-info\"> \n",
    "\n",
    "At the implementation level, the array essentially contains a single pointer to one contiguous block of data. The Python list, on the other hand, contains a pointer to a block of pointers, each of which in turn points to a full Python object like the Python integer we saw earlier. Again, the advantage of the list is flexibility: because each list element is a full structure containing both data and type information, the list can be filled with data of any desired type. Fixed-type NumPy-style arrays lack this flexibility, but are much more efficient for storing and manipulating data.\n",
    "\n",
    "</div>    "
   ]
  },
  {
   "cell_type": "markdown",
   "id": "7c4d835e",
   "metadata": {},
   "source": [
    "## Basics of Numpy"
   ]
  },
  {
   "cell_type": "code",
   "execution_count": 40,
   "id": "93da0660",
   "metadata": {},
   "outputs": [],
   "source": [
    "# import numpy library\n",
    "import numpy as np"
   ]
  },
  {
   "cell_type": "markdown",
   "id": "5307c11f",
   "metadata": {},
   "source": [
    "#### Creating array from Python lists\n",
    "\n",
    "`np.array()` form the core building block to create array.\n",
    "\n",
    "- input: list\n",
    "- output: numpy array"
   ]
  },
  {
   "cell_type": "code",
   "execution_count": 12,
   "id": "bb9904e4",
   "metadata": {},
   "outputs": [
    {
     "data": {
      "text/plain": [
       "array([1, 4, 2, 5, 3])"
      ]
     },
     "execution_count": 12,
     "metadata": {},
     "output_type": "execute_result"
    }
   ],
   "source": [
    "# from a list of int elements\n",
    "np.array([1, 4, 2, 5, 3])"
   ]
  },
  {
   "cell_type": "code",
   "execution_count": 13,
   "id": "382498a6",
   "metadata": {},
   "outputs": [
    {
     "data": {
      "text/plain": [
       "array([1., 2., 3., 4.], dtype=float32)"
      ]
     },
     "execution_count": 13,
     "metadata": {},
     "output_type": "execute_result"
    }
   ],
   "source": [
    "# you can specify the type\n",
    "np.array([1, 2, 3, 4], dtype='float32')"
   ]
  },
  {
   "cell_type": "code",
   "execution_count": 14,
   "id": "98fb1a13",
   "metadata": {
    "scrolled": true
   },
   "outputs": [
    {
     "data": {
      "text/plain": [
       "array([[2, 3, 4],\n",
       "       [4, 5, 6],\n",
       "       [6, 7, 8]])"
      ]
     },
     "execution_count": 14,
     "metadata": {},
     "output_type": "execute_result"
    }
   ],
   "source": [
    "# unlikely lists, NumPy arrays can explicitly be multidimensional\n",
    "multi_array = np.array([range(i, i+3) for i in [2, 4, 6]])\n",
    "multi_array"
   ]
  },
  {
   "cell_type": "markdown",
   "id": "91fdbacf",
   "metadata": {},
   "source": [
    "### Numpy Arrays vs Built-in Lists"
   ]
  },
  {
   "cell_type": "code",
   "execution_count": 15,
   "id": "b71f557b",
   "metadata": {},
   "outputs": [
    {
     "data": {
      "text/plain": [
       "['beep', 'false', False, 1, 1.2]"
      ]
     },
     "execution_count": 15,
     "metadata": {},
     "output_type": "execute_result"
    }
   ],
   "source": [
    "# lists support heterogenous data types. It needs to store this information somewhere for every element!\n",
    "list_ =  [\"beep\", \"false\", False, 1, 1.2]\n",
    "list_\n",
    "list_"
   ]
  },
  {
   "cell_type": "code",
   "execution_count": 16,
   "id": "876f71da",
   "metadata": {},
   "outputs": [
    {
     "data": {
      "text/plain": [
       "array([[ True, False],\n",
       "       [ True,  True],\n",
       "       [False,  True]])"
      ]
     },
     "execution_count": 16,
     "metadata": {},
     "output_type": "execute_result"
    }
   ],
   "source": [
    "# numpys only support homogenous data types. Stores elements and this information in a single place!\n",
    "numpy_boolean = np.array([[True, 0], [True, \"TRUE\"], [False, True]], dtype=bool)\n",
    "numpy_boolean"
   ]
  },
  {
   "cell_type": "code",
   "execution_count": 17,
   "id": "ae9afa7c",
   "metadata": {},
   "outputs": [
    {
     "data": {
      "text/plain": [
       "array([['True', '0'],\n",
       "       ['True', 'TRUE'],\n",
       "       ['False', 'True']], dtype='<U21')"
      ]
     },
     "execution_count": 17,
     "metadata": {},
     "output_type": "execute_result"
    }
   ],
   "source": [
    "# without define the datatyp\n",
    "numpy_boolean = np.array([[True, 0], [True, \"TRUE\"], [False, True]])\n",
    "\n",
    "# will create a string type\n",
    "numpy_boolean"
   ]
  },
  {
   "cell_type": "markdown",
   "id": "0ec5e9f3",
   "metadata": {},
   "source": [
    "#### Creating Arrays from Scratch\n",
    "\n",
    "Numpy also offer a set of distinct methods to create arrays from scratch, instead of converting from a list. Some options: \n",
    "\n",
    "- `numpy.arange()` will create arrays with regularly incrementing values\n",
    "- `numpy.linspace()` will create arrays with a specified number of elements, and spaced equally between the specified beginning and end values.\n",
    "- `numpy.zeros()` will create an array filled with 0 values with the specified shape.\n",
    "- `numpy.ones()` will create an array filled with 1 values\n"
   ]
  },
  {
   "cell_type": "code",
   "execution_count": 9,
   "id": "5d1ff4ac",
   "metadata": {},
   "outputs": [
    {
     "data": {
      "text/plain": [
       "array([0, 1, 2, 3, 4, 5, 6, 7, 8, 9])"
      ]
     },
     "execution_count": 9,
     "metadata": {},
     "output_type": "execute_result"
    }
   ],
   "source": [
    "# Arange a incremental sequence\n",
    "np.arange(0, 10)"
   ]
  },
  {
   "cell_type": "code",
   "execution_count": 10,
   "id": "fdbe994d",
   "metadata": {},
   "outputs": [
    {
     "data": {
      "text/plain": [
       "array([1.        , 1.44444444, 1.88888889, 2.33333333, 2.77777778,\n",
       "       3.22222222, 3.66666667, 4.11111111, 4.55555556, 5.        ])"
      ]
     },
     "execution_count": 10,
     "metadata": {},
     "output_type": "execute_result"
    }
   ],
   "source": [
    "# array with equally spaced intervals\n",
    "np.linspace(1,5,10) "
   ]
  },
  {
   "cell_type": "code",
   "execution_count": 11,
   "id": "2267b7c7",
   "metadata": {},
   "outputs": [
    {
     "data": {
      "text/plain": [
       "array([[0., 0., 0.],\n",
       "       [0., 0., 0.],\n",
       "       [0., 0., 0.]])"
      ]
     },
     "execution_count": 11,
     "metadata": {},
     "output_type": "execute_result"
    }
   ],
   "source": [
    "# array filled with 0 values with the specified shape.\n",
    "np.zeros((3,3))"
   ]
  },
  {
   "cell_type": "code",
   "execution_count": 12,
   "id": "85dc7bfa",
   "metadata": {},
   "outputs": [
    {
     "data": {
      "text/plain": [
       "array([[1., 1., 1.],\n",
       "       [1., 1., 1.],\n",
       "       [1., 1., 1.]])"
      ]
     },
     "execution_count": 12,
     "metadata": {},
     "output_type": "execute_result"
    }
   ],
   "source": [
    "# an array filled with 1 values\n",
    "np.ones((3,3))"
   ]
  },
  {
   "cell_type": "markdown",
   "id": "0d2b5264",
   "metadata": {},
   "source": [
    "#### Random numbers with numpy.random\n",
    "\n",
    "Numpy allows for the generation of number from several known mathematical distributions. Some examples below: \n",
    "\n",
    "- `numpy.random.random()` will create an array of uniformly distributed random values between 0 and 1\n",
    "- `numpy.random.normal()` will create an array of normally distributed random values with mean 0 and standard deviation 1\n",
    "- `numpy.random.randint()` will create an array of random integers from a pre-defined interval\n",
    "\n",
    "Other options that should be self-explanatory: \n",
    "\n",
    "- `numpy.random.poisson()`\n",
    "- `numpy.random.binomial()`\n",
    "- `numpy.random.uniform()`"
   ]
  },
  {
   "cell_type": "code",
   "execution_count": 7,
   "id": "fa6c00f8",
   "metadata": {},
   "outputs": [
    {
     "data": {
      "text/plain": [
       "array([[0.93664009, 0.55232356, 0.38254804, 0.44890377, 0.15564699],\n",
       "       [0.51483093, 0.57487069, 0.35662855, 0.37694062, 0.08696587]])"
      ]
     },
     "execution_count": 7,
     "metadata": {},
     "output_type": "execute_result"
    }
   ],
   "source": [
    "# from a random sequence between 0 and 1\n",
    "np.random.random((2, 5))"
   ]
  },
  {
   "cell_type": "code",
   "execution_count": 10,
   "id": "ef5e2ada",
   "metadata": {},
   "outputs": [
    {
     "data": {
      "text/plain": [
       "array([[ 0.70423234,  0.91375351,  1.5685309 ],\n",
       "       [ 1.14858557, -1.25795128, -0.36498303],\n",
       "       [-1.18820233, -0.50768567,  0.00485056]])"
      ]
     },
     "execution_count": 10,
     "metadata": {},
     "output_type": "execute_result"
    }
   ],
   "source": [
    "# from a normal distribution\n",
    "np.random.normal(0, 1, (3, 3))"
   ]
  },
  {
   "cell_type": "code",
   "execution_count": 11,
   "id": "ed9c28a4",
   "metadata": {},
   "outputs": [
    {
     "data": {
      "text/plain": [
       "array([[8, 0, 8],\n",
       "       [2, 9, 4],\n",
       "       [7, 0, 5]])"
      ]
     },
     "execution_count": 11,
     "metadata": {},
     "output_type": "execute_result"
    }
   ],
   "source": [
    "# random integers from a pre-defined interval\n",
    "np.random.randint(0, 10, (3, 3))"
   ]
  },
  {
   "cell_type": "markdown",
   "id": "89d6a413",
   "metadata": {},
   "source": [
    "### Retrieving attributtes from Arrays\n",
    "\n",
    "- `numpy.dim`: generates the number of dimension\n",
    "- `numpy.shape`: generates the size of each dimension\n",
    "- `numpy.size`: generates the full size of a array"
   ]
  },
  {
   "cell_type": "code",
   "execution_count": 12,
   "id": "cf1e2e76",
   "metadata": {
    "scrolled": true
   },
   "outputs": [
    {
     "name": "stdout",
     "output_type": "stream",
     "text": [
      "ndim:  3\n",
      "shape: (2, 3, 4)\n",
      "size:  24\n"
     ]
    }
   ],
   "source": [
    "# generate a 3-d array from a nested list\n",
    "array_3d = np.array([ # first element of 1 dimension\n",
    "                    [ \n",
    "                    [1,2,3,4],\n",
    "                    [2,3,4,1],\n",
    "                    [-1,1,2,1]],\n",
    "                    [# second element of 1 dimension\n",
    "                    [1,2,3,4],\n",
    "                    [2,3,4,1],\n",
    "                    [-1,1,2,1]]])\n",
    "\n",
    "# information\n",
    "print(\"ndim: \", array_3d.ndim)\n",
    "print(\"shape:\", array_3d.shape)\n",
    "print(\"size: \", array_3d.size)"
   ]
  },
  {
   "cell_type": "markdown",
   "id": "60bd525e",
   "metadata": {},
   "source": [
    "### Reshaping Arrays\n",
    "\n",
    "You can reshape array, as soon as you input the appropriate new dimensions!"
   ]
  },
  {
   "cell_type": "code",
   "execution_count": 13,
   "id": "9a57842c",
   "metadata": {},
   "outputs": [
    {
     "data": {
      "text/plain": [
       "array([[ 1,  2,  3,  4,  2,  3],\n",
       "       [ 4,  1, -1,  1,  2,  1],\n",
       "       [ 1,  2,  3,  4,  2,  3],\n",
       "       [ 4,  1, -1,  1,  2,  1]])"
      ]
     },
     "execution_count": 13,
     "metadata": {},
     "output_type": "execute_result"
    }
   ],
   "source": [
    "# new 2d array\n",
    "array_3d.reshape(4, 6)"
   ]
  },
  {
   "cell_type": "code",
   "execution_count": 14,
   "id": "e1f6e983",
   "metadata": {},
   "outputs": [
    {
     "data": {
      "text/plain": [
       "array([[ 1,  2,  3,  4],\n",
       "       [ 2,  3,  4,  1],\n",
       "       [-1,  1,  2,  1],\n",
       "       [ 1,  2,  3,  4],\n",
       "       [ 2,  3,  4,  1],\n",
       "       [-1,  1,  2,  1]])"
      ]
     },
     "execution_count": 14,
     "metadata": {},
     "output_type": "execute_result"
    }
   ],
   "source": [
    "# or another  array\n",
    "array_3d.reshape(6, 4)"
   ]
  },
  {
   "cell_type": "code",
   "execution_count": 15,
   "id": "faf89341",
   "metadata": {},
   "outputs": [
    {
     "ename": "ValueError",
     "evalue": "cannot reshape array of size 24 into shape (6,6)",
     "output_type": "error",
     "traceback": [
      "\u001b[0;31m---------------------------------------------------------------------------\u001b[0m",
      "\u001b[0;31mValueError\u001b[0m                                Traceback (most recent call last)",
      "Cell \u001b[0;32mIn[15], line 2\u001b[0m\n\u001b[1;32m      1\u001b[0m \u001b[38;5;66;03m## but you need to provide the proper dimension\u001b[39;00m\n\u001b[0;32m----> 2\u001b[0m array_3d\u001b[38;5;241m.\u001b[39mreshape(\u001b[38;5;241m6\u001b[39m, \u001b[38;5;241m6\u001b[39m)\n",
      "\u001b[0;31mValueError\u001b[0m: cannot reshape array of size 24 into shape (6,6)"
     ]
    }
   ],
   "source": [
    "## but you need to provide the proper dimension\n",
    "array_3d.reshape(6, 6)"
   ]
  },
  {
   "cell_type": "code",
   "execution_count": 16,
   "id": "812dace4",
   "metadata": {},
   "outputs": [
    {
     "data": {
      "text/plain": [
       "array([[ 1,  2, -1,  1,  2, -1],\n",
       "       [ 2,  3,  1,  2,  3,  1],\n",
       "       [ 3,  4,  2,  3,  4,  2],\n",
       "       [ 4,  1,  1,  4,  1,  1]])"
      ]
     },
     "execution_count": 16,
     "metadata": {},
     "output_type": "execute_result"
    }
   ],
   "source": [
    "## transpose an array. Very common property in matrix operations. \n",
    "array_3d.reshape(6, 4).transpose()"
   ]
  },
  {
   "cell_type": "markdown",
   "id": "3e604d96",
   "metadata": {},
   "source": [
    "### Array Indexing and Slicing\n",
    "\n",
    "Numpy indexing is quite similar to list indexing in Python. And we covered lists and indexing last week.\n",
    "\n",
    "In a one-dimensional array, you can access the ith value (**counting from zero**) by specifying the desired numerical index. \n",
    "\n",
    "```\n",
    "M[element_index]\n",
    "```\n",
    "\n",
    "For n-dimensional arrays, you can access elements with a tuple for row and column index. \n",
    "\n",
    "```\n",
    "M[row, column]\n",
    "```\n",
    "\n",
    "You can use the `:` shortcut for slicing."
   ]
  },
  {
   "cell_type": "code",
   "execution_count": 17,
   "id": "53a7ceb1",
   "metadata": {},
   "outputs": [
    {
     "data": {
      "text/plain": [
       "array([[ 1, 48, 55, 83, 77],\n",
       "       [39, 59, 30,  7, 29],\n",
       "       [83,  3, 53, 72,  7],\n",
       "       [32, 12, 74, 71,  0],\n",
       "       [25,  7, 85, 59, 20]])"
      ]
     },
     "execution_count": 17,
     "metadata": {},
     "output_type": "execute_result"
    }
   ],
   "source": [
    "# create an 5d array\n",
    "X = np.random.randint(0, 100, (5, 5))\n",
    "X"
   ]
  },
  {
   "cell_type": "code",
   "execution_count": 18,
   "id": "9e665d72",
   "metadata": {},
   "outputs": [
    {
     "data": {
      "text/plain": [
       "array([ 1, 48, 55, 83, 77])"
      ]
     },
     "execution_count": 18,
     "metadata": {},
     "output_type": "execute_result"
    }
   ],
   "source": [
    "# index first row \n",
    "X[0] "
   ]
  },
  {
   "cell_type": "code",
   "execution_count": 19,
   "id": "4cc5444e",
   "metadata": {},
   "outputs": [
    {
     "data": {
      "text/plain": [
       "array([ 1, 39, 83, 32, 25])"
      ]
     },
     "execution_count": 19,
     "metadata": {},
     "output_type": "execute_result"
    }
   ],
   "source": [
    "# index first column\n",
    "X[:,0]"
   ]
  },
  {
   "cell_type": "code",
   "execution_count": 20,
   "id": "54ec4fe0",
   "metadata": {},
   "outputs": [
    {
     "data": {
      "text/plain": [
       "1"
      ]
     },
     "execution_count": 20,
     "metadata": {},
     "output_type": "execute_result"
    }
   ],
   "source": [
    "# index a specific cell \n",
    "X[0,0] "
   ]
  },
  {
   "cell_type": "code",
   "execution_count": 21,
   "id": "0125a325",
   "metadata": {},
   "outputs": [
    {
     "data": {
      "text/plain": [
       "array([[ 1, 48, 55],\n",
       "       [39, 59, 30],\n",
       "       [83,  3, 53]])"
      ]
     },
     "execution_count": 21,
     "metadata": {},
     "output_type": "execute_result"
    }
   ],
   "source": [
    "# slice rows and columns\n",
    "X[0:3,0:3] "
   ]
  },
  {
   "cell_type": "code",
   "execution_count": 22,
   "id": "b038edcf",
   "metadata": {},
   "outputs": [
    {
     "data": {
      "text/plain": [
       "array([25,  7, 85, 59, 20])"
      ]
     },
     "execution_count": 22,
     "metadata": {},
     "output_type": "execute_result"
    }
   ],
   "source": [
    "# last row\n",
    "X[-1,:] "
   ]
  },
  {
   "cell_type": "markdown",
   "id": "4ae637ee",
   "metadata": {},
   "source": [
    "### Reassignment\n",
    "\n",
    "As we just saw, `numpy` makes your life easier for access elements on a retangular type of data -- when compared to nested lists. \n",
    "\n",
    "In the same venue, `numpy` uses the benefits of its easy indexing scheme to facilate reassignment of values. \n",
    "\n",
    "<div class=\"alert alert-block alert-danger\"> \n",
    "\n",
    "**Importance:**\n",
    "    \n",
    "Using numpy for reassignment will be at the core of your data wrangling work with pandas!\n",
    "    \n",
    "</div>"
   ]
  },
  {
   "cell_type": "code",
   "execution_count": 23,
   "id": "18c8e43d",
   "metadata": {},
   "outputs": [
    {
     "data": {
      "text/plain": [
       "array([[0., 0., 0., 0., 0.],\n",
       "       [0., 0., 0., 0., 0.],\n",
       "       [0., 0., 0., 0., 0.],\n",
       "       [0., 0., 0., 0., 0.],\n",
       "       [0., 0., 0., 0., 0.],\n",
       "       [0., 0., 0., 0., 0.],\n",
       "       [0., 0., 0., 0., 0.],\n",
       "       [0., 0., 0., 0., 0.],\n",
       "       [0., 0., 0., 0., 0.],\n",
       "       [0., 0., 0., 0., 0.]])"
      ]
     },
     "execution_count": 23,
     "metadata": {},
     "output_type": "execute_result"
    }
   ],
   "source": [
    "# Start creating a array\n",
    "X = np.zeros(50).reshape(10,5)\n",
    "X"
   ]
  },
  {
   "cell_type": "code",
   "execution_count": 24,
   "id": "31b78da9",
   "metadata": {},
   "outputs": [
    {
     "data": {
      "text/plain": [
       "array([[999.,   0.,   0.,   0.,   0.],\n",
       "       [  0.,   0.,   0.,   0.,   0.],\n",
       "       [  0.,   0.,   0.,   0.,   0.],\n",
       "       [  0.,   0.,   0.,   0.,   0.],\n",
       "       [  0.,   0.,   0.,   0.,   0.],\n",
       "       [  0.,   0.,   0.,   0.,   0.],\n",
       "       [  0.,   0.,   0.,   0.,   0.],\n",
       "       [  0.,   0.,   0.,   0.,   0.],\n",
       "       [  0.,   0.,   0.,   0.,   0.],\n",
       "       [  0.,   0.,   0.,   0.,   0.]])"
      ]
     },
     "execution_count": 24,
     "metadata": {},
     "output_type": "execute_result"
    }
   ],
   "source": [
    "# Reassign data values by referencing positions\n",
    "X[0,0] = 999\n",
    "X"
   ]
  },
  {
   "cell_type": "code",
   "execution_count": 25,
   "id": "7be2689a",
   "metadata": {},
   "outputs": [
    {
     "data": {
      "text/plain": [
       "array([[999., 999., 999., 999., 999.],\n",
       "       [  0.,   0.,   0.,   0.,   0.],\n",
       "       [  0.,   0.,   0.,   0.,   0.],\n",
       "       [  0.,   0.,   0.,   0.,   0.],\n",
       "       [  0.,   0.,   0.,   0.,   0.],\n",
       "       [  0.,   0.,   0.,   0.,   0.],\n",
       "       [  0.,   0.,   0.,   0.,   0.],\n",
       "       [  0.,   0.,   0.,   0.,   0.],\n",
       "       [  0.,   0.,   0.,   0.,   0.],\n",
       "       [  0.,   0.,   0.,   0.,   0.]])"
      ]
     },
     "execution_count": 25,
     "metadata": {},
     "output_type": "execute_result"
    }
   ],
   "source": [
    "# Reassign whole ranges of values\n",
    "X[0,:] = 999\n",
    "X"
   ]
  },
  {
   "cell_type": "code",
   "execution_count": 26,
   "id": "0160b0d3",
   "metadata": {},
   "outputs": [
    {
     "data": {
      "text/plain": [
       "array([[999., 999., 999., 999., 999.],\n",
       "       [999.,   0.,   0.,   0.,   0.],\n",
       "       [999.,   0.,   0.,   0.,   0.],\n",
       "       [999.,   0.,   0.,   0.,   0.],\n",
       "       [999.,   0.,   0.,   0.,   0.],\n",
       "       [999.,   0.,   0.,   0.,   0.],\n",
       "       [999.,   0.,   0.,   0.,   0.],\n",
       "       [999.,   0.,   0.,   0.,   0.],\n",
       "       [999.,   0.,   0.,   0.,   0.],\n",
       "       [999.,   0.,   0.,   0.,   0.]])"
      ]
     },
     "execution_count": 26,
     "metadata": {},
     "output_type": "execute_result"
    }
   ],
   "source": [
    "# by row\n",
    "X[:,0] = 999\n",
    "X"
   ]
  },
  {
   "cell_type": "code",
   "execution_count": 27,
   "id": "839bc773",
   "metadata": {},
   "outputs": [
    {
     "data": {
      "text/plain": [
       "array([[ 1.4, -0.5, -0.2,  0.6, -0.7],\n",
       "       [ 1.4, -0. ,  0. ,  0.7, -0.5],\n",
       "       [-0.5,  0.2,  0.1,  0.6,  0.1],\n",
       "       [-2. ,  0.8,  2.2,  0.1, -0.1],\n",
       "       [ 1.1, -1. , -0.3,  0.4,  0.5],\n",
       "       [-0.7,  0.1, -0.4, -0.6, -0.5],\n",
       "       [ 0.7, -0.1,  1. ,  1.4, -0.6],\n",
       "       [-0.9, -0.4,  1. ,  2. , -2. ],\n",
       "       [ 1.7, -0.3, -1.3, -0.3,  0.3],\n",
       "       [-1. ,  0.4, -0.4, -1.4,  1.5]])"
      ]
     },
     "execution_count": 27,
     "metadata": {},
     "output_type": "execute_result"
    }
   ],
   "source": [
    "# Reassignment using boolean values. \n",
    "D = np.random.randn(50).reshape(10,5).round(1)\n",
    "D"
   ]
  },
  {
   "cell_type": "code",
   "execution_count": 28,
   "id": "ee99ead2",
   "metadata": {},
   "outputs": [
    {
     "name": "stdout",
     "output_type": "stream",
     "text": [
      "[[ 1.  -0.5 -0.2  1.  -0.7]\n",
      " [ 1.  -0.   0.   1.  -0.5]\n",
      " [-0.5  1.   1.   1.   1. ]\n",
      " [-2.   1.   1.   1.  -0.1]\n",
      " [ 1.  -1.  -0.3  1.   1. ]\n",
      " [-0.7  1.  -0.4 -0.6 -0.5]\n",
      " [ 1.  -0.1  1.   1.  -0.6]\n",
      " [-0.9 -0.4  1.   1.  -2. ]\n",
      " [ 1.  -0.3 -1.3 -0.3  1. ]\n",
      " [-1.   1.  -0.4 -1.4  1. ]]\n"
     ]
    }
   ],
   "source": [
    "# reassignment\n",
    "D[D > 0] = 1\n",
    "print(D)"
   ]
  },
  {
   "cell_type": "code",
   "execution_count": 29,
   "id": "0f9e5d1f",
   "metadata": {},
   "outputs": [
    {
     "data": {
      "text/plain": [
       "array([[1., 0., 0., 1., 0.],\n",
       "       [1., 0., 0., 1., 0.],\n",
       "       [0., 1., 1., 1., 1.],\n",
       "       [0., 1., 1., 1., 0.],\n",
       "       [1., 0., 0., 1., 1.],\n",
       "       [0., 1., 0., 0., 0.],\n",
       "       [1., 0., 1., 1., 0.],\n",
       "       [0., 0., 1., 1., 0.],\n",
       "       [1., 0., 0., 0., 1.],\n",
       "       [0., 1., 0., 0., 1.]])"
      ]
     },
     "execution_count": 29,
     "metadata": {},
     "output_type": "execute_result"
    }
   ],
   "source": [
    "D[D <= 0] = 0\n",
    "D"
   ]
  },
  {
   "cell_type": "code",
   "execution_count": 30,
   "id": "3f1c929b",
   "metadata": {},
   "outputs": [
    {
     "data": {
      "text/plain": [
       "array([[0, 1, 0, 1, 1],\n",
       "       [0, 0, 0, 0, 1],\n",
       "       [0, 1, 0, 0, 1],\n",
       "       [1, 1, 1, 0, 1],\n",
       "       [1, 0, 1, 0, 0],\n",
       "       [1, 0, 1, 0, 1],\n",
       "       [0, 0, 1, 0, 1],\n",
       "       [0, 0, 0, 1, 1],\n",
       "       [1, 0, 1, 0, 0],\n",
       "       [1, 0, 0, 0, 0]])"
      ]
     },
     "execution_count": 30,
     "metadata": {},
     "output_type": "execute_result"
    }
   ],
   "source": [
    "# Using where \"ifelse()-like\" method\n",
    "D = np.random.randn(50).reshape(10,5).round(1) # Generate some random numbers again\n",
    "D # Before \n",
    "np.where(D>0,1,0) # After"
   ]
  },
  {
   "cell_type": "code",
   "execution_count": 31,
   "id": "3e880563",
   "metadata": {},
   "outputs": [
    {
     "data": {
      "text/plain": [
       "array([['-1', '1', '-1', '1', '1'],\n",
       "       ['-1', '-1', '-1', '-1', '1'],\n",
       "       ['-1', '1', '-1', '0', '1'],\n",
       "       ['1', '1', '1', '-1', '1'],\n",
       "       ['1', '-1', '1', '-1', '-1'],\n",
       "       ['1', '-1', '1', '-1', '1'],\n",
       "       ['-1', '-1', '1', '-1', '1'],\n",
       "       ['-1', '-1', '-1', '1', '1'],\n",
       "       ['1', '-1', '1', '-1', '-1'],\n",
       "       ['1', '-1', '-1', '-1', '-1']], dtype='<U21')"
      ]
     },
     "execution_count": 31,
     "metadata": {},
     "output_type": "execute_result"
    }
   ],
   "source": [
    "# np.select allow  for element-wise selection reassignment, just like case_when from R\n",
    "# basic usage: np.select(conditions, choices, default=0)\n",
    "\n",
    "# create conditions\n",
    "conditions = [D < 0, D == 0, D > 0]\n",
    "\n",
    "# element wise reassignment\n",
    "choices = [-1, 0, 1]\n",
    "\n",
    "# run np.select\n",
    "np.select(conditions, choices, default='unknown')"
   ]
  },
  {
   "cell_type": "markdown",
   "id": "30b668ce",
   "metadata": {},
   "source": [
    "### Concatenating and Splitting Arrays\n",
    "\n",
    "We can easily stack and grow numpy arrays. These are the main functions for concatenating arrays: \n",
    "\n",
    "- `np.concatenate([array,array],axis=0)`: concatenate by rows\n",
    "- `np.concatenate([array,array],axis=1)`: concatenate by columns \n",
    "\n",
    "The same behavior can be achieved with `np.vstack([array,array])` or `np.hstack([m1,m2])"
   ]
  },
  {
   "cell_type": "code",
   "execution_count": 32,
   "id": "61424611",
   "metadata": {},
   "outputs": [],
   "source": [
    "# create arrays\n",
    "X = np.random.randint(0, 100, (5, 2))\n",
    "Y = np.random.randint(0, 100, (5, 2))"
   ]
  },
  {
   "cell_type": "code",
   "execution_count": 33,
   "id": "8a0e8ca4",
   "metadata": {},
   "outputs": [
    {
     "data": {
      "text/plain": [
       "array([[25,  4],\n",
       "       [69, 32],\n",
       "       [17, 11],\n",
       "       [24, 88],\n",
       "       [26, 53],\n",
       "       [54,  4],\n",
       "       [52, 47],\n",
       "       [26,  6],\n",
       "       [58, 41],\n",
       "       [ 0, 49]])"
      ]
     },
     "execution_count": 33,
     "metadata": {},
     "output_type": "execute_result"
    }
   ],
   "source": [
    "# rbind\n",
    "np.concatenate([X,Y],axis=0)"
   ]
  },
  {
   "cell_type": "code",
   "execution_count": 35,
   "id": "f7618f8c",
   "metadata": {},
   "outputs": [
    {
     "data": {
      "text/plain": [
       "array([[25,  4, 54,  4],\n",
       "       [69, 32, 52, 47],\n",
       "       [17, 11, 26,  6],\n",
       "       [24, 88, 58, 41],\n",
       "       [26, 53,  0, 49]])"
      ]
     },
     "execution_count": 35,
     "metadata": {},
     "output_type": "execute_result"
    }
   ],
   "source": [
    "# cbind\n",
    "np.concatenate([X,Y],axis=1)"
   ]
  },
  {
   "cell_type": "markdown",
   "id": "c7130763",
   "metadata": {},
   "source": [
    "### View vs Copy in Array\n",
    "\n",
    "An sutil, but interesting point, about numpy arrays refers to the default behavior for slicing. When we slice an array\n",
    "we **_do not copy the array_**, rather we get a \"**view**\" of the array.\n",
    "\n",
    "**Why this matters?**: any change in the view will affect the original array\n",
    "    \n",
    "**Solution**: Make a copy. \n",
    "\n",
    "As noted in the [reading for this week](https://jakevdp.github.io/PythonDataScienceHandbook/02.02-the-basics-of-numpy-arrays.html): \n",
    "\n",
    "> One important—and extremely useful—thing to know about array slices is that they return views rather than copies of the array data. **This is one area in which NumPy array slicing differs from Python list slicing: in lists, slices will be copies**\n",
    "\n",
    "We need to use the `.copy()` method from numpy to create a new array"
   ]
  },
  {
   "cell_type": "code",
   "execution_count": 36,
   "id": "7e2eae44",
   "metadata": {},
   "outputs": [
    {
     "name": "stdout",
     "output_type": "stream",
     "text": [
      "[100, 2, 3] [1, 2, 3]\n"
     ]
    }
   ],
   "source": [
    "# from lists\n",
    "x = [1, 2, 3]\n",
    "y=x[:] # slice is enough\n",
    "\n",
    "# modify\n",
    "y[0]=100\n",
    "\n",
    "#print\n",
    "print(y, x)"
   ]
  },
  {
   "cell_type": "code",
   "execution_count": 37,
   "id": "c3f41ac5",
   "metadata": {},
   "outputs": [
    {
     "name": "stdout",
     "output_type": "stream",
     "text": [
      "[[1000    5   99   76   32]] [[1000    5   99   76   32]]\n"
     ]
    }
   ],
   "source": [
    "# for arrays\n",
    "X = np.random.randint(0, 100, (1, 5))\n",
    "\n",
    "# slice\n",
    "X_sub = X[:3]\n",
    "\n",
    "# modify\n",
    "X_sub[0][0] = 1000\n",
    "\n",
    "# print\n",
    "print(X, X_sub)"
   ]
  },
  {
   "cell_type": "code",
   "execution_count": 38,
   "id": "2c0e832d",
   "metadata": {},
   "outputs": [
    {
     "name": "stdout",
     "output_type": "stream",
     "text": [
      "[[ 7  0 83 22 44]] [[1000    0   83   22   44]]\n"
     ]
    }
   ],
   "source": [
    "# need to copy\n",
    "# for arrays\n",
    "X = np.random.randint(0, 100, (1, 5))\n",
    "\n",
    "# slice.copy()\n",
    "X_sub = X[:3].copy()\n",
    "\n",
    "# modify\n",
    "X_sub[0][0] = 1000\n",
    "\n",
    "# print\n",
    "print(X, X_sub)"
   ]
  },
  {
   "cell_type": "markdown",
   "id": "50719e40",
   "metadata": {},
   "source": [
    "## Vectorization (or ufunc in Numpy)\n",
    "\n",
    "A critical reason for `numpy` popularity among data scientists is its efficiency.  NumPy provides an easy to implement and flexible interface to optimized computation with arrays of data. The key to making it fast is to use built-in (or easy to implement) vectorized operations. \n",
    "\n",
    "\n",
    "**What are vectorized functions?** A vectorize function allows for efficient processing of entire arrays or collections of data elements in a **single operation**. In plain english, it applies a particular operation in single-shot over a sequence of object. Vectorize functions are efficient because it allows us to avoid looping through entire collections of data. \n",
    "\n",
    "Let's compare the peformance of vectorized function and a loop, using a example from your [reading for this week](https://jakevdp.github.io/PythonDataScienceHandbook/02.02-the-basics-of-numpy-arrays.html)"
   ]
  },
  {
   "cell_type": "markdown",
   "id": "f8a23944",
   "metadata": {},
   "source": [
    "#### Comparing Vectorized and Scalar Functions"
   ]
  },
  {
   "cell_type": "code",
   "execution_count": 43,
   "id": "c490e59c",
   "metadata": {},
   "outputs": [
    {
     "name": "stdout",
     "output_type": "stream",
     "text": [
      "[6, 7, 8, 4, 5]\n"
     ]
    },
    {
     "ename": "TypeError",
     "evalue": "unsupported operand type(s) for /: 'float' and 'list'",
     "output_type": "error",
     "traceback": [
      "\u001b[0;31m---------------------------------------------------------------------------\u001b[0m",
      "\u001b[0;31mTypeError\u001b[0m                                 Traceback (most recent call last)",
      "Cell \u001b[0;32mIn[43], line 5\u001b[0m\n\u001b[1;32m      3\u001b[0m \u001b[38;5;28mprint\u001b[39m(values)\n\u001b[1;32m      4\u001b[0m \u001b[38;5;66;03m# error\u001b[39;00m\n\u001b[0;32m----> 5\u001b[0m \u001b[38;5;241m1.0\u001b[39m \u001b[38;5;241m/\u001b[39m values\n",
      "\u001b[0;31mTypeError\u001b[0m: unsupported operand type(s) for /: 'float' and 'list'"
     ]
    }
   ],
   "source": [
    "# Let's try to calculate a 1 by a list of numbers.\n",
    "values = list(rng.integers(1, 10, size=5))\n",
    "print(values)\n",
    "# error\n",
    "1.0 / values"
   ]
  },
  {
   "cell_type": "code",
   "execution_count": 44,
   "id": "75b74142",
   "metadata": {},
   "outputs": [
    {
     "data": {
      "text/plain": [
       "array([0.11111111, 0.25      , 1.        , 0.33333333, 0.125     ])"
      ]
     },
     "execution_count": 44,
     "metadata": {},
     "output_type": "execute_result"
    }
   ],
   "source": [
    "# solution: write a non-vectorized function\n",
    "import numpy as np\n",
    "\n",
    "rng = np.random.default_rng(seed=1701)\n",
    "\n",
    "def compute_reciprocals(values):\n",
    "    output = np.empty(len(values))\n",
    "    for i in range(len(values)):\n",
    "        # notice the loop\n",
    "        output[i] = 1.0 / values[i]\n",
    "    return output\n",
    "        \n",
    "values = list(rng.integers(1, 10, size=5))\n",
    "compute_reciprocals(values)"
   ]
  },
  {
   "cell_type": "code",
   "execution_count": 45,
   "id": "f324f814",
   "metadata": {},
   "outputs": [
    {
     "data": {
      "text/plain": [
       "array([0.14285714, 0.25      , 0.5       , 0.25      , 0.125     ])"
      ]
     },
     "execution_count": 45,
     "metadata": {},
     "output_type": "execute_result"
    }
   ],
   "source": [
    "# but it works with an array, because numpy allows for vectorized functions\n",
    "# numpy\n",
    "values = rng.integers(1, 10, size=5)\n",
    "\n",
    "# error\n",
    "1.0 / values"
   ]
  },
  {
   "cell_type": "markdown",
   "id": "6ad75e8c",
   "metadata": {},
   "source": [
    " ### <span style=\"color:red\"> ALERT: What just happened?</span>\n",
    "\n",
    "NumPy provides built-in vectorized routines as methods for `np.arrays`. This vectorized approach is designed to push the loop into the compiled layer that underlies NumPy, leading to much faster execution.\n",
    "\n",
    "\n",
    "These built-in vectorize methods are called `ufuncs` (or \"universal functions\"). Numpy comes baked in with a large number those vectorized operations. [See here for a detailed list.](https://docs.scipy.org/doc/numpy-1.13.0/reference/routines.math.html) \n",
    "\n",
    "The [google colab notebook](https://colab.research.google.com/github/jakevdp/PythonDataScienceHandbook/blob/master/notebooks/02.03-Computation-on-arrays-ufuncs.ipynb) from your reading also provides a in-depth coverage of universal functions in `numpy`. Check it out!"
   ]
  },
  {
   "cell_type": "markdown",
   "id": "37bad4be",
   "metadata": {},
   "source": [
    "#### Check difference in perfomance"
   ]
  },
  {
   "cell_type": "code",
   "execution_count": 46,
   "id": "f2452c00",
   "metadata": {},
   "outputs": [
    {
     "data": {
      "text/plain": [
       "numpy.ndarray"
      ]
     },
     "execution_count": 46,
     "metadata": {},
     "output_type": "execute_result"
    }
   ],
   "source": [
    "# simple implementation\n",
    "big_array = rng.integers(1, 100, size=1000)\n",
    "type(big_array)"
   ]
  },
  {
   "cell_type": "code",
   "execution_count": 47,
   "id": "b848a4f6",
   "metadata": {},
   "outputs": [
    {
     "name": "stdout",
     "output_type": "stream",
     "text": [
      "634 µs ± 12.7 µs per loop (mean ± std. dev. of 7 runs, 1,000 loops each)\n"
     ]
    }
   ],
   "source": [
    "# using the loop version\n",
    "%timeit -n 1000 compute_reciprocals(big_array)"
   ]
  },
  {
   "cell_type": "code",
   "execution_count": 48,
   "id": "db6a3bf1",
   "metadata": {},
   "outputs": [
    {
     "name": "stdout",
     "output_type": "stream",
     "text": [
      "913 ns ± 230 ns per loop (mean ± std. dev. of 7 runs, 1,000 loops each)\n"
     ]
    }
   ],
   "source": [
    "# vectorize implementation\n",
    "%timeit -n 1000 (1.0 / big_array) # notice the `/` here implements the method np.divide, which is a vectorize function. "
   ]
  },
  {
   "cell_type": "markdown",
   "id": "57870ddd",
   "metadata": {},
   "source": [
    "### Building vectorized functions\n",
    "\n",
    "We can take advantage of numpy vectorize approach, and very easily vectorise our user-defined functions. \n",
    "\n",
    "Consider the following function that yields a different string when input `a` is larger/smaller than input `b`."
   ]
  },
  {
   "cell_type": "code",
   "execution_count": 49,
   "id": "2e8b844a",
   "metadata": {},
   "outputs": [],
   "source": [
    "def bigsmall(a,b):\n",
    "    if a > b:\n",
    "        return \"A is larger\"\n",
    "    else:\n",
    "        return \"B is larger\""
   ]
  },
  {
   "cell_type": "code",
   "execution_count": 50,
   "id": "7d2cada6",
   "metadata": {},
   "outputs": [
    {
     "data": {
      "text/plain": [
       "'B is larger'"
      ]
     },
     "execution_count": 50,
     "metadata": {},
     "output_type": "execute_result"
    }
   ],
   "source": [
    "bigsmall(5,6)"
   ]
  },
  {
   "cell_type": "code",
   "execution_count": 51,
   "id": "438a13ea",
   "metadata": {},
   "outputs": [
    {
     "data": {
      "text/plain": [
       "<numpy.vectorize at 0x10f281a50>"
      ]
     },
     "execution_count": 51,
     "metadata": {},
     "output_type": "execute_result"
    }
   ],
   "source": [
    "# Create a vectorized version of the function\n",
    "vec_bigsmall = np.vectorize(bigsmall)\n",
    "vec_bigsmall "
   ]
  },
  {
   "cell_type": "markdown",
   "id": "366a5c10",
   "metadata": {},
   "source": [
    "The vectorization here brings two main advantages: \n",
    "\n",
    "- Advantage 1: it allows us to apply the function to a collection without using loops. \n",
    "- Advantage 2: it does is in a vectorize manner"
   ]
  },
  {
   "cell_type": "code",
   "execution_count": 52,
   "id": "ec9f7b8c",
   "metadata": {},
   "outputs": [
    {
     "ename": "TypeError",
     "evalue": "'>' not supported between instances of 'list' and 'int'",
     "output_type": "error",
     "traceback": [
      "\u001b[0;31m---------------------------------------------------------------------------\u001b[0m",
      "\u001b[0;31mTypeError\u001b[0m                                 Traceback (most recent call last)",
      "Cell \u001b[0;32mIn[52], line 2\u001b[0m\n\u001b[1;32m      1\u001b[0m \u001b[38;5;66;03m# Advantage 1. Avoid the loops\u001b[39;00m\n\u001b[0;32m----> 2\u001b[0m bigsmall([\u001b[38;5;241m0\u001b[39m,\u001b[38;5;241m2\u001b[39m,\u001b[38;5;241m5\u001b[39m,\u001b[38;5;241m7\u001b[39m,\u001b[38;5;241m0\u001b[39m],\u001b[38;5;241m4\u001b[39m)\n",
      "Cell \u001b[0;32mIn[49], line 2\u001b[0m, in \u001b[0;36mbigsmall\u001b[0;34m(a, b)\u001b[0m\n\u001b[1;32m      1\u001b[0m \u001b[38;5;28;01mdef\u001b[39;00m \u001b[38;5;21mbigsmall\u001b[39m(a,b):\n\u001b[0;32m----> 2\u001b[0m     \u001b[38;5;28;01mif\u001b[39;00m a \u001b[38;5;241m>\u001b[39m b:\n\u001b[1;32m      3\u001b[0m         \u001b[38;5;28;01mreturn\u001b[39;00m \u001b[38;5;124m\"\u001b[39m\u001b[38;5;124mA is larger\u001b[39m\u001b[38;5;124m\"\u001b[39m\n\u001b[1;32m      4\u001b[0m     \u001b[38;5;28;01melse\u001b[39;00m:\n",
      "\u001b[0;31mTypeError\u001b[0m: '>' not supported between instances of 'list' and 'int'"
     ]
    }
   ],
   "source": [
    "# Advantage 1. Avoid the loops\n",
    "bigsmall([0,2,5,7,0],4)\n",
    "\n",
    "## error because the function is not vectorized"
   ]
  },
  {
   "cell_type": "code",
   "execution_count": 53,
   "id": "471a7105",
   "metadata": {},
   "outputs": [
    {
     "data": {
      "text/plain": [
       "array(['B is larger', 'B is larger', 'A is larger', 'A is larger',\n",
       "       'B is larger'], dtype='<U11')"
      ]
     },
     "execution_count": 53,
     "metadata": {},
     "output_type": "execute_result"
    }
   ],
   "source": [
    "# vectorize\n",
    "vec_bigsmall([0,2,5,7,0],4)"
   ]
  },
  {
   "cell_type": "code",
   "execution_count": 54,
   "id": "b690b706",
   "metadata": {},
   "outputs": [],
   "source": [
    "# Advantage II: vectorize, means faster\n",
    "# write a function to run element-wise\n",
    "def bigsmall_el_wise(a_collection, b):\n",
    "    container = []\n",
    "    for a in a_collection:\n",
    "        if a > b:\n",
    "            container.append(\"A is larger\")\n",
    "        else:\n",
    "            container.append(\"B is larger\")\n",
    "    return container"
   ]
  },
  {
   "cell_type": "code",
   "execution_count": 55,
   "id": "7821398e",
   "metadata": {},
   "outputs": [],
   "source": [
    "# Generating some random data\n",
    "a_collection = np.random.rand(1000000)\n",
    "b = 0.5"
   ]
  },
  {
   "cell_type": "code",
   "execution_count": 56,
   "id": "da3789da",
   "metadata": {},
   "outputs": [
    {
     "name": "stdout",
     "output_type": "stream",
     "text": [
      "118 µs ± 8.55 µs per loop (mean ± std. dev. of 7 runs, 1,000 loops each)\n"
     ]
    }
   ],
   "source": [
    "%timeit -n 1000 vec_bigsmall(big_array, b)"
   ]
  },
  {
   "cell_type": "code",
   "execution_count": 57,
   "id": "0f1949bc",
   "metadata": {},
   "outputs": [
    {
     "name": "stdout",
     "output_type": "stream",
     "text": [
      "583 µs ± 6.22 µs per loop (mean ± std. dev. of 7 runs, 1,000 loops each)\n"
     ]
    }
   ],
   "source": [
    "%timeit -n 1000 bigsmall_el_wise(big_array, b)"
   ]
  },
  {
   "cell_type": "markdown",
   "id": "783d0e7b",
   "metadata": {},
   "source": [
    "## Broadcasting"
   ]
  },
  {
   "cell_type": "markdown",
   "id": "2e8bcafd",
   "metadata": {
    "hidden": true
   },
   "source": [
    "**Broadcasting** makes it possible for operations to be performed on arrays of mismatched shapes.\n",
    "\n",
    "Broadcasting describes how numpy treats arrays with different shapes during arithmetic operations. Subject to certain constraints, the smaller array is \"broadcast\" across the larger array so that they have compatible shapes."
   ]
  },
  {
   "cell_type": "markdown",
   "id": "1f95e8fa",
   "metadata": {
    "hidden": true
   },
   "source": [
    "For example, say we have a numpy array of dimensions (5,1)"
   ]
  },
  {
   "cell_type": "markdown",
   "id": "55a24c6d",
   "metadata": {
    "hidden": true
   },
   "source": [
    "$$ \n",
    "\\begin{bmatrix} 1\\\\2\\\\3\\\\4\\\\5\\end{bmatrix}\n",
    "$$"
   ]
  },
  {
   "cell_type": "markdown",
   "id": "c847b372",
   "metadata": {
    "hidden": true
   },
   "source": [
    "Now say we wanted to add the values in this array by 5\n",
    "\n",
    "$$ \n",
    "\\begin{bmatrix} 1\\\\2\\\\3\\\\4\\\\5\\end{bmatrix} + 5\n",
    "$$"
   ]
  },
  {
   "cell_type": "markdown",
   "id": "93b34b7c",
   "metadata": {
    "hidden": true
   },
   "source": [
    "Broadcasting \"pads\" the array of 5 (which is shape = 1,1), and extends it so that it has similar dimension to the larger array in which the computation is being performed.\n",
    "\n",
    "$$ \n",
    "\\begin{bmatrix} 1\\\\2\\\\3\\\\4\\\\5\\end{bmatrix} + \\begin{bmatrix} 5\\\\\\color{lightgrey}{5}\\\\\\color{lightgrey}{5}\\\\\\color{lightgrey}{5}\\\\\\color{lightgrey}{5}\\end{bmatrix}\n",
    "$$\n",
    "\n",
    "$$ \n",
    "\\begin{bmatrix} 1 + 5\\\\2 + 5\\\\3 + 5\\\\4 + 5\\\\5 + 5\\end{bmatrix} \n",
    "$$\n",
    "\n",
    "$$ \n",
    "\\begin{bmatrix} 6\\\\7\\\\8\\\\9\\\\10\\end{bmatrix} \n",
    "$$"
   ]
  },
  {
   "cell_type": "code",
   "execution_count": 72,
   "id": "fb664fa1",
   "metadata": {
    "hidden": true
   },
   "outputs": [
    {
     "data": {
      "text/plain": [
       "array([ 6,  7,  8,  9, 10])"
      ]
     },
     "execution_count": 72,
     "metadata": {},
     "output_type": "execute_result"
    }
   ],
   "source": [
    "A = np.array([1,2,3,4,5])\n",
    "A + 5"
   ]
  },
  {
   "cell_type": "markdown",
   "id": "087e4f47",
   "metadata": {
    "hidden": true
   },
   "source": [
    "By 'broadcast', we mean that the smaller array is made to match the size of the larger array in order to allow for element-wise manipulations.\n",
    "\n",
    "### How it works:\n",
    "\n",
    "- Shapes of the two arrays are compared _element-wise_. \n",
    "- Dimensions are considered in reverse order, starting with the trailing dimensions, and working forward \n",
    "- We are stretching the smaller array by making copies of its elements. However, and this is key, no actual copies are made, making the method computationally and memory efficient.\n",
    "\n",
    "A general **Rule of thumb**: All corresponding dimension of the arrays must be compatible or one of the two dimensions is 1."
   ]
  },
  {
   "cell_type": "markdown",
   "id": "ead95543",
   "metadata": {
    "hidden": true
   },
   "source": [
    "## Rules of Broadcasting"
   ]
  },
  {
   "cell_type": "markdown",
   "id": "fd71420b",
   "metadata": {
    "hidden": true
   },
   "source": [
    "Broadcasting in NumPy follows a strict set of rules to determine the interaction between the two arrays (from [reading](https://jakevdp.github.io/PythonDataScienceHandbook/02.05-computation-on-arrays-broadcasting.html)). Learning these rules is not really important. You only need to get the intuition of what is going on!\n",
    "\n",
    "\n",
    "### Rule 1\n",
    "> If the two arrays differ in their number of dimensions, the shape of the one with fewer dimensions is padded with ones on its leading (left) side.\n",
    "\n",
    "### Rule 2\n",
    "\n",
    "> If the shape of the two arrays does not match in any dimension, the array with shape equal to 1 in that dimension is stretched to match the other shape.\n",
    "\n",
    "### Rule 3 \n",
    "\n",
    "> If in any dimension the sizes disagree and neither is equal to 1, an error is raised."
   ]
  },
  {
   "cell_type": "markdown",
   "id": "dd698f89",
   "metadata": {
    "hidden": true
   },
   "source": [
    "#### Example 1"
   ]
  },
  {
   "cell_type": "code",
   "execution_count": 73,
   "id": "4d61d2a1",
   "metadata": {
    "hidden": true
   },
   "outputs": [
    {
     "data": {
      "text/plain": [
       "array([5, 6, 7])"
      ]
     },
     "execution_count": 73,
     "metadata": {},
     "output_type": "execute_result"
    }
   ],
   "source": [
    "np.arange(3) + 5"
   ]
  },
  {
   "cell_type": "markdown",
   "id": "5e701d5e",
   "metadata": {
    "hidden": true
   },
   "source": [
    "$$\n",
    "\\texttt{np.arange(3)} = \\begin{bmatrix} 0&1&2\\end{bmatrix}\n",
    "$$\n",
    "\n",
    "<br> \n",
    "\n",
    "$$\n",
    "\\texttt{5}  = \\begin{bmatrix} 5 \\end{bmatrix}\n",
    "$$\n",
    "\n",
    "<br> \n",
    "\n",
    "$$\n",
    "\\begin{bmatrix} 0&1&2\\end{bmatrix} + \\begin{bmatrix} 5 & \\color{lightgrey}{5} & \\color{lightgrey}{5}\\end{bmatrix} = \\begin{bmatrix} 5 & 6 & 7\\end{bmatrix} \n",
    "$$"
   ]
  },
  {
   "cell_type": "markdown",
   "id": "1a7fc4bd",
   "metadata": {
    "hidden": true
   },
   "source": [
    "#### Example 2"
   ]
  },
  {
   "cell_type": "code",
   "execution_count": 74,
   "id": "01036dde",
   "metadata": {
    "hidden": true
   },
   "outputs": [
    {
     "data": {
      "text/plain": [
       "array([[1., 2., 3.],\n",
       "       [1., 2., 3.],\n",
       "       [1., 2., 3.]])"
      ]
     },
     "execution_count": 74,
     "metadata": {},
     "output_type": "execute_result"
    }
   ],
   "source": [
    "np.ones((3,3)) + np.arange(3)"
   ]
  },
  {
   "cell_type": "markdown",
   "id": "41eb5b7e",
   "metadata": {
    "hidden": true
   },
   "source": [
    "$$\n",
    "\\texttt{np.ones((3,3)) = }\\begin{bmatrix} 1 & 1 & 1\\\\ 1 & 1 & 1 \\\\ 1 & 1 & 1 \\end{bmatrix}\n",
    "$$\n",
    "\n",
    "<br>\n",
    "\n",
    "$$\n",
    "\\texttt{np.arange(3)} = \\begin{bmatrix} 0 & 1 & 2\\end{bmatrix} \n",
    "$$\n",
    "\n",
    "<br>\n",
    "\n",
    "$$\n",
    "\\begin{bmatrix} 1 & 1 & 1\\\\ 1 & 1 & 1 \\\\ 1 & 1 & 1 \\end{bmatrix} + \n",
    "\\begin{bmatrix} 0 & 1 & 2\\\\ \\color{lightgrey}{0} & \\color{lightgrey}{1} & \\color{lightgrey}{2} \\\\  \\color{lightgrey}{0} & \\color{lightgrey}{1} & \\color{lightgrey}{2}\\end{bmatrix}  = \n",
    "\\begin{bmatrix} 1 & 2 & 3\\\\ 1 & 2 & 3 \\\\ 1 & 2 & 3 \\end{bmatrix} \n",
    "$$"
   ]
  },
  {
   "cell_type": "markdown",
   "id": "8a350533",
   "metadata": {
    "hidden": true
   },
   "source": [
    "#### Example 3"
   ]
  },
  {
   "cell_type": "code",
   "execution_count": 66,
   "id": "612553a1",
   "metadata": {
    "hidden": true
   },
   "outputs": [
    {
     "data": {
      "text/plain": [
       "array([[0, 1, 2],\n",
       "       [1, 2, 3],\n",
       "       [2, 3, 4]])"
      ]
     },
     "execution_count": 66,
     "metadata": {},
     "output_type": "execute_result"
    }
   ],
   "source": [
    "np.arange(3).reshape(3,1) + np.arange(3)"
   ]
  },
  {
   "cell_type": "markdown",
   "id": "a63a6f5f",
   "metadata": {
    "hidden": true
   },
   "source": [
    "$$\n",
    "\\texttt{np.arange(3).reshape(3,1)} = \\begin{bmatrix} 0 \\\\ 1 \\\\ 2\\end{bmatrix} \n",
    "$$\n",
    "\n",
    "<br>\n",
    "\n",
    "$$\n",
    "\\texttt{np.arange(3)} = \\begin{bmatrix} 0 & 1 & 2\\end{bmatrix} \n",
    "$$\n",
    "\n",
    "<br>\n",
    "\n",
    "$$\n",
    "\\begin{bmatrix} 0 & \\color{lightgrey}{0} & \\color{lightgrey}{0} \\\\ 1 & \\color{lightgrey}{1} & \\color{lightgrey}{1} \\\\  2 & \\color{lightgrey}{2} & \\color{lightgrey}{2}\\end{bmatrix} +\n",
    "\\begin{bmatrix} 0 & 1 & 2\\\\ \\color{lightgrey}{0} & \\color{lightgrey}{1} & \\color{lightgrey}{2} \\\\  \\color{lightgrey}{0} & \\color{lightgrey}{1} & \\color{lightgrey}{2}\\end{bmatrix}  =\n",
    "\\begin{bmatrix} 0 & 1 & 2\\\\ 1 &2&3 \\\\ 2& 3 & 4\\end{bmatrix} \n",
    "$$\n"
   ]
  },
  {
   "cell_type": "markdown",
   "id": "6350b04b",
   "metadata": {
    "hidden": true
   },
   "source": [
    "#### Example 4\n",
    "\n",
    "Example of dimensional disagreement."
   ]
  },
  {
   "cell_type": "code",
   "execution_count": 58,
   "id": "21f895c7",
   "metadata": {
    "hidden": true
   },
   "outputs": [
    {
     "data": {
      "text/plain": [
       "array([[1., 1., 1., 1., 1., 1., 1.],\n",
       "       [1., 1., 1., 1., 1., 1., 1.],\n",
       "       [1., 1., 1., 1., 1., 1., 1.],\n",
       "       [1., 1., 1., 1., 1., 1., 1.]])"
      ]
     },
     "execution_count": 58,
     "metadata": {},
     "output_type": "execute_result"
    }
   ],
   "source": [
    "np.ones((4,7)) "
   ]
  },
  {
   "cell_type": "code",
   "execution_count": 59,
   "id": "204d0947",
   "metadata": {
    "hidden": true
   },
   "outputs": [
    {
     "ename": "ValueError",
     "evalue": "operands could not be broadcast together with shapes (4,7) (5,9) ",
     "output_type": "error",
     "traceback": [
      "\u001b[0;31m---------------------------------------------------------------------------\u001b[0m",
      "\u001b[0;31mValueError\u001b[0m                                Traceback (most recent call last)",
      "Cell \u001b[0;32mIn[59], line 1\u001b[0m\n\u001b[0;32m----> 1\u001b[0m np\u001b[38;5;241m.\u001b[39mones((\u001b[38;5;241m4\u001b[39m,\u001b[38;5;241m7\u001b[39m))  \u001b[38;5;241m+\u001b[39m np\u001b[38;5;241m.\u001b[39mzeros( (\u001b[38;5;241m5\u001b[39m,\u001b[38;5;241m9\u001b[39m) )\n",
      "\u001b[0;31mValueError\u001b[0m: operands could not be broadcast together with shapes (4,7) (5,9) "
     ]
    }
   ],
   "source": [
    "np.ones((4,7))  + np.zeros((5,9))"
   ]
  },
  {
   "cell_type": "code",
   "execution_count": 60,
   "id": "4bca3334",
   "metadata": {
    "hidden": true
   },
   "outputs": [
    {
     "data": {
      "text/plain": [
       "array([[1., 1., 1., 1., 1., 1., 1.],\n",
       "       [1., 1., 1., 1., 1., 1., 1.],\n",
       "       [1., 1., 1., 1., 1., 1., 1.],\n",
       "       [1., 1., 1., 1., 1., 1., 1.]])"
      ]
     },
     "execution_count": 60,
     "metadata": {},
     "output_type": "execute_result"
    }
   ],
   "source": [
    "np.ones((4,7))  + np.zeros( (1,7) )"
   ]
  },
  {
   "cell_type": "markdown",
   "id": "cf9d22be",
   "metadata": {},
   "source": [
    "Another example"
   ]
  },
  {
   "cell_type": "code",
   "execution_count": 61,
   "id": "a895ac3e",
   "metadata": {},
   "outputs": [
    {
     "data": {
      "text/plain": [
       "array([[1., 1.],\n",
       "       [1., 1.],\n",
       "       [1., 1.]])"
      ]
     },
     "execution_count": 61,
     "metadata": {},
     "output_type": "execute_result"
    }
   ],
   "source": [
    "M = np.ones((3, 2))\n",
    "M"
   ]
  },
  {
   "cell_type": "code",
   "execution_count": 62,
   "id": "7c59fed6",
   "metadata": {},
   "outputs": [
    {
     "data": {
      "text/plain": [
       "array([0, 1, 2])"
      ]
     },
     "execution_count": 62,
     "metadata": {},
     "output_type": "execute_result"
    }
   ],
   "source": [
    "a = np.arange(3)\n",
    "a"
   ]
  },
  {
   "cell_type": "code",
   "execution_count": 63,
   "id": "a67d2233",
   "metadata": {},
   "outputs": [
    {
     "name": "stdout",
     "output_type": "stream",
     "text": [
      "(3, 2)\n",
      "(3,)\n"
     ]
    }
   ],
   "source": [
    "print(M.shape)\n",
    "print(a.shape)"
   ]
  },
  {
   "cell_type": "code",
   "execution_count": 65,
   "id": "7c7c547d",
   "metadata": {},
   "outputs": [
    {
     "data": {
      "text/plain": [
       "array([[1., 1.],\n",
       "       [2., 2.],\n",
       "       [3., 3.]])"
      ]
     },
     "execution_count": 65,
     "metadata": {},
     "output_type": "execute_result"
    }
   ],
   "source": [
    "# error back\n",
    "M + a\n",
    "#M + a.reshape(3,0)"
   ]
  },
  {
   "cell_type": "markdown",
   "id": "a17de240",
   "metadata": {},
   "source": [
    "# Miscellaneous (Not Covered in Class)"
   ]
  },
  {
   "cell_type": "markdown",
   "id": "aeaaa3e5",
   "metadata": {
    "hidden": true
   },
   "source": [
    "### Missing Values"
   ]
  },
  {
   "cell_type": "markdown",
   "id": "ebba9eac",
   "metadata": {
    "hidden": true
   },
   "source": [
    "Numpy provides a data class for missing values (i.e. `nan` == \"Not a Number\", see [here](https://en.wikipedia.org/wiki/NaN))"
   ]
  },
  {
   "cell_type": "code",
   "execution_count": 75,
   "id": "283f2301",
   "metadata": {
    "hidden": true
   },
   "outputs": [
    {
     "data": {
      "text/plain": [
       "array([[4., 7., 2., 9., 5.],\n",
       "       [2., 7., 6., 1., 4.],\n",
       "       [2., 4., 8., 8., 8.],\n",
       "       [6., 4., 7., 4., 6.],\n",
       "       [2., 6., 2., 4., 2.]])"
      ]
     },
     "execution_count": 75,
     "metadata": {},
     "output_type": "execute_result"
    }
   ],
   "source": [
    "Y = np.random.randint(1,10,25).reshape(5,5) + .0\n",
    "Y"
   ]
  },
  {
   "cell_type": "code",
   "execution_count": 76,
   "id": "b545d9c3",
   "metadata": {
    "hidden": true
   },
   "outputs": [
    {
     "data": {
      "text/plain": [
       "array([[ 4., nan,  2., nan,  5.],\n",
       "       [ 2., nan, nan,  1.,  4.],\n",
       "       [ 2.,  4., nan, nan, nan],\n",
       "       [nan,  4., nan,  4., nan],\n",
       "       [ 2., nan,  2.,  4.,  2.]])"
      ]
     },
     "execution_count": 76,
     "metadata": {},
     "output_type": "execute_result"
    }
   ],
   "source": [
    "Y[Y > 5] = np.nan\n",
    "Y"
   ]
  },
  {
   "cell_type": "code",
   "execution_count": 77,
   "id": "ce79a090",
   "metadata": {
    "hidden": true
   },
   "outputs": [
    {
     "data": {
      "text/plain": [
       "float"
      ]
     },
     "execution_count": 77,
     "metadata": {},
     "output_type": "execute_result"
    }
   ],
   "source": [
    "type(np.nan)"
   ]
  },
  {
   "cell_type": "code",
   "execution_count": 78,
   "id": "3e618a1b",
   "metadata": {
    "hidden": true
   },
   "outputs": [
    {
     "data": {
      "text/plain": [
       "array([[False,  True, False,  True, False],\n",
       "       [False,  True,  True, False, False],\n",
       "       [False, False,  True,  True,  True],\n",
       "       [ True, False,  True, False,  True],\n",
       "       [False,  True, False, False, False]])"
      ]
     },
     "execution_count": 78,
     "metadata": {},
     "output_type": "execute_result"
    }
   ],
   "source": [
    "# scan for missing values\n",
    "np.isnan(Y)"
   ]
  },
  {
   "cell_type": "code",
   "execution_count": 79,
   "id": "52968186",
   "metadata": {
    "hidden": true
   },
   "outputs": [
    {
     "data": {
      "text/plain": [
       "array([[ True, False,  True, False,  True],\n",
       "       [ True, False, False,  True,  True],\n",
       "       [ True,  True, False, False, False],\n",
       "       [False,  True, False,  True, False],\n",
       "       [ True, False,  True,  True,  True]])"
      ]
     },
     "execution_count": 79,
     "metadata": {},
     "output_type": "execute_result"
    }
   ],
   "source": [
    "~np.isnan(Y) # are not NAs"
   ]
  },
  {
   "cell_type": "markdown",
   "id": "27626a7f",
   "metadata": {
    "hidden": true
   },
   "source": [
    "When we have missing values, we'll run into issues when computing across the data matrix."
   ]
  },
  {
   "cell_type": "code",
   "execution_count": 80,
   "id": "ae07b62c",
   "metadata": {
    "hidden": true
   },
   "outputs": [
    {
     "data": {
      "text/plain": [
       "nan"
      ]
     },
     "execution_count": 80,
     "metadata": {},
     "output_type": "execute_result"
    }
   ],
   "source": [
    "np.mean(Y)"
   ]
  },
  {
   "cell_type": "markdown",
   "id": "82f24516",
   "metadata": {
    "hidden": true
   },
   "source": [
    "To get around this, we need to use special version of the methods that compensate for the existence of `nan`."
   ]
  },
  {
   "cell_type": "code",
   "execution_count": 81,
   "id": "d34df6a2",
   "metadata": {
    "hidden": true
   },
   "outputs": [
    {
     "data": {
      "text/plain": [
       "3.0"
      ]
     },
     "execution_count": 81,
     "metadata": {},
     "output_type": "execute_result"
    }
   ],
   "source": [
    "np.nanmean(Y)"
   ]
  },
  {
   "cell_type": "code",
   "execution_count": 82,
   "id": "31e5900d",
   "metadata": {
    "hidden": true
   },
   "outputs": [
    {
     "data": {
      "text/plain": [
       "array([2.5       , 4.        , 2.        , 3.        , 3.66666667])"
      ]
     },
     "execution_count": 82,
     "metadata": {},
     "output_type": "execute_result"
    }
   ],
   "source": [
    "np.nanmean(Y,axis=0)"
   ]
  },
  {
   "cell_type": "code",
   "execution_count": 83,
   "id": "894349b6",
   "metadata": {
    "hidden": true
   },
   "outputs": [
    {
     "data": {
      "text/plain": [
       "array([[4., 3., 2., 3., 5.],\n",
       "       [2., 3., 3., 1., 4.],\n",
       "       [2., 4., 3., 3., 3.],\n",
       "       [3., 4., 3., 4., 3.],\n",
       "       [2., 3., 2., 4., 2.]])"
      ]
     },
     "execution_count": 83,
     "metadata": {},
     "output_type": "execute_result"
    }
   ],
   "source": [
    "# Mean impute the missing values\n",
    "Y[np.where(np.isnan(Y))] = np.nanmean(Y)\n",
    "Y"
   ]
  },
  {
   "cell_type": "markdown",
   "id": "7556e470",
   "metadata": {},
   "source": [
    "### Structured Data: NumPy’s Structured Arrays\n",
    "\n",
    "Out of the box, numpy arrays can only handle one data class at a time. Most times we will use heterogenous data types -- spreadsheet with name, age, gender, address, etc..\n",
    "\n",
    "This short section shows you how to use `NumPy’s structured arrays` to get around of this limitation. \n",
    "\n",
    "Let's started creating a some lists. Imagine these are columns on your dataframe"
   ]
  },
  {
   "cell_type": "code",
   "execution_count": 65,
   "id": "0ab151dd",
   "metadata": {},
   "outputs": [],
   "source": [
    "# lists\n",
    "name = ['Alice', 'Bob', 'Cathy', 'Doug']\n",
    "age = [25, 45, 37, 19]\n",
    "weight = [55.0, 85.5, 68.0, 61.5]"
   ]
  },
  {
   "cell_type": "code",
   "execution_count": 67,
   "id": "15e1edb2",
   "metadata": {},
   "outputs": [
    {
     "data": {
      "text/plain": [
       "[['Alice', 'Bob', 'Cathy', 'Doug'], [25, 45, 37, 19], [55.0, 85.5, 68.0, 61.5]]"
      ]
     },
     "execution_count": 67,
     "metadata": {},
     "output_type": "execute_result"
    }
   ],
   "source": [
    "# nest these lists\n",
    "nested_list = [name, age, weight]\n",
    "nested_list"
   ]
  },
  {
   "cell_type": "code",
   "execution_count": 71,
   "id": "6dbb7851",
   "metadata": {},
   "outputs": [
    {
     "data": {
      "text/plain": [
       "array([['Alice', '25', '55.0'],\n",
       "       ['Bob', '45', '85.5'],\n",
       "       ['Cathy', '37', '68.0'],\n",
       "       ['Doug', '19', '61.5']], dtype='<U32')"
      ]
     },
     "execution_count": 71,
     "metadata": {},
     "output_type": "execute_result"
    }
   ],
   "source": [
    "# convert to a numpy array\n",
    "array_nested_list = np.array(nested_list).T\n",
    "array_nested_list"
   ]
  },
  {
   "cell_type": "code",
   "execution_count": 70,
   "id": "8c1a1d66",
   "metadata": {},
   "outputs": [
    {
     "data": {
      "text/plain": [
       "dtype('<U32')"
      ]
     },
     "execution_count": 70,
     "metadata": {},
     "output_type": "execute_result"
    }
   ],
   "source": [
    "# see data type - all data treated as strings. \n",
    "array_nested_list.dtype\n"
   ]
  },
  {
   "cell_type": "markdown",
   "id": "28e18776",
   "metadata": {},
   "source": [
    "In case you which to preserve the preserve the data types for each variables, you could use structured arrays. These are almost like a less flexible dictionary. \n",
    "\n",
    "You need to follow three steps: \n",
    "\n",
    "- Create a empty structure with pre-defined size\n",
    "- Provide names for the 'collumns'\n",
    "- Provide types for the collumns"
   ]
  },
  {
   "cell_type": "code",
   "execution_count": 95,
   "id": "d7ffe508",
   "metadata": {},
   "outputs": [],
   "source": [
    "data = np.zeros(4, dtype={'names':('name', 'age', 'weight'),\n",
    "                             'formats':('U10', 'i', 'f')})"
   ]
  },
  {
   "cell_type": "code",
   "execution_count": 96,
   "id": "e5939ae5",
   "metadata": {},
   "outputs": [
    {
     "data": {
      "text/plain": [
       "array([('', 0, 0.), ('', 0, 0.), ('', 0, 0.), ('', 0, 0.)],\n",
       "      dtype=[('name', '<U10'), ('age', '<i4'), ('weight', '<f4')])"
      ]
     },
     "execution_count": 96,
     "metadata": {},
     "output_type": "execute_result"
    }
   ],
   "source": [
    "# see the skeleton of the structure\n",
    "data"
   ]
  },
  {
   "cell_type": "code",
   "execution_count": 97,
   "id": "8548b13e",
   "metadata": {},
   "outputs": [
    {
     "name": "stdout",
     "output_type": "stream",
     "text": [
      "[('Alice', 25, 55. ) ('Bob', 45, 85.5) ('Cathy', 37, 68. )\n",
      " ('Doug', 19, 61.5)]\n"
     ]
    }
   ],
   "source": [
    "# add information\n",
    "data['name'] = name\n",
    "data['age'] = age\n",
    "data['weight'] = weight\n",
    "print(data)"
   ]
  },
  {
   "cell_type": "code",
   "execution_count": 98,
   "id": "993e6edb",
   "metadata": {},
   "outputs": [
    {
     "data": {
      "text/plain": [
       "array(['Alice', 'Bob', 'Cathy', 'Doug'], dtype='<U10')"
      ]
     },
     "execution_count": 98,
     "metadata": {},
     "output_type": "execute_result"
    }
   ],
   "source": [
    "# then you can access prety much like dictions\n",
    "data[\"name\"]"
   ]
  },
  {
   "cell_type": "markdown",
   "id": "5c5735ce",
   "metadata": {},
   "source": [
    "Though possible to deal with heterogeneous data frames using numpy, there is a lot of overhead to constructing a data object. \n",
    "\n",
    "**As such, we'll use Pandas series and DataFrames to deal with heterogeneous data.**"
   ]
  },
  {
   "cell_type": "code",
   "execution_count": 67,
   "id": "c2c95bd2",
   "metadata": {},
   "outputs": [
    {
     "name": "stdout",
     "output_type": "stream",
     "text": [
      "[NbConvertApp] WARNING | pattern '_week_5_numpy_for_class.ipynb' matched no files\r\n",
      "This application is used to convert notebook files (*.ipynb)\r\n",
      "        to various other formats.\r\n",
      "\r\n",
      "        WARNING: THE COMMANDLINE INTERFACE MAY CHANGE IN FUTURE RELEASES.\r\n",
      "\r\n",
      "Options\r\n",
      "=======\r\n",
      "The options below are convenience aliases to configurable class-options,\r\n",
      "as listed in the \"Equivalent to\" description-line of the aliases.\r\n",
      "To see all configurable class-options for some <cmd>, use:\r\n",
      "    <cmd> --help-all\r\n",
      "\r\n",
      "--debug\r\n",
      "    set log level to logging.DEBUG (maximize logging output)\r\n",
      "    Equivalent to: [--Application.log_level=10]\r\n",
      "--show-config\r\n",
      "    Show the application's configuration (human-readable format)\r\n",
      "    Equivalent to: [--Application.show_config=True]\r\n",
      "--show-config-json\r\n",
      "    Show the application's configuration (json format)\r\n",
      "    Equivalent to: [--Application.show_config_json=True]\r\n",
      "--generate-config\r\n",
      "    generate default config file\r\n",
      "    Equivalent to: [--JupyterApp.generate_config=True]\r\n",
      "-y\r\n",
      "    Answer yes to any questions instead of prompting.\r\n",
      "    Equivalent to: [--JupyterApp.answer_yes=True]\r\n",
      "--execute\r\n",
      "    Execute the notebook prior to export.\r\n",
      "    Equivalent to: [--ExecutePreprocessor.enabled=True]\r\n",
      "--allow-errors\r\n",
      "    Continue notebook execution even if one of the cells throws an error and include the error message in the cell output (the default behaviour is to abort conversion). This flag is only relevant if '--execute' was specified, too.\r\n",
      "    Equivalent to: [--ExecutePreprocessor.allow_errors=True]\r\n",
      "--stdin\r\n",
      "    read a single notebook file from stdin. Write the resulting notebook with default basename 'notebook.*'\r\n",
      "    Equivalent to: [--NbConvertApp.from_stdin=True]\r\n",
      "--stdout\r\n",
      "    Write notebook output to stdout instead of files.\r\n",
      "    Equivalent to: [--NbConvertApp.writer_class=StdoutWriter]\r\n",
      "--inplace\r\n",
      "    Run nbconvert in place, overwriting the existing notebook (only\r\n",
      "            relevant when converting to notebook format)\r\n",
      "    Equivalent to: [--NbConvertApp.use_output_suffix=False --NbConvertApp.export_format=notebook --FilesWriter.build_directory=]\r\n",
      "--clear-output\r\n",
      "    Clear output of current file and save in place,\r\n",
      "            overwriting the existing notebook.\r\n",
      "    Equivalent to: [--NbConvertApp.use_output_suffix=False --NbConvertApp.export_format=notebook --FilesWriter.build_directory= --ClearOutputPreprocessor.enabled=True]\r\n",
      "--no-prompt\r\n",
      "    Exclude input and output prompts from converted document.\r\n",
      "    Equivalent to: [--TemplateExporter.exclude_input_prompt=True --TemplateExporter.exclude_output_prompt=True]\r\n",
      "--no-input\r\n",
      "    Exclude input cells and output prompts from converted document.\r\n",
      "            This mode is ideal for generating code-free reports.\r\n",
      "    Equivalent to: [--TemplateExporter.exclude_output_prompt=True --TemplateExporter.exclude_input=True --TemplateExporter.exclude_input_prompt=True]\r\n",
      "--allow-chromium-download\r\n",
      "    Whether to allow downloading chromium if no suitable version is found on the system.\r\n",
      "    Equivalent to: [--WebPDFExporter.allow_chromium_download=True]\r\n",
      "--disable-chromium-sandbox\r\n",
      "    Disable chromium security sandbox when converting to PDF..\r\n",
      "    Equivalent to: [--WebPDFExporter.disable_sandbox=True]\r\n",
      "--show-input\r\n",
      "    Shows code input. This flag is only useful for dejavu users.\r\n",
      "    Equivalent to: [--TemplateExporter.exclude_input=False]\r\n",
      "--embed-images\r\n",
      "    Embed the images as base64 dataurls in the output. This flag is only useful for the HTML/WebPDF/Slides exports.\r\n",
      "    Equivalent to: [--HTMLExporter.embed_images=True]\r\n",
      "--sanitize-html\r\n",
      "    Whether the HTML in Markdown cells and cell outputs should be sanitized..\r\n",
      "    Equivalent to: [--HTMLExporter.sanitize_html=True]\r\n",
      "--log-level=<Enum>\r\n",
      "    Set the log level by value or name.\r\n",
      "    Choices: any of [0, 10, 20, 30, 40, 50, 'DEBUG', 'INFO', 'WARN', 'ERROR', 'CRITICAL']\r\n",
      "    Default: 30\r\n",
      "    Equivalent to: [--Application.log_level]\r\n",
      "--config=<Unicode>\r\n",
      "    Full path of a config file.\r\n",
      "    Default: ''\r\n",
      "    Equivalent to: [--JupyterApp.config_file]\r\n",
      "--to=<Unicode>\r\n",
      "    The export format to be used, either one of the built-in formats\r\n",
      "            ['asciidoc', 'custom', 'html', 'latex', 'markdown', 'notebook', 'pdf', 'python', 'rst', 'script', 'slides', 'webpdf']\r\n",
      "            or a dotted object name that represents the import path for an\r\n",
      "            ``Exporter`` class\r\n",
      "    Default: ''\r\n",
      "    Equivalent to: [--NbConvertApp.export_format]\r\n",
      "--template=<Unicode>\r\n",
      "    Name of the template to use\r\n",
      "    Default: ''\r\n",
      "    Equivalent to: [--TemplateExporter.template_name]\r\n",
      "--template-file=<Unicode>\r\n",
      "    Name of the template file to use\r\n",
      "    Default: None\r\n",
      "    Equivalent to: [--TemplateExporter.template_file]\r\n",
      "--theme=<Unicode>\r\n",
      "    Template specific theme(e.g. the name of a JupyterLab CSS theme distributed\r\n",
      "    as prebuilt extension for the lab template)\r\n",
      "    Default: 'light'\r\n",
      "    Equivalent to: [--HTMLExporter.theme]\r\n",
      "--sanitize_html=<Bool>\r\n",
      "    Whether the HTML in Markdown cells and cell outputs should be sanitized.This\r\n",
      "    should be set to True by nbviewer or similar tools.\r\n",
      "    Default: False\r\n",
      "    Equivalent to: [--HTMLExporter.sanitize_html]\r\n",
      "--writer=<DottedObjectName>\r\n",
      "    Writer class used to write the\r\n",
      "                                        results of the conversion\r\n",
      "    Default: 'FilesWriter'\r\n",
      "    Equivalent to: [--NbConvertApp.writer_class]\r\n",
      "--post=<DottedOrNone>\r\n",
      "    PostProcessor class used to write the\r\n",
      "                                        results of the conversion\r\n",
      "    Default: ''\r\n",
      "    Equivalent to: [--NbConvertApp.postprocessor_class]\r\n",
      "--output=<Unicode>\r\n",
      "    overwrite base name use for output files.\r\n",
      "                can only be used when converting one notebook at a time.\r\n",
      "    Default: ''\r\n",
      "    Equivalent to: [--NbConvertApp.output_base]\r\n",
      "--output-dir=<Unicode>\r\n",
      "    Directory to write output(s) to. Defaults\r\n",
      "                                  to output to the directory of each notebook. To recover\r\n",
      "                                  previous default behaviour (outputting to the current\r\n",
      "                                  working directory) use . as the flag value.\r\n",
      "    Default: ''\r\n",
      "    Equivalent to: [--FilesWriter.build_directory]\r\n",
      "--reveal-prefix=<Unicode>\r\n",
      "    The URL prefix for reveal.js (version 3.x).\r\n",
      "            This defaults to the reveal CDN, but can be any url pointing to a copy\r\n",
      "            of reveal.js.\r\n",
      "            For speaker notes to work, this must be a relative path to a local\r\n",
      "            copy of reveal.js: e.g., \"reveal.js\".\r\n",
      "            If a relative path is given, it must be a subdirectory of the\r\n",
      "            current directory (from which the server is run).\r\n",
      "            See the usage documentation\r\n",
      "            (https://nbconvert.readthedocs.io/en/latest/usage.html#reveal-js-html-slideshow)\r\n",
      "            for more details.\r\n",
      "    Default: ''\r\n",
      "    Equivalent to: [--SlidesExporter.reveal_url_prefix]\r\n",
      "--nbformat=<Enum>\r\n",
      "    The nbformat version to write.\r\n",
      "            Use this to downgrade notebooks.\r\n",
      "    Choices: any of [1, 2, 3, 4]\r\n",
      "    Default: 4\r\n",
      "    Equivalent to: [--NotebookExporter.nbformat_version]\r\n",
      "\r\n",
      "Examples\r\n",
      "--------\r\n",
      "\r\n",
      "    The simplest way to use nbconvert is\r\n",
      "\r\n",
      "            > jupyter nbconvert mynotebook.ipynb --to html\r\n",
      "\r\n",
      "            Options include ['asciidoc', 'custom', 'html', 'latex', 'markdown', 'notebook', 'pdf', 'python', 'rst', 'script', 'slides', 'webpdf'].\r\n",
      "\r\n",
      "            > jupyter nbconvert --to latex mynotebook.ipynb\r\n",
      "\r\n",
      "            Both HTML and LaTeX support multiple output templates. LaTeX includes\r\n",
      "            'base', 'article' and 'report'.  HTML includes 'basic', 'lab' and\r\n",
      "            'classic'. You can specify the flavor of the format used.\r\n",
      "\r\n",
      "            > jupyter nbconvert --to html --template lab mynotebook.ipynb\r\n",
      "\r\n",
      "            You can also pipe the output to stdout, rather than a file\r\n",
      "\r\n",
      "            > jupyter nbconvert mynotebook.ipynb --stdout\r\n",
      "\r\n",
      "            PDF is generated via latex\r\n",
      "\r\n",
      "            > jupyter nbconvert mynotebook.ipynb --to pdf\r\n",
      "\r\n",
      "            You can get (and serve) a Reveal.js-powered slideshow\r\n",
      "\r\n",
      "            > jupyter nbconvert myslides.ipynb --to slides --post serve\r\n",
      "\r\n",
      "            Multiple notebooks can be given at the command line in a couple of\r\n",
      "            different ways:\r\n",
      "\r\n",
      "            > jupyter nbconvert notebook*.ipynb\r\n",
      "            > jupyter nbconvert notebook1.ipynb notebook2.ipynb\r\n",
      "\r\n",
      "            or you can specify the notebooks list in a config file, containing::\r\n",
      "\r\n",
      "                c.NbConvertApp.notebooks = [\"my_notebook.ipynb\"]\r\n",
      "\r\n",
      "            > jupyter nbconvert --config mycfg.py\r\n",
      "\r\n",
      "To see all available configurables, use `--help-all`.\r\n",
      "\r\n"
     ]
    }
   ],
   "source": [
    "!jupyter nbconvert _week_5_numpy_for_class.ipynb --to html --template classic\n"
   ]
  }
 ],
 "metadata": {
  "kernelspec": {
   "display_name": "Python 3 (ipykernel)",
   "language": "python",
   "name": "python3"
  },
  "language_info": {
   "codemirror_mode": {
    "name": "ipython",
    "version": 3
   },
   "file_extension": ".py",
   "mimetype": "text/x-python",
   "name": "python",
   "nbconvert_exporter": "python",
   "pygments_lexer": "ipython3",
   "version": "3.11.4"
  }
 },
 "nbformat": 4,
 "nbformat_minor": 5
}
