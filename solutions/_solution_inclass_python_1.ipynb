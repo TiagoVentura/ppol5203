{
 "cells": [
  {
   "cell_type": "markdown",
   "id": "6bb001bd",
   "metadata": {},
   "source": [
    "# Solutions for python in class exercise"
   ]
  },
  {
   "cell_type": "markdown",
   "id": "2cee950c",
   "metadata": {},
   "source": [
    "### Tab a\n",
    "\n",
    "Let's practice with lists first. One way to explore data structures is to learn their methods. Check all the methods of a list by running 'dir()' on a list object. Let's explore these functions using the following list object, by answering the below questions. See [here](https://www.w3schools.com/python/python_ref_list.asp) for list methods:\n",
    "\n"
   ]
  },
  {
   "cell_type": "code",
   "execution_count": 25,
   "id": "a94c2ae0",
   "metadata": {},
   "outputs": [],
   "source": [
    "list_exercise = [\"Ramy\", \"Victorie\", \"Letty\", \"Robin\", \"Antoine\", \"Griffin\"] "
   ]
  },
  {
   "cell_type": "markdown",
   "id": "9acabfc0",
   "metadata": {},
   "source": [
    "1.  Add \"Cathy O'Neil\" to the list. Insert \"Professor Crast\" as the first element of the list"
   ]
  },
  {
   "cell_type": "code",
   "execution_count": 14,
   "id": "971fce80",
   "metadata": {},
   "outputs": [
    {
     "data": {
      "text/plain": [
       "['Ramy',\n",
       " 'Victorie',\n",
       " 'Letty',\n",
       " 'Robin',\n",
       " 'Antoine',\n",
       " 'Griffin',\n",
       " \"Cathy O'neil\",\n",
       " 'Cathy Oneil']"
      ]
     },
     "execution_count": 14,
     "metadata": {},
     "output_type": "execute_result"
    }
   ],
   "source": [
    "list_exercise.append(\"Cathy O'neil\")\n",
    "list_exercise + [\"Cathy Oneil\"]\n",
    "# a"
   ]
  },
  {
   "cell_type": "code",
   "execution_count": 3,
   "id": "0586dbdf",
   "metadata": {},
   "outputs": [
    {
     "name": "stdout",
     "output_type": "stream",
     "text": [
      "Help on method-wrapper:\n",
      "\n",
      "__add__(value, /)\n",
      "    Return self+value.\n",
      "\n"
     ]
    }
   ],
   "source": [
    "help(list_exercise.__add__)"
   ]
  },
  {
   "cell_type": "code",
   "execution_count": 15,
   "id": "cac21d62",
   "metadata": {},
   "outputs": [
    {
     "name": "stdout",
     "output_type": "stream",
     "text": [
      "['Professor Crast', 'Ramy', 'Victorie', 'Letty', 'Robin', 'Antoine', 'Griffin', \"Cathy O'neil\"]\n"
     ]
    }
   ],
   "source": [
    "# insert first position\n",
    "[\"Professor Crast\"] + list_exercise \n",
    "list_exercise.insert(0, \"Professor Crast\")\n",
    "print(list_exercise)"
   ]
  },
  {
   "cell_type": "markdown",
   "id": "05287b15",
   "metadata": {},
   "source": [
    "2. Remove \"Letty\" from the list. Also remove the last element of the list."
   ]
  },
  {
   "cell_type": "code",
   "execution_count": 16,
   "id": "74b7781d",
   "metadata": {},
   "outputs": [
    {
     "name": "stdout",
     "output_type": "stream",
     "text": [
      "['Professor Crast', 'Ramy', 'Victorie', 'Robin', 'Antoine', 'Griffin', \"Cathy O'neil\"]\n"
     ]
    }
   ],
   "source": [
    "# 1\n",
    "list_exercise.remove(\"Letty\")\n",
    "print(list_exercise)"
   ]
  },
  {
   "cell_type": "code",
   "execution_count": 24,
   "id": "5103e69f",
   "metadata": {},
   "outputs": [
    {
     "ename": "IndexError",
     "evalue": "pop from empty list",
     "output_type": "error",
     "traceback": [
      "\u001b[0;31m---------------------------------------------------------------------------\u001b[0m",
      "\u001b[0;31mIndexError\u001b[0m                                Traceback (most recent call last)",
      "Cell \u001b[0;32mIn[24], line 2\u001b[0m\n\u001b[1;32m      1\u001b[0m \u001b[38;5;66;03m# 2\u001b[39;00m\n\u001b[0;32m----> 2\u001b[0m list_exercise\u001b[38;5;241m.\u001b[39mpop()\n\u001b[1;32m      3\u001b[0m \u001b[38;5;28mprint\u001b[39m(list_exercise)\n",
      "\u001b[0;31mIndexError\u001b[0m: pop from empty list"
     ]
    }
   ],
   "source": [
    "# 2\n",
    "list_exercise.pop()\n",
    "print(list_exercise)"
   ]
  },
  {
   "cell_type": "markdown",
   "id": "5bf4707e",
   "metadata": {},
   "source": [
    "3.  Find the index of the occurrence of the name \"Robin\". Count the number of times None appears in the list."
   ]
  },
  {
   "cell_type": "code",
   "execution_count": 26,
   "id": "8b0019ea",
   "metadata": {},
   "outputs": [
    {
     "name": "stdout",
     "output_type": "stream",
     "text": [
      "3\n"
     ]
    }
   ],
   "source": [
    "# solution\n",
    "index_robin = list_exercise.index(\"Robin\")\n",
    "print(index_robin)"
   ]
  },
  {
   "cell_type": "code",
   "execution_count": 27,
   "id": "7e2e80b4",
   "metadata": {},
   "outputs": [
    {
     "data": {
      "text/plain": [
       "0"
      ]
     },
     "execution_count": 27,
     "metadata": {},
     "output_type": "execute_result"
    }
   ],
   "source": [
    "# solution\n",
    "list_exercise.count(None)"
   ]
  },
  {
   "cell_type": "markdown",
   "id": "6a04e9af",
   "metadata": {},
   "source": [
    "4. Create a new list with the names in alphabetical order, copy this list as a new list without changing the values of the original list"
   ]
  },
  {
   "cell_type": "code",
   "execution_count": 28,
   "id": "143c741c",
   "metadata": {},
   "outputs": [
    {
     "name": "stdout",
     "output_type": "stream",
     "text": [
      "['Antoine', 'Griffin', 'Letty', 'Ramy', 'Robin', 'Victorie']\n",
      "['Ramy', 'Victorie', 'Letty', 'Robin', 'Antoine', 'Griffin']\n"
     ]
    }
   ],
   "source": [
    "list_copy = list_exercise.copy()\n",
    "list_copy.sort()\n",
    "\n",
    "# notice the modification in place\n",
    "print(list_copy)\n",
    "print(list_exercise)\n"
   ]
  },
  {
   "cell_type": "markdown",
   "id": "aa305cc4",
   "metadata": {},
   "source": [
    "5. Add the string \"Lovell\" to copied_list and ensure that list_exercise remains unchanged."
   ]
  },
  {
   "cell_type": "code",
   "execution_count": 29,
   "id": "bd6c6ecb",
   "metadata": {},
   "outputs": [
    {
     "name": "stdout",
     "output_type": "stream",
     "text": [
      "['Antoine', 'Griffin', 'Letty', 'Ramy', 'Robin', 'Victorie', 'Lovell']\n",
      "['Ramy', 'Victorie', 'Letty', 'Robin', 'Antoine', 'Griffin']\n"
     ]
    }
   ],
   "source": [
    "list_copy.append(\"Lovell\")\n",
    "print(list_copy)\n",
    "print(list_exercise)"
   ]
  },
  {
   "cell_type": "markdown",
   "id": "fa4a25ab",
   "metadata": {},
   "source": [
    "### Tab B\n",
    "\n",
    "Let's do a similar exercise with Dictionaries. Consider the dictionary below. See [here](https://www.w3schools.com/python/python_ref_dictionary.asp) for dictionary methods:"
   ]
  },
  {
   "cell_type": "code",
   "execution_count": 31,
   "id": "6aab6c9e",
   "metadata": {},
   "outputs": [
    {
     "data": {
      "text/plain": [
       "{'Ramy': 'India',\n",
       " 'Victorie': 'Haiti',\n",
       " 'Letty': 'England',\n",
       " 'Robin': 'Canton',\n",
       " 'Antoine': 'Nigeria',\n",
       " 'Griffin': 'China'}"
      ]
     },
     "execution_count": 31,
     "metadata": {},
     "output_type": "execute_result"
    }
   ],
   "source": [
    "dict_exercise = {\"Ramy\": \"India\",\n",
    "                  \"Victorie\":\"Haiti\", \n",
    "                  \"Letty\":\"England\", \n",
    "                  \"Robin\":\"Canton\", \n",
    "                  \"Antoine\":\"Nigeria\", \n",
    "                  \"Griffin\":\"China\"}\n",
    "dict_exercise"
   ]
  },
  {
   "cell_type": "markdown",
   "id": "5b117552",
   "metadata": {},
   "source": [
    "1. Look up the keys in the dictionary, and store them in a list object called keys"
   ]
  },
  {
   "cell_type": "code",
   "execution_count": 32,
   "id": "794cce94",
   "metadata": {},
   "outputs": [
    {
     "name": "stdout",
     "output_type": "stream",
     "text": [
      "['Ramy', 'Victorie', 'Letty', 'Robin', 'Antoine', 'Griffin']\n"
     ]
    }
   ],
   "source": [
    "keys = list(dict_exercise.keys())\n",
    "print(keys)"
   ]
  },
  {
   "cell_type": "markdown",
   "id": "38ba8b77",
   "metadata": {},
   "source": [
    "2. Add yourself, and two other colleagues in this dictionary. The values are the countries the person in the key was born."
   ]
  },
  {
   "cell_type": "code",
   "execution_count": 33,
   "id": "a6dda2ca",
   "metadata": {},
   "outputs": [
    {
     "name": "stdout",
     "output_type": "stream",
     "text": [
      "{'Ramy': 'India', 'Victorie': 'Haiti', 'Letty': 'England', 'Robin': 'Canton', 'Antoine': 'Nigeria', 'Griffin': 'China', 'tiago': 'Brazil'}\n"
     ]
    }
   ],
   "source": [
    "dict_exercise[\"tiago\"]=\"Brazil\"\n",
    "print(dict_exercise)"
   ]
  },
  {
   "cell_type": "markdown",
   "id": "ce11b360",
   "metadata": {},
   "source": [
    "3.  Remove \"Ramy\" from the dictionary, and save as another dictionary"
   ]
  },
  {
   "cell_type": "code",
   "execution_count": 34,
   "id": "ded1d78f",
   "metadata": {},
   "outputs": [
    {
     "name": "stdout",
     "output_type": "stream",
     "text": [
      "{'Ramy': 'India'}\n",
      "{'Ramy': 'India', 'Victorie': 'Haiti', 'Letty': 'England', 'Robin': 'Canton', 'Antoine': 'Nigeria', 'Griffin': 'China', 'tiago': 'Brazil'}\n"
     ]
    }
   ],
   "source": [
    "# create new\n",
    "dict_new={\"Ramy\":dict_exercise.get(\"Ramy\")}\n",
    "print(dict_new)\n",
    "print(dict_exercise)"
   ]
  },
  {
   "cell_type": "code",
   "execution_count": 35,
   "id": "792bffc5",
   "metadata": {},
   "outputs": [
    {
     "name": "stdout",
     "output_type": "stream",
     "text": [
      "{'Victorie': 'Haiti', 'Letty': 'England', 'Robin': 'Canton', 'Antoine': 'Nigeria', 'Griffin': 'China', 'tiago': 'Brazil'}\n"
     ]
    }
   ],
   "source": [
    "# pop\n",
    "dict_exercise.pop(\"Ramy\")\n",
    "print(dict_exercise)"
   ]
  },
  {
   "cell_type": "code",
   "execution_count": 36,
   "id": "30d162ee",
   "metadata": {},
   "outputs": [
    {
     "name": "stdout",
     "output_type": "stream",
     "text": [
      "{'Letty': 'England', 'Robin': 'Canton', 'Antoine': 'Nigeria', 'Griffin': 'China', 'tiago': 'Brazil'}\n"
     ]
    }
   ],
   "source": [
    "# del\n",
    "del dict_exercise[\"Victorie\"]\n",
    "print(dict_exercise)"
   ]
  },
  {
   "cell_type": "markdown",
   "id": "7e6f8fe2",
   "metadata": {},
   "source": [
    "### Tab C\n",
    "\n",
    "Let's now play around with some string methods. See the string below from the book \"Babel:An Arcane History\". See [here](https://www.w3schools.com/python/python_ref_string.asp) for string methods:"
   ]
  },
  {
   "cell_type": "code",
   "execution_count": 38,
   "id": "b2e27ba7",
   "metadata": {},
   "outputs": [],
   "source": [
    "babel = \"\"\"\n",
    "That's just what translation is, I think. That's all speaking is. \n",
    "Listening to the other and trying to see past your own biases to glimpse what they're trying to say. \n",
    "Showing yourself to the world, and hoping someone else understands.\"\n",
    "\"\"\""
   ]
  },
  {
   "cell_type": "markdown",
   "id": "07df438e",
   "metadata": {},
   "source": [
    "1. Determine if the word \"Babel\" is present in the string."
   ]
  },
  {
   "cell_type": "code",
   "execution_count": 40,
   "id": "2b78aba3",
   "metadata": {},
   "outputs": [
    {
     "data": {
      "text/plain": [
       "False"
      ]
     },
     "execution_count": 40,
     "metadata": {},
     "output_type": "execute_result"
    }
   ],
   "source": [
    "\"Babel\" in babel"
   ]
  },
  {
   "cell_type": "markdown",
   "id": "ba2be524",
   "metadata": {},
   "source": [
    "2. Count how many times the word \"translation\" appears"
   ]
  },
  {
   "cell_type": "code",
   "execution_count": 41,
   "id": "58094ec2",
   "metadata": {},
   "outputs": [
    {
     "data": {
      "text/plain": [
       "1"
      ]
     },
     "execution_count": 41,
     "metadata": {},
     "output_type": "execute_result"
    }
   ],
   "source": [
    "# count\n",
    "babel.count(\"translation\")"
   ]
  },
  {
   "cell_type": "code",
   "execution_count": 42,
   "id": "a2a77fc8",
   "metadata": {},
   "outputs": [
    {
     "data": {
      "text/plain": [
       "18"
      ]
     },
     "execution_count": 42,
     "metadata": {},
     "output_type": "execute_result"
    }
   ],
   "source": [
    "# where\n",
    "babel.index(\"translation\")"
   ]
  },
  {
   "cell_type": "code",
   "execution_count": 43,
   "id": "2d4db223",
   "metadata": {},
   "outputs": [
    {
     "data": {
      "text/plain": [
       "' translation'"
      ]
     },
     "execution_count": 43,
     "metadata": {},
     "output_type": "execute_result"
    }
   ],
   "source": [
    "# see\n",
    "babel[17:18+len(\"translation\")]"
   ]
  },
  {
   "cell_type": "markdown",
   "id": "1af19a28",
   "metadata": {},
   "source": [
    "3. Convert the entire string to upper case"
   ]
  },
  {
   "cell_type": "code",
   "execution_count": 44,
   "id": "dface92a",
   "metadata": {},
   "outputs": [
    {
     "data": {
      "text/plain": [
       "'\\nTHAT\\'S JUST WHAT TRANSLATION IS, I THINK. THAT\\'S ALL SPEAKING IS. \\nLISTENING TO THE OTHER AND TRYING TO SEE PAST YOUR OWN BIASES TO GLIMPSE WHAT THEY\\'RE TRYING TO SAY. \\nSHOWING YOURSELF TO THE WORLD, AND HOPING SOMEONE ELSE UNDERSTANDS.\"\\n'"
      ]
     },
     "execution_count": 44,
     "metadata": {},
     "output_type": "execute_result"
    }
   ],
   "source": [
    "babel.upper()"
   ]
  },
  {
   "cell_type": "markdown",
   "id": "b2da4528",
   "metadata": {},
   "source": [
    "4. Convert the pronoum \"I\" to \"We\" in the entire text."
   ]
  },
  {
   "cell_type": "code",
   "execution_count": 45,
   "id": "e11a22a7",
   "metadata": {},
   "outputs": [
    {
     "data": {
      "text/plain": [
       "'\\nThat\\'s just what translation is, We think. That\\'s all speaking is. \\nListening to the other and trying to see past your own biases to glimpse what they\\'re trying to say. \\nShowing yourself to the world, and hoping someone else understands.\"\\n'"
      ]
     },
     "execution_count": 45,
     "metadata": {},
     "output_type": "execute_result"
    }
   ],
   "source": [
    "babel.replace(\"I \", \"We \")"
   ]
  },
  {
   "cell_type": "markdown",
   "id": "28922115",
   "metadata": {},
   "source": [
    "5. Strip any punctuation (like commas, exclamation marks, etc.) from the string."
   ]
  },
  {
   "cell_type": "code",
   "execution_count": 46,
   "id": "969ade63",
   "metadata": {},
   "outputs": [
    {
     "name": "stdout",
     "output_type": "stream",
     "text": [
      "\n",
      "Thats just what translation is I think Thats all speaking is \n",
      "Listening to the other and trying to see past your own biases to glimpse what theyre trying to say \n",
      "Showing yourself to the world and hoping someone else understands\"\n",
      "\n"
     ]
    }
   ],
   "source": [
    "# Define a string containing some punctuation marks.\n",
    "punctuation = \",'.!\"\n",
    "\n",
    "# Iterate over: we will see this later. \n",
    "for char in punctuation:\n",
    "    babel = babel.replace(char, \"\")\n",
    "    \n",
    "print(babel)    "
   ]
  },
  {
   "cell_type": "code",
   "execution_count": 45,
   "id": "f1f48730",
   "metadata": {},
   "outputs": [
    {
     "name": "stdout",
     "output_type": "stream",
     "text": [
      "[NbConvertApp] Converting notebook _solution_inclass_python_1.ipynb to html\n",
      "[NbConvertApp] Writing 301640 bytes to _solution_inclass_python_1.html\n"
     ]
    }
   ],
   "source": [
    "!jupyter nbconvert _solution_inclass_python_1.ipynb --to html --template classic\n"
   ]
  }
 ],
 "metadata": {
  "kernelspec": {
   "display_name": "Python 3 (ipykernel)",
   "language": "python",
   "name": "python3"
  },
  "language_info": {
   "codemirror_mode": {
    "name": "ipython",
    "version": 3
   },
   "file_extension": ".py",
   "mimetype": "text/x-python",
   "name": "python",
   "nbconvert_exporter": "python",
   "pygments_lexer": "ipython3",
   "version": "3.11.4"
  }
 },
 "nbformat": 4,
 "nbformat_minor": 5
}
